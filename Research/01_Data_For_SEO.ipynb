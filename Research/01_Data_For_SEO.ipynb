{
 "cells": [
  {
   "cell_type": "code",
   "execution_count": 1,
   "metadata": {},
   "outputs": [
    {
     "data": {
      "text/plain": [
       "'/home/ubuntu/EmbeddingsUsingGTEmodels'"
      ]
     },
     "execution_count": 1,
     "metadata": {},
     "output_type": "execute_result"
    }
   ],
   "source": [
    "import os\n",
    "os.chdir('..')\n",
    "%pwd"
   ]
  },
  {
   "cell_type": "code",
   "execution_count": 2,
   "metadata": {},
   "outputs": [],
   "source": [
    "# !pip install client"
   ]
  },
  {
   "cell_type": "code",
   "execution_count": 4,
   "metadata": {},
   "outputs": [],
   "source": [
    "import requests\n",
    "from requests.auth import HTTPDigestAuth\n",
    "import json\n",
    "\n",
    "\n",
    "# auth= (\"kumar@warewe.com\", \"fd5a40e08700c882\")\n",
    "auth= (\"deepankar@warewe.com\", \"cb1661e9ec7c1fba\")\n",
    "\n",
    "\n",
    "# myResponse = requests.get(url,auth=auth, verify=True)\n",
    "\n"
   ]
  },
  {
   "cell_type": "code",
   "execution_count": 5,
   "metadata": {},
   "outputs": [],
   "source": [
    "from http.client import HTTPSConnection\n",
    "from base64 import b64encode\n",
    "from json import loads\n",
    "from json import dumps\n",
    "\n",
    "class RestClient:\n",
    "    domain = \"api.dataforseo.com\"\n",
    "\n",
    "    def __init__(self, username, password):\n",
    "        self.username = username\n",
    "        self.password = password\n",
    "\n",
    "    def request(self, path, method, data=None):\n",
    "        connection = HTTPSConnection(self.domain)\n",
    "        try:\n",
    "            base64_bytes = b64encode(\n",
    "                (\"%s:%s\" % (self.username, self.password)).encode(\"ascii\")\n",
    "                ).decode(\"ascii\")\n",
    "            headers = {'Authorization' : 'Basic %s' %  base64_bytes, 'Content-Encoding' : 'gzip'}\n",
    "            connection.request(method, path, headers=headers, body=data)\n",
    "            response = connection.getresponse()\n",
    "            return loads(response.read().decode())\n",
    "        finally:\n",
    "            connection.close()\n",
    "\n",
    "    def get(self, path):\n",
    "        return self.request(path, 'GET')\n",
    "\n",
    "    def post(self, path, data):\n",
    "        if isinstance(data, str):\n",
    "            data_str = data\n",
    "        else:\n",
    "            data_str = dumps(data)\n",
    "        return self.request(path, 'POST', data_str)\n"
   ]
  },
  {
   "cell_type": "code",
   "execution_count": 10,
   "metadata": {},
   "outputs": [
    {
     "name": "stdout",
     "output_type": "stream",
     "text": [
      "{'version': '0.1.20230825', 'status_code': 20000, 'status_message': 'Ok.', 'time': '2.0832 sec.', 'cost': 0.002, 'tasks_count': 1, 'tasks_error': 0, 'tasks': [{'id': '08310850-6585-0121-0000-2ddb9eb7b3cd', 'status_code': 20000, 'status_message': 'Ok.', 'time': '2.0422 sec.', 'cost': 0.002, 'result_count': 1, 'path': ['v3', 'serp', 'google', 'organic', 'live', 'regular'], 'data': {'api': 'serp', 'function': 'live', 'se': 'google', 'se_type': 'organic', 'language_code': 'en', 'location_code': 2840, 'keyword': 'albert einstein', 'device': 'desktop', 'os': 'windows'}, 'result': [{'keyword': 'albert einstein', 'type': 'organic', 'se_domain': 'google.com', 'location_code': 2840, 'language_code': 'en', 'check_url': 'https://www.google.com/search?q=albert%20einstein&num=100&hl=en&gl=US&gws_rd=cr&ie=UTF-8&oe=UTF-8&uule=w+CAIQIFISCQs2MuSEtepUEUK33kOSuTsc', 'datetime': '2023-08-31 05:50:04 +00:00', 'spell': None, 'item_types': ['organic', 'people_also_ask', 'twitter', 'people_also_search', 'related_searches', 'knowledge_graph'], 'se_results_count': 130000000, 'items_count': 99, 'items': [{'type': 'organic', 'rank_group': 1, 'rank_absolute': 1, 'domain': 'en.wikipedia.org', 'title': 'Albert Einstein', 'description': 'Albert Einstein was a German-born theoretical physicist, widely held to be one of the greatest and most influential scientists of all time.', 'url': 'https://en.wikipedia.org/wiki/Albert_Einstein', 'breadcrumb': 'https://en.wikipedia.org › wiki › Albert_Einstein'}, {'type': 'organic', 'rank_group': 2, 'rank_absolute': 3, 'domain': 'www.nobelprize.org', 'title': 'Albert Einstein – Biographical - NobelPrize.org', 'description': 'Albert Einstein grew up in Munich, where his father founded an electrical engineering company. After studying at the ETH university in Zurich, Einstein worked\\xa0...', 'url': 'https://www.nobelprize.org/prizes/physics/1921/einstein/biographical/', 'breadcrumb': 'https://www.nobelprize.org › prizes › physics › biogra...'}, {'type': 'organic', 'rank_group': 3, 'rank_absolute': 4, 'domain': 'www.britannica.com', 'title': 'Albert Einstein | Biography, Education, Discoveries, & Facts', 'description': 'Albert Einstein, German-born physicist who developed the special and general theories of relativity, pioneering many key developments.', 'url': 'https://www.britannica.com/biography/Albert-Einstein', 'breadcrumb': 'https://www.britannica.com › ... › Physics › Physicists'}, {'type': 'organic', 'rank_group': 4, 'rank_absolute': 6, 'domain': 'www.space.com', 'title': 'Albert Einstein: His life, theories and impact on science', 'description': 'Albert Einstein is often cited as one of the most influential scientists of the 20th century. His work continues to help astronomers study\\xa0...', 'url': 'https://www.space.com/15524-albert-einstein.html', 'breadcrumb': 'https://www.space.com › ... › Science & Astronomy'}, {'type': 'organic', 'rank_group': 5, 'rank_absolute': 7, 'domain': 'www.biography.com', 'title': 'Albert Einstein - Nobel Prize Winners', 'description': 'Who Was Albert Einstein? Albert Einstein was a German mathematician and physicist who developed the special and general theories of relativity.', 'url': 'https://www.biography.com/scientists/albert-einstein', 'breadcrumb': 'https://www.biography.com › ... › Nobel Prize Winners'}, {'type': 'organic', 'rank_group': 6, 'rank_absolute': 8, 'domain': 'www.nasonline.org', 'title': 'Albert Einstein', 'description': 'Considered by many to be the greatest scientist of the twentieth century, Albert Einstein revolutionized scientific thought with new theories of space,\\xa0...', 'url': 'http://www.nasonline.org/member-directory/deceased-members/20001817.html', 'breadcrumb': 'http://www.nasonline.org › deceased-members'}, {'type': 'organic', 'rank_group': 7, 'rank_absolute': 9, 'domain': 'www.brainyquote.com', 'title': 'Albert Einstein Quotes', 'description': 'Enjoy the best Albert Einstein Quotes at BrainyQuote. Quotations by Albert Einstein, German Physicist, Born March 14, 1879. Share with your friends.', 'url': 'https://www.brainyquote.com/authors/albert-einstein-quotes', 'breadcrumb': 'https://www.brainyquote.com › authors › albert-einstei...'}, {'type': 'organic', 'rank_group': 8, 'rank_absolute': 10, 'domain': 'www.history.com', 'title': 'Albert Einstein', 'description': 'The German-born physicist Albert Einstein developed the first of his groundbreaking theories while working as a clerk in the Swiss patent\\xa0...', 'url': 'https://www.history.com/topics/inventions/albert-einstein', 'breadcrumb': 'https://www.history.com › ... › Inventions & Science'}, {'type': 'organic', 'rank_group': 9, 'rank_absolute': 11, 'domain': 'mathshistory.st-andrews.ac.uk', 'title': 'Albert Einstein (1879 - 1955) - Biography - MacTutor', 'description': 'Einstein contributed more than any other scientist to the modern vision of physical reality. His special and general theories of relativity are still regarded\\xa0...', 'url': 'https://mathshistory.st-andrews.ac.uk/Biographies/Einstein/', 'breadcrumb': 'https://mathshistory.st-andrews.ac.uk › Biographies'}, {'type': 'organic', 'rank_group': 10, 'rank_absolute': 12, 'domain': 'parade.com', 'title': '50 Famous Albert Einstein Quotes on Life and More', 'description': 'Born in Germany in 1879, Einstein spent his life truly making a mark in the scientific community—including developing the general theory of\\xa0...', 'url': 'https://parade.com/1240718/kelseypelzer/albert-einstein-quotes/', 'breadcrumb': 'https://parade.com › Life'}, {'type': 'organic', 'rank_group': 11, 'rank_absolute': 13, 'domain': 'www.livescience.com', 'title': 'Albert Einstein: Biography, facts and impact on science', 'description': 'A brief biography of Albert Einstein, the scientist whose theories changed the way we think about the universe.', 'url': 'https://www.livescience.com/albert-einstein.html', 'breadcrumb': 'https://www.livescience.com › albert-einstein'}, {'type': 'organic', 'rank_group': 12, 'rank_absolute': 14, 'domain': 'www.pbs.org', 'title': 'A Science Odyssey: People and Discoveries: Albert Einstein', 'description': 'Albert Einstein is one of the most recognized and well-known scientists of the century. His theories solved centuries-old problems in physics and rocked\\xa0...', 'url': 'https://www.pbs.org/wgbh/aso/databank/entries/bpeins.html', 'breadcrumb': 'https://www.pbs.org › aso › databank › entries › bpeins'}, {'type': 'organic', 'rank_group': 13, 'rank_absolute': 15, 'domain': 'en.wikiquote.org', 'title': 'Albert Einstein', 'description': 'Albert Einstein (14 March 1879 – 18 April 1955) was a German-born theoretical physicist, widely acknowledged to be one of the greatest physicists of all\\xa0...', 'url': 'https://en.wikiquote.org/wiki/Albert_Einstein', 'breadcrumb': 'https://en.wikiquote.org › wiki › Albert_Einstein'}, {'type': 'organic', 'rank_group': 14, 'rank_absolute': 16, 'domain': 'kids.nationalgeographic.com', 'title': 'Albert Einstein', 'description': 'Albert Einstein. This brilliant physicist worked to crack open the mysteries of the universe. Check out the time line below to learn about the life of this\\xa0...', 'url': 'https://kids.nationalgeographic.com/history/article/albert-einstein', 'breadcrumb': 'https://kids.nationalgeographic.com › history › article'}, {'type': 'organic', 'rank_group': 15, 'rank_absolute': 17, 'domain': 'www.ias.edu', 'title': 'Albert Einstein - Scholars', 'description': \"Physicist Albert Einstein (1879–1955) was one of the Institute's first Faculty members, serving from 1933 until his death in 1955, and he played a\\xa0...\", 'url': 'https://www.ias.edu/scholars/einstein', 'breadcrumb': 'https://www.ias.edu › scholars › einstein'}, {'type': 'organic', 'rank_group': 16, 'rank_absolute': 18, 'domain': 'www.osti.gov', 'title': 'Manhattan Project: People > Scientists > ALBERT EINSTEIN', 'description': 'Albert Einstein, undoubtedly the most famous scientist of the 20th century, was born in Ulm, Germany on March 14, 1879. In 1896, he entered the Swiss\\xa0...', 'url': 'https://www.osti.gov/opennet/manhattan-project-history/People/Scientists/albert-einstein.html', 'breadcrumb': 'https://www.osti.gov › opennet › albert-einstein'}, {'type': 'organic', 'rank_group': 17, 'rank_absolute': 19, 'domain': 'einsteinmed.edu', 'title': 'Albert Einstein College of Medicine | Medical Education ...', 'description': 'Roundup of Research Briefs. A roundup of briefs on major NIH grants and published research by Einstein and Montefiore investigators include those on cancer,\\xa0...', 'url': 'https://einsteinmed.edu/', 'breadcrumb': 'https://einsteinmed.edu'}, {'type': 'organic', 'rank_group': 18, 'rank_absolute': 20, 'domain': 'press.princeton.edu', 'title': 'Albert Einstein', 'description': \"Since 1922, Princeton University Press has been honored to publish the work of Albert Einstein (1879‑1955). That year, the Press published Einstein's The\\xa0...\", 'url': 'https://press.princeton.edu/collections/einstein', 'breadcrumb': 'https://press.princeton.edu › collections › einstein'}, {'type': 'organic', 'rank_group': 19, 'rank_absolute': 21, 'domain': 'www.natgeokids.com', 'title': '10 facts about Albert Einstein', 'description': 'Albert Einstein was born in Germany, but lived in Italy, Switzerland and Czechia (which was then part of the Austro-Hungarian Empire), until he eventually moved\\xa0...', 'url': 'https://www.natgeokids.com/uk/discover/science/general-science/albert-einstein-facts/', 'breadcrumb': 'https://www.natgeokids.com › science › general-science'}, {'type': 'organic', 'rank_group': 20, 'rank_absolute': 22, 'domain': 'www.youtube.com', 'title': 'Albert Einstein - Nobel Prize Winner & Physicist | Mini Bio', 'description': 'Nobel Prize winner Albert Einstein is one of the most influential and well-known physicist in history. Learn more about his life and work in\\xa0...', 'url': 'https://www.youtube.com/watch?v=KyjQJBDD5V4', 'breadcrumb': 'https://www.youtube.com › watch'}, {'type': 'organic', 'rank_group': 21, 'rank_absolute': 23, 'domain': 'plato.stanford.edu', 'title': \"Einstein's Philosophy of Science\", 'description': 'Albert Einstein (1879–1955) is well known as the most prominent physicist of the twentieth century. His contributions to twentieth-century\\xa0...', 'url': 'https://plato.stanford.edu/entries/einstein-philscience/', 'breadcrumb': 'https://plato.stanford.edu › entries › einstein-philscience'}, {'type': 'organic', 'rank_group': 22, 'rank_absolute': 24, 'domain': 'www.newscientist.com', 'title': 'Albert Einstein | World-famous theoretical physicist', 'description': 'Albert Einstein is arguably the most influential scientist of the 20th century. His general theory of relativity changed our understanding of space and time\\xa0...', 'url': 'https://www.newscientist.com/people/albert-einstein/', 'breadcrumb': 'https://www.newscientist.com › people › albert-einstein'}, {'type': 'organic', 'rank_group': 23, 'rank_absolute': 25, 'domain': 'byjus.com', 'title': 'Albert Einstein - Facts, Theories and Inventions', 'description': 'Albert Einstein was born on 14 March in the year 1879 in Württemberg, Germany. He was educated at the Swiss Federal Institute of Technology in Zurich. Einstein\\xa0...', 'url': 'https://byjus.com/physics/albert-einstein/', 'breadcrumb': 'https://byjus.com › ... › Famous Physicists'}, {'type': 'organic', 'rank_group': 24, 'rank_absolute': 26, 'domain': 'www.atomicarchive.com', 'title': 'Albert Einstein | Biographies', 'description': \"One of the world's most famous scientists. In 1922, he won the Nobel Prize in Physics. In 1939 Einstein wrote to President Franklin D. Roosevelt warning him\\xa0...\", 'url': 'https://www.atomicarchive.com/resources/biographies/einstein.html', 'breadcrumb': 'https://www.atomicarchive.com › resources › einstein'}, {'type': 'organic', 'rank_group': 25, 'rank_absolute': 27, 'domain': 'www.instagram.com', 'title': 'Albert Einstein (@alberteinstein)', 'description': '1M Followers, 632 Following, 2075 Posts - See Instagram photos and videos from Albert Einstein (@alberteinstein)', 'url': 'https://www.instagram.com/alberteinstein/?hl=en', 'breadcrumb': 'https://www.instagram.com › alberteinstein'}, {'type': 'organic', 'rank_group': 26, 'rank_absolute': 28, 'domain': 'starchild.gsfc.nasa.gov', 'title': 'Albert Einstein - StarChild - NASA', 'description': 'Albert Einstein was born in 1879 in Ulm, Germany. He was the first child born to Hermann and Pauline Einstein. Though he attended school as a young boy,\\xa0...', 'url': 'https://starchild.gsfc.nasa.gov/docs/StarChild/whos_who_level2/einstein.html', 'breadcrumb': 'https://starchild.gsfc.nasa.gov › whos_who_level2 › ei...'}, {'type': 'organic', 'rank_group': 27, 'rank_absolute': 29, 'domain': 'www.imdb.com', 'title': 'Albert Einstein(1879-1955)', 'description': 'Albert Einstein was born in Ulm, Kingdom of Württemberg, to a German Jewish family. He was the son of Pauline (Koch) and Hermann Einstein, a featherbed\\xa0...', 'url': 'https://www.imdb.com/name/nm0251868/', 'breadcrumb': 'https://www.imdb.com › name'}, {'type': 'organic', 'rank_group': 28, 'rank_absolute': 30, 'domain': 'history.aip.org', 'title': 'Albert Einstein in Brief', 'description': 'Albert Einstein was born to a middle-class German Jewish family. His parents were concerned that he scarcely talked until the age of three, but he was not\\xa0...', 'url': 'https://history.aip.org/exhibits/einstein/inbrief.htm', 'breadcrumb': 'https://history.aip.org › exhibits › einstein › inbrief'}, {'type': 'organic', 'rank_group': 29, 'rank_absolute': 31, 'domain': 'neo.einstein.edu', 'title': 'About Albert Einstein', 'description': 'Elementary school records show he was a gifted child, particularly in maths, physics, and violin playing. He rebelled against formal education by rote learning\\xa0...', 'url': 'http://neo.einstein.edu/index.cfm/about-albert-einstein/', 'breadcrumb': 'http://neo.einstein.edu › index.cfm › about-albert-einst...'}, {'type': 'organic', 'rank_group': 30, 'rank_absolute': 32, 'domain': 'www.smithsonianmag.com', 'title': 'The Year Of Albert Einstein | Science', 'description': 'The Year Of Albert Einstein. His discoveries in 1905 would forever change our understanding of the universe. Amid the centennial hoopla, the trick is to\\xa0...', 'url': 'https://www.smithsonianmag.com/science-nature/the-year-of-albert-einstein-75841381/', 'breadcrumb': 'https://www.smithsonianmag.com › science-nature › t...'}, {'type': 'organic', 'rank_group': 31, 'rank_absolute': 33, 'domain': 'www.goodreads.com', 'title': 'Albert Einstein (Author of Relativity)', 'description': 'Best known for his mass–energy equivalence formula E = mc2, dubbed \"the world\\'s most famous equation,\" he received \"for his services to theoretical physics, and\\xa0...', 'url': 'https://www.goodreads.com/author/show/9810.Albert_Einstein', 'breadcrumb': 'https://www.goodreads.com › author › show › 9810.A...'}, {'type': 'organic', 'rank_group': 32, 'rank_absolute': 34, 'domain': 'einstein.biz', 'title': 'The Official Licensing Site of Albert Einstein', 'description': 'Welcome to the Official Licensing Site of Albert Einstein. Learn more about Albert Einstein and contact us today for any commercial licensing inquiries.', 'url': 'http://einstein.biz/', 'breadcrumb': 'http://einstein.biz'}, {'type': 'organic', 'rank_group': 33, 'rank_absolute': 35, 'domain': 'www.theguardian.com', 'title': 'Albert Einstein | Science', 'description': \"Albert Einstein · Astronomers observe time dilation in early universe · Astronomers detect 'cosmic bass note' of gravitational waves · Nerf guns, marbles and\\xa0...\", 'url': 'https://www.theguardian.com/science/alberteinstein', 'breadcrumb': 'https://www.theguardian.com › science › alberteinstein'}, {'type': 'organic', 'rank_group': 34, 'rank_absolute': 36, 'domain': 'www.nytimes.com', 'title': 'Albert Einstein', 'description': 'How Einstein Became the First Science Superstar ... A century ago, astronomers proved the general theory of relativity — and made him a global household name. By\\xa0...', 'url': 'https://www.nytimes.com/topic/person/albert-einstein', 'breadcrumb': 'https://www.nytimes.com › topic › person › albert-ein...'}, {'type': 'organic', 'rank_group': 35, 'rank_absolute': 37, 'domain': 'artsandculture.google.com', 'title': '8 Albert Einstein Quotes', 'description': 'Today Albert Einstein is our very definition of genius. His work in theoretical physics is not only the founding principles of modern science, but he has...', 'url': 'https://artsandculture.google.com/theme/8-albert-einstein-quotes/OALiBKJSp6JeIQ?hl=en', 'breadcrumb': 'https://artsandculture.google.com › theme › 8-albert-ei...'}, {'type': 'organic', 'rank_group': 36, 'rank_absolute': 38, 'domain': 'www.facebook.com', 'title': 'Albert Einstein', 'description': \"Albert Einstein. 18952401 likes · 24456 talking about this. Official Facebook of the World's Favorite Genius. Managed by BEN Group, authorized...\", 'url': 'https://www.facebook.com/albert.einstein.fans/', 'breadcrumb': 'https://www.facebook.com › ... › Albert Einstein'}, {'type': 'organic', 'rank_group': 37, 'rank_absolute': 39, 'domain': 'www.amnh.org', 'title': 'Space: Course for Science Educators | Seminars on Science', 'description': \"This course uses Einstein's work to delve into the properties of motion, time, ... and continues on to Galileo Galilei, Isaac Newton, and Albert Einstein,\\xa0...\", 'url': 'https://www.amnh.org/learn-teach/seminars-on-science/courses/space-time-and-motion', 'breadcrumb': 'https://www.amnh.org › space-time-and-motion'}, {'type': 'organic', 'rank_group': 38, 'rank_absolute': 40, 'domain': 'www.amazon.com', 'title': 'Albert Einstein: books, biography, latest update', 'description': \"Follow Albert Einstein and explore their bibliography from Amazon.com's Albert Einstein Author Page.\", 'url': 'https://www.amazon.com/Albert-Einstein/e/B000AP7JOU', 'breadcrumb': 'https://www.amazon.com › Albert-Einstein'}, {'type': 'organic', 'rank_group': 39, 'rank_absolute': 41, 'domain': 'www.asl-associates.com', 'title': 'Memorable Albert Einstein Quotes', 'description': '--Albert Einstein (quoted by Philipp Frank in \"Einstein\\'s Philosophy of Science,\" Reviews of Modern Physics, Vol 21, No. 3 July 1949. \"Only a life lived for\\xa0...', 'url': 'https://www.asl-associates.com/einsteinquotes.htm', 'breadcrumb': 'https://www.asl-associates.com › einsteinquotes'}, {'type': 'organic', 'rank_group': 40, 'rank_absolute': 42, 'domain': 'www.thalesgroup.com', 'title': '3 everyday inventions Einstein made possible', 'description': 'Albert Einstein was a German-born physicist and one of the most influential scientists of the 20th century. He was born in Ulm, Germany, in 1879\\xa0...', 'url': 'https://www.thalesgroup.com/en/markets/digital-identity-and-security/mobile/magazine/3-everyday-inventions-einstein-made-possible', 'breadcrumb': 'https://www.thalesgroup.com › mobile › magazine › 3...'}, {'type': 'organic', 'rank_group': 41, 'rank_absolute': 43, 'domain': 'www.life.com', 'title': \"The Day Albert Einstein Died: A Photographer's Story - LIFE\", 'description': 'Pictures from a spring day in 1955, when photographer Ralph Morse raced around New Jersey in search of the late, great Albert Einstein.', 'url': 'https://www.life.com/history/the-day-albert-einstein-died-a-photographers-story/', 'breadcrumb': 'https://www.life.com › history › the-day-albert-einstei...'}, {'type': 'organic', 'rank_group': 42, 'rank_absolute': 44, 'domain': 'vault.fbi.gov', 'title': 'FBI Records: The Vault — Albert Einstein', 'description': 'Albert Einstein (1879-1955) was a German born scientist and professor. This release consists of several background-type investigations, an investigation of\\xa0...', 'url': 'https://vault.fbi.gov/Albert%20Einstein', 'breadcrumb': 'https://vault.fbi.gov › Albert Einstein'}, {'type': 'organic', 'rank_group': 43, 'rank_absolute': 45, 'domain': 'www.albert-einstein.org', 'title': 'The Albert Einstein Archives at The Hebrew University of ...', 'description': 'The Albert Einstein Archives at the Hebrew University of Jerusalem own the Literary Estate of Albert Einstein, as declared in his last will and testament.', 'url': 'http://www.albert-einstein.org/', 'breadcrumb': 'http://www.albert-einstein.org'}, {'type': 'organic', 'rank_group': 44, 'rank_absolute': 46, 'domain': 'new.nsf.gov', 'title': 'Albert Einstein, in his own words', 'description': 'Albert Einstein is known in popular culture for his famous E = mc 2 formula. Scientists know him for revolutionizing physics with his general\\xa0...', 'url': 'https://new.nsf.gov/news/albert-einstein-his-own-words', 'breadcrumb': 'https://new.nsf.gov › News'}, {'type': 'organic', 'rank_group': 45, 'rank_absolute': 47, 'domain': 'www.census.gov', 'title': 'March 2019 - History', 'description': 'March 2019 · By the 1930s, Albert Einstein was an internationally known author, lecturer, and science ambassador. · The Einsteins immigrated to the United States\\xa0...', 'url': 'https://www.census.gov/history/www/homepage_archive/2019/march_2019.html', 'breadcrumb': 'https://www.census.gov › ... › 2019'}, {'type': 'organic', 'rank_group': 46, 'rank_absolute': 48, 'domain': 'www.dyslexia.com', 'title': 'Albert Einstein', 'description': 'Albert Einstein was a German-born theoretical physicist. He developed the general theory of relativity, one of the two pillars of modern physics (alongside\\xa0...', 'url': 'https://www.dyslexia.com/famous/albert-einstein/', 'breadcrumb': 'https://www.dyslexia.com › famous › albert-einstein'}, {'type': 'organic', 'rank_group': 47, 'rank_absolute': 49, 'domain': 'www.nps.gov', 'title': 'Manhattan Project Pioneers: Albert Einstein', 'description': 'Albert Einstein was perhaps the most famous scientist of his time, doing work essential to the progress of physics. He signed a letter to\\xa0...', 'url': 'https://www.nps.gov/people/manhattan-project-pioneers-albert-einstein.htm', 'breadcrumb': 'https://www.nps.gov › people › manhattan-project-pio...'}, {'type': 'organic', 'rank_group': 48, 'rank_absolute': 50, 'domain': 'www.encyclopedia.com', 'title': 'Albert Einstein', 'description': 'EINSTEIN, ALBERT(b. Ulm, Germany, 14 March 1879;d. Princeton, New Jersey [1], 18 April 1955)physics. For the original article on Einstein see DSB, vol. 4.', 'url': 'https://www.encyclopedia.com/people/science-and-technology/physics-biographies/albert-einstein', 'breadcrumb': 'https://www.encyclopedia.com › physics-biographies'}, {'type': 'organic', 'rank_group': 49, 'rank_absolute': 51, 'domain': 'www.ducksters.com', 'title': 'Albert Einstein: Genius Inventor and Scientist', 'description': \"Kids learn about Albert Einstein's biography. A great scientist and inventor. A true genius.\", 'url': 'https://www.ducksters.com/biography/albert_einstein.php', 'breadcrumb': 'https://www.ducksters.com › biography › albert_einstein'}, {'type': 'organic', 'rank_group': 50, 'rank_absolute': 52, 'domain': 'ahf.nuclearmuseum.org', 'title': 'Albert Einstein - Nuclear Museum - Atomic Heritage Foundation', 'description': 'Albert Einstein (1879-1955) was a German-born theoretical physicist and winner of the 1921 Nobel Prize in Physics. Einstein influenced the beginning of the\\xa0...', 'url': 'https://ahf.nuclearmuseum.org/ahf/profile/albert-einstein/', 'breadcrumb': 'https://ahf.nuclearmuseum.org › ahf › profile › albert-...'}, {'type': 'organic', 'rank_group': 51, 'rank_absolute': 53, 'domain': 'guides.loc.gov', 'title': 'Introduction - Annus Mirabilis of Albert Einstein', 'description': 'In 1905 Albert Einstein published four groundbreaking papers that revolutionized scientific understanding of the universe.', 'url': 'https://guides.loc.gov/einstein-annus-mirabilis', 'breadcrumb': 'https://guides.loc.gov › einstein-annus-mirabilis'}, {'type': 'organic', 'rank_group': 52, 'rank_absolute': 54, 'domain': 'www.dkfindout.com', 'title': 'Who Is Albert Einstein', 'description': 'Albert Einstein (1879–1955) was a German-born physicist whose theory of relativity transformed our understanding of the universe. He was born in Germany but\\xa0...', 'url': 'https://www.dkfindout.com/us/science/famous-scientists/albert-einstein/', 'breadcrumb': 'https://www.dkfindout.com › ... › Famous scientists'}, {'type': 'organic', 'rank_group': 53, 'rank_absolute': 55, 'domain': 'scienceworld.wolfram.com', 'title': \"Einstein, Albert (1879-1955) -- from Eric Weisstein's World of ...\", 'description': 'Einstein, Albert (1879-1955) · German-American physicist who, in 1905, published three papers, each of which had a profound effect on the development of physics.', 'url': 'https://scienceworld.wolfram.com/biography/Einstein.html', 'breadcrumb': 'https://scienceworld.wolfram.com › biography › Einst...'}, {'type': 'organic', 'rank_group': 54, 'rank_absolute': 56, 'domain': 'www.thoughtco.com', 'title': 'Biography of Albert Einstein, Theoretical Physicist', 'description': 'Albert Einstein (March 14, 1879–April 18, 1955), a German-born theoretical physicist who lived during the 20th century,\\xa0...', 'url': 'https://www.thoughtco.com/albert-einstein-1779799', 'breadcrumb': 'https://www.thoughtco.com › ... › People & Events'}, {'type': 'organic', 'rank_group': 55, 'rank_absolute': 57, 'domain': 'www.notablebiographies.com', 'title': 'Albert Einstein Biography - life, story, wife, school, young ...', 'description': 'Albert Einstein was born on March 14, 1879, in Ulm, Germany, but he grew up and obtained his early education in Munich, Germany. He was a poor student,\\xa0...', 'url': 'https://www.notablebiographies.com/Du-Fi/Einstein-Albert.html', 'breadcrumb': 'https://www.notablebiographies.com › Du-Fi › Einstei...'}, {'type': 'organic', 'rank_group': 56, 'rank_absolute': 58, 'domain': 'www.jewishvirtuallibrary.org', 'title': 'Albert Einstein', 'description': '(1879 - 1955) ... One of the greatest physicists of all time, Nobel Prize winner and discoverer of the special and general theory of relativity, Albert Einstein ...', 'url': 'https://www.jewishvirtuallibrary.org/albert-einstein', 'breadcrumb': 'https://www.jewishvirtuallibrary.org › albert-einstein'}, {'type': 'organic', 'rank_group': 57, 'rank_absolute': 59, 'domain': 'www.aeinstein.org', 'title': 'Albert Einstein Institution', 'description': 'The Albert Einstein Institution (AEI) is a nonprofit organization founded by Dr. Gene Sharp in 1983 to advance the study and use of strategic nonviolent\\xa0...', 'url': 'https://www.aeinstein.org/', 'breadcrumb': 'https://www.aeinstein.org'}, {'type': 'organic', 'rank_group': 58, 'rank_absolute': 60, 'domain': 'www.independent.co.uk', 'title': 'Albert Einstein - latest news, breaking stories and comment', 'description': 'Albert Einstein · It is all looking rather intriguing, but, history has taught us caution. Voices · The discovery of a mystery particle at Cern could shake up\\xa0...', 'url': 'https://www.independent.co.uk/topic/albert-einstein', 'breadcrumb': 'https://www.independent.co.uk › topic › albert-einstein'}, {'type': 'organic', 'rank_group': 59, 'rank_absolute': 61, 'domain': 'www.famousscientists.org', 'title': 'Albert Einstein - Biography, Facts and Pictures', 'description': 'Lived 1879 – 1955. Albert Einstein rewrote the laws of nature. He completely changed the way we understand the behavior of things as basic as light, gravity,\\xa0...', 'url': 'https://www.famousscientists.org/albert-einstein/', 'breadcrumb': 'https://www.famousscientists.org › albert-einstein'}, {'type': 'organic', 'rank_group': 60, 'rank_absolute': 62, 'domain': 'www.physicsoftheuniverse.com', 'title': 'Albert Einstein - Important Scientists', 'description': 'Albert Einstein was a German-born theoretical physicist, best known for his Special and General Theory of Relativity and the concept of mass-energy\\xa0...', 'url': 'https://www.physicsoftheuniverse.com/scientists_einstein.html', 'breadcrumb': 'https://www.physicsoftheuniverse.com › scientists_eins...'}, {'type': 'organic', 'rank_group': 61, 'rank_absolute': 63, 'domain': 'www.oxfordreference.com', 'title': 'Albert Einstein', 'description': 'Albert Einstein. (1879—1955) German-born American theoretical physicist. Quick Reference. (1879–1955). German\\xa0...', 'url': 'https://www.oxfordreference.com/view/10.1093/oi/authority.20110803095744712', 'breadcrumb': 'https://www.oxfordreference.com › view › authority.2...'}, {'type': 'organic', 'rank_group': 62, 'rank_absolute': 64, 'domain': 'www.newworldencyclopedia.org', 'title': 'Albert Einstein', 'description': 'Albert Einstein (March 14, 1879 – April 18, 1955) was a German-born theoretical physicist. He is best known for his theory of relativity and specifically\\xa0...', 'url': 'https://www.newworldencyclopedia.org/entry/Albert_Einstein', 'breadcrumb': 'https://www.newworldencyclopedia.org › entry › Albe...'}, {'type': 'organic', 'rank_group': 63, 'rank_absolute': 65, 'domain': 'www.bbc.co.uk', 'title': 'Albert Einstein: A life spent re-imagining physics', 'description': \"Einstein's archetypal boffin persona, firmly lodged in popular culture, is well-earned. His ideas and theories were so shockingly revolutionary,\\xa0...\", 'url': 'https://www.bbc.co.uk/teach/albert-einstein-a-life-spent-re-imagining-physics/zfhy6v4', 'breadcrumb': 'https://www.bbc.co.uk › teach › albert-einstein-a-life-s...'}, {'type': 'organic', 'rank_group': 64, 'rank_absolute': 66, 'domain': 'www.historyextra.com', 'title': 'Albert Einstein: Facts About His Life, Death, Education And ...', 'description': 'In 1919, theoretical physicist Albert Einstein published his pioneering theory of general relativity. His work established new ideas about\\xa0...', 'url': 'https://www.historyextra.com/period/modern/albert-einstein-facts-education-inventions-awards-iq-children-death-birthday-life-die-born-famous/', 'breadcrumb': 'https://www.historyextra.com › ... › General Modern'}, {'type': 'organic', 'rank_group': 65, 'rank_absolute': 67, 'domain': 'www.theschoolrun.com', 'title': 'Albert Einstein | TheSchoolRun', 'description': 'Fascinating facts, did-you-knows, photos, games, activities and more all about Albert Einstein, to support primary-school science topic work.', 'url': 'https://www.theschoolrun.com/homework-help/albert-einstein', 'breadcrumb': 'https://www.theschoolrun.com › homework-help › alb...'}, {'type': 'organic', 'rank_group': 66, 'rank_absolute': 68, 'domain': 'www.twinkl.com', 'title': 'Who was Albert Einstein? | Facts for Kids', 'description': 'Top Facts about Albert Einstein for KS2 Pupils · He was born in Ulm, in the German Empire. · He lived until the age of 76. · Albert Einstein was dyslexic. · He\\xa0...', 'url': 'https://www.twinkl.com/teaching-wiki/albert-einstein', 'breadcrumb': 'https://www.twinkl.com › teaching-wiki › albert-einstein'}, {'type': 'organic', 'rank_group': 67, 'rank_absolute': 69, 'domain': 'www.oxfordlearnersdictionaries.com', 'title': 'albert-einstein - Definition, pictures, pronunciation and ...', 'description': \"Definition of albert-einstein in Oxford Advanced Learner's Dictionary. Meaning, pronunciation, picture, example sentences, grammar, usage notes,\\xa0...\", 'url': 'https://www.oxfordlearnersdictionaries.com/us/definition/english/albert-einstein', 'breadcrumb': 'https://www.oxfordlearnersdictionaries.com › english'}, {'type': 'organic', 'rank_group': 68, 'rank_absolute': 70, 'domain': 'www.rescue.org', 'title': 'Albert Einstein and the birth of the International Rescue ...', 'description': 'Learn how the IRC was founded at the call of physicist, humanitarian -- and refugee -- Albert Einstein. March 14, 2015. In January 1933, Adolf Hitler,\\xa0...', 'url': 'https://www.rescue.org/article/albert-einstein-and-birth-international-rescue-committee', 'breadcrumb': 'https://www.rescue.org › article › albert-einstein-and-b...'}, {'type': 'organic', 'rank_group': 69, 'rank_absolute': 71, 'domain': 'princetonhistory.org', 'title': 'Albert Einstein – Historical Society of Princeton', 'description': \"Albert Einstein (1879 – 1955) first gained worldwide prominence in 1919, when British astronomers verified predictions of Einstein's general theory of\\xa0...\", 'url': 'https://princetonhistory.org/research/historic-princeton/albert-einstein/', 'breadcrumb': 'https://princetonhistory.org › ... › Historic Princeton'}, {'type': 'organic', 'rank_group': 70, 'rank_absolute': 72, 'domain': 'scholar.google.com', 'title': 'Albert Einstein - Google Scholar', 'description': 'Title. Sort. Sort by citationsSort by yearSort by title Cited by. Cited by Year\\nZur Elektrodynamik bewegter Körper. A Einstein 7453*\\nLa relativité. A Einstein. Payot, 1964 4339* 1964', 'url': 'https://scholar.google.com/citations?user=qc6CJjYAAAAJ&hl=en', 'breadcrumb': 'https://scholar.google.com › citations'}, {'type': 'organic', 'rank_group': 71, 'rank_absolute': 73, 'domain': 'www.onthisday.com', 'title': 'Albert Einstein (Theoretical Physicist)', 'description': 'A Jewish-born German, later naturalised as a US citizen, Einstein became the most influential physicist of the 20th century. He developed his special theory\\xa0...', 'url': 'https://www.onthisday.com/people/albert-einstein', 'breadcrumb': 'https://www.onthisday.com › people › albert-einstein'}, {'type': 'organic', 'rank_group': 72, 'rank_absolute': 74, 'domain': 'www.fi.edu', 'title': 'Albert Einstein', 'description': 'Albert Einstein was born at Ulm, in Wurttemberg, Germany, in 1879. In his youth, his family moved to Munich and then to Italy, and Einstein received much of\\xa0...', 'url': 'https://www.fi.edu/en/laureates/albert-einstein', 'breadcrumb': 'https://www.fi.edu › laureates › albert-einstein'}, {'type': 'organic', 'rank_group': 73, 'rank_absolute': 75, 'domain': 'www.vanityfair.com', 'title': \"Einstein and Oppenheimer's Real Relationship Was ...\", 'description': \"Outside his home in Princeton, he encounters a colleague: Albert Einstein (Tom Conti), who doesn't seem to get why his fellow physicist is\\xa0...\", 'url': 'https://www.vanityfair.com/hollywood/2023/07/oppenheimer-einstein-movie-real-life', 'breadcrumb': 'https://www.vanityfair.com › ... › albert einstein'}, {'type': 'organic', 'rank_group': 74, 'rank_absolute': 76, 'domain': 'thedecisionlab.com', 'title': 'Albert Einstein', 'description': 'Albert Einstein was a physicist, philosopher, mathematician, Nobel-prize winner, violinist and a scientist. He is most notably known for his theory of\\xa0...', 'url': 'https://thedecisionlab.com/thinkers/philosophy/albert-einstein', 'breadcrumb': 'https://thedecisionlab.com › thinkers › philosophy › al...'}, {'type': 'organic', 'rank_group': 75, 'rank_absolute': 77, 'domain': 'interestingengineering.com', 'title': 'Albert Einstein: The Life and Legacy of the Great Genius', 'description': \"It's hard to understate the genius of Albert Einstein. As one of the world's foremost physicists, his discoveries revolutionized the way we\\xa0...\", 'url': 'https://interestingengineering.com/science/albert-einstein-the-life-and-legacy-of-the-great-genius', 'breadcrumb': 'https://interestingengineering.com › Science'}, {'type': 'organic', 'rank_group': 76, 'rank_absolute': 78, 'domain': 'www.einstein-online.info', 'title': 'About Albert Einstein', 'description': 'He is one of the few real pop stars in science: Albert Einstein, born 1879 in Ulm, Germany. This website is named after him – and that is because Einstein\\xa0...', 'url': 'https://www.einstein-online.info/en/about-einstein-online/about-albert-einstein/', 'breadcrumb': 'https://www.einstein-online.info › about-einstein-online'}, {'type': 'organic', 'rank_group': 77, 'rank_absolute': 79, 'domain': 'www.mentalfloss.com', 'title': '19 Brilliant Facts About Albert Einstein', 'description': 'Once a simple patent clerk, Albert Einstein changed the world with his theories of special and general relativity.', 'url': 'https://www.mentalfloss.com/article/573985/albert-einstein-facts', 'breadcrumb': 'https://www.mentalfloss.com › SCIENCE'}, {'type': 'organic', 'rank_group': 78, 'rank_absolute': 80, 'domain': 'www.simonandschuster.com', 'title': 'Einstein | Book by Walter Isaacson | Official Publisher Page', 'description': 'Einstein by Walter Isaacson - By the author of the acclaimed bestsellers Benjamin Franklin and Steve Jobs, this is the definitive biography of Albert ...', 'url': 'https://www.simonandschuster.com/books/Einstein/Walter-Isaacson/9780743264747', 'breadcrumb': 'https://www.simonandschuster.com › books › Walter-I...'}, {'type': 'organic', 'rank_group': 79, 'rank_absolute': 81, 'domain': 'www.wikidata.org', 'title': 'Albert Einstein', 'description': 'German-born theoretical physicist; developer of the theory of relativity (1879–1955)', 'url': 'https://www.wikidata.org/wiki/Q937', 'breadcrumb': 'https://www.wikidata.org › wiki'}, {'type': 'organic', 'rank_group': 80, 'rank_absolute': 82, 'domain': 'www.easybib.com', 'title': 'Albert Einstein Quotes and Facts', 'description': \"Albert Einstein's birthday is March 14th, 1879. He is best known for developing the theory of relativity, as well as his involvement in research that led to the\\xa0...\", 'url': 'https://www.easybib.com/guides/quotes-facts-stats/albert-einstein/', 'breadcrumb': 'https://www.easybib.com › Guides › Topic Guides'}, {'type': 'organic', 'rank_group': 81, 'rank_absolute': 83, 'domain': 'content.time.com', 'title': 'Person Of The Century: Albert Einstein', 'description': 'Albert Einstein · (1879-1955) He was the pre-eminent scientist in a century dominated by science. The touchstones of the era--the Bomb, the Big\\xa0...', 'url': 'https://content.time.com/time/magazine/article/0,9171,993017,00.html', 'breadcrumb': 'https://content.time.com › time › magazine › article'}, {'type': 'organic', 'rank_group': 82, 'rank_absolute': 84, 'domain': 'books.google.com', 'title': 'Albert Einstein - Google Books Result', 'description': 'Name: Albert Einstein Born: March 14, 1879 Died: April 18, 1955 Position: Physicist Career Highlights: • In 1915, he finished the General Theory of\\xa0...', 'url': 'https://books.google.com/books?id=VOIGBgAAQBAJ&pg=PP1&lpg=PP1&dq=albert+einstein&source=bl&ots=h4B6jarGcP&sig=ACfU3U2A8E-kY1FEgyskURK5GHU5kmKi8w&hl=en&sa=X&ved=2ahUKEwjrysPsmYaBAxWl97sIHThdDBsQ6AF6BQiVAxAD', 'breadcrumb': 'https://books.google.com › books'}, {'type': 'organic', 'rank_group': 83, 'rank_absolute': 85, 'domain': 'www.infoplease.com', 'title': 'Albert Einstein', 'description': 'Thanks to his theory of relativity, Albert Einstein became the most famous scientist of the 20th century. In 1905, while working in a Swiss patent office,\\xa0...', 'url': 'https://www.infoplease.com/people/who2-biography/albert-einstein', 'breadcrumb': 'https://www.infoplease.com › people › who2-biography'}, {'type': 'organic', 'rank_group': 84, 'rank_absolute': 86, 'domain': 'books.google.com', 'title': 'Albert Einstein: Genius of the Theory of Relativity', 'description': 'Finally his friend Marcel Grossman found a civil service job for Albert. Albert Einstein liked his job in the Swiss Patent Office.', 'url': 'https://books.google.com/books?id=ItBjDwAAQBAJ&pg=PA22&lpg=PA22&dq=albert+einstein&source=bl&ots=WPc8XpiXeL&sig=ACfU3U2xmFW4mr4eYwPx5lia9u1avSbrAw&hl=en&sa=X&ved=2ahUKEwjrysPsmYaBAxWl97sIHThdDBsQ6AF6BQibAxAD', 'breadcrumb': 'https://books.google.com › books'}, {'type': 'organic', 'rank_group': 85, 'rank_absolute': 87, 'domain': 'www.popularmechanics.com', 'title': '100 Years Ago, Albert Einstein Became a Legend', 'description': \"Albert Einstein, the wire-haired physicist, whose worked reshaped our understanding of the universe, is a household name—but that wasn't\\xa0...\", 'url': 'https://www.popularmechanics.com/science/math/a29677190/einstein-eclipse-anniversary/', 'breadcrumb': 'https://www.popularmechanics.com › Science › Math'}, {'type': 'organic', 'rank_group': 86, 'rank_absolute': 88, 'domain': 'books.google.com', 'title': 'Albert Einstein: The Man, the Genius, and the Theory of ...', 'description': 'RIGHT: Einstein and the members of the Olympia Academy. From left: Conrad Habicht, Maurice Solovine, and Albert Einstein. The photograph was taken around\\xa0...', 'url': 'https://books.google.com/books?id=JHZeEAAAQBAJ&pg=PA37&lpg=PA37&dq=albert+einstein&source=bl&ots=_jU4XTWFOo&sig=ACfU3U0t6RO6a-XjFmCidZXLq_mhsPUC2g&hl=en&sa=X&ved=2ahUKEwjrysPsmYaBAxWl97sIHThdDBsQ6AF6BQinAxAD', 'breadcrumb': 'https://books.google.com › books'}, {'type': 'organic', 'rank_group': 87, 'rank_absolute': 89, 'domain': 'www.thriftbooks.com', 'title': 'List of books by author Albert Einstein', 'description': 'See all books authored by Albert Einstein, including Über die spezielle und die allgemeine Relativitätstheorie, and The Portable Atheist: Essential Readings\\xa0...', 'url': 'https://www.thriftbooks.com/a/albert-einstein/203164/', 'breadcrumb': 'https://www.thriftbooks.com › albert-einstein'}, {'type': 'organic', 'rank_group': 88, 'rank_absolute': 90, 'domain': 'books.google.com', 'title': 'The Collected Papers of Albert Einstein: The early years, ...', 'description': 'Albert Einstein. worries about work for a little while . My dear dear darling ! After the sad times of my banishment up here have come to an end , mama and\\xa0...', 'url': 'https://books.google.com/books?id=dYpwdLWNR2cC&pg=PA31&lpg=PA31&dq=albert+einstein&source=bl&ots=B_sdIw1NRv&sig=ACfU3U1g5Nq3rbCtbZXKUQ1KD_wAZucFzw&hl=en&sa=X&ved=2ahUKEwjrysPsmYaBAxWl97sIHThdDBsQ6AF6BQilAxAD', 'breadcrumb': 'https://books.google.com › books'}, {'type': 'organic', 'rank_group': 89, 'rank_absolute': 91, 'domain': 'www.lindahall.org', 'title': 'Albert Einstein', 'description': 'Albert Einstein, a German-American physicist, died on Apr. 18, 1955, in Princeton, New Jersey, at the age of 76. Einstein is the one scientific\\xa0...', 'url': 'https://www.lindahall.org/about/news/scientist-of-the-day/albert-einstein-2', 'breadcrumb': 'https://www.lindahall.org › ... › Scientist of the Day'}, {'type': 'organic', 'rank_group': 90, 'rank_absolute': 92, 'domain': 'books.google.com', 'title': 'Albert Einstein: A Complete Biography: Bestseller Book by ...', 'description': 'Bestseller Book by Vinod Kumar Mishra: Albert Einstein: A Complete Biography Vinod Kumar Mishra. from the White House . On January 24 , the families of\\xa0...', 'url': 'https://books.google.com/books?id=i1a6EAAAQBAJ&pg=RA2-PA1946&lpg=RA2-PA1946&dq=albert+einstein&source=bl&ots=WR9eEnller&sig=ACfU3U2YLMSzgw1Nw0H_rixHY4St0qV4ow&hl=en&sa=X&ved=2ahUKEwjrysPsmYaBAxWl97sIHThdDBsQ6AF6BQimAxAD', 'breadcrumb': 'https://books.google.com › books'}, {'type': 'organic', 'rank_group': 91, 'rank_absolute': 93, 'domain': 'www.sciencekids.co.nz', 'title': 'Albert Einstein Facts, Quotes, Relativity Theory, Science ...', 'description': 'Albert Einstein was born on the 14th of March 1879 and died on the 18th of April 1955. · Born in Germany to a Jewish family, Einstein made many contributions to\\xa0...', 'url': 'https://www.sciencekids.co.nz/sciencefacts/scientists/alberteinstein.html', 'breadcrumb': 'https://www.sciencekids.co.nz › sciencefacts › scientists'}, {'type': 'organic', 'rank_group': 92, 'rank_absolute': 94, 'domain': 'www.digitalhumans.com', 'title': 'UneeQ Case Study | Digital Einstein', 'description': 'Digital Einstein: A genius for the AI era. On the 100th anniversary of Albert Einstein winning the Nobel Prize for Physics, one of the smartest minds and\\xa0...', 'url': 'https://www.digitalhumans.com/case-studies/digital-einstein', 'breadcrumb': 'https://www.digitalhumans.com › case-studies › digital...'}, {'type': 'organic', 'rank_group': 93, 'rank_absolute': 95, 'domain': 'books.google.com', 'title': 'Albert Einstein, Historical and Cultural Perspectives: The ...', 'description': \"For discussion and documentation, see G. Holton, “Einstein's Search for the 'Weltbild,' ” Proceedings of the American Philosophical Society 125, no.\", 'url': 'https://books.google.com/books?id=58b_AwAAQBAJ&pg=PR30&lpg=PR30&dq=albert+einstein&source=bl&ots=jgq6oXD4GI&sig=ACfU3U217sFxt3GQskogL9ePmv5U70eVtA&hl=en&sa=X&ved=2ahUKEwjrysPsmYaBAxWl97sIHThdDBsQ6AF6BQioAxAD', 'breadcrumb': 'https://books.google.com › books'}, {'type': 'organic', 'rank_group': 94, 'rank_absolute': 96, 'domain': 'books.google.com', 'title': \"EINSTEIN'S REVOLUTIONARY WISDOM (Seven Last Days in the Life ...\", 'description': \"1895 Marie's the Name of Albert's Fist Flame; Makes Him Feel as if Traveling with the Speed of Light. In summer, Albert writes an essay entitled “On the\\xa0...\", 'url': 'https://books.google.com/books?id=OVFBDAAAQBAJ&pg=PA160&lpg=PA160&dq=albert+einstein&source=bl&ots=Co5S-xxsWt&sig=ACfU3U2NNBX8wfqrbZfnbSmr1KqQ6WlhPQ&hl=en&sa=X&ved=2ahUKEwjrysPsmYaBAxWl97sIHThdDBsQ6AF6BQiqAxAD', 'breadcrumb': 'https://books.google.com › books'}, {'type': 'organic', 'rank_group': 95, 'rank_absolute': 97, 'domain': 'www.theatlantic.com', 'title': 'Albert Einstein: Appraisal of an Intellect', 'description': 'He was an intense Zionist, and although he would have been called irreligious by many, was deeply religious in the highest sense, with a profound conviction of\\xa0...', 'url': 'https://www.theatlantic.com/magazine/archive/1955/06/albert-einstein-appraisal-of-an-intellect/303934/', 'breadcrumb': 'https://www.theatlantic.com › archive › 1955/06 › alb...'}, {'type': 'organic', 'rank_group': 96, 'rank_absolute': 98, 'domain': 'books.google.com', 'title': 'Legacy Of Albert Einstein, The: A Collection Of Essays In ...', 'description': 'Socialism was very much in the air as an ideology and Einstein must not have been unaware of the different currents of political thought swirling around him\\xa0...', 'url': 'https://books.google.com/books?id=37HICgAAQBAJ&pg=PA257&lpg=PA257&dq=albert+einstein&source=bl&ots=fb-yry51fR&sig=ACfU3U1l_bjv_pbPB--PanQFaiNz-gkuuQ&hl=en&sa=X&ved=2ahUKEwjrysPsmYaBAxWl97sIHThdDBsQ6AF6BQiIAxAD', 'breadcrumb': 'https://books.google.com › books'}, {'type': 'organic', 'rank_group': 97, 'rank_absolute': 99, 'domain': 'globalgovernanceforum.org', 'title': 'Albert Einstein', 'description': 'Albert Einstein (1879 – 1955), winner of the 1921 Nobel Prize in physics and creator of the theory of relativity, was one of the two pillars of modern\\xa0...', 'url': 'https://globalgovernanceforum.org/visionary/albert-einstein/', 'breadcrumb': 'https://globalgovernanceforum.org › visionary › alber...'}, {'type': 'organic', 'rank_group': 98, 'rank_absolute': 100, 'domain': 'www.conservapedia.com', 'title': 'Albert Einstein', 'description': 'Albert Einstein (1879-1955) was the most famous physicist of the 20th century, who however self-described himself to be “more of a\\xa0...', 'url': 'https://www.conservapedia.com/Albert_Einstein', 'breadcrumb': 'https://www.conservapedia.com › Albert_Einstein'}, {'type': 'organic', 'rank_group': 99, 'rank_absolute': 101, 'domain': 'www.montefiore.org', 'title': 'Montefiore Medical Center', 'description': 'Montefiore Medical Center, the University Hospital for Albert Einstein College of Medicine, is a premier academic medical center and nationally recognized\\xa0...', 'url': 'https://www.montefiore.org/', 'breadcrumb': 'https://www.montefiore.org'}]}]}]}\n"
     ]
    }
   ],
   "source": [
    "\n",
    "            \n",
    "# from client import RestClient\n",
    "# import RestClient\n",
    "# from pyrestclient import RESTClient\n",
    "# You can download this file from here https://cdn.dataforseo.com/v3/examples/python/python_Client.zip\n",
    "# client = RestClient(\"kumar@warewe.com\", \"fd5a40e08700c882\")\n",
    "client = RestClient(\"deepankar@warewe.com\", \"cb1661e9ec7c1fba\")\n",
    "\n",
    "post_data = dict()\n",
    "# You can set only one task at a time\n",
    "post_data[len(post_data)] = dict(\n",
    "    language_code=\"en\",\n",
    "    location_code=2840,\n",
    "    keyword=\"albert einstein\"\n",
    ")\n",
    "# POST /v3/serp/google/organic/live/regular\n",
    "# in addition to 'google' and 'organic' you can also set other search engine and type parameters\n",
    "# the full list of possible parameters is available in documentation\n",
    "\n",
    "\n",
    "\n",
    "response = client.post(\"/v3/serp/google/organic/live/regular\", post_data)\n",
    "# response = RESTClient(\"/v3/serp/google/organic/live/regular\", post_data)\n",
    "\n",
    "\n",
    "\n",
    "# you can find the full list of the response codes here https://docs.dataforseo.com/v3/appendix/errors\n",
    "if response[\"status_code\"] == 20000:\n",
    "    print(response)\n",
    "    # do something with result\n",
    "else:\n",
    "    print(\"error. Code: %d Message: %s\" % (response[\"status_code\"], response[\"status_message\"]))\n"
   ]
  },
  {
   "cell_type": "code",
   "execution_count": 11,
   "metadata": {},
   "outputs": [
    {
     "data": {
      "text/plain": [
       "{'version': '0.1.20230825',\n",
       " 'status_code': 20000,\n",
       " 'status_message': 'Ok.',\n",
       " 'time': '2.0832 sec.',\n",
       " 'cost': 0.002,\n",
       " 'tasks_count': 1,\n",
       " 'tasks_error': 0,\n",
       " 'tasks': [{'id': '08310850-6585-0121-0000-2ddb9eb7b3cd',\n",
       "   'status_code': 20000,\n",
       "   'status_message': 'Ok.',\n",
       "   'time': '2.0422 sec.',\n",
       "   'cost': 0.002,\n",
       "   'result_count': 1,\n",
       "   'path': ['v3', 'serp', 'google', 'organic', 'live', 'regular'],\n",
       "   'data': {'api': 'serp',\n",
       "    'function': 'live',\n",
       "    'se': 'google',\n",
       "    'se_type': 'organic',\n",
       "    'language_code': 'en',\n",
       "    'location_code': 2840,\n",
       "    'keyword': 'albert einstein',\n",
       "    'device': 'desktop',\n",
       "    'os': 'windows'},\n",
       "   'result': [{'keyword': 'albert einstein',\n",
       "     'type': 'organic',\n",
       "     'se_domain': 'google.com',\n",
       "     'location_code': 2840,\n",
       "     'language_code': 'en',\n",
       "     'check_url': 'https://www.google.com/search?q=albert%20einstein&num=100&hl=en&gl=US&gws_rd=cr&ie=UTF-8&oe=UTF-8&uule=w+CAIQIFISCQs2MuSEtepUEUK33kOSuTsc',\n",
       "     'datetime': '2023-08-31 05:50:04 +00:00',\n",
       "     'spell': None,\n",
       "     'item_types': ['organic',\n",
       "      'people_also_ask',\n",
       "      'twitter',\n",
       "      'people_also_search',\n",
       "      'related_searches',\n",
       "      'knowledge_graph'],\n",
       "     'se_results_count': 130000000,\n",
       "     'items_count': 99,\n",
       "     'items': [{'type': 'organic',\n",
       "       'rank_group': 1,\n",
       "       'rank_absolute': 1,\n",
       "       'domain': 'en.wikipedia.org',\n",
       "       'title': 'Albert Einstein',\n",
       "       'description': 'Albert Einstein was a German-born theoretical physicist, widely held to be one of the greatest and most influential scientists of all time.',\n",
       "       'url': 'https://en.wikipedia.org/wiki/Albert_Einstein',\n",
       "       'breadcrumb': 'https://en.wikipedia.org › wiki › Albert_Einstein'},\n",
       "      {'type': 'organic',\n",
       "       'rank_group': 2,\n",
       "       'rank_absolute': 3,\n",
       "       'domain': 'www.nobelprize.org',\n",
       "       'title': 'Albert Einstein – Biographical - NobelPrize.org',\n",
       "       'description': 'Albert Einstein grew up in Munich, where his father founded an electrical engineering company. After studying at the ETH university in Zurich, Einstein worked\\xa0...',\n",
       "       'url': 'https://www.nobelprize.org/prizes/physics/1921/einstein/biographical/',\n",
       "       'breadcrumb': 'https://www.nobelprize.org › prizes › physics › biogra...'},\n",
       "      {'type': 'organic',\n",
       "       'rank_group': 3,\n",
       "       'rank_absolute': 4,\n",
       "       'domain': 'www.britannica.com',\n",
       "       'title': 'Albert Einstein | Biography, Education, Discoveries, & Facts',\n",
       "       'description': 'Albert Einstein, German-born physicist who developed the special and general theories of relativity, pioneering many key developments.',\n",
       "       'url': 'https://www.britannica.com/biography/Albert-Einstein',\n",
       "       'breadcrumb': 'https://www.britannica.com › ... › Physics › Physicists'},\n",
       "      {'type': 'organic',\n",
       "       'rank_group': 4,\n",
       "       'rank_absolute': 6,\n",
       "       'domain': 'www.space.com',\n",
       "       'title': 'Albert Einstein: His life, theories and impact on science',\n",
       "       'description': 'Albert Einstein is often cited as one of the most influential scientists of the 20th century. His work continues to help astronomers study\\xa0...',\n",
       "       'url': 'https://www.space.com/15524-albert-einstein.html',\n",
       "       'breadcrumb': 'https://www.space.com › ... › Science & Astronomy'},\n",
       "      {'type': 'organic',\n",
       "       'rank_group': 5,\n",
       "       'rank_absolute': 7,\n",
       "       'domain': 'www.biography.com',\n",
       "       'title': 'Albert Einstein - Nobel Prize Winners',\n",
       "       'description': 'Who Was Albert Einstein? Albert Einstein was a German mathematician and physicist who developed the special and general theories of relativity.',\n",
       "       'url': 'https://www.biography.com/scientists/albert-einstein',\n",
       "       'breadcrumb': 'https://www.biography.com › ... › Nobel Prize Winners'},\n",
       "      {'type': 'organic',\n",
       "       'rank_group': 6,\n",
       "       'rank_absolute': 8,\n",
       "       'domain': 'www.nasonline.org',\n",
       "       'title': 'Albert Einstein',\n",
       "       'description': 'Considered by many to be the greatest scientist of the twentieth century, Albert Einstein revolutionized scientific thought with new theories of space,\\xa0...',\n",
       "       'url': 'http://www.nasonline.org/member-directory/deceased-members/20001817.html',\n",
       "       'breadcrumb': 'http://www.nasonline.org › deceased-members'},\n",
       "      {'type': 'organic',\n",
       "       'rank_group': 7,\n",
       "       'rank_absolute': 9,\n",
       "       'domain': 'www.brainyquote.com',\n",
       "       'title': 'Albert Einstein Quotes',\n",
       "       'description': 'Enjoy the best Albert Einstein Quotes at BrainyQuote. Quotations by Albert Einstein, German Physicist, Born March 14, 1879. Share with your friends.',\n",
       "       'url': 'https://www.brainyquote.com/authors/albert-einstein-quotes',\n",
       "       'breadcrumb': 'https://www.brainyquote.com › authors › albert-einstei...'},\n",
       "      {'type': 'organic',\n",
       "       'rank_group': 8,\n",
       "       'rank_absolute': 10,\n",
       "       'domain': 'www.history.com',\n",
       "       'title': 'Albert Einstein',\n",
       "       'description': 'The German-born physicist Albert Einstein developed the first of his groundbreaking theories while working as a clerk in the Swiss patent\\xa0...',\n",
       "       'url': 'https://www.history.com/topics/inventions/albert-einstein',\n",
       "       'breadcrumb': 'https://www.history.com › ... › Inventions & Science'},\n",
       "      {'type': 'organic',\n",
       "       'rank_group': 9,\n",
       "       'rank_absolute': 11,\n",
       "       'domain': 'mathshistory.st-andrews.ac.uk',\n",
       "       'title': 'Albert Einstein (1879 - 1955) - Biography - MacTutor',\n",
       "       'description': 'Einstein contributed more than any other scientist to the modern vision of physical reality. His special and general theories of relativity are still regarded\\xa0...',\n",
       "       'url': 'https://mathshistory.st-andrews.ac.uk/Biographies/Einstein/',\n",
       "       'breadcrumb': 'https://mathshistory.st-andrews.ac.uk › Biographies'},\n",
       "      {'type': 'organic',\n",
       "       'rank_group': 10,\n",
       "       'rank_absolute': 12,\n",
       "       'domain': 'parade.com',\n",
       "       'title': '50 Famous Albert Einstein Quotes on Life and More',\n",
       "       'description': 'Born in Germany in 1879, Einstein spent his life truly making a mark in the scientific community—including developing the general theory of\\xa0...',\n",
       "       'url': 'https://parade.com/1240718/kelseypelzer/albert-einstein-quotes/',\n",
       "       'breadcrumb': 'https://parade.com › Life'},\n",
       "      {'type': 'organic',\n",
       "       'rank_group': 11,\n",
       "       'rank_absolute': 13,\n",
       "       'domain': 'www.livescience.com',\n",
       "       'title': 'Albert Einstein: Biography, facts and impact on science',\n",
       "       'description': 'A brief biography of Albert Einstein, the scientist whose theories changed the way we think about the universe.',\n",
       "       'url': 'https://www.livescience.com/albert-einstein.html',\n",
       "       'breadcrumb': 'https://www.livescience.com › albert-einstein'},\n",
       "      {'type': 'organic',\n",
       "       'rank_group': 12,\n",
       "       'rank_absolute': 14,\n",
       "       'domain': 'www.pbs.org',\n",
       "       'title': 'A Science Odyssey: People and Discoveries: Albert Einstein',\n",
       "       'description': 'Albert Einstein is one of the most recognized and well-known scientists of the century. His theories solved centuries-old problems in physics and rocked\\xa0...',\n",
       "       'url': 'https://www.pbs.org/wgbh/aso/databank/entries/bpeins.html',\n",
       "       'breadcrumb': 'https://www.pbs.org › aso › databank › entries › bpeins'},\n",
       "      {'type': 'organic',\n",
       "       'rank_group': 13,\n",
       "       'rank_absolute': 15,\n",
       "       'domain': 'en.wikiquote.org',\n",
       "       'title': 'Albert Einstein',\n",
       "       'description': 'Albert Einstein (14 March 1879 – 18 April 1955) was a German-born theoretical physicist, widely acknowledged to be one of the greatest physicists of all\\xa0...',\n",
       "       'url': 'https://en.wikiquote.org/wiki/Albert_Einstein',\n",
       "       'breadcrumb': 'https://en.wikiquote.org › wiki › Albert_Einstein'},\n",
       "      {'type': 'organic',\n",
       "       'rank_group': 14,\n",
       "       'rank_absolute': 16,\n",
       "       'domain': 'kids.nationalgeographic.com',\n",
       "       'title': 'Albert Einstein',\n",
       "       'description': 'Albert Einstein. This brilliant physicist worked to crack open the mysteries of the universe. Check out the time line below to learn about the life of this\\xa0...',\n",
       "       'url': 'https://kids.nationalgeographic.com/history/article/albert-einstein',\n",
       "       'breadcrumb': 'https://kids.nationalgeographic.com › history › article'},\n",
       "      {'type': 'organic',\n",
       "       'rank_group': 15,\n",
       "       'rank_absolute': 17,\n",
       "       'domain': 'www.ias.edu',\n",
       "       'title': 'Albert Einstein - Scholars',\n",
       "       'description': \"Physicist Albert Einstein (1879–1955) was one of the Institute's first Faculty members, serving from 1933 until his death in 1955, and he played a\\xa0...\",\n",
       "       'url': 'https://www.ias.edu/scholars/einstein',\n",
       "       'breadcrumb': 'https://www.ias.edu › scholars › einstein'},\n",
       "      {'type': 'organic',\n",
       "       'rank_group': 16,\n",
       "       'rank_absolute': 18,\n",
       "       'domain': 'www.osti.gov',\n",
       "       'title': 'Manhattan Project: People > Scientists > ALBERT EINSTEIN',\n",
       "       'description': 'Albert Einstein, undoubtedly the most famous scientist of the 20th century, was born in Ulm, Germany on March 14, 1879. In 1896, he entered the Swiss\\xa0...',\n",
       "       'url': 'https://www.osti.gov/opennet/manhattan-project-history/People/Scientists/albert-einstein.html',\n",
       "       'breadcrumb': 'https://www.osti.gov › opennet › albert-einstein'},\n",
       "      {'type': 'organic',\n",
       "       'rank_group': 17,\n",
       "       'rank_absolute': 19,\n",
       "       'domain': 'einsteinmed.edu',\n",
       "       'title': 'Albert Einstein College of Medicine | Medical Education ...',\n",
       "       'description': 'Roundup of Research Briefs. A roundup of briefs on major NIH grants and published research by Einstein and Montefiore investigators include those on cancer,\\xa0...',\n",
       "       'url': 'https://einsteinmed.edu/',\n",
       "       'breadcrumb': 'https://einsteinmed.edu'},\n",
       "      {'type': 'organic',\n",
       "       'rank_group': 18,\n",
       "       'rank_absolute': 20,\n",
       "       'domain': 'press.princeton.edu',\n",
       "       'title': 'Albert Einstein',\n",
       "       'description': \"Since 1922, Princeton University Press has been honored to publish the work of Albert Einstein (1879‑1955). That year, the Press published Einstein's The\\xa0...\",\n",
       "       'url': 'https://press.princeton.edu/collections/einstein',\n",
       "       'breadcrumb': 'https://press.princeton.edu › collections › einstein'},\n",
       "      {'type': 'organic',\n",
       "       'rank_group': 19,\n",
       "       'rank_absolute': 21,\n",
       "       'domain': 'www.natgeokids.com',\n",
       "       'title': '10 facts about Albert Einstein',\n",
       "       'description': 'Albert Einstein was born in Germany, but lived in Italy, Switzerland and Czechia (which was then part of the Austro-Hungarian Empire), until he eventually moved\\xa0...',\n",
       "       'url': 'https://www.natgeokids.com/uk/discover/science/general-science/albert-einstein-facts/',\n",
       "       'breadcrumb': 'https://www.natgeokids.com › science › general-science'},\n",
       "      {'type': 'organic',\n",
       "       'rank_group': 20,\n",
       "       'rank_absolute': 22,\n",
       "       'domain': 'www.youtube.com',\n",
       "       'title': 'Albert Einstein - Nobel Prize Winner & Physicist | Mini Bio',\n",
       "       'description': 'Nobel Prize winner Albert Einstein is one of the most influential and well-known physicist in history. Learn more about his life and work in\\xa0...',\n",
       "       'url': 'https://www.youtube.com/watch?v=KyjQJBDD5V4',\n",
       "       'breadcrumb': 'https://www.youtube.com › watch'},\n",
       "      {'type': 'organic',\n",
       "       'rank_group': 21,\n",
       "       'rank_absolute': 23,\n",
       "       'domain': 'plato.stanford.edu',\n",
       "       'title': \"Einstein's Philosophy of Science\",\n",
       "       'description': 'Albert Einstein (1879–1955) is well known as the most prominent physicist of the twentieth century. His contributions to twentieth-century\\xa0...',\n",
       "       'url': 'https://plato.stanford.edu/entries/einstein-philscience/',\n",
       "       'breadcrumb': 'https://plato.stanford.edu › entries › einstein-philscience'},\n",
       "      {'type': 'organic',\n",
       "       'rank_group': 22,\n",
       "       'rank_absolute': 24,\n",
       "       'domain': 'www.newscientist.com',\n",
       "       'title': 'Albert Einstein | World-famous theoretical physicist',\n",
       "       'description': 'Albert Einstein is arguably the most influential scientist of the 20th century. His general theory of relativity changed our understanding of space and time\\xa0...',\n",
       "       'url': 'https://www.newscientist.com/people/albert-einstein/',\n",
       "       'breadcrumb': 'https://www.newscientist.com › people › albert-einstein'},\n",
       "      {'type': 'organic',\n",
       "       'rank_group': 23,\n",
       "       'rank_absolute': 25,\n",
       "       'domain': 'byjus.com',\n",
       "       'title': 'Albert Einstein - Facts, Theories and Inventions',\n",
       "       'description': 'Albert Einstein was born on 14 March in the year 1879 in Württemberg, Germany. He was educated at the Swiss Federal Institute of Technology in Zurich. Einstein\\xa0...',\n",
       "       'url': 'https://byjus.com/physics/albert-einstein/',\n",
       "       'breadcrumb': 'https://byjus.com › ... › Famous Physicists'},\n",
       "      {'type': 'organic',\n",
       "       'rank_group': 24,\n",
       "       'rank_absolute': 26,\n",
       "       'domain': 'www.atomicarchive.com',\n",
       "       'title': 'Albert Einstein | Biographies',\n",
       "       'description': \"One of the world's most famous scientists. In 1922, he won the Nobel Prize in Physics. In 1939 Einstein wrote to President Franklin D. Roosevelt warning him\\xa0...\",\n",
       "       'url': 'https://www.atomicarchive.com/resources/biographies/einstein.html',\n",
       "       'breadcrumb': 'https://www.atomicarchive.com › resources › einstein'},\n",
       "      {'type': 'organic',\n",
       "       'rank_group': 25,\n",
       "       'rank_absolute': 27,\n",
       "       'domain': 'www.instagram.com',\n",
       "       'title': 'Albert Einstein (@alberteinstein)',\n",
       "       'description': '1M Followers, 632 Following, 2075 Posts - See Instagram photos and videos from Albert Einstein (@alberteinstein)',\n",
       "       'url': 'https://www.instagram.com/alberteinstein/?hl=en',\n",
       "       'breadcrumb': 'https://www.instagram.com › alberteinstein'},\n",
       "      {'type': 'organic',\n",
       "       'rank_group': 26,\n",
       "       'rank_absolute': 28,\n",
       "       'domain': 'starchild.gsfc.nasa.gov',\n",
       "       'title': 'Albert Einstein - StarChild - NASA',\n",
       "       'description': 'Albert Einstein was born in 1879 in Ulm, Germany. He was the first child born to Hermann and Pauline Einstein. Though he attended school as a young boy,\\xa0...',\n",
       "       'url': 'https://starchild.gsfc.nasa.gov/docs/StarChild/whos_who_level2/einstein.html',\n",
       "       'breadcrumb': 'https://starchild.gsfc.nasa.gov › whos_who_level2 › ei...'},\n",
       "      {'type': 'organic',\n",
       "       'rank_group': 27,\n",
       "       'rank_absolute': 29,\n",
       "       'domain': 'www.imdb.com',\n",
       "       'title': 'Albert Einstein(1879-1955)',\n",
       "       'description': 'Albert Einstein was born in Ulm, Kingdom of Württemberg, to a German Jewish family. He was the son of Pauline (Koch) and Hermann Einstein, a featherbed\\xa0...',\n",
       "       'url': 'https://www.imdb.com/name/nm0251868/',\n",
       "       'breadcrumb': 'https://www.imdb.com › name'},\n",
       "      {'type': 'organic',\n",
       "       'rank_group': 28,\n",
       "       'rank_absolute': 30,\n",
       "       'domain': 'history.aip.org',\n",
       "       'title': 'Albert Einstein in Brief',\n",
       "       'description': 'Albert Einstein was born to a middle-class German Jewish family. His parents were concerned that he scarcely talked until the age of three, but he was not\\xa0...',\n",
       "       'url': 'https://history.aip.org/exhibits/einstein/inbrief.htm',\n",
       "       'breadcrumb': 'https://history.aip.org › exhibits › einstein › inbrief'},\n",
       "      {'type': 'organic',\n",
       "       'rank_group': 29,\n",
       "       'rank_absolute': 31,\n",
       "       'domain': 'neo.einstein.edu',\n",
       "       'title': 'About Albert Einstein',\n",
       "       'description': 'Elementary school records show he was a gifted child, particularly in maths, physics, and violin playing. He rebelled against formal education by rote learning\\xa0...',\n",
       "       'url': 'http://neo.einstein.edu/index.cfm/about-albert-einstein/',\n",
       "       'breadcrumb': 'http://neo.einstein.edu › index.cfm › about-albert-einst...'},\n",
       "      {'type': 'organic',\n",
       "       'rank_group': 30,\n",
       "       'rank_absolute': 32,\n",
       "       'domain': 'www.smithsonianmag.com',\n",
       "       'title': 'The Year Of Albert Einstein | Science',\n",
       "       'description': 'The Year Of Albert Einstein. His discoveries in 1905 would forever change our understanding of the universe. Amid the centennial hoopla, the trick is to\\xa0...',\n",
       "       'url': 'https://www.smithsonianmag.com/science-nature/the-year-of-albert-einstein-75841381/',\n",
       "       'breadcrumb': 'https://www.smithsonianmag.com › science-nature › t...'},\n",
       "      {'type': 'organic',\n",
       "       'rank_group': 31,\n",
       "       'rank_absolute': 33,\n",
       "       'domain': 'www.goodreads.com',\n",
       "       'title': 'Albert Einstein (Author of Relativity)',\n",
       "       'description': 'Best known for his mass–energy equivalence formula E = mc2, dubbed \"the world\\'s most famous equation,\" he received \"for his services to theoretical physics, and\\xa0...',\n",
       "       'url': 'https://www.goodreads.com/author/show/9810.Albert_Einstein',\n",
       "       'breadcrumb': 'https://www.goodreads.com › author › show › 9810.A...'},\n",
       "      {'type': 'organic',\n",
       "       'rank_group': 32,\n",
       "       'rank_absolute': 34,\n",
       "       'domain': 'einstein.biz',\n",
       "       'title': 'The Official Licensing Site of Albert Einstein',\n",
       "       'description': 'Welcome to the Official Licensing Site of Albert Einstein. Learn more about Albert Einstein and contact us today for any commercial licensing inquiries.',\n",
       "       'url': 'http://einstein.biz/',\n",
       "       'breadcrumb': 'http://einstein.biz'},\n",
       "      {'type': 'organic',\n",
       "       'rank_group': 33,\n",
       "       'rank_absolute': 35,\n",
       "       'domain': 'www.theguardian.com',\n",
       "       'title': 'Albert Einstein | Science',\n",
       "       'description': \"Albert Einstein · Astronomers observe time dilation in early universe · Astronomers detect 'cosmic bass note' of gravitational waves · Nerf guns, marbles and\\xa0...\",\n",
       "       'url': 'https://www.theguardian.com/science/alberteinstein',\n",
       "       'breadcrumb': 'https://www.theguardian.com › science › alberteinstein'},\n",
       "      {'type': 'organic',\n",
       "       'rank_group': 34,\n",
       "       'rank_absolute': 36,\n",
       "       'domain': 'www.nytimes.com',\n",
       "       'title': 'Albert Einstein',\n",
       "       'description': 'How Einstein Became the First Science Superstar ... A century ago, astronomers proved the general theory of relativity — and made him a global household name. By\\xa0...',\n",
       "       'url': 'https://www.nytimes.com/topic/person/albert-einstein',\n",
       "       'breadcrumb': 'https://www.nytimes.com › topic › person › albert-ein...'},\n",
       "      {'type': 'organic',\n",
       "       'rank_group': 35,\n",
       "       'rank_absolute': 37,\n",
       "       'domain': 'artsandculture.google.com',\n",
       "       'title': '8 Albert Einstein Quotes',\n",
       "       'description': 'Today Albert Einstein is our very definition of genius. His work in theoretical physics is not only the founding principles of modern science, but he has...',\n",
       "       'url': 'https://artsandculture.google.com/theme/8-albert-einstein-quotes/OALiBKJSp6JeIQ?hl=en',\n",
       "       'breadcrumb': 'https://artsandculture.google.com › theme › 8-albert-ei...'},\n",
       "      {'type': 'organic',\n",
       "       'rank_group': 36,\n",
       "       'rank_absolute': 38,\n",
       "       'domain': 'www.facebook.com',\n",
       "       'title': 'Albert Einstein',\n",
       "       'description': \"Albert Einstein. 18952401 likes · 24456 talking about this. Official Facebook of the World's Favorite Genius. Managed by BEN Group, authorized...\",\n",
       "       'url': 'https://www.facebook.com/albert.einstein.fans/',\n",
       "       'breadcrumb': 'https://www.facebook.com › ... › Albert Einstein'},\n",
       "      {'type': 'organic',\n",
       "       'rank_group': 37,\n",
       "       'rank_absolute': 39,\n",
       "       'domain': 'www.amnh.org',\n",
       "       'title': 'Space: Course for Science Educators | Seminars on Science',\n",
       "       'description': \"This course uses Einstein's work to delve into the properties of motion, time, ... and continues on to Galileo Galilei, Isaac Newton, and Albert Einstein,\\xa0...\",\n",
       "       'url': 'https://www.amnh.org/learn-teach/seminars-on-science/courses/space-time-and-motion',\n",
       "       'breadcrumb': 'https://www.amnh.org › space-time-and-motion'},\n",
       "      {'type': 'organic',\n",
       "       'rank_group': 38,\n",
       "       'rank_absolute': 40,\n",
       "       'domain': 'www.amazon.com',\n",
       "       'title': 'Albert Einstein: books, biography, latest update',\n",
       "       'description': \"Follow Albert Einstein and explore their bibliography from Amazon.com's Albert Einstein Author Page.\",\n",
       "       'url': 'https://www.amazon.com/Albert-Einstein/e/B000AP7JOU',\n",
       "       'breadcrumb': 'https://www.amazon.com › Albert-Einstein'},\n",
       "      {'type': 'organic',\n",
       "       'rank_group': 39,\n",
       "       'rank_absolute': 41,\n",
       "       'domain': 'www.asl-associates.com',\n",
       "       'title': 'Memorable Albert Einstein Quotes',\n",
       "       'description': '--Albert Einstein (quoted by Philipp Frank in \"Einstein\\'s Philosophy of Science,\" Reviews of Modern Physics, Vol 21, No. 3 July 1949. \"Only a life lived for\\xa0...',\n",
       "       'url': 'https://www.asl-associates.com/einsteinquotes.htm',\n",
       "       'breadcrumb': 'https://www.asl-associates.com › einsteinquotes'},\n",
       "      {'type': 'organic',\n",
       "       'rank_group': 40,\n",
       "       'rank_absolute': 42,\n",
       "       'domain': 'www.thalesgroup.com',\n",
       "       'title': '3 everyday inventions Einstein made possible',\n",
       "       'description': 'Albert Einstein was a German-born physicist and one of the most influential scientists of the 20th century. He was born in Ulm, Germany, in 1879\\xa0...',\n",
       "       'url': 'https://www.thalesgroup.com/en/markets/digital-identity-and-security/mobile/magazine/3-everyday-inventions-einstein-made-possible',\n",
       "       'breadcrumb': 'https://www.thalesgroup.com › mobile › magazine › 3...'},\n",
       "      {'type': 'organic',\n",
       "       'rank_group': 41,\n",
       "       'rank_absolute': 43,\n",
       "       'domain': 'www.life.com',\n",
       "       'title': \"The Day Albert Einstein Died: A Photographer's Story - LIFE\",\n",
       "       'description': 'Pictures from a spring day in 1955, when photographer Ralph Morse raced around New Jersey in search of the late, great Albert Einstein.',\n",
       "       'url': 'https://www.life.com/history/the-day-albert-einstein-died-a-photographers-story/',\n",
       "       'breadcrumb': 'https://www.life.com › history › the-day-albert-einstei...'},\n",
       "      {'type': 'organic',\n",
       "       'rank_group': 42,\n",
       "       'rank_absolute': 44,\n",
       "       'domain': 'vault.fbi.gov',\n",
       "       'title': 'FBI Records: The Vault — Albert Einstein',\n",
       "       'description': 'Albert Einstein (1879-1955) was a German born scientist and professor. This release consists of several background-type investigations, an investigation of\\xa0...',\n",
       "       'url': 'https://vault.fbi.gov/Albert%20Einstein',\n",
       "       'breadcrumb': 'https://vault.fbi.gov › Albert Einstein'},\n",
       "      {'type': 'organic',\n",
       "       'rank_group': 43,\n",
       "       'rank_absolute': 45,\n",
       "       'domain': 'www.albert-einstein.org',\n",
       "       'title': 'The Albert Einstein Archives at The Hebrew University of ...',\n",
       "       'description': 'The Albert Einstein Archives at the Hebrew University of Jerusalem own the Literary Estate of Albert Einstein, as declared in his last will and testament.',\n",
       "       'url': 'http://www.albert-einstein.org/',\n",
       "       'breadcrumb': 'http://www.albert-einstein.org'},\n",
       "      {'type': 'organic',\n",
       "       'rank_group': 44,\n",
       "       'rank_absolute': 46,\n",
       "       'domain': 'new.nsf.gov',\n",
       "       'title': 'Albert Einstein, in his own words',\n",
       "       'description': 'Albert Einstein is known in popular culture for his famous E = mc 2 formula. Scientists know him for revolutionizing physics with his general\\xa0...',\n",
       "       'url': 'https://new.nsf.gov/news/albert-einstein-his-own-words',\n",
       "       'breadcrumb': 'https://new.nsf.gov › News'},\n",
       "      {'type': 'organic',\n",
       "       'rank_group': 45,\n",
       "       'rank_absolute': 47,\n",
       "       'domain': 'www.census.gov',\n",
       "       'title': 'March 2019 - History',\n",
       "       'description': 'March 2019 · By the 1930s, Albert Einstein was an internationally known author, lecturer, and science ambassador. · The Einsteins immigrated to the United States\\xa0...',\n",
       "       'url': 'https://www.census.gov/history/www/homepage_archive/2019/march_2019.html',\n",
       "       'breadcrumb': 'https://www.census.gov › ... › 2019'},\n",
       "      {'type': 'organic',\n",
       "       'rank_group': 46,\n",
       "       'rank_absolute': 48,\n",
       "       'domain': 'www.dyslexia.com',\n",
       "       'title': 'Albert Einstein',\n",
       "       'description': 'Albert Einstein was a German-born theoretical physicist. He developed the general theory of relativity, one of the two pillars of modern physics (alongside\\xa0...',\n",
       "       'url': 'https://www.dyslexia.com/famous/albert-einstein/',\n",
       "       'breadcrumb': 'https://www.dyslexia.com › famous › albert-einstein'},\n",
       "      {'type': 'organic',\n",
       "       'rank_group': 47,\n",
       "       'rank_absolute': 49,\n",
       "       'domain': 'www.nps.gov',\n",
       "       'title': 'Manhattan Project Pioneers: Albert Einstein',\n",
       "       'description': 'Albert Einstein was perhaps the most famous scientist of his time, doing work essential to the progress of physics. He signed a letter to\\xa0...',\n",
       "       'url': 'https://www.nps.gov/people/manhattan-project-pioneers-albert-einstein.htm',\n",
       "       'breadcrumb': 'https://www.nps.gov › people › manhattan-project-pio...'},\n",
       "      {'type': 'organic',\n",
       "       'rank_group': 48,\n",
       "       'rank_absolute': 50,\n",
       "       'domain': 'www.encyclopedia.com',\n",
       "       'title': 'Albert Einstein',\n",
       "       'description': 'EINSTEIN, ALBERT(b. Ulm, Germany, 14 March 1879;d. Princeton, New Jersey [1], 18 April 1955)physics. For the original article on Einstein see DSB, vol. 4.',\n",
       "       'url': 'https://www.encyclopedia.com/people/science-and-technology/physics-biographies/albert-einstein',\n",
       "       'breadcrumb': 'https://www.encyclopedia.com › physics-biographies'},\n",
       "      {'type': 'organic',\n",
       "       'rank_group': 49,\n",
       "       'rank_absolute': 51,\n",
       "       'domain': 'www.ducksters.com',\n",
       "       'title': 'Albert Einstein: Genius Inventor and Scientist',\n",
       "       'description': \"Kids learn about Albert Einstein's biography. A great scientist and inventor. A true genius.\",\n",
       "       'url': 'https://www.ducksters.com/biography/albert_einstein.php',\n",
       "       'breadcrumb': 'https://www.ducksters.com › biography › albert_einstein'},\n",
       "      {'type': 'organic',\n",
       "       'rank_group': 50,\n",
       "       'rank_absolute': 52,\n",
       "       'domain': 'ahf.nuclearmuseum.org',\n",
       "       'title': 'Albert Einstein - Nuclear Museum - Atomic Heritage Foundation',\n",
       "       'description': 'Albert Einstein (1879-1955) was a German-born theoretical physicist and winner of the 1921 Nobel Prize in Physics. Einstein influenced the beginning of the\\xa0...',\n",
       "       'url': 'https://ahf.nuclearmuseum.org/ahf/profile/albert-einstein/',\n",
       "       'breadcrumb': 'https://ahf.nuclearmuseum.org › ahf › profile › albert-...'},\n",
       "      {'type': 'organic',\n",
       "       'rank_group': 51,\n",
       "       'rank_absolute': 53,\n",
       "       'domain': 'guides.loc.gov',\n",
       "       'title': 'Introduction - Annus Mirabilis of Albert Einstein',\n",
       "       'description': 'In 1905 Albert Einstein published four groundbreaking papers that revolutionized scientific understanding of the universe.',\n",
       "       'url': 'https://guides.loc.gov/einstein-annus-mirabilis',\n",
       "       'breadcrumb': 'https://guides.loc.gov › einstein-annus-mirabilis'},\n",
       "      {'type': 'organic',\n",
       "       'rank_group': 52,\n",
       "       'rank_absolute': 54,\n",
       "       'domain': 'www.dkfindout.com',\n",
       "       'title': 'Who Is Albert Einstein',\n",
       "       'description': 'Albert Einstein (1879–1955) was a German-born physicist whose theory of relativity transformed our understanding of the universe. He was born in Germany but\\xa0...',\n",
       "       'url': 'https://www.dkfindout.com/us/science/famous-scientists/albert-einstein/',\n",
       "       'breadcrumb': 'https://www.dkfindout.com › ... › Famous scientists'},\n",
       "      {'type': 'organic',\n",
       "       'rank_group': 53,\n",
       "       'rank_absolute': 55,\n",
       "       'domain': 'scienceworld.wolfram.com',\n",
       "       'title': \"Einstein, Albert (1879-1955) -- from Eric Weisstein's World of ...\",\n",
       "       'description': 'Einstein, Albert (1879-1955) · German-American physicist who, in 1905, published three papers, each of which had a profound effect on the development of physics.',\n",
       "       'url': 'https://scienceworld.wolfram.com/biography/Einstein.html',\n",
       "       'breadcrumb': 'https://scienceworld.wolfram.com › biography › Einst...'},\n",
       "      {'type': 'organic',\n",
       "       'rank_group': 54,\n",
       "       'rank_absolute': 56,\n",
       "       'domain': 'www.thoughtco.com',\n",
       "       'title': 'Biography of Albert Einstein, Theoretical Physicist',\n",
       "       'description': 'Albert Einstein (March 14, 1879–April 18, 1955), a German-born theoretical physicist who lived during the 20th century,\\xa0...',\n",
       "       'url': 'https://www.thoughtco.com/albert-einstein-1779799',\n",
       "       'breadcrumb': 'https://www.thoughtco.com › ... › People & Events'},\n",
       "      {'type': 'organic',\n",
       "       'rank_group': 55,\n",
       "       'rank_absolute': 57,\n",
       "       'domain': 'www.notablebiographies.com',\n",
       "       'title': 'Albert Einstein Biography - life, story, wife, school, young ...',\n",
       "       'description': 'Albert Einstein was born on March 14, 1879, in Ulm, Germany, but he grew up and obtained his early education in Munich, Germany. He was a poor student,\\xa0...',\n",
       "       'url': 'https://www.notablebiographies.com/Du-Fi/Einstein-Albert.html',\n",
       "       'breadcrumb': 'https://www.notablebiographies.com › Du-Fi › Einstei...'},\n",
       "      {'type': 'organic',\n",
       "       'rank_group': 56,\n",
       "       'rank_absolute': 58,\n",
       "       'domain': 'www.jewishvirtuallibrary.org',\n",
       "       'title': 'Albert Einstein',\n",
       "       'description': '(1879 - 1955) ... One of the greatest physicists of all time, Nobel Prize winner and discoverer of the special and general theory of relativity, Albert Einstein ...',\n",
       "       'url': 'https://www.jewishvirtuallibrary.org/albert-einstein',\n",
       "       'breadcrumb': 'https://www.jewishvirtuallibrary.org › albert-einstein'},\n",
       "      {'type': 'organic',\n",
       "       'rank_group': 57,\n",
       "       'rank_absolute': 59,\n",
       "       'domain': 'www.aeinstein.org',\n",
       "       'title': 'Albert Einstein Institution',\n",
       "       'description': 'The Albert Einstein Institution (AEI) is a nonprofit organization founded by Dr. Gene Sharp in 1983 to advance the study and use of strategic nonviolent\\xa0...',\n",
       "       'url': 'https://www.aeinstein.org/',\n",
       "       'breadcrumb': 'https://www.aeinstein.org'},\n",
       "      {'type': 'organic',\n",
       "       'rank_group': 58,\n",
       "       'rank_absolute': 60,\n",
       "       'domain': 'www.independent.co.uk',\n",
       "       'title': 'Albert Einstein - latest news, breaking stories and comment',\n",
       "       'description': 'Albert Einstein · It is all looking rather intriguing, but, history has taught us caution. Voices · The discovery of a mystery particle at Cern could shake up\\xa0...',\n",
       "       'url': 'https://www.independent.co.uk/topic/albert-einstein',\n",
       "       'breadcrumb': 'https://www.independent.co.uk › topic › albert-einstein'},\n",
       "      {'type': 'organic',\n",
       "       'rank_group': 59,\n",
       "       'rank_absolute': 61,\n",
       "       'domain': 'www.famousscientists.org',\n",
       "       'title': 'Albert Einstein - Biography, Facts and Pictures',\n",
       "       'description': 'Lived 1879 – 1955. Albert Einstein rewrote the laws of nature. He completely changed the way we understand the behavior of things as basic as light, gravity,\\xa0...',\n",
       "       'url': 'https://www.famousscientists.org/albert-einstein/',\n",
       "       'breadcrumb': 'https://www.famousscientists.org › albert-einstein'},\n",
       "      {'type': 'organic',\n",
       "       'rank_group': 60,\n",
       "       'rank_absolute': 62,\n",
       "       'domain': 'www.physicsoftheuniverse.com',\n",
       "       'title': 'Albert Einstein - Important Scientists',\n",
       "       'description': 'Albert Einstein was a German-born theoretical physicist, best known for his Special and General Theory of Relativity and the concept of mass-energy\\xa0...',\n",
       "       'url': 'https://www.physicsoftheuniverse.com/scientists_einstein.html',\n",
       "       'breadcrumb': 'https://www.physicsoftheuniverse.com › scientists_eins...'},\n",
       "      {'type': 'organic',\n",
       "       'rank_group': 61,\n",
       "       'rank_absolute': 63,\n",
       "       'domain': 'www.oxfordreference.com',\n",
       "       'title': 'Albert Einstein',\n",
       "       'description': 'Albert Einstein. (1879—1955) German-born American theoretical physicist. Quick Reference. (1879–1955). German\\xa0...',\n",
       "       'url': 'https://www.oxfordreference.com/view/10.1093/oi/authority.20110803095744712',\n",
       "       'breadcrumb': 'https://www.oxfordreference.com › view › authority.2...'},\n",
       "      {'type': 'organic',\n",
       "       'rank_group': 62,\n",
       "       'rank_absolute': 64,\n",
       "       'domain': 'www.newworldencyclopedia.org',\n",
       "       'title': 'Albert Einstein',\n",
       "       'description': 'Albert Einstein (March 14, 1879 – April 18, 1955) was a German-born theoretical physicist. He is best known for his theory of relativity and specifically\\xa0...',\n",
       "       'url': 'https://www.newworldencyclopedia.org/entry/Albert_Einstein',\n",
       "       'breadcrumb': 'https://www.newworldencyclopedia.org › entry › Albe...'},\n",
       "      {'type': 'organic',\n",
       "       'rank_group': 63,\n",
       "       'rank_absolute': 65,\n",
       "       'domain': 'www.bbc.co.uk',\n",
       "       'title': 'Albert Einstein: A life spent re-imagining physics',\n",
       "       'description': \"Einstein's archetypal boffin persona, firmly lodged in popular culture, is well-earned. His ideas and theories were so shockingly revolutionary,\\xa0...\",\n",
       "       'url': 'https://www.bbc.co.uk/teach/albert-einstein-a-life-spent-re-imagining-physics/zfhy6v4',\n",
       "       'breadcrumb': 'https://www.bbc.co.uk › teach › albert-einstein-a-life-s...'},\n",
       "      {'type': 'organic',\n",
       "       'rank_group': 64,\n",
       "       'rank_absolute': 66,\n",
       "       'domain': 'www.historyextra.com',\n",
       "       'title': 'Albert Einstein: Facts About His Life, Death, Education And ...',\n",
       "       'description': 'In 1919, theoretical physicist Albert Einstein published his pioneering theory of general relativity. His work established new ideas about\\xa0...',\n",
       "       'url': 'https://www.historyextra.com/period/modern/albert-einstein-facts-education-inventions-awards-iq-children-death-birthday-life-die-born-famous/',\n",
       "       'breadcrumb': 'https://www.historyextra.com › ... › General Modern'},\n",
       "      {'type': 'organic',\n",
       "       'rank_group': 65,\n",
       "       'rank_absolute': 67,\n",
       "       'domain': 'www.theschoolrun.com',\n",
       "       'title': 'Albert Einstein | TheSchoolRun',\n",
       "       'description': 'Fascinating facts, did-you-knows, photos, games, activities and more all about Albert Einstein, to support primary-school science topic work.',\n",
       "       'url': 'https://www.theschoolrun.com/homework-help/albert-einstein',\n",
       "       'breadcrumb': 'https://www.theschoolrun.com › homework-help › alb...'},\n",
       "      {'type': 'organic',\n",
       "       'rank_group': 66,\n",
       "       'rank_absolute': 68,\n",
       "       'domain': 'www.twinkl.com',\n",
       "       'title': 'Who was Albert Einstein? | Facts for Kids',\n",
       "       'description': 'Top Facts about Albert Einstein for KS2 Pupils · He was born in Ulm, in the German Empire. · He lived until the age of 76. · Albert Einstein was dyslexic. · He\\xa0...',\n",
       "       'url': 'https://www.twinkl.com/teaching-wiki/albert-einstein',\n",
       "       'breadcrumb': 'https://www.twinkl.com › teaching-wiki › albert-einstein'},\n",
       "      {'type': 'organic',\n",
       "       'rank_group': 67,\n",
       "       'rank_absolute': 69,\n",
       "       'domain': 'www.oxfordlearnersdictionaries.com',\n",
       "       'title': 'albert-einstein - Definition, pictures, pronunciation and ...',\n",
       "       'description': \"Definition of albert-einstein in Oxford Advanced Learner's Dictionary. Meaning, pronunciation, picture, example sentences, grammar, usage notes,\\xa0...\",\n",
       "       'url': 'https://www.oxfordlearnersdictionaries.com/us/definition/english/albert-einstein',\n",
       "       'breadcrumb': 'https://www.oxfordlearnersdictionaries.com › english'},\n",
       "      {'type': 'organic',\n",
       "       'rank_group': 68,\n",
       "       'rank_absolute': 70,\n",
       "       'domain': 'www.rescue.org',\n",
       "       'title': 'Albert Einstein and the birth of the International Rescue ...',\n",
       "       'description': 'Learn how the IRC was founded at the call of physicist, humanitarian -- and refugee -- Albert Einstein. March 14, 2015. In January 1933, Adolf Hitler,\\xa0...',\n",
       "       'url': 'https://www.rescue.org/article/albert-einstein-and-birth-international-rescue-committee',\n",
       "       'breadcrumb': 'https://www.rescue.org › article › albert-einstein-and-b...'},\n",
       "      {'type': 'organic',\n",
       "       'rank_group': 69,\n",
       "       'rank_absolute': 71,\n",
       "       'domain': 'princetonhistory.org',\n",
       "       'title': 'Albert Einstein – Historical Society of Princeton',\n",
       "       'description': \"Albert Einstein (1879 – 1955) first gained worldwide prominence in 1919, when British astronomers verified predictions of Einstein's general theory of\\xa0...\",\n",
       "       'url': 'https://princetonhistory.org/research/historic-princeton/albert-einstein/',\n",
       "       'breadcrumb': 'https://princetonhistory.org › ... › Historic Princeton'},\n",
       "      {'type': 'organic',\n",
       "       'rank_group': 70,\n",
       "       'rank_absolute': 72,\n",
       "       'domain': 'scholar.google.com',\n",
       "       'title': 'Albert Einstein - Google Scholar',\n",
       "       'description': 'Title. Sort. Sort by citationsSort by yearSort by title Cited by. Cited by Year\\nZur Elektrodynamik bewegter Körper. A Einstein 7453*\\nLa relativité. A Einstein. Payot, 1964 4339* 1964',\n",
       "       'url': 'https://scholar.google.com/citations?user=qc6CJjYAAAAJ&hl=en',\n",
       "       'breadcrumb': 'https://scholar.google.com › citations'},\n",
       "      {'type': 'organic',\n",
       "       'rank_group': 71,\n",
       "       'rank_absolute': 73,\n",
       "       'domain': 'www.onthisday.com',\n",
       "       'title': 'Albert Einstein (Theoretical Physicist)',\n",
       "       'description': 'A Jewish-born German, later naturalised as a US citizen, Einstein became the most influential physicist of the 20th century. He developed his special theory\\xa0...',\n",
       "       'url': 'https://www.onthisday.com/people/albert-einstein',\n",
       "       'breadcrumb': 'https://www.onthisday.com › people › albert-einstein'},\n",
       "      {'type': 'organic',\n",
       "       'rank_group': 72,\n",
       "       'rank_absolute': 74,\n",
       "       'domain': 'www.fi.edu',\n",
       "       'title': 'Albert Einstein',\n",
       "       'description': 'Albert Einstein was born at Ulm, in Wurttemberg, Germany, in 1879. In his youth, his family moved to Munich and then to Italy, and Einstein received much of\\xa0...',\n",
       "       'url': 'https://www.fi.edu/en/laureates/albert-einstein',\n",
       "       'breadcrumb': 'https://www.fi.edu › laureates › albert-einstein'},\n",
       "      {'type': 'organic',\n",
       "       'rank_group': 73,\n",
       "       'rank_absolute': 75,\n",
       "       'domain': 'www.vanityfair.com',\n",
       "       'title': \"Einstein and Oppenheimer's Real Relationship Was ...\",\n",
       "       'description': \"Outside his home in Princeton, he encounters a colleague: Albert Einstein (Tom Conti), who doesn't seem to get why his fellow physicist is\\xa0...\",\n",
       "       'url': 'https://www.vanityfair.com/hollywood/2023/07/oppenheimer-einstein-movie-real-life',\n",
       "       'breadcrumb': 'https://www.vanityfair.com › ... › albert einstein'},\n",
       "      {'type': 'organic',\n",
       "       'rank_group': 74,\n",
       "       'rank_absolute': 76,\n",
       "       'domain': 'thedecisionlab.com',\n",
       "       'title': 'Albert Einstein',\n",
       "       'description': 'Albert Einstein was a physicist, philosopher, mathematician, Nobel-prize winner, violinist and a scientist. He is most notably known for his theory of\\xa0...',\n",
       "       'url': 'https://thedecisionlab.com/thinkers/philosophy/albert-einstein',\n",
       "       'breadcrumb': 'https://thedecisionlab.com › thinkers › philosophy › al...'},\n",
       "      {'type': 'organic',\n",
       "       'rank_group': 75,\n",
       "       'rank_absolute': 77,\n",
       "       'domain': 'interestingengineering.com',\n",
       "       'title': 'Albert Einstein: The Life and Legacy of the Great Genius',\n",
       "       'description': \"It's hard to understate the genius of Albert Einstein. As one of the world's foremost physicists, his discoveries revolutionized the way we\\xa0...\",\n",
       "       'url': 'https://interestingengineering.com/science/albert-einstein-the-life-and-legacy-of-the-great-genius',\n",
       "       'breadcrumb': 'https://interestingengineering.com › Science'},\n",
       "      {'type': 'organic',\n",
       "       'rank_group': 76,\n",
       "       'rank_absolute': 78,\n",
       "       'domain': 'www.einstein-online.info',\n",
       "       'title': 'About Albert Einstein',\n",
       "       'description': 'He is one of the few real pop stars in science: Albert Einstein, born 1879 in Ulm, Germany. This website is named after him – and that is because Einstein\\xa0...',\n",
       "       'url': 'https://www.einstein-online.info/en/about-einstein-online/about-albert-einstein/',\n",
       "       'breadcrumb': 'https://www.einstein-online.info › about-einstein-online'},\n",
       "      {'type': 'organic',\n",
       "       'rank_group': 77,\n",
       "       'rank_absolute': 79,\n",
       "       'domain': 'www.mentalfloss.com',\n",
       "       'title': '19 Brilliant Facts About Albert Einstein',\n",
       "       'description': 'Once a simple patent clerk, Albert Einstein changed the world with his theories of special and general relativity.',\n",
       "       'url': 'https://www.mentalfloss.com/article/573985/albert-einstein-facts',\n",
       "       'breadcrumb': 'https://www.mentalfloss.com › SCIENCE'},\n",
       "      {'type': 'organic',\n",
       "       'rank_group': 78,\n",
       "       'rank_absolute': 80,\n",
       "       'domain': 'www.simonandschuster.com',\n",
       "       'title': 'Einstein | Book by Walter Isaacson | Official Publisher Page',\n",
       "       'description': 'Einstein by Walter Isaacson - By the author of the acclaimed bestsellers Benjamin Franklin and Steve Jobs, this is the definitive biography of Albert ...',\n",
       "       'url': 'https://www.simonandschuster.com/books/Einstein/Walter-Isaacson/9780743264747',\n",
       "       'breadcrumb': 'https://www.simonandschuster.com › books › Walter-I...'},\n",
       "      {'type': 'organic',\n",
       "       'rank_group': 79,\n",
       "       'rank_absolute': 81,\n",
       "       'domain': 'www.wikidata.org',\n",
       "       'title': 'Albert Einstein',\n",
       "       'description': 'German-born theoretical physicist; developer of the theory of relativity (1879–1955)',\n",
       "       'url': 'https://www.wikidata.org/wiki/Q937',\n",
       "       'breadcrumb': 'https://www.wikidata.org › wiki'},\n",
       "      {'type': 'organic',\n",
       "       'rank_group': 80,\n",
       "       'rank_absolute': 82,\n",
       "       'domain': 'www.easybib.com',\n",
       "       'title': 'Albert Einstein Quotes and Facts',\n",
       "       'description': \"Albert Einstein's birthday is March 14th, 1879. He is best known for developing the theory of relativity, as well as his involvement in research that led to the\\xa0...\",\n",
       "       'url': 'https://www.easybib.com/guides/quotes-facts-stats/albert-einstein/',\n",
       "       'breadcrumb': 'https://www.easybib.com › Guides › Topic Guides'},\n",
       "      {'type': 'organic',\n",
       "       'rank_group': 81,\n",
       "       'rank_absolute': 83,\n",
       "       'domain': 'content.time.com',\n",
       "       'title': 'Person Of The Century: Albert Einstein',\n",
       "       'description': 'Albert Einstein · (1879-1955) He was the pre-eminent scientist in a century dominated by science. The touchstones of the era--the Bomb, the Big\\xa0...',\n",
       "       'url': 'https://content.time.com/time/magazine/article/0,9171,993017,00.html',\n",
       "       'breadcrumb': 'https://content.time.com › time › magazine › article'},\n",
       "      {'type': 'organic',\n",
       "       'rank_group': 82,\n",
       "       'rank_absolute': 84,\n",
       "       'domain': 'books.google.com',\n",
       "       'title': 'Albert Einstein - Google Books Result',\n",
       "       'description': 'Name: Albert Einstein Born: March 14, 1879 Died: April 18, 1955 Position: Physicist Career Highlights: • In 1915, he finished the General Theory of\\xa0...',\n",
       "       'url': 'https://books.google.com/books?id=VOIGBgAAQBAJ&pg=PP1&lpg=PP1&dq=albert+einstein&source=bl&ots=h4B6jarGcP&sig=ACfU3U2A8E-kY1FEgyskURK5GHU5kmKi8w&hl=en&sa=X&ved=2ahUKEwjrysPsmYaBAxWl97sIHThdDBsQ6AF6BQiVAxAD',\n",
       "       'breadcrumb': 'https://books.google.com › books'},\n",
       "      {'type': 'organic',\n",
       "       'rank_group': 83,\n",
       "       'rank_absolute': 85,\n",
       "       'domain': 'www.infoplease.com',\n",
       "       'title': 'Albert Einstein',\n",
       "       'description': 'Thanks to his theory of relativity, Albert Einstein became the most famous scientist of the 20th century. In 1905, while working in a Swiss patent office,\\xa0...',\n",
       "       'url': 'https://www.infoplease.com/people/who2-biography/albert-einstein',\n",
       "       'breadcrumb': 'https://www.infoplease.com › people › who2-biography'},\n",
       "      {'type': 'organic',\n",
       "       'rank_group': 84,\n",
       "       'rank_absolute': 86,\n",
       "       'domain': 'books.google.com',\n",
       "       'title': 'Albert Einstein: Genius of the Theory of Relativity',\n",
       "       'description': 'Finally his friend Marcel Grossman found a civil service job for Albert. Albert Einstein liked his job in the Swiss Patent Office.',\n",
       "       'url': 'https://books.google.com/books?id=ItBjDwAAQBAJ&pg=PA22&lpg=PA22&dq=albert+einstein&source=bl&ots=WPc8XpiXeL&sig=ACfU3U2xmFW4mr4eYwPx5lia9u1avSbrAw&hl=en&sa=X&ved=2ahUKEwjrysPsmYaBAxWl97sIHThdDBsQ6AF6BQibAxAD',\n",
       "       'breadcrumb': 'https://books.google.com › books'},\n",
       "      {'type': 'organic',\n",
       "       'rank_group': 85,\n",
       "       'rank_absolute': 87,\n",
       "       'domain': 'www.popularmechanics.com',\n",
       "       'title': '100 Years Ago, Albert Einstein Became a Legend',\n",
       "       'description': \"Albert Einstein, the wire-haired physicist, whose worked reshaped our understanding of the universe, is a household name—but that wasn't\\xa0...\",\n",
       "       'url': 'https://www.popularmechanics.com/science/math/a29677190/einstein-eclipse-anniversary/',\n",
       "       'breadcrumb': 'https://www.popularmechanics.com › Science › Math'},\n",
       "      {'type': 'organic',\n",
       "       'rank_group': 86,\n",
       "       'rank_absolute': 88,\n",
       "       'domain': 'books.google.com',\n",
       "       'title': 'Albert Einstein: The Man, the Genius, and the Theory of ...',\n",
       "       'description': 'RIGHT: Einstein and the members of the Olympia Academy. From left: Conrad Habicht, Maurice Solovine, and Albert Einstein. The photograph was taken around\\xa0...',\n",
       "       'url': 'https://books.google.com/books?id=JHZeEAAAQBAJ&pg=PA37&lpg=PA37&dq=albert+einstein&source=bl&ots=_jU4XTWFOo&sig=ACfU3U0t6RO6a-XjFmCidZXLq_mhsPUC2g&hl=en&sa=X&ved=2ahUKEwjrysPsmYaBAxWl97sIHThdDBsQ6AF6BQinAxAD',\n",
       "       'breadcrumb': 'https://books.google.com › books'},\n",
       "      {'type': 'organic',\n",
       "       'rank_group': 87,\n",
       "       'rank_absolute': 89,\n",
       "       'domain': 'www.thriftbooks.com',\n",
       "       'title': 'List of books by author Albert Einstein',\n",
       "       'description': 'See all books authored by Albert Einstein, including Über die spezielle und die allgemeine Relativitätstheorie, and The Portable Atheist: Essential Readings\\xa0...',\n",
       "       'url': 'https://www.thriftbooks.com/a/albert-einstein/203164/',\n",
       "       'breadcrumb': 'https://www.thriftbooks.com › albert-einstein'},\n",
       "      {'type': 'organic',\n",
       "       'rank_group': 88,\n",
       "       'rank_absolute': 90,\n",
       "       'domain': 'books.google.com',\n",
       "       'title': 'The Collected Papers of Albert Einstein: The early years, ...',\n",
       "       'description': 'Albert Einstein. worries about work for a little while . My dear dear darling ! After the sad times of my banishment up here have come to an end , mama and\\xa0...',\n",
       "       'url': 'https://books.google.com/books?id=dYpwdLWNR2cC&pg=PA31&lpg=PA31&dq=albert+einstein&source=bl&ots=B_sdIw1NRv&sig=ACfU3U1g5Nq3rbCtbZXKUQ1KD_wAZucFzw&hl=en&sa=X&ved=2ahUKEwjrysPsmYaBAxWl97sIHThdDBsQ6AF6BQilAxAD',\n",
       "       'breadcrumb': 'https://books.google.com › books'},\n",
       "      {'type': 'organic',\n",
       "       'rank_group': 89,\n",
       "       'rank_absolute': 91,\n",
       "       'domain': 'www.lindahall.org',\n",
       "       'title': 'Albert Einstein',\n",
       "       'description': 'Albert Einstein, a German-American physicist, died on Apr. 18, 1955, in Princeton, New Jersey, at the age of 76. Einstein is the one scientific\\xa0...',\n",
       "       'url': 'https://www.lindahall.org/about/news/scientist-of-the-day/albert-einstein-2',\n",
       "       'breadcrumb': 'https://www.lindahall.org › ... › Scientist of the Day'},\n",
       "      {'type': 'organic',\n",
       "       'rank_group': 90,\n",
       "       'rank_absolute': 92,\n",
       "       'domain': 'books.google.com',\n",
       "       'title': 'Albert Einstein: A Complete Biography: Bestseller Book by ...',\n",
       "       'description': 'Bestseller Book by Vinod Kumar Mishra: Albert Einstein: A Complete Biography Vinod Kumar Mishra. from the White House . On January 24 , the families of\\xa0...',\n",
       "       'url': 'https://books.google.com/books?id=i1a6EAAAQBAJ&pg=RA2-PA1946&lpg=RA2-PA1946&dq=albert+einstein&source=bl&ots=WR9eEnller&sig=ACfU3U2YLMSzgw1Nw0H_rixHY4St0qV4ow&hl=en&sa=X&ved=2ahUKEwjrysPsmYaBAxWl97sIHThdDBsQ6AF6BQimAxAD',\n",
       "       'breadcrumb': 'https://books.google.com › books'},\n",
       "      {'type': 'organic',\n",
       "       'rank_group': 91,\n",
       "       'rank_absolute': 93,\n",
       "       'domain': 'www.sciencekids.co.nz',\n",
       "       'title': 'Albert Einstein Facts, Quotes, Relativity Theory, Science ...',\n",
       "       'description': 'Albert Einstein was born on the 14th of March 1879 and died on the 18th of April 1955. · Born in Germany to a Jewish family, Einstein made many contributions to\\xa0...',\n",
       "       'url': 'https://www.sciencekids.co.nz/sciencefacts/scientists/alberteinstein.html',\n",
       "       'breadcrumb': 'https://www.sciencekids.co.nz › sciencefacts › scientists'},\n",
       "      {'type': 'organic',\n",
       "       'rank_group': 92,\n",
       "       'rank_absolute': 94,\n",
       "       'domain': 'www.digitalhumans.com',\n",
       "       'title': 'UneeQ Case Study | Digital Einstein',\n",
       "       'description': 'Digital Einstein: A genius for the AI era. On the 100th anniversary of Albert Einstein winning the Nobel Prize for Physics, one of the smartest minds and\\xa0...',\n",
       "       'url': 'https://www.digitalhumans.com/case-studies/digital-einstein',\n",
       "       'breadcrumb': 'https://www.digitalhumans.com › case-studies › digital...'},\n",
       "      {'type': 'organic',\n",
       "       'rank_group': 93,\n",
       "       'rank_absolute': 95,\n",
       "       'domain': 'books.google.com',\n",
       "       'title': 'Albert Einstein, Historical and Cultural Perspectives: The ...',\n",
       "       'description': \"For discussion and documentation, see G. Holton, “Einstein's Search for the 'Weltbild,' ” Proceedings of the American Philosophical Society 125, no.\",\n",
       "       'url': 'https://books.google.com/books?id=58b_AwAAQBAJ&pg=PR30&lpg=PR30&dq=albert+einstein&source=bl&ots=jgq6oXD4GI&sig=ACfU3U217sFxt3GQskogL9ePmv5U70eVtA&hl=en&sa=X&ved=2ahUKEwjrysPsmYaBAxWl97sIHThdDBsQ6AF6BQioAxAD',\n",
       "       'breadcrumb': 'https://books.google.com › books'},\n",
       "      {'type': 'organic',\n",
       "       'rank_group': 94,\n",
       "       'rank_absolute': 96,\n",
       "       'domain': 'books.google.com',\n",
       "       'title': \"EINSTEIN'S REVOLUTIONARY WISDOM (Seven Last Days in the Life ...\",\n",
       "       'description': \"1895 Marie's the Name of Albert's Fist Flame; Makes Him Feel as if Traveling with the Speed of Light. In summer, Albert writes an essay entitled “On the\\xa0...\",\n",
       "       'url': 'https://books.google.com/books?id=OVFBDAAAQBAJ&pg=PA160&lpg=PA160&dq=albert+einstein&source=bl&ots=Co5S-xxsWt&sig=ACfU3U2NNBX8wfqrbZfnbSmr1KqQ6WlhPQ&hl=en&sa=X&ved=2ahUKEwjrysPsmYaBAxWl97sIHThdDBsQ6AF6BQiqAxAD',\n",
       "       'breadcrumb': 'https://books.google.com › books'},\n",
       "      {'type': 'organic',\n",
       "       'rank_group': 95,\n",
       "       'rank_absolute': 97,\n",
       "       'domain': 'www.theatlantic.com',\n",
       "       'title': 'Albert Einstein: Appraisal of an Intellect',\n",
       "       'description': 'He was an intense Zionist, and although he would have been called irreligious by many, was deeply religious in the highest sense, with a profound conviction of\\xa0...',\n",
       "       'url': 'https://www.theatlantic.com/magazine/archive/1955/06/albert-einstein-appraisal-of-an-intellect/303934/',\n",
       "       'breadcrumb': 'https://www.theatlantic.com › archive › 1955/06 › alb...'},\n",
       "      {'type': 'organic',\n",
       "       'rank_group': 96,\n",
       "       'rank_absolute': 98,\n",
       "       'domain': 'books.google.com',\n",
       "       'title': 'Legacy Of Albert Einstein, The: A Collection Of Essays In ...',\n",
       "       'description': 'Socialism was very much in the air as an ideology and Einstein must not have been unaware of the different currents of political thought swirling around him\\xa0...',\n",
       "       'url': 'https://books.google.com/books?id=37HICgAAQBAJ&pg=PA257&lpg=PA257&dq=albert+einstein&source=bl&ots=fb-yry51fR&sig=ACfU3U1l_bjv_pbPB--PanQFaiNz-gkuuQ&hl=en&sa=X&ved=2ahUKEwjrysPsmYaBAxWl97sIHThdDBsQ6AF6BQiIAxAD',\n",
       "       'breadcrumb': 'https://books.google.com › books'},\n",
       "      {'type': 'organic',\n",
       "       'rank_group': 97,\n",
       "       'rank_absolute': 99,\n",
       "       'domain': 'globalgovernanceforum.org',\n",
       "       'title': 'Albert Einstein',\n",
       "       'description': 'Albert Einstein (1879 – 1955), winner of the 1921 Nobel Prize in physics and creator of the theory of relativity, was one of the two pillars of modern\\xa0...',\n",
       "       'url': 'https://globalgovernanceforum.org/visionary/albert-einstein/',\n",
       "       'breadcrumb': 'https://globalgovernanceforum.org › visionary › alber...'},\n",
       "      {'type': 'organic',\n",
       "       'rank_group': 98,\n",
       "       'rank_absolute': 100,\n",
       "       'domain': 'www.conservapedia.com',\n",
       "       'title': 'Albert Einstein',\n",
       "       'description': 'Albert Einstein (1879-1955) was the most famous physicist of the 20th century, who however self-described himself to be “more of a\\xa0...',\n",
       "       'url': 'https://www.conservapedia.com/Albert_Einstein',\n",
       "       'breadcrumb': 'https://www.conservapedia.com › Albert_Einstein'},\n",
       "      {'type': 'organic',\n",
       "       'rank_group': 99,\n",
       "       'rank_absolute': 101,\n",
       "       'domain': 'www.montefiore.org',\n",
       "       'title': 'Montefiore Medical Center',\n",
       "       'description': 'Montefiore Medical Center, the University Hospital for Albert Einstein College of Medicine, is a premier academic medical center and nationally recognized\\xa0...',\n",
       "       'url': 'https://www.montefiore.org/',\n",
       "       'breadcrumb': 'https://www.montefiore.org'}]}]}]}"
      ]
     },
     "execution_count": 11,
     "metadata": {},
     "output_type": "execute_result"
    }
   ],
   "source": [
    "response\n"
   ]
  },
  {
   "cell_type": "code",
   "execution_count": 12,
   "metadata": {},
   "outputs": [
    {
     "data": {
      "text/plain": [
       "dict_keys(['id', 'status_code', 'status_message', 'time', 'cost', 'result_count', 'path', 'data', 'result'])"
      ]
     },
     "execution_count": 12,
     "metadata": {},
     "output_type": "execute_result"
    }
   ],
   "source": [
    "d= response['tasks'][0]\n",
    "\n",
    "d.keys()"
   ]
  },
  {
   "cell_type": "code",
   "execution_count": 13,
   "metadata": {},
   "outputs": [
    {
     "data": {
      "text/plain": [
       "dict_keys(['type', 'rank_group', 'rank_absolute', 'domain', 'title', 'description', 'url', 'breadcrumb'])"
      ]
     },
     "execution_count": 13,
     "metadata": {},
     "output_type": "execute_result"
    }
   ],
   "source": [
    "result_dict= d['result'][0]['items']\n",
    "result_dict[0].keys()"
   ]
  },
  {
   "cell_type": "code",
   "execution_count": 14,
   "metadata": {},
   "outputs": [
    {
     "data": {
      "text/plain": [
       "\"Albert Einstein Albert Einstein – Biographical - NobelPrize.org Albert Einstein | Biography, Education, Discoveries, & Facts Albert Einstein: His life, theories and impact on science Albert Einstein - Nobel Prize Winners Albert Einstein Albert Einstein Quotes Albert Einstein Albert Einstein (1879 - 1955) - Biography - MacTutor 50 Famous Albert Einstein Quotes on Life and More Albert Einstein: Biography, facts and impact on science A Science Odyssey: People and Discoveries: Albert Einstein Albert Einstein Albert Einstein Albert Einstein - Scholars Manhattan Project: People > Scientists > ALBERT EINSTEIN Albert Einstein College of Medicine | Medical Education ... Albert Einstein 10 facts about Albert Einstein Albert Einstein - Nobel Prize Winner & Physicist | Mini Bio Einstein's Philosophy of Science Albert Einstein | World-famous theoretical physicist Albert Einstein - Facts, Theories and Inventions Albert Einstein | Biographies Albert Einstein (@alberteinstein) Albert Einstein - StarChild - NASA Albert Einstein(1879-1955) Albert Einstein in Brief About Albert Einstein The Year Of Albert Einstein | Science Albert Einstein (Author of Relativity) The Official Licensing Site of Albert Einstein Albert Einstein | Science Albert Einstein 8 Albert Einstein Quotes Albert Einstein Space: Course for Science Educators | Seminars on Science Albert Einstein: books, biography, latest update Memorable Albert Einstein Quotes 3 everyday inventions Einstein made possible The Day Albert Einstein Died: A Photographer's Story - LIFE FBI Records: The Vault — Albert Einstein The Albert Einstein Archives at The Hebrew University of ... Albert Einstein, in his own words March 2019 - History Albert Einstein Manhattan Project Pioneers: Albert Einstein Albert Einstein Albert Einstein: Genius Inventor and Scientist Albert Einstein - Nuclear Museum - Atomic Heritage Foundation Introduction - Annus Mirabilis of Albert Einstein Who Is Albert Einstein Einstein, Albert (1879-1955) -- from Eric Weisstein's World of ... Biography of Albert Einstein, Theoretical Physicist Albert Einstein Biography - life, story, wife, school, young ... Albert Einstein Albert Einstein Institution Albert Einstein - latest news, breaking stories and comment Albert Einstein - Biography, Facts and Pictures Albert Einstein - Important Scientists Albert Einstein Albert Einstein Albert Einstein: A life spent re-imagining physics Albert Einstein: Facts About His Life, Death, Education And ... Albert Einstein | TheSchoolRun Who was Albert Einstein? | Facts for Kids albert-einstein - Definition, pictures, pronunciation and ... Albert Einstein and the birth of the International Rescue ... Albert Einstein – Historical Society of Princeton Albert Einstein - Google Scholar \""
      ]
     },
     "execution_count": 14,
     "metadata": {},
     "output_type": "execute_result"
    }
   ],
   "source": [
    "s= ''\n",
    "for i in result_dict[:70]:\n",
    "    s+= i['title']+' '\n",
    "\n",
    "s"
   ]
  },
  {
   "cell_type": "code",
   "execution_count": 3,
   "metadata": {},
   "outputs": [],
   "source": [
    "from Utils.client import generate_seo_metatitle"
   ]
  },
  {
   "cell_type": "code",
   "execution_count": 4,
   "metadata": {},
   "outputs": [
    {
     "ename": "TypeError",
     "evalue": "'NoneType' object is not subscriptable",
     "output_type": "error",
     "traceback": [
      "\u001b[0;31m---------------------------------------------------------------------------\u001b[0m",
      "\u001b[0;31mTypeError\u001b[0m                                 Traceback (most recent call last)",
      "Cell \u001b[0;32mIn[4], line 1\u001b[0m\n\u001b[0;32m----> 1\u001b[0m generate_seo_metatitle(\u001b[39m\"\u001b[39;49m\u001b[39mbarbers near me\u001b[39;49m\u001b[39m\"\u001b[39;49m)\n",
      "File \u001b[0;32m~/EmbeddingsUsingGTEmodels/Utils/client.py:59\u001b[0m, in \u001b[0;36mgenerate_seo_metatitle\u001b[0;34m(keyword)\u001b[0m\n\u001b[1;32m     57\u001b[0m d\u001b[39m=\u001b[39m response[\u001b[39m'\u001b[39m\u001b[39mtasks\u001b[39m\u001b[39m'\u001b[39m][\u001b[39m0\u001b[39m]\n\u001b[1;32m     58\u001b[0m \u001b[39m# print(d)\u001b[39;00m\n\u001b[0;32m---> 59\u001b[0m result_dict\u001b[39m=\u001b[39m d[\u001b[39m'\u001b[39;49m\u001b[39mresult\u001b[39;49m\u001b[39m'\u001b[39;49m][\u001b[39m0\u001b[39;49m][\u001b[39m'\u001b[39m\u001b[39mitems\u001b[39m\u001b[39m'\u001b[39m]\n\u001b[1;32m     60\u001b[0m summary\u001b[39m=\u001b[39m \u001b[39m'\u001b[39m\u001b[39m'\u001b[39m\n\u001b[1;32m     61\u001b[0m \u001b[39mfor\u001b[39;00m i \u001b[39min\u001b[39;00m result_dict[:\u001b[39m25\u001b[39m]:\n",
      "\u001b[0;31mTypeError\u001b[0m: 'NoneType' object is not subscriptable"
     ]
    }
   ],
   "source": [
    "generate_seo_metatitle(\"barbers near me\")"
   ]
  },
  {
   "cell_type": "code",
   "execution_count": 15,
   "metadata": {},
   "outputs": [],
   "source": [
    "# def generate_keyword_summary_for_intent_v2(keyword):\n",
    "#     \"\"\"Generate a summary of the keyword\"\"\"\n",
    "#     response= requests.api.get(f'https://7t4h0oe8be.execute-api.us-east-1.amazonaws.com/?search={keyword}')\n",
    "#     d= json.loads(response.text)\n",
    "    \n",
    "#     print(d)\n",
    "#     results= d['items']\n",
    "#     # results= data['results']\n",
    "#     print(results)\n",
    "    \n",
    "#     # s= \"\"\n",
    "    \n",
    "\n",
    "    "
   ]
  },
  {
   "cell_type": "code",
   "execution_count": 16,
   "metadata": {},
   "outputs": [],
   "source": [
    "from Utils.client import generate_seo_metatitle"
   ]
  },
  {
   "cell_type": "code",
   "execution_count": null,
   "metadata": {},
   "outputs": [],
   "source": []
  },
  {
   "cell_type": "code",
   "execution_count": 17,
   "metadata": {},
   "outputs": [],
   "source": [
    "import pandas as pd"
   ]
  },
  {
   "cell_type": "code",
   "execution_count": 12,
   "metadata": {},
   "outputs": [
    {
     "data": {
      "text/html": [
       "<div>\n",
       "<style scoped>\n",
       "    .dataframe tbody tr th:only-of-type {\n",
       "        vertical-align: middle;\n",
       "    }\n",
       "\n",
       "    .dataframe tbody tr th {\n",
       "        vertical-align: top;\n",
       "    }\n",
       "\n",
       "    .dataframe thead th {\n",
       "        text-align: right;\n",
       "    }\n",
       "</style>\n",
       "<table border=\"1\" class=\"dataframe\">\n",
       "  <thead>\n",
       "    <tr style=\"text-align: right;\">\n",
       "      <th></th>\n",
       "      <th>keyword</th>\n",
       "      <th>intent</th>\n",
       "    </tr>\n",
       "  </thead>\n",
       "  <tbody>\n",
       "    <tr>\n",
       "      <th>0</th>\n",
       "      <td>citalopram vs prozac</td>\n",
       "      <td>Commercial</td>\n",
       "    </tr>\n",
       "    <tr>\n",
       "      <th>1</th>\n",
       "      <td>who is the oldest football player</td>\n",
       "      <td>Informational</td>\n",
       "    </tr>\n",
       "    <tr>\n",
       "      <th>2</th>\n",
       "      <td>t mobile town east</td>\n",
       "      <td>Navigational</td>\n",
       "    </tr>\n",
       "    <tr>\n",
       "      <th>3</th>\n",
       "      <td>starbucks</td>\n",
       "      <td>Navigational</td>\n",
       "    </tr>\n",
       "    <tr>\n",
       "      <th>4</th>\n",
       "      <td>tech crunch</td>\n",
       "      <td>Navigational</td>\n",
       "    </tr>\n",
       "  </tbody>\n",
       "</table>\n",
       "</div>"
      ],
      "text/plain": [
       "                             keyword         intent\n",
       "0               citalopram vs prozac     Commercial\n",
       "1  who is the oldest football player  Informational\n",
       "2                 t mobile town east   Navigational\n",
       "3                          starbucks   Navigational\n",
       "4                        tech crunch   Navigational"
      ]
     },
     "execution_count": 12,
     "metadata": {},
     "output_type": "execute_result"
    }
   ],
   "source": [
    "df= pd.read_csv('data/keyword_intent.csv')\n",
    "df.head()"
   ]
  },
  {
   "cell_type": "code",
   "execution_count": 13,
   "metadata": {},
   "outputs": [
    {
     "data": {
      "text/plain": [
       "intent\n",
       "Informational    24\n",
       "Commercial       18\n",
       "Navigational     15\n",
       "Transactional     9\n",
       "Local             8\n",
       "Name: count, dtype: int64"
      ]
     },
     "execution_count": 13,
     "metadata": {},
     "output_type": "execute_result"
    }
   ],
   "source": [
    "df.intent.value_counts()\n"
   ]
  },
  {
   "cell_type": "code",
   "execution_count": 14,
   "metadata": {},
   "outputs": [],
   "source": [
    "reverse_intent= {\n",
    "    0: 'informational',\n",
    "    1: 'navigational',\n",
    "    2: 'transactional',\n",
    "    3: 'commercial',\n",
    "    4: 'local'\n",
    "}"
   ]
  },
  {
   "cell_type": "code",
   "execution_count": 15,
   "metadata": {},
   "outputs": [
    {
     "name": "stderr",
     "output_type": "stream",
     "text": [
      "/home/ubuntu/EmbeddingsUsingGTEmodels/venv/lib/python3.10/site-packages/tqdm/auto.py:21: TqdmWarning: IProgress not found. Please update jupyter and ipywidgets. See https://ipywidgets.readthedocs.io/en/stable/user_install.html\n",
      "  from .autonotebook import tqdm as notebook_tqdm\n"
     ]
    }
   ],
   "source": [
    "from main import generate_base_embeddings"
   ]
  },
  {
   "cell_type": "code",
   "execution_count": 16,
   "metadata": {},
   "outputs": [],
   "source": [
    "df_informational= df[df.intent=='Informational']\n",
    "informational_keywords= list(df_informational.keyword)\n",
    "# informational_keywords\n",
    "informational_keywords_embeddings= []\n",
    "for i in informational_keywords:\n",
    "    s_i= generate_seo_metatitle(i)\n",
    "    e_i= generate_base_embeddings(s_i)\n",
    "    informational_keywords_embeddings.append(e_i)\n",
    "    \n",
    "informational= sum(informational_keywords_embeddings)/len(informational_keywords_embeddings)"
   ]
  },
  {
   "cell_type": "code",
   "execution_count": 17,
   "metadata": {},
   "outputs": [],
   "source": [
    "df_navigational= df[df.intent=='Navigational']\n",
    "navigational_keywords= list(df_navigational.keyword)\n",
    "navigational_keywords\n",
    "\n",
    "# navigational_keywords= [\n",
    "#     't mobile town east',\n",
    "#     'starbucks',\n",
    "#     'tech crunch',\n",
    "#     'elevenlabs'\n",
    "# ]\n",
    "navigational_keywords_embeddings= []\n",
    "for i in navigational_keywords:\n",
    "    s_i= generate_seo_metatitle(i)\n",
    "    e_i= generate_base_embeddings(s_i)\n",
    "    navigational_keywords_embeddings.append(e_i)\n",
    "    \n",
    "navigational= sum(navigational_keywords_embeddings)/len(navigational_keywords_embeddings)"
   ]
  },
  {
   "cell_type": "code",
   "execution_count": 18,
   "metadata": {},
   "outputs": [],
   "source": [
    "df_transactional= df[df.intent=='Transactional']\n",
    "transactional_keywords= list(df_transactional.keyword)\n",
    "transactional_keywords\n",
    "# transactional_keywords= [\n",
    "#     't mobile town east',\n",
    "#     # 'llama',\n",
    "#     'tire patch kit',\n",
    "#     'cat shelves'\n",
    "# ]\n",
    "transactional_keywords_embeddings= []\n",
    "for i in transactional_keywords:\n",
    "    s_i= generate_seo_metatitle(i)\n",
    "    e_i= generate_base_embeddings(s_i)\n",
    "    transactional_keywords_embeddings.append(e_i)\n",
    "\n",
    "transactional= sum(transactional_keywords_embeddings)/len(transactional_keywords_embeddings)\n"
   ]
  },
  {
   "cell_type": "code",
   "execution_count": 19,
   "metadata": {},
   "outputs": [],
   "source": [
    "df_commercial= df[df.intent=='Commercial']\n",
    "commercial_keywords= list(df_commercial.keyword)\n",
    "commercial_keywords\n",
    "# commercial_keywords= [\n",
    "#     'citalopram vs prozac',\n",
    "#     'duffel bags',\n",
    "#     'screen protector'\n",
    "# ]\n",
    "commercial_keywords_embeddings= []\n",
    "for i in commercial_keywords:\n",
    "    s_i= generate_seo_metatitle(i)\n",
    "    e_i= generate_base_embeddings(s_i)\n",
    "    commercial_keywords_embeddings.append(e_i)\n",
    "    \n",
    "commercial= sum(commercial_keywords_embeddings)/len(commercial_keywords_embeddings)"
   ]
  },
  {
   "cell_type": "code",
   "execution_count": 20,
   "metadata": {},
   "outputs": [],
   "source": [
    "df_local= df[df.intent=='Local']\n",
    "local_keywords= list(df_local.keyword)\n",
    "local_keywords\n",
    "# local_keywords= [\n",
    "#     'chinese food delivery near me'\n",
    "# ]\n",
    "local_keywords_embeddings= []\n",
    "for i in local_keywords:\n",
    "    s_i= generate_seo_metatitle(i)\n",
    "    e_i= generate_base_embeddings(s_i)\n",
    "    local_keywords_embeddings.append(e_i)\n",
    "    \n",
    "local= sum(local_keywords_embeddings)/len(local_keywords_embeddings)"
   ]
  },
  {
   "cell_type": "code",
   "execution_count": 21,
   "metadata": {},
   "outputs": [
    {
     "name": "stdout",
     "output_type": "stream",
     "text": [
      "24\n",
      "15\n",
      "9\n",
      "18\n",
      "8\n"
     ]
    }
   ],
   "source": [
    "print(len(informational_keywords_embeddings))\n",
    "print(len(navigational_keywords_embeddings))\n",
    "print(len(transactional_keywords_embeddings))\n",
    "print(len(commercial_keywords_embeddings))\n",
    "print(len(local_keywords_embeddings))"
   ]
  },
  {
   "cell_type": "code",
   "execution_count": 22,
   "metadata": {},
   "outputs": [],
   "source": [
    "intent_embeddings= [informational, navigational, transactional, commercial, local]"
   ]
  },
  {
   "cell_type": "code",
   "execution_count": 20,
   "metadata": {},
   "outputs": [],
   "source": [
    "import pickle\n"
   ]
  },
  {
   "cell_type": "code",
   "execution_count": 23,
   "metadata": {},
   "outputs": [],
   "source": [
    "pickle.dump(intent_embeddings, open('Utils/intent_embeddings.pkl', 'wb'))"
   ]
  },
  {
   "cell_type": "code",
   "execution_count": 21,
   "metadata": {},
   "outputs": [],
   "source": [
    "x= pickle.load(open('embed.pkl', 'rb'))\n"
   ]
  },
  {
   "cell_type": "code",
   "execution_count": 22,
   "metadata": {},
   "outputs": [
    {
     "name": "stdout",
     "output_type": "stream",
     "text": [
      "Best food:\n",
      " tensor([[0.8473],\n",
      "        [0.8291],\n",
      "        [0.8259],\n",
      "        [0.8648],\n",
      "        [0.8686]])\n",
      "\n"
     ]
    },
    {
     "data": {
      "text/plain": [
       "('local',\n",
       " 0.8685722947120667,\n",
       " tensor([[0.8473],\n",
       "         [0.8291],\n",
       "         [0.8259],\n",
       "         [0.8648],\n",
       "         [0.8686]]))"
      ]
     },
     "execution_count": 22,
     "metadata": {},
     "output_type": "execute_result"
    }
   ],
   "source": [
    "from main import generate_intent_v2\n",
    "\n",
    "\n",
    "generate_intent_v2(\"Best food\") # ??????????????"
   ]
  },
  {
   "cell_type": "code",
   "execution_count": 23,
   "metadata": {},
   "outputs": [
    {
     "name": "stdout",
     "output_type": "stream",
     "text": [
      "Fast and The Furious:\n",
      " tensor([[0.8787],\n",
      "        [0.8095],\n",
      "        [0.8219],\n",
      "        [0.7967],\n",
      "        [0.7880]])\n",
      "\n"
     ]
    },
    {
     "data": {
      "text/plain": [
       "('informational',\n",
       " 0.8787286281585693,\n",
       " tensor([[0.8787],\n",
       "         [0.8095],\n",
       "         [0.8219],\n",
       "         [0.7967],\n",
       "         [0.7880]]))"
      ]
     },
     "execution_count": 23,
     "metadata": {},
     "output_type": "execute_result"
    }
   ],
   "source": [
    "generate_intent_v2(\"Fast and The Furious\")\n"
   ]
  },
  {
   "cell_type": "code",
   "execution_count": 24,
   "metadata": {},
   "outputs": [
    {
     "name": "stdout",
     "output_type": "stream",
     "text": [
      "Barack Obama:\n",
      " tensor([[0.8504],\n",
      "        [0.8460],\n",
      "        [0.8245],\n",
      "        [0.8199],\n",
      "        [0.8064]])\n",
      "\n"
     ]
    },
    {
     "data": {
      "text/plain": [
       "('informational',\n",
       " 0.8503900766372681,\n",
       " tensor([[0.8504],\n",
       "         [0.8460],\n",
       "         [0.8245],\n",
       "         [0.8199],\n",
       "         [0.8064]]))"
      ]
     },
     "execution_count": 24,
     "metadata": {},
     "output_type": "execute_result"
    }
   ],
   "source": [
    "generate_intent_v2(\"Barack Obama\")\n"
   ]
  },
  {
   "cell_type": "code",
   "execution_count": 5,
   "metadata": {},
   "outputs": [
    {
     "name": "stdout",
     "output_type": "stream",
     "text": [
      "{'id': '08310835-6493-0121-0000-4e4f2f7c0e93', 'status_code': 40200, 'status_message': 'Payment Required.', 'time': '0 sec.', 'cost': 0, 'result_count': 0, 'path': ['v3', 'serp', 'google', 'organic', 'live', 'regular'], 'data': {'api': 'serp', 'function': 'live', 'se': 'google', 'se_type': 'organic', 'language_code': 'en', 'location_code': 2840, 'keyword': 'Hair Saloon near me'}, 'result': None}\n"
     ]
    },
    {
     "ename": "TypeError",
     "evalue": "'NoneType' object is not subscriptable",
     "output_type": "error",
     "traceback": [
      "\u001b[0;31m---------------------------------------------------------------------------\u001b[0m",
      "\u001b[0;31mTypeError\u001b[0m                                 Traceback (most recent call last)",
      "Cell \u001b[0;32mIn[5], line 1\u001b[0m\n\u001b[0;32m----> 1\u001b[0m generate_intent_v2(\u001b[39m\"\u001b[39;49m\u001b[39mHair Saloon near me\u001b[39;49m\u001b[39m\"\u001b[39;49m)\n",
      "File \u001b[0;32m~/EmbeddingsUsingGTEmodels/main.py:259\u001b[0m, in \u001b[0;36mgenerate_intent_v2\u001b[0;34m(keyword)\u001b[0m\n\u001b[1;32m    258\u001b[0m \u001b[39mdef\u001b[39;00m \u001b[39mgenerate_intent_v2\u001b[39m(keyword):\n\u001b[0;32m--> 259\u001b[0m     s_i\u001b[39m=\u001b[39m generate_seo_metatitle(keyword)\n\u001b[1;32m    260\u001b[0m     e_i\u001b[39m=\u001b[39m generate_base_embeddings(s_i)\n\u001b[1;32m    262\u001b[0m     cos_similarity\u001b[39m=\u001b[39m generate_cosine_similarity(intent_embeddings, e_i)\n",
      "File \u001b[0;32m~/EmbeddingsUsingGTEmodels/Utils/client.py:58\u001b[0m, in \u001b[0;36mgenerate_seo_metatitle\u001b[0;34m(keyword)\u001b[0m\n\u001b[1;32m     56\u001b[0m d\u001b[39m=\u001b[39m response[\u001b[39m'\u001b[39m\u001b[39mtasks\u001b[39m\u001b[39m'\u001b[39m][\u001b[39m0\u001b[39m]\n\u001b[1;32m     57\u001b[0m \u001b[39mprint\u001b[39m(d)\n\u001b[0;32m---> 58\u001b[0m result_dict\u001b[39m=\u001b[39m d[\u001b[39m'\u001b[39;49m\u001b[39mresult\u001b[39;49m\u001b[39m'\u001b[39;49m][\u001b[39m0\u001b[39;49m][\u001b[39m'\u001b[39m\u001b[39mitems\u001b[39m\u001b[39m'\u001b[39m]\n\u001b[1;32m     59\u001b[0m summary\u001b[39m=\u001b[39m \u001b[39m'\u001b[39m\u001b[39m'\u001b[39m\n\u001b[1;32m     60\u001b[0m \u001b[39mfor\u001b[39;00m i \u001b[39min\u001b[39;00m result_dict[:\u001b[39m25\u001b[39m]:\n",
      "\u001b[0;31mTypeError\u001b[0m: 'NoneType' object is not subscriptable"
     ]
    }
   ],
   "source": [
    "generate_intent_v2(\"Hair Saloon near me\")\n"
   ]
  },
  {
   "cell_type": "code",
   "execution_count": 3,
   "metadata": {},
   "outputs": [
    {
     "name": "stderr",
     "output_type": "stream",
     "text": [
      "/home/ubuntu/EmbeddingsUsingGTEmodels/venv/lib/python3.10/site-packages/tqdm/auto.py:21: TqdmWarning: IProgress not found. Please update jupyter and ipywidgets. See https://ipywidgets.readthedocs.io/en/stable/user_install.html\n",
      "  from .autonotebook import tqdm as notebook_tqdm\n"
     ]
    }
   ],
   "source": [
    "# import os\n",
    "# os.chdir('..')\n",
    "# from main import generate_intent_v2"
   ]
  },
  {
   "cell_type": "code",
   "execution_count": 4,
   "metadata": {},
   "outputs": [
    {
     "name": "stdout",
     "output_type": "stream",
     "text": [
      "{'id': '08310835-6493-0121-0000-8df2092213e9', 'status_code': 40200, 'status_message': 'Payment Required.', 'time': '0 sec.', 'cost': 0, 'result_count': 0, 'path': ['v3', 'serp', 'google', 'organic', 'live', 'regular'], 'data': {'api': 'serp', 'function': 'live', 'se': 'google', 'se_type': 'organic', 'language_code': 'en', 'location_code': 2840, 'keyword': 'Chinese Food Shops around me'}, 'result': None}\n"
     ]
    },
    {
     "ename": "TypeError",
     "evalue": "'NoneType' object is not subscriptable",
     "output_type": "error",
     "traceback": [
      "\u001b[0;31m---------------------------------------------------------------------------\u001b[0m",
      "\u001b[0;31mTypeError\u001b[0m                                 Traceback (most recent call last)",
      "Cell \u001b[0;32mIn[4], line 1\u001b[0m\n\u001b[0;32m----> 1\u001b[0m generate_intent_v2(\u001b[39m\"\u001b[39;49m\u001b[39mChinese Food Shops around me\u001b[39;49m\u001b[39m\"\u001b[39;49m)\n",
      "File \u001b[0;32m~/EmbeddingsUsingGTEmodels/main.py:259\u001b[0m, in \u001b[0;36mgenerate_intent_v2\u001b[0;34m(keyword)\u001b[0m\n\u001b[1;32m    258\u001b[0m \u001b[39mdef\u001b[39;00m \u001b[39mgenerate_intent_v2\u001b[39m(keyword):\n\u001b[0;32m--> 259\u001b[0m     s_i\u001b[39m=\u001b[39m generate_seo_metatitle(keyword)\n\u001b[1;32m    260\u001b[0m     e_i\u001b[39m=\u001b[39m generate_base_embeddings(s_i)\n\u001b[1;32m    262\u001b[0m     cos_similarity\u001b[39m=\u001b[39m generate_cosine_similarity(intent_embeddings, e_i)\n",
      "File \u001b[0;32m~/EmbeddingsUsingGTEmodels/Utils/client.py:58\u001b[0m, in \u001b[0;36mgenerate_seo_metatitle\u001b[0;34m(keyword)\u001b[0m\n\u001b[1;32m     56\u001b[0m d\u001b[39m=\u001b[39m response[\u001b[39m'\u001b[39m\u001b[39mtasks\u001b[39m\u001b[39m'\u001b[39m][\u001b[39m0\u001b[39m]\n\u001b[1;32m     57\u001b[0m \u001b[39mprint\u001b[39m(d)\n\u001b[0;32m---> 58\u001b[0m result_dict\u001b[39m=\u001b[39m d[\u001b[39m'\u001b[39;49m\u001b[39mresult\u001b[39;49m\u001b[39m'\u001b[39;49m][\u001b[39m0\u001b[39;49m][\u001b[39m'\u001b[39m\u001b[39mitems\u001b[39m\u001b[39m'\u001b[39m]\n\u001b[1;32m     59\u001b[0m summary\u001b[39m=\u001b[39m \u001b[39m'\u001b[39m\u001b[39m'\u001b[39m\n\u001b[1;32m     60\u001b[0m \u001b[39mfor\u001b[39;00m i \u001b[39min\u001b[39;00m result_dict[:\u001b[39m25\u001b[39m]:\n",
      "\u001b[0;31mTypeError\u001b[0m: 'NoneType' object is not subscriptable"
     ]
    }
   ],
   "source": [
    "generate_intent_v2(\"Chinese Food Shops around me\")\n"
   ]
  },
  {
   "cell_type": "code",
   "execution_count": null,
   "metadata": {},
   "outputs": [],
   "source": []
  },
  {
   "cell_type": "code",
   "execution_count": 30,
   "metadata": {},
   "outputs": [
    {
     "data": {
      "text/plain": [
       "'Vanilla Pudding Recipe Homemade Vanilla Pudding Homemade Chocolate Pudding {Classic Dessert} Homemade Vanilla Pudding Vanilla Pudding Homemade Vanilla Pudding Recipe Homemade Vanilla Pudding 30 Best Pudding Recipes for a Creamy, Homemade Dessert The BEST Bread Pudding Recipe - Old Fashioned ... Simple Bread Pudding Recipe - NYT Cooking The BEST Rice Pudding Recipe (Just 5 ingredients!) Homemade Chocolate Pudding Recipe: How to Make It Easy Banana Pudding Recipe - NatashasKitchen.com 22 Easy Homemade Pudding Recipes Homemade Vanilla Pudding Recipe Our Favorite Pudding Recipes Unbelievable Butterscotch Pudding (Homemade) Easy Chocolate Pudding Recipe 4 INGREDIENT CHOCOLATE PUDDING RECIPE Best Homemade Vanilla Pudding Recipe Best Chocolate Pudding Recipe The BEST Homemade Chocolate Pudding Easy Bread Pudding Recipe Easy Chocolate Pudding Recipe Homemade Vanilla Pudding '"
      ]
     },
     "execution_count": 30,
     "metadata": {},
     "output_type": "execute_result"
    }
   ],
   "source": [
    "generate_seo_metatitle(\"pudding recepie\")"
   ]
  },
  {
   "cell_type": "code",
   "execution_count": 31,
   "metadata": {},
   "outputs": [
    {
     "name": "stdout",
     "output_type": "stream",
     "text": [
      "pudding recepie:\n",
      " tensor([[0.8777],\n",
      "        [0.8058],\n",
      "        [0.7973],\n",
      "        [0.7964],\n",
      "        [0.7929]])\n",
      "\n"
     ]
    },
    {
     "data": {
      "text/plain": [
       "('informational',\n",
       " 0.8777024745941162,\n",
       " tensor([[0.8777],\n",
       "         [0.8058],\n",
       "         [0.7973],\n",
       "         [0.7964],\n",
       "         [0.7929]]))"
      ]
     },
     "execution_count": 31,
     "metadata": {},
     "output_type": "execute_result"
    }
   ],
   "source": [
    "generate_intent_v2(\"pudding recepie\") # need to look\n"
   ]
  },
  {
   "cell_type": "code",
   "execution_count": 32,
   "metadata": {},
   "outputs": [
    {
     "name": "stdout",
     "output_type": "stream",
     "text": [
      "wikipedia:\n",
      " tensor([[0.8357],\n",
      "        [0.8664],\n",
      "        [0.8202],\n",
      "        [0.8240],\n",
      "        [0.8003]])\n",
      "\n"
     ]
    },
    {
     "data": {
      "text/plain": [
       "('navigational',\n",
       " 0.8663914203643799,\n",
       " tensor([[0.8357],\n",
       "         [0.8664],\n",
       "         [0.8202],\n",
       "         [0.8240],\n",
       "         [0.8003]]))"
      ]
     },
     "execution_count": 32,
     "metadata": {},
     "output_type": "execute_result"
    }
   ],
   "source": [
    "generate_intent_v2(\"wikipedia\")\n"
   ]
  },
  {
   "cell_type": "code",
   "execution_count": 33,
   "metadata": {},
   "outputs": [
    {
     "name": "stdout",
     "output_type": "stream",
     "text": [
      "Mission Impossible:\n",
      " tensor([[0.8656],\n",
      "        [0.8110],\n",
      "        [0.8411],\n",
      "        [0.8087],\n",
      "        [0.7765]])\n",
      "\n"
     ]
    },
    {
     "data": {
      "text/plain": [
       "('informational',\n",
       " 0.8655861616134644,\n",
       " tensor([[0.8656],\n",
       "         [0.8110],\n",
       "         [0.8411],\n",
       "         [0.8087],\n",
       "         [0.7765]]))"
      ]
     },
     "execution_count": 33,
     "metadata": {},
     "output_type": "execute_result"
    }
   ],
   "source": [
    "generate_intent_v2(\"Mission Impossible\")\n"
   ]
  },
  {
   "cell_type": "code",
   "execution_count": 34,
   "metadata": {},
   "outputs": [
    {
     "name": "stdout",
     "output_type": "stream",
     "text": [
      "Mission Immpossible:\n",
      " tensor([[0.8521],\n",
      "        [0.7898],\n",
      "        [0.8255],\n",
      "        [0.7942],\n",
      "        [0.7599]])\n",
      "\n"
     ]
    },
    {
     "data": {
      "text/plain": [
       "('informational',\n",
       " 0.8520621061325073,\n",
       " tensor([[0.8521],\n",
       "         [0.7898],\n",
       "         [0.8255],\n",
       "         [0.7942],\n",
       "         [0.7599]]))"
      ]
     },
     "execution_count": 34,
     "metadata": {},
     "output_type": "execute_result"
    }
   ],
   "source": [
    "generate_intent_v2(\"Mission Immpossible\")\n"
   ]
  },
  {
   "cell_type": "code",
   "execution_count": 35,
   "metadata": {},
   "outputs": [
    {
     "name": "stdout",
     "output_type": "stream",
     "text": [
      "bx headphones:\n",
      " tensor([[0.8563],\n",
      "        [0.8406],\n",
      "        [0.9062],\n",
      "        [0.8245],\n",
      "        [0.7872]])\n",
      "\n"
     ]
    },
    {
     "data": {
      "text/plain": [
       "('transactional',\n",
       " 0.9062157273292542,\n",
       " tensor([[0.8563],\n",
       "         [0.8406],\n",
       "         [0.9062],\n",
       "         [0.8245],\n",
       "         [0.7872]]))"
      ]
     },
     "execution_count": 35,
     "metadata": {},
     "output_type": "execute_result"
    }
   ],
   "source": [
    "generate_intent_v2(\"bx headphones\")"
   ]
  },
  {
   "cell_type": "code",
   "execution_count": 36,
   "metadata": {},
   "outputs": [
    {
     "name": "stdout",
     "output_type": "stream",
     "text": [
      "best headphones swimming:\n",
      " tensor([[0.8279],\n",
      "        [0.8239],\n",
      "        [0.8465],\n",
      "        [0.8314],\n",
      "        [0.7917]])\n",
      "\n"
     ]
    },
    {
     "data": {
      "text/plain": [
       "('transactional',\n",
       " 0.8465080857276917,\n",
       " tensor([[0.8279],\n",
       "         [0.8239],\n",
       "         [0.8465],\n",
       "         [0.8314],\n",
       "         [0.7917]]))"
      ]
     },
     "execution_count": 36,
     "metadata": {},
     "output_type": "execute_result"
    }
   ],
   "source": [
    "generate_intent_v2(\"best headphones swimming\")\n"
   ]
  },
  {
   "cell_type": "code",
   "execution_count": 37,
   "metadata": {},
   "outputs": [
    {
     "name": "stdout",
     "output_type": "stream",
     "text": [
      "band manager download:\n",
      " tensor([[0.8484],\n",
      "        [0.8500],\n",
      "        [0.8350],\n",
      "        [0.8392],\n",
      "        [0.7837]])\n",
      "\n"
     ]
    },
    {
     "data": {
      "text/plain": [
       "('navigational',\n",
       " 0.8500081300735474,\n",
       " tensor([[0.8484],\n",
       "         [0.8500],\n",
       "         [0.8350],\n",
       "         [0.8392],\n",
       "         [0.7837]]))"
      ]
     },
     "execution_count": 37,
     "metadata": {},
     "output_type": "execute_result"
    }
   ],
   "source": [
    "generate_intent_v2(\"band manager download\") ####\n"
   ]
  },
  {
   "cell_type": "code",
   "execution_count": 38,
   "metadata": {},
   "outputs": [
    {
     "name": "stdout",
     "output_type": "stream",
     "text": [
      "finance manager salary:\n",
      " tensor([[0.8057],\n",
      "        [0.8216],\n",
      "        [0.8011],\n",
      "        [0.8745],\n",
      "        [0.8005]])\n",
      "\n"
     ]
    },
    {
     "data": {
      "text/plain": [
       "('commercial',\n",
       " 0.8744828104972839,\n",
       " tensor([[0.8057],\n",
       "         [0.8216],\n",
       "         [0.8011],\n",
       "         [0.8745],\n",
       "         [0.8005]]))"
      ]
     },
     "execution_count": 38,
     "metadata": {},
     "output_type": "execute_result"
    }
   ],
   "source": [
    "generate_intent_v2(\"finance manager salary\") ####\n"
   ]
  },
  {
   "cell_type": "code",
   "execution_count": 39,
   "metadata": {},
   "outputs": [
    {
     "name": "stdout",
     "output_type": "stream",
     "text": [
      "music industry:\n",
      " tensor([[0.8194],\n",
      "        [0.8405],\n",
      "        [0.8063],\n",
      "        [0.9048],\n",
      "        [0.7961]])\n",
      "\n"
     ]
    },
    {
     "data": {
      "text/plain": [
       "('commercial',\n",
       " 0.904792308807373,\n",
       " tensor([[0.8194],\n",
       "         [0.8405],\n",
       "         [0.8063],\n",
       "         [0.9048],\n",
       "         [0.7961]]))"
      ]
     },
     "execution_count": 39,
     "metadata": {},
     "output_type": "execute_result"
    }
   ],
   "source": [
    "generate_intent_v2(\"music industry\") ####\n"
   ]
  },
  {
   "cell_type": "code",
   "execution_count": 40,
   "metadata": {},
   "outputs": [
    {
     "name": "stdout",
     "output_type": "stream",
     "text": [
      "plumber in arizona:\n",
      " tensor([[0.8229],\n",
      "        [0.8332],\n",
      "        [0.8261],\n",
      "        [0.8201],\n",
      "        [0.8808]])\n",
      "\n"
     ]
    },
    {
     "data": {
      "text/plain": [
       "('local',\n",
       " 0.8807932138442993,\n",
       " tensor([[0.8229],\n",
       "         [0.8332],\n",
       "         [0.8261],\n",
       "         [0.8201],\n",
       "         [0.8808]]))"
      ]
     },
     "execution_count": 40,
     "metadata": {},
     "output_type": "execute_result"
    }
   ],
   "source": [
    "generate_intent_v2(\"plumber in arizona\")"
   ]
  },
  {
   "cell_type": "code",
   "execution_count": null,
   "metadata": {},
   "outputs": [],
   "source": []
  },
  {
   "cell_type": "code",
   "execution_count": null,
   "metadata": {},
   "outputs": [],
   "source": []
  },
  {
   "cell_type": "code",
   "execution_count": null,
   "metadata": {},
   "outputs": [],
   "source": []
  }
 ],
 "metadata": {
  "kernelspec": {
   "display_name": "venv",
   "language": "python",
   "name": "python3"
  },
  "language_info": {
   "codemirror_mode": {
    "name": "ipython",
    "version": 3
   },
   "file_extension": ".py",
   "mimetype": "text/x-python",
   "name": "python",
   "nbconvert_exporter": "python",
   "pygments_lexer": "ipython3",
   "version": "3.10.12"
  },
  "orig_nbformat": 4
 },
 "nbformat": 4,
 "nbformat_minor": 2
}
