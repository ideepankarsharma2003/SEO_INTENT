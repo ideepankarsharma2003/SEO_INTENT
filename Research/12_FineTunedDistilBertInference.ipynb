{
 "cells": [
  {
   "cell_type": "code",
   "execution_count": 1,
   "metadata": {},
   "outputs": [],
   "source": [
    "import os; os.chdir('..')"
   ]
  },
  {
   "cell_type": "code",
   "execution_count": 3,
   "metadata": {},
   "outputs": [],
   "source": [
    "from Utils.get_intent_bert_basedANN import get_intent_one_by_one"
   ]
  },
  {
   "cell_type": "code",
   "execution_count": 4,
   "metadata": {},
   "outputs": [
    {
     "data": {
      "text/plain": [
       "[('Commercial', '0.988')]"
      ]
     },
     "execution_count": 4,
     "metadata": {},
     "output_type": "execute_result"
    }
   ],
   "source": [
    "get_intent_one_by_one(\"best cat ear headphones\")"
   ]
  },
  {
   "cell_type": "code",
   "execution_count": 5,
   "metadata": {},
   "outputs": [
    {
     "data": {
      "text/plain": [
       "[('Navigational', '0.988')]"
      ]
     },
     "execution_count": 5,
     "metadata": {},
     "output_type": "execute_result"
    }
   ],
   "source": [
    "get_intent_one_by_one(\"facebook\")"
   ]
  },
  {
   "cell_type": "code",
   "execution_count": 6,
   "metadata": {},
   "outputs": [
    {
     "data": {
      "text/plain": [
       "[('Commercial', '0.946'), ('Transactional', '0.799')]"
      ]
     },
     "execution_count": 6,
     "metadata": {},
     "output_type": "execute_result"
    }
   ],
   "source": [
    "get_intent_one_by_one(\"buy cheap loans\")"
   ]
  },
  {
   "cell_type": "code",
   "execution_count": 7,
   "metadata": {},
   "outputs": [
    {
     "data": {
      "text/plain": [
       "[('Transactional', '0.956'), ('Navigational', '0.579')]"
      ]
     },
     "execution_count": 7,
     "metadata": {},
     "output_type": "execute_result"
    }
   ],
   "source": [
    "get_intent_one_by_one(\"shop cars online\")"
   ]
  },
  {
   "cell_type": "code",
   "execution_count": 8,
   "metadata": {},
   "outputs": [
    {
     "data": {
      "text/plain": [
       "[('Informational', '0.839'), ('Navigational', '0.621')]"
      ]
     },
     "execution_count": 8,
     "metadata": {},
     "output_type": "execute_result"
    }
   ],
   "source": [
    "get_intent_one_by_one(\"katty perry\")"
   ]
  },
  {
   "cell_type": "code",
   "execution_count": 9,
   "metadata": {},
   "outputs": [
    {
     "data": {
      "text/plain": [
       "[('Informational', '0.96'), ('Commercial', '0.812')]"
      ]
     },
     "execution_count": 9,
     "metadata": {},
     "output_type": "execute_result"
    }
   ],
   "source": [
    "get_intent_one_by_one(\"Fastest Man Alive\")"
   ]
  },
  {
   "cell_type": "code",
   "execution_count": 10,
   "metadata": {},
   "outputs": [],
   "source": [
    "import pandas as pd"
   ]
  },
  {
   "cell_type": "code",
   "execution_count": 11,
   "metadata": {},
   "outputs": [
    {
     "data": {
      "text/html": [
       "<div>\n",
       "<style scoped>\n",
       "    .dataframe tbody tr th:only-of-type {\n",
       "        vertical-align: middle;\n",
       "    }\n",
       "\n",
       "    .dataframe tbody tr th {\n",
       "        vertical-align: top;\n",
       "    }\n",
       "\n",
       "    .dataframe thead th {\n",
       "        text-align: right;\n",
       "    }\n",
       "</style>\n",
       "<table border=\"1\" class=\"dataframe\">\n",
       "  <thead>\n",
       "    <tr style=\"text-align: right;\">\n",
       "      <th></th>\n",
       "      <th>keyword</th>\n",
       "      <th>intent</th>\n",
       "    </tr>\n",
       "  </thead>\n",
       "  <tbody>\n",
       "    <tr>\n",
       "      <th>0</th>\n",
       "      <td>citalopram vs prozac</td>\n",
       "      <td>Commercial</td>\n",
       "    </tr>\n",
       "    <tr>\n",
       "      <th>1</th>\n",
       "      <td>who is the oldest football player</td>\n",
       "      <td>Informational</td>\n",
       "    </tr>\n",
       "    <tr>\n",
       "      <th>2</th>\n",
       "      <td>t mobile town east</td>\n",
       "      <td>Navigational</td>\n",
       "    </tr>\n",
       "    <tr>\n",
       "      <th>3</th>\n",
       "      <td>starbucks</td>\n",
       "      <td>Navigational</td>\n",
       "    </tr>\n",
       "    <tr>\n",
       "      <th>4</th>\n",
       "      <td>tech crunch</td>\n",
       "      <td>Navigational</td>\n",
       "    </tr>\n",
       "    <tr>\n",
       "      <th>...</th>\n",
       "      <td>...</td>\n",
       "      <td>...</td>\n",
       "    </tr>\n",
       "    <tr>\n",
       "      <th>1066</th>\n",
       "      <td>How to make a paper flower?</td>\n",
       "      <td>Informational</td>\n",
       "    </tr>\n",
       "    <tr>\n",
       "      <th>1067</th>\n",
       "      <td>Why do some animals camouflage?</td>\n",
       "      <td>Informational</td>\n",
       "    </tr>\n",
       "    <tr>\n",
       "      <th>1068</th>\n",
       "      <td>What is the history of ancient civilizations?</td>\n",
       "      <td>Informational</td>\n",
       "    </tr>\n",
       "    <tr>\n",
       "      <th>1069</th>\n",
       "      <td>How to make a simple machine?</td>\n",
       "      <td>Informational</td>\n",
       "    </tr>\n",
       "    <tr>\n",
       "      <th>1070</th>\n",
       "      <td>Why do we see the phases of the moon?</td>\n",
       "      <td>Informational</td>\n",
       "    </tr>\n",
       "  </tbody>\n",
       "</table>\n",
       "<p>1071 rows × 2 columns</p>\n",
       "</div>"
      ],
      "text/plain": [
       "                                            keyword         intent\n",
       "0                              citalopram vs prozac     Commercial\n",
       "1                 who is the oldest football player  Informational\n",
       "2                                t mobile town east   Navigational\n",
       "3                                         starbucks   Navigational\n",
       "4                                       tech crunch   Navigational\n",
       "...                                             ...            ...\n",
       "1066                    How to make a paper flower?  Informational\n",
       "1067                Why do some animals camouflage?  Informational\n",
       "1068  What is the history of ancient civilizations?  Informational\n",
       "1069                  How to make a simple machine?  Informational\n",
       "1070          Why do we see the phases of the moon?  Informational\n",
       "\n",
       "[1071 rows x 2 columns]"
      ]
     },
     "execution_count": 11,
     "metadata": {},
     "output_type": "execute_result"
    }
   ],
   "source": [
    "df= pd.read_csv(\n",
    "    \"data/keyword_intent.csv\"\n",
    ")\n",
    "df"
   ]
  },
  {
   "cell_type": "code",
   "execution_count": 12,
   "metadata": {},
   "outputs": [],
   "source": [
    "# sample_df= df.sample(20)\n",
    "sample_df= df.copy()"
   ]
  },
  {
   "cell_type": "code",
   "execution_count": 13,
   "metadata": {},
   "outputs": [],
   "source": [
    "sample_df['intent_generated']= sample_df.keyword.map(get_intent_one_by_one)"
   ]
  },
  {
   "cell_type": "code",
   "execution_count": 14,
   "metadata": {},
   "outputs": [],
   "source": [
    "sample_df.to_csv(\"data/xyz.csv\", index=False)"
   ]
  },
  {
   "cell_type": "code",
   "execution_count": 1,
   "metadata": {},
   "outputs": [
    {
     "name": "stderr",
     "output_type": "stream",
     "text": [
      "/home/ubuntu/SEO_IntentGeneration/venv/lib/python3.10/site-packages/tqdm/auto.py:21: TqdmWarning: IProgress not found. Please update jupyter and ipywidgets. See https://ipywidgets.readthedocs.io/en/stable/user_install.html\n",
      "  from .autonotebook import tqdm as notebook_tqdm\n"
     ]
    },
    {
     "name": "stderr",
     "output_type": "stream",
     "text": [
      "2023-11-06 05:11:16.282238: I tensorflow/core/util/port.cc:111] oneDNN custom operations are on. You may see slightly different numerical results due to floating-point round-off errors from different computation orders. To turn them off, set the environment variable `TF_ENABLE_ONEDNN_OPTS=0`.\n",
      "2023-11-06 05:11:16.969498: E tensorflow/compiler/xla/stream_executor/cuda/cuda_dnn.cc:9342] Unable to register cuDNN factory: Attempting to register factory for plugin cuDNN when one has already been registered\n",
      "2023-11-06 05:11:16.969538: E tensorflow/compiler/xla/stream_executor/cuda/cuda_fft.cc:609] Unable to register cuFFT factory: Attempting to register factory for plugin cuFFT when one has already been registered\n",
      "2023-11-06 05:11:16.973684: E tensorflow/compiler/xla/stream_executor/cuda/cuda_blas.cc:1518] Unable to register cuBLAS factory: Attempting to register factory for plugin cuBLAS when one has already been registered\n",
      "2023-11-06 05:11:17.373488: I tensorflow/core/platform/cpu_feature_guard.cc:182] This TensorFlow binary is optimized to use available CPU instructions in performance-critical operations.\n",
      "To enable the following instructions: AVX2 AVX512F AVX512_VNNI FMA, in other operations, rebuild TensorFlow with the appropriate compiler flags.\n",
      "2023-11-06 05:11:19.176536: W tensorflow/compiler/tf2tensorrt/utils/py_utils.cc:38] TF-TRT Warning: Could not find TensorRT\n"
     ]
    }
   ],
   "source": [
    "from transformers import pipeline"
   ]
  },
  {
   "cell_type": "code",
   "execution_count": 6,
   "metadata": {},
   "outputs": [],
   "source": [
    "classifier = pipeline(\"text-classification\", model=\"/home/ubuntu/FineTunedDistilledBertAIChecker/intent_classification_model_without_metatitle_with_local23/checkpoint-355\")"
   ]
  },
  {
   "cell_type": "code",
   "execution_count": 7,
   "metadata": {},
   "outputs": [],
   "source": [
    "# !pip install xformers"
   ]
  },
  {
   "cell_type": "code",
   "execution_count": 11,
   "metadata": {},
   "outputs": [],
   "source": [
    "intent= classifier(\n",
    "    [\n",
    "        \"best cat ear headphones\",\n",
    "        \"buy new clothes\",\n",
    "        \"facebook\",\n",
    "        \n",
    "    ]\n",
    ")"
   ]
  },
  {
   "cell_type": "code",
   "execution_count": 15,
   "metadata": {},
   "outputs": [
    {
     "data": {
      "text/plain": [
       "['commercial', 'transactional', 'navigational']"
      ]
     },
     "execution_count": 15,
     "metadata": {},
     "output_type": "execute_result"
    }
   ],
   "source": [
    "[i['label'] for i in intent]"
   ]
  },
  {
   "cell_type": "code",
   "execution_count": 9,
   "metadata": {},
   "outputs": [
    {
     "data": {
      "text/plain": [
       "[{'label': 'commercial', 'score': 0.9892703294754028}]"
      ]
     },
     "execution_count": 9,
     "metadata": {},
     "output_type": "execute_result"
    }
   ],
   "source": [
    "classifier(\"best cat ear headphones\")"
   ]
  },
  {
   "cell_type": "code",
   "execution_count": 1,
   "metadata": {},
   "outputs": [],
   "source": [
    "import os; os.chdir('..')"
   ]
  },
  {
   "cell_type": "code",
   "execution_count": 2,
   "metadata": {},
   "outputs": [
    {
     "name": "stderr",
     "output_type": "stream",
     "text": [
      "/home/ubuntu/SEO_IntentGeneration/venv/lib/python3.10/site-packages/tqdm/auto.py:21: TqdmWarning: IProgress not found. Please update jupyter and ipywidgets. See https://ipywidgets.readthedocs.io/en/stable/user_install.html\n",
      "  from .autonotebook import tqdm as notebook_tqdm\n"
     ]
    }
   ],
   "source": [
    "import pandas as pd\n",
    "from Utils.get_intent_bert_basedANN import get_intent_bulk"
   ]
  },
  {
   "cell_type": "code",
   "execution_count": 3,
   "metadata": {},
   "outputs": [
    {
     "data": {
      "text/html": [
       "<div>\n",
       "<style scoped>\n",
       "    .dataframe tbody tr th:only-of-type {\n",
       "        vertical-align: middle;\n",
       "    }\n",
       "\n",
       "    .dataframe tbody tr th {\n",
       "        vertical-align: top;\n",
       "    }\n",
       "\n",
       "    .dataframe thead th {\n",
       "        text-align: right;\n",
       "    }\n",
       "</style>\n",
       "<table border=\"1\" class=\"dataframe\">\n",
       "  <thead>\n",
       "    <tr style=\"text-align: right;\">\n",
       "      <th></th>\n",
       "      <th>keyword</th>\n",
       "      <th>intent</th>\n",
       "      <th>intent_generated</th>\n",
       "    </tr>\n",
       "  </thead>\n",
       "  <tbody>\n",
       "    <tr>\n",
       "      <th>0</th>\n",
       "      <td>citalopram vs prozac</td>\n",
       "      <td>Commercial</td>\n",
       "      <td>[('Commercial', '0.992')]</td>\n",
       "    </tr>\n",
       "    <tr>\n",
       "      <th>1</th>\n",
       "      <td>who is the oldest football player</td>\n",
       "      <td>Informational</td>\n",
       "      <td>[('Informational', '0.995')]</td>\n",
       "    </tr>\n",
       "    <tr>\n",
       "      <th>2</th>\n",
       "      <td>t mobile town east</td>\n",
       "      <td>Navigational</td>\n",
       "      <td>[('Navigational', '0.978'), ('Commercial', '0....</td>\n",
       "    </tr>\n",
       "    <tr>\n",
       "      <th>3</th>\n",
       "      <td>starbucks</td>\n",
       "      <td>Navigational</td>\n",
       "      <td>[('Navigational', '0.988')]</td>\n",
       "    </tr>\n",
       "    <tr>\n",
       "      <th>4</th>\n",
       "      <td>tech crunch</td>\n",
       "      <td>Navigational</td>\n",
       "      <td>[('Navigational', '0.988')]</td>\n",
       "    </tr>\n",
       "  </tbody>\n",
       "</table>\n",
       "</div>"
      ],
      "text/plain": [
       "                             keyword         intent  \\\n",
       "0               citalopram vs prozac     Commercial   \n",
       "1  who is the oldest football player  Informational   \n",
       "2                 t mobile town east   Navigational   \n",
       "3                          starbucks   Navigational   \n",
       "4                        tech crunch   Navigational   \n",
       "\n",
       "                                    intent_generated  \n",
       "0                          [('Commercial', '0.992')]  \n",
       "1                       [('Informational', '0.995')]  \n",
       "2  [('Navigational', '0.978'), ('Commercial', '0....  \n",
       "3                        [('Navigational', '0.988')]  \n",
       "4                        [('Navigational', '0.988')]  "
      ]
     },
     "execution_count": 3,
     "metadata": {},
     "output_type": "execute_result"
    }
   ],
   "source": [
    "df= pd.read_csv(\"data/xyz.csv\")\n",
    "df.head()"
   ]
  },
  {
   "cell_type": "code",
   "execution_count": 4,
   "metadata": {},
   "outputs": [],
   "source": [
    "kl= df.keyword.values.tolist()"
   ]
  },
  {
   "cell_type": "code",
   "execution_count": 5,
   "metadata": {},
   "outputs": [
    {
     "data": {
      "text/plain": [
       "1071"
      ]
     },
     "execution_count": 5,
     "metadata": {},
     "output_type": "execute_result"
    }
   ],
   "source": [
    "len(kl)"
   ]
  },
  {
   "cell_type": "code",
   "execution_count": 7,
   "metadata": {},
   "outputs": [],
   "source": [
    "kl= kl*1000"
   ]
  },
  {
   "cell_type": "code",
   "execution_count": 8,
   "metadata": {},
   "outputs": [],
   "source": [
    "get_intent_bulk(kl)"
   ]
  },
  {
   "cell_type": "code",
   "execution_count": 1,
   "metadata": {},
   "outputs": [],
   "source": [
    "import os; os.chdir('..')"
   ]
  },
  {
   "cell_type": "code",
   "execution_count": 2,
   "metadata": {},
   "outputs": [],
   "source": [
    "# ! TF_ENABLE_ONEDNN_OPTS=0"
   ]
  },
  {
   "cell_type": "code",
   "execution_count": 3,
   "metadata": {},
   "outputs": [],
   "source": [
    "os.environ['TF_ENABLE_ONEDNN_OPTS']='0'"
   ]
  },
  {
   "cell_type": "code",
   "execution_count": 4,
   "metadata": {},
   "outputs": [
    {
     "name": "stderr",
     "output_type": "stream",
     "text": [
      "/home/ubuntu/SEO_IntentGeneration/venv/lib/python3.10/site-packages/tqdm/auto.py:21: TqdmWarning: IProgress not found. Please update jupyter and ipywidgets. See https://ipywidgets.readthedocs.io/en/stable/user_install.html\n",
      "  from .autonotebook import tqdm as notebook_tqdm\n",
      "2023-11-08 10:14:43.352648: E external/local_xla/xla/stream_executor/cuda/cuda_dnn.cc:10631] Unable to register cuDNN factory: Attempting to register factory for plugin cuDNN when one has already been registered\n",
      "2023-11-08 10:14:43.352691: E external/local_xla/xla/stream_executor/cuda/cuda_fft.cc:607] Unable to register cuFFT factory: Attempting to register factory for plugin cuFFT when one has already been registered\n",
      "2023-11-08 10:14:43.353981: E external/local_xla/xla/stream_executor/cuda/cuda_blas.cc:1533] Unable to register cuBLAS factory: Attempting to register factory for plugin cuBLAS when one has already been registered\n",
      "2023-11-08 10:14:43.361614: I tensorflow/core/platform/cpu_feature_guard.cc:182] This TensorFlow binary is optimized to use available CPU instructions in performance-critical operations.\n",
      "To enable the following instructions: AVX2 AVX512F AVX512_VNNI FMA, in other operations, rebuild TensorFlow with the appropriate compiler flags.\n",
      "2023-11-08 10:14:44.206676: W tensorflow/compiler/tf2tensorrt/utils/py_utils.cc:38] TF-TRT Warning: Could not find TensorRT\n"
     ]
    }
   ],
   "source": [
    "from utils.get_keywords_utils import generate_keywords_around_seed"
   ]
  },
  {
   "cell_type": "code",
   "execution_count": 5,
   "metadata": {},
   "outputs": [
    {
     "name": "stdout",
     "output_type": "stream",
     "text": [
      "10 Best Cat Ear Headphones [2023]  The first and best kid-friendly pick on this list are the Riwbox CT-7S Cat Ear Bluetooth Headphones. For parents looking for cute cat ear ... Good well functioning cat ear headphone recommendations?  I'm looking to get a good, comfy, and reasonably priced kitty ear headphones since my current ones hurt my head and around my ears. 10 Best Cat Ear Headphones in 2023  According to us, the best cat ear headphones/headset on the list is the Razer Kraken Kitty RGB USB Gaming Headset. It looks stylish, sounds ... Best cat ear headphones in 2023  Best cat ear headphones in 2023, 1. Razer Kraken Kitty Headset 2. FosPower 3. Riwbox CT-7S 4. Luckyu 5. TCJJ 6. MindKoo 7. LIMSON 8. LOBKIN. 15 Best Cat Ear Headphones In 2023  1. MindKoo MH-6 Bluetooth Cat Ear Headphones. Cat Ear Headphones  ONITOON Cat Ear Bluetooth Headphones with Micphone for Kids & Adults, LED Light Up Wireless HI-FI Sound Quality, Over-Ear Headphones with Volume Control for ... 11 Best Cat Ear Headphones: Wireless, Gaming, and More!  These headphones are great for gaming sessions as they feature industry-leading THX 7.1 surround sound and precise spatial audio support. Best Cat Ear Headphones In Your Budget  The YOWU RGB Cat Ear Headphone is one of the unique and innovative options that we have on this list. First and foremost, this pair of headphones certainly ... Best Cat Ear Headphones In 2023 [MUST WATCH] - YouTube  Check out our detailed guide for the same, on https://headphonesproreview.com/ headphones -for-glasses/ ... cat ear headphones  Search Newegg.com for cat ear headphones. Get fast shipping and top-rated customer service. \n"
     ]
    },
    {
     "data": {
      "text/plain": [
       "([('best cat ear headphones 2023', 0.9143),\n",
       "  ('best cat ear headphones 2023 according', 0.914),\n",
       "  ('best cat ear headphones 2023 best', 0.9125),\n",
       "  ('2023 best cat ear headphones', 0.9122),\n",
       "  ('10 best cat ear headphones 2023', 0.9107),\n",
       "  ('best cat ear headphones 2023 razer', 0.9101),\n",
       "  ('15 best cat ear headphones 2023', 0.9092),\n",
       "  ('headphones 2023 according best cat ear', 0.9082),\n",
       "  ('2023 according best cat ear headphones', 0.9074),\n",
       "  ('cat ear headphones 2023 best', 0.9073),\n",
       "  ('2023 best cat ear headphones 2023', 0.9071),\n",
       "  ('sounds best cat ear headphones 2023', 0.907),\n",
       "  ('cat ear headphones 2023 according best', 0.9069),\n",
       "  ('best cat ear headphones 2023 mindkoo', 0.9067),\n",
       "  ('headphones 2023 best cat ear', 0.9064),\n",
       "  ('best cat ear headphones 2023 watch', 0.9048),\n",
       "  ('headphones 2023 best cat ear headphones', 0.9044),\n",
       "  ('ear headphones 2023 best cat ear', 0.9023),\n",
       "  ('best cat ear headphones headset', 0.9007),\n",
       "  ('cat ear headphones 2023 best cat', 0.9001),\n",
       "  ('best cat ear headphones headset list', 0.8992),\n",
       "  ('certainly best cat ear headphones 2023', 0.8989),\n",
       "  ('best cat ear headphones', 0.8979),\n",
       "  ('ear headphones 2023 best cat', 0.8978),\n",
       "  ('ear headphones 2023 according best cat', 0.8968),\n",
       "  ('headphones 2023 best cat', 0.8948),\n",
       "  ('according best cat ear headphones headset', 0.8928),\n",
       "  ('best cat ear headphones budget', 0.8927),\n",
       "  ('10 best cat ear headphones', 0.8922),\n",
       "  ('headphones 2023 according best cat', 0.8919),\n",
       "  ('best cat ear headphones wireless gaming', 0.8917),\n",
       "  ('cat ear headphones 2023 best kid', 0.8906),\n",
       "  ('according best cat ear headphones', 0.8905),\n",
       "  ('best cat ear headphones wireless', 0.8902),\n",
       "  ('15 best cat ear headphones', 0.8879),\n",
       "  ('11 best cat ear headphones', 0.8866),\n",
       "  ('good functioning cat ear headphone recommendations', 0.8853),\n",
       "  ('ears 10 best cat ear headphones', 0.8838),\n",
       "  ('cat ear headphone recommendations', 0.8834),\n",
       "  ('best cat ear headphones budget yowu', 0.8827),\n",
       "  ('cat ear headphones 2023', 0.8823),\n",
       "  ('cat ear headphones headset list', 0.8823),\n",
       "  ('cat ear headphones 2023 mindkoo', 0.882),\n",
       "  ('support best cat ear headphones budget', 0.8818),\n",
       "  ('11 best cat ear headphones wireless', 0.8817),\n",
       "  ('support best cat ear headphones', 0.8816),\n",
       "  ('functioning cat ear headphone recommendations', 0.8815),\n",
       "  ('cat ear headphones 2023 razer kraken', 0.8811),\n",
       "  ('2023 best cat ear', 0.8811),\n",
       "  ('cat ear headphones 2023 razer', 0.8809)],)"
      ]
     },
     "execution_count": 5,
     "metadata": {},
     "output_type": "execute_result"
    }
   ],
   "source": [
    "generate_keywords_around_seed(\"best cat ear headphones\")"
   ]
  },
  {
   "cell_type": "code",
   "execution_count": null,
   "metadata": {},
   "outputs": [],
   "source": []
  }
 ],
 "metadata": {
  "kernelspec": {
   "display_name": "venv",
   "language": "python",
   "name": "python3"
  },
  "language_info": {
   "codemirror_mode": {
    "name": "ipython",
    "version": 3
   },
   "file_extension": ".py",
   "mimetype": "text/x-python",
   "name": "python",
   "nbconvert_exporter": "python",
   "pygments_lexer": "ipython3",
   "version": "3.10.12"
  }
 },
 "nbformat": 4,
 "nbformat_minor": 2
}
