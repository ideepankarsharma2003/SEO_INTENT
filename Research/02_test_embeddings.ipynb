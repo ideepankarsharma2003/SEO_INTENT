{
 "cells": [
  {
   "cell_type": "code",
   "execution_count": 1,
   "metadata": {},
   "outputs": [],
   "source": [
    "import os; os.chdir('..');"
   ]
  },
  {
   "cell_type": "code",
   "execution_count": 2,
   "metadata": {},
   "outputs": [
    {
     "data": {
      "text/plain": [
       "'/home/ubuntu/intent_generation'"
      ]
     },
     "execution_count": 2,
     "metadata": {},
     "output_type": "execute_result"
    }
   ],
   "source": [
    "%pwd"
   ]
  },
  {
   "cell_type": "code",
   "execution_count": 8,
   "metadata": {},
   "outputs": [],
   "source": [
    "from main import generate_intent_v2\n",
    "from Utils.client import generate_intent_using_dataforseo"
   ]
  },
  {
   "cell_type": "code",
   "execution_count": 17,
   "metadata": {},
   "outputs": [
    {
     "name": "stdout",
     "output_type": "stream",
     "text": [
      "Will Smith en.wikipedia.org https://en.wikipedia.org/wiki/Will_Smith Willard Carroll Smith II (born September 25, 1968), briefly known as the Fresh Prince, is an American actor, rapper and film producer. Will Smith (@willsmith) • Instagram photos and videos www.instagram.com https://www.instagram.com/willsmith/ 64M Followers, 224 Following, 1519 Posts - See Instagram photos and videos from Will Smith (@willsmith) Will Smith (@willsmith) · Twitter twitter.com https://twitter.com/willsmith?ref_src=twsrc%5Egoogle%7Ctwcamp%5Eserp%7Ctwgr%5Eauthor My favorite event, @makerfaire, is returning to the Bay Area in October. Early bird (read: cheap) tickets go off sale tomorrow, so grab them now if you want to go! I’ll be there! www.eventbrite.com/e/ma… Will Smith www.imdb.com https://www.imdb.com/name/nm0000226/ Willard Carroll \"Will\" Smith II (born September 25, 1968) is an American actor, comedian, producer, rapper, and songwriter. He has enjoyed success in ... Will by Will Smith willthebook.com https://willthebook.com/ This memoir is the product of a profound journey of self-knowledge, a reckoning with all that your will can get you and all that it can leave behind. Written ... Will Smith www.facebook.com https://www.facebook.com/WillSmith/ Will Smith the extraordinary greatest entertainer performer actor that has conquered all his fans hearts forever love you always your biggest fan ever Will Smith - Los Angeles Dodgers Catcher www.espn.com https://www.espn.com/mlb/player/_/id/38309/will-smith View the profile of Los Angeles Dodgers Catcher Will Smith on ESPN. Get the latest news, live stats and game highlights. Will Smith www.forbes.com https://www.forbes.com/profile/will-smith/ 69 Will Smith on the 2020 Celebrity 100 - Smith began a new approach to social media in 2017 and now collects millions through Instagram, YouTube and. Will Smith open.spotify.com https://open.spotify.com/artist/41qil2VaGbD194gaEcmmyx Will Smith rode the waves of mainstream pop culture masterfully, graduating ever upward in icon status as he developed from teenage rap sensation to sitcom ... Will Smith, American Actor, Rapper, Producer people.com https://people.com/tag/will-smith/ Will Smith (né Willard Carroll Smith, Jr.) is an American actor, rapper and producer. Smith launched his career as a rapper as the Fresh Prince. \n",
      "Will Smith:\n",
      " tensor([[0.8291],\n",
      "        [0.8192],\n",
      "        [0.7891],\n",
      "        [0.8006],\n",
      "        [0.8251]])\n",
      "\n",
      "('informational', 0.8290521502494812, tensor([[0.8291],\n",
      "        [0.8192],\n",
      "        [0.7891],\n",
      "        [0.8006],\n",
      "        [0.8251]]))\n",
      "\n",
      "\n",
      " {'will smith': 'informational'}\n"
     ]
    }
   ],
   "source": [
    "print(generate_intent_v2(\"Will Smith\"))\n",
    "print(f'\\n\\n', generate_intent_using_dataforseo([\"Will Smith\"]))"
   ]
  },
  {
   "cell_type": "code",
   "execution_count": 18,
   "metadata": {},
   "outputs": [],
   "source": [
    "# generate_intent_v2(\"Financial Office near me\")"
   ]
  },
  {
   "cell_type": "code",
   "execution_count": 20,
   "metadata": {},
   "outputs": [
    {
     "name": "stdout",
     "output_type": "stream",
     "text": [
      "Best Headphones per price bracket? : r/HeadphoneAdvice www.reddit.com https://www.reddit.com/r/HeadphoneAdvice/comments/sbx8h6/best_headphones_per_price_bracket/ $100-200: HiFiMan HE-400se. An incredible entry-level, open-back planar-magnetic that punches WAY above its weight. Runner-up: Sennheiser HD ... What are the best overall headphones in 2023? www.reddit.com https://www.reddit.com/r/HeadphoneAdvice/comments/11ak45m/what_are_the_best_overall_headphones_in_2023/ For headphones, right now the usual recommendations are Sennheiser HD 560S for gaming or budget. Btw, these days Sennheiser is always running ... I analyzed the 50 most popular headphones on r/ ... www.reddit.com https://www.reddit.com/r/headphones/comments/ujqrx5/i_analyzed_the_50_most_popular_headphones_on/ The best headphones on Reddit ... The DT880 are really underrated, arguably the best of them all (770,990,1770 and 1990). What are some of the best headphones (in your opinion) ... www.reddit.com https://www.reddit.com/r/headphones/comments/ks326w/what_are_some_of_the_best_headphones_in_your/ Sennheiser HD800 - excellent technicalities and most comfortable to my head shape and size. I can understand why it's still relevant in today's ... What are the best headphones for an around or less 300$ ... www.reddit.com https://www.reddit.com/r/fantanoforever/comments/z71acu/what_are_the_best_headphones_for_an_around_or/ That being said, probably the Sennheiser HD600, HD6XX or the Hifiman Sundaras. Under $300 you can probably do the HD6XX with a fiio e10k or a ... Best headphones purely for listening to music? www.reddit.com https://www.reddit.com/r/HeadphoneAdvice/comments/rgum43/best_headphones_purely_for_listening_to_music/ Either go for Bose QC series or go for WH-1000XM3 Or 4. Sound quality wise XM3 and XM4 are identical. Don't go for 1 or 2 tho. They have ... Best headphones? : r/audioengineering www.reddit.com https://www.reddit.com/r/audioengineering/comments/p05tak/best_headphones/ Best headphones ? · AKG K275* - 100$ · Sony MDR-7506 - 100$ · Sennheiser HD 280 Pro - 100$ · Audio-Technica ATH-M50x - 150$ · Beyerdynamic DT 770 Pro ... Most reliable audiophile grade headphones? www.reddit.com https://www.reddit.com/r/headphones/comments/t0sjgj/most_reliable_audiophile_grade_headphones/ There are great sounding headphones at every price point really. My Sony MDRs sound just as good as my Oppo PM3s but we're 1/4 of the price. I'm looking for the perfect headphones for me, after several ... www.reddit.com https://www.reddit.com/r/HeadphoneAdvice/comments/133bxtc/im_looking_for_the_perfect_headphones_for_me/ The only two headphones I recommend currently are Hifiman Edition XS and Sennheiser HD600 (keep in mind that I haven't used a lot of headphones) ... Best headphones to listen and enjoy music under $250? www.reddit.com https://www.reddit.com/r/HeadphoneAdvice/comments/tesfb7/best_headphones_to_listen_and_enjoy_music_under/ If you want a decently balanced sound with great clearness and separation, the HD560S or HiFiMan HE400se will be good choices. Based on other ... \n",
      "best headphones reddit :\n",
      " tensor([[0.8635],\n",
      "        [0.8459],\n",
      "        [0.8725],\n",
      "        [0.8742],\n",
      "        [0.8405]])\n",
      "\n",
      "('commercial', 0.8741562366485596, tensor([[0.8635],\n",
      "        [0.8459],\n",
      "        [0.8725],\n",
      "        [0.8742],\n",
      "        [0.8405]]))\n",
      "\n",
      "\n",
      " {'best headphones reddit ': 'transactional'}\n"
     ]
    }
   ],
   "source": [
    "print(generate_intent_v2(\"best headphones reddit \"))\n",
    "print(f'\\n\\n', generate_intent_using_dataforseo([\"best headphones reddit \"]))"
   ]
  },
  {
   "cell_type": "code",
   "execution_count": 21,
   "metadata": {},
   "outputs": [
    {
     "name": "stdout",
     "output_type": "stream",
     "text": [
      "When can I start tracking a UPS package? www.quora.com https://www.quora.com/When-can-I-start-tracking-a-UPS-package Whether you have provided delivery services directly or purchased an item and the seller will ship your item via UPS, you should always receive a tracking ... How to track my UPS truck in real time - Trucking - Quora trucking.quora.com https://trucking.quora.com/How-to-track-my-UPS-truck-in-real-time On every package you get you'll get a tracking number after you confirm you're order. I've never actually tried it but if it works that's good. UPS Tracking - UPStracking 1 - Quora upstracking.quora.com https://upstracking.quora.com/UPS-Tracking Something went wrong. Wait a moment and try again. Try again. Open in App. Sign In. Icon for UPStracking 1 · UPStracking 1. Follow. Ups Tracking - Quora bgswt.quora.com https://bgswt.quora.com/ Something went wrong. Wait a moment and try again. Try again. Open in App. Sign In. Icon for Ups Tracking. Follow. Ups Tracking. 1 Contributor. What methods can I use to track my UPS package? trackmyorder.quora.com https://trackmyorder.quora.com/https-qr-ae-pvsEZZ Track My Pack is an online tracking app for track your orders. Follow. Profile photo for Semul Johnson. Semul Johnson. CEO At Track My Pack · 1y ·. How to know if this is a real tracking number www.quora.com https://www.quora.com/How-do-I-know-if-this-is-a-real-tracking-number-I-received-a-text-message-saying-my-item-was-parcel-shipped-tracking-LZ8942357486EN?top_ans=368602015 USPS tracking numbers for packages start with a 9 and are 22 digits long. UPS start with 1Z and fed ex start with a 5 (I think). However if your item is shipped ... UPS Tracking and Technology and templates - ananyashukla 1 ananyashukla.quora.com https://ananyashukla.quora.com/UPS-Tracking-and-Technology-and-templates UPS Tracking and Technology and templates. Web-based parcel monitoring Has Been Utilized in the first times of That the world wide web[9] to market customer ... Package Tracking Software and Hardware, UPS, FedEx, DHL ... ryazlucas.quora.com https://ryazlucas.quora.com/Package-Tracking-Software-and-Hardware-UPS-FedEx-DHL-and-Others?ch=15&oid=5512835&share=0e9b5b4a&target_type=post Shipping and receiving can be much easier on your customers. Tektrack by Tekcore is the smart way to track inbound packages. The software is easy to use and ... Quora - Wikipedia en.wikipedia.org https://en.wikipedia.org/wiki/Quora Quora is a social question-and-answer website and online knowledge market headquartered in Mountain View, California. It was founded on June 25, 2009, ... Quora prodgf www.facebook.com https://www.facebook.com/people/Quora-prodgf/100067840418797/?locale=en_GB ... but but he already got 1Z69W94R6840081410 this is ups tracking number , his name is Daniel Vacek, his address is V Zakouti 332, Brehy, Czech republic, ... \n",
      "ups tracking quora:\n",
      " tensor([[0.8500],\n",
      "        [0.8550],\n",
      "        [0.8327],\n",
      "        [0.8254],\n",
      "        [0.8101]])\n",
      "\n",
      "('navigational', 0.855039656162262, tensor([[0.8500],\n",
      "        [0.8550],\n",
      "        [0.8327],\n",
      "        [0.8254],\n",
      "        [0.8101]]))\n",
      "\n",
      "\n",
      " {'ups tracking quora': 'navigational'}\n"
     ]
    }
   ],
   "source": [
    "print(generate_intent_v2(\"ups tracking quora\"))\n",
    "print(f'\\n\\n', generate_intent_using_dataforseo([\"ups tracking quora\"]))"
   ]
  },
  {
   "cell_type": "code",
   "execution_count": 22,
   "metadata": {},
   "outputs": [
    {
     "name": "stdout",
     "output_type": "stream",
     "text": [
      "Is 9anime a legal anime streaming site? www.quora.com https://www.quora.com/Is-9anime-a-legal-anime-streaming-site No, \"9anime\" is not a legal anime streaming site. \"9anime\" is a website that offers free streaming of anime content, but it operates without the proper ... A Short Story And a prime example of why 9Anime should not ... yonathanandfriends.quora.com https://yonathanandfriends.quora.com/A-Short-Story-And-a-prime-example-of-why-9Anime-should-not-be-your-metric-of-success-If-you-know-you-know Wait, these are screenshot from 9Anime? Y'all are using an ILLEGAL STREAMING service instead of, like, Crunchyroll metrics? Profile photo for Quora User. 9anime Tv's Space - Quora 9animetvsspace.quora.com https://9animetvsspace.quora.com/ Watch 9Anime free Online English Sub. Watch hundred of dubbed anime KissAnime. 1 Contributor. Profile photo for 9anime Tv. Anime Heaven - Quora animeheaven.quora.com https://animeheaven.quora.com/What-do-I-do-I-am-a-new-weeb-and-I-went-on-this-website-called-9anime-I-clicked-around-a-few-things-sending-me-to-di This is a place for people to discuss anime topics of all kinds and any anime. Follow. 134.1K134.1K. Eat watch sleep repeat - Anime & Manga - Quora animemanga.quora.com https://animemanga.quora.com/https-9anime-9animes-me-share-897-html If anyone wanna see demon slayer infinity train can see by downloading 9Anime app from play store.. The whole subbed version of movie is available there. Troubles with the site? : r/9anime www.reddit.com https://www.reddit.com/r/9anime/comments/vh6qrb/troubles_with_the_site/ Anything with manga or anime in the name. Quora too, for some reason. I think it's a service that the websites use that is down. Anyway, I see ... I wanna delete my account : r/9anime www.reddit.com https://www.reddit.com/r/9anime/comments/15gaczk/i_wanna_delete_my_account/ Like the title says I wanna delete my 9Anime/aniwave account but I've ... Why does 9anime.to redirect to aniwave.to now? ... r/quora icon ... Is 9 anime pirating? - Old School Gamers osgamers.com https://osgamers.com/frequently-asked-questions/is-9-anime-pirating 9anime operates as a pirate website, offering copyrighted material without permission from the ... Takedown request View complete answer on quora.com ... 117 Alternatives to 9anime.one sites.ipaddress.com https://sites.ipaddress.com/9anime.one/alternatives/ Discover 117 alternative competitors and similar sites to 9anime.one for an ... Quora - Quora, wo man Wissen miteinander austauscht und die Welt besser ... 9animefm | Temtem Forums www.playtemtem.com https://www.playtemtem.com/forums/members/9animefm.25283/about 9anime fm is free anime streaming website where y ou can watch English Subbed and ... + Email: contact@9anime.fm ... https://fr.quora.com/profile/9Aime-FM. \n",
      "9anime quora:\n",
      " tensor([[0.8737],\n",
      "        [0.8702],\n",
      "        [0.8495],\n",
      "        [0.8519],\n",
      "        [0.8476]])\n",
      "\n",
      "('informational', 0.8736927509307861, tensor([[0.8737],\n",
      "        [0.8702],\n",
      "        [0.8495],\n",
      "        [0.8519],\n",
      "        [0.8476]]))\n",
      "\n",
      "\n",
      " {'9anime quora': 'navigational'}\n"
     ]
    }
   ],
   "source": [
    "print(generate_intent_v2(\"9anime quora\"))\n",
    "print(f'\\n\\n', generate_intent_using_dataforseo([\"9anime quora\"]))"
   ]
  },
  {
   "cell_type": "code",
   "execution_count": 23,
   "metadata": {},
   "outputs": [
    {
     "name": "stdout",
     "output_type": "stream",
     "text": [
      "r/Costco - Reddit www.reddit.com https://www.reddit.com/r/Costco/ r/Costco: Welcome to Costco, we love you. Disclaimer: This Subreddit is not affiliated with Costco Wholesale Corporation. Best Costco Posts www.reddit.com https://www.reddit.com/t/costco/ Find the best posts and communities about Costco on Reddit. 6 of the Best Costco Shopping Tips From Reddit Users www.fool.com https://www.fool.com/the-ascent/personal-finance/articles/6-of-the-best-costco-shopping-tips-from-reddit-users/ Reddit can be a great place to find helpful hints on a variety of topics. Here are a few choice ways to shop Costco, courtesy of Reddit. The #1 Hack for Ordering Pizza From Costco's Food Court, ... www.allrecipes.com https://www.allrecipes.com/costco-food-court-cheese-pizza-upgrades-from-reddit-7693203 On a recent Reddit thread, users shared their “go-to” suggestions for how to make a slice of pizza at Costco's food court more enjoyable. COSTCO DEALS (@costcodeals) www.instagram.com https://www.instagram.com/costcodeals/ #️⃣1️⃣ ORIGINAL page for @CostcoDeals! Email for partnerships! Tag us in ur posts! @costcodealsofficial = backup NW      ‍♀️Not affiliated w/Costco. Which Side Are You On in This Reddit Costco Controversy? www.nasdaq.com https://www.nasdaq.com/articles/which-side-are-you-on-in-this-reddit-costco-controversy In fact, many Costco shoppers on Reddit regularly share tips and advice for making the most of your membership, scoring good deals, and stocking ... What is the difference between each type of membership? customerservice.costco.com https://customerservice.costco.com/app/answers/detail/a_id/857/~/what-is-the-difference-between-each-type-of-membership%3F Business Membership: $60.00 Annual membership fee*; Includes a free Household Card; Add Affiliate Cardholders for $60 each*; Valid at all Costco locations ... Is Costco worth it on Reddit? www.quora.com https://www.quora.com/Is-Costco-worth-it-on-Reddit Costco is a membership-based warehouse club that offers a variety of merchandise at discounted prices. It can be worth it to shop at Costco if you take ... Reddit Can't Believe One Shopper's 'Cheapest Costco Run ... www.mashed.com https://www.mashed.com/821419/reddit-cant-believe-one-shoppers-cheapest-costco-run-ever/ One person recently went to Costco and only spent under $1 and of course had to share it with Reddit - many of whom are in disbelief that ... Costco fans love this 'hideous' clothing item that's selling ... www.foxbusiness.com https://www.foxbusiness.com/lifestyle/costco-fans-love-hideous-clothing-item-selling-quickly-i-need-this-in-my-life Reddit users chime in as Costco fans quickly buy the store's logo fleece sweatshirt for less than $13 dollars online. Many shoppers say the ... \n",
      "cotsco reddit:\n",
      " tensor([[0.8767],\n",
      "        [0.8940],\n",
      "        [0.8888],\n",
      "        [0.8867],\n",
      "        [0.8711]])\n",
      "\n",
      "('navigational', 0.893959641456604, tensor([[0.8767],\n",
      "        [0.8940],\n",
      "        [0.8888],\n",
      "        [0.8867],\n",
      "        [0.8711]]))\n",
      "\n",
      "\n",
      " {'cotsco reddit': 'navigational'}\n"
     ]
    }
   ],
   "source": [
    "print(generate_intent_v2(\"cotsco reddit\"))\n",
    "print(f'\\n\\n', generate_intent_using_dataforseo([\"cotsco reddit\"]))"
   ]
  },
  {
   "cell_type": "code",
   "execution_count": 24,
   "metadata": {},
   "outputs": [
    {
     "name": "stdout",
     "output_type": "stream",
     "text": [
      "Barack Obama www.whitehouse.gov https://www.whitehouse.gov/about-the-white-house/presidents/barack-obama/ Barack Obama served as the 44th President of the United States. His story is the American story — values from the heartland, a middle-class upbringing in a ... The Office of Barack and Michelle Obama www.barackobama.com https://www.barackobama.com/ Welcome to the Office of Barack and Michelle Obama. We Love You Back. Play video. The Office of Barack and Michelle Obama · Obama Foundation. obama.org. Barack Obama en.wikipedia.org https://en.wikipedia.org/wiki/Barack_Obama A member of the Democratic Party, he was the first African-American president. ... Obama previously served as a U.S. senator representing Illinois from 2005 to ... President Barack Obama www.obamalibrary.gov https://www.obamalibrary.gov/obamas/president-barack-obama Barack Obama was inaugurated as the 44th President of the United States on January 20, 2009. Presidential Administration. President Barack Obama delivers an ... Barack Obama (@barackobama) www.instagram.com https://www.instagram.com/barackobama/?hl=en 37M Followers, 9 Following, 844 Posts - See Instagram photos and videos from Barack Obama (@barackobama) President Barack Obama | whitehouse.gov obamawhitehouse.archives.gov https://obamawhitehouse.archives.gov/administration/president-obama Barack Obama is the 44th President of the United States. His story is the American story -- values from the heartland, a middle-class upbringing in a strong ... Barack Obama www.facebook.com https://www.facebook.com/barackobama/ Barack Obama. 56330175 likes · 59223 talking about this. Dad, husband, former President, citizen. Barack Obama millercenter.org https://millercenter.org/president/obama Barack Obama was inaugurated as the 44th president of the United States—becoming the first African American to serve in that office—on January 20, 2009. Barack Obama | LinkedIn www.linkedin.com https://www.linkedin.com/in/barackobama View Barack Obama's profile on LinkedIn, the world's largest professional community. Barack has 4 jobs listed on their profile. See the complete profile on ... Welcome to the Obama Foundation | The Obama Foundation www.obama.org https://www.obama.org/ The Obama Foundation's mission is to inspire, empower, and connect people to change their world. \n",
      "Barack Obama:\n",
      " tensor([[0.8329],\n",
      "        [0.8255],\n",
      "        [0.7917],\n",
      "        [0.8035],\n",
      "        [0.8136]])\n",
      "\n",
      "('informational', 0.8329434394836426, tensor([[0.8329],\n",
      "        [0.8255],\n",
      "        [0.7917],\n",
      "        [0.8035],\n",
      "        [0.8136]]))\n",
      "\n",
      "\n",
      " {'barack obama': 'informational'}\n"
     ]
    }
   ],
   "source": [
    "print(generate_intent_v2(\"Barack Obama\"))\n",
    "print(f'\\n\\n', generate_intent_using_dataforseo([\"Barack Obama\"]))"
   ]
  },
  {
   "cell_type": "code",
   "execution_count": 25,
   "metadata": {},
   "outputs": [
    {
     "name": "stdout",
     "output_type": "stream",
     "text": [
      "Best Coffee Shop Near Me - September 2023 www.yelp.com https://www.yelp.com/nearme/coffee-shop Best Coffee Shop Near Me ; Flywheel Coffee Roasters on Yelp. Flywheel Coffee Roasters. 599. Coffee & Tea, Coffee Roasteries. 672 Stanyan St, San Francisco, CA. Just Love Coffee Cafe | Breakfast | Lunch | Dinner | Coffee | justlovecoffeecafe.com https://justlovecoffeecafe.com/ At Just Love Coffee, everyone deserves love and coffee. We cook our full breakfast, lunch, ... Find the closest Just Love Coffee Cafe. View Locations ... THE BEST 10 Coffee & Tea near La Jolla, San Diego, CA www.yelp.com https://www.yelp.com/search?cflt=coffee&find_loc=La+Jolla%2C+San+Diego%2C+CA Best Coffee & Tea in San Diego, CA - Bird Rock Coffee Roasters - La Jolla, Dripz Coffee, Sugar and Scribe, Better Buzz Coffee La Jolla, Pinpoint Cafe, ... THE 10 BEST Cafés in South Portland (Updated 2023) www.tripadvisor.com https://www.tripadvisor.com/Restaurants-g40894-c8-South_Portland_Maine.html Cafés in South Portland‎ · 30. Hilltop Coffee Shop · 29. Starbucks · 28. CERA · 27. Peaks Cafe · 26. Uncharted Tea · 25. Tandem Coffee Roasters · 24. Omi's Coffee Shop. 12 Best Coffee Shops In Ventura, California californiawanderland.com https://californiawanderland.com/coffee-shops-in-ventura/ 10. Café Ficelle ... Café Ficelle is a family-owned business with two locations, one in Ventura by the mall and one in Camarillo. We used to live ... The Best Coffee Shops in New Haven www.nhregister.com https://www.nhregister.com/best/map/best-new-haven-coffee-shops/ The Best Coffee Shops in New Haven ; Cafe Atlantique. Best of Finalist · (1 location) ; Common Grounds. Best of Winner · (2 locations) ; Pistachio Cafe. Best of ... Top Coffee Spots in the Stevens Point Area www.stevenspointarea.com https://www.stevenspointarea.com/blog/stories/post/top-coffee-spots/ Top Coffee Spots in the Stevens Point Area · Ruby Coffee Roasters Cafe · Zest Bakery and Coffeehouse · Emy J's Coffeehouse and Emy J's Coffee Vault. Eau Claire Coffee Shops | Cafes & Bakeries www.visiteauclaire.com https://www.visiteauclaire.com/restaurants/coffee-shops/ Find your perfect cup o' joe in Eau Claire from espresso to drip coffee. View our complete guide to coffee houses with quiet nooks, cafes with baked goods ... The Top 5 Coffee Shops in Barnstable www.vacationcapecod.com https://www.vacationcapecod.com/the-top-5-coffee-shops-in-barnstable/ 1) Nirvana Coffee Company. Located on Main Street in the heart of Barnstable Village, Nirvana Coffee Company is a must-visit during your Cape Cod vacation. · 2) ... La Colombe Cafe Nearby - Coffee Shop Near Me www.lacolombe.com https://www.lacolombe.com/pages/cafes Find a La Colombe cafe near you to get a perfect cup of coffee from our expert baristas. ... Find your nearest cafe location below! \n",
      "Coffee Shops near me:\n",
      " tensor([[0.8428],\n",
      "        [0.8428],\n",
      "        [0.8421],\n",
      "        [0.8478],\n",
      "        [0.8934]])\n",
      "\n",
      "('local', 0.8934341669082642, tensor([[0.8428],\n",
      "        [0.8428],\n",
      "        [0.8421],\n",
      "        [0.8478],\n",
      "        [0.8934]]))\n",
      "\n",
      "\n",
      " {'coffee shops near me': 'informational'}\n"
     ]
    }
   ],
   "source": [
    "print(generate_intent_v2(\"Coffee Shops near me\"))\n",
    "print(f'\\n\\n', generate_intent_using_dataforseo([\"Coffee Shops near me\"]))"
   ]
  },
  {
   "cell_type": "code",
   "execution_count": 26,
   "metadata": {},
   "outputs": [
    {
     "name": "stdout",
     "output_type": "stream",
     "text": [
      "The Amazing Spider-Man (film) en.wikipedia.org https://en.wikipedia.org/wiki/The_Amazing_Spider-Man_(film) The Amazing Spider-Man is a 2012 American superhero film based on the Marvel Comics character Spider-Man and sharing the title of the character's ... THE AMAZING SPIDER-MAN - Sony Pictures Entertainment www.sonypictures.com https://www.sonypictures.com/movies/theamazingspiderman A teenage Peter Parker grapples with both high school and amazing super-human crises as his alter-ego Spider-Man. The Amazing Spider-Man www.rottentomatoes.com https://www.rottentomatoes.com/m/the_amazing_spider_man Abandoned by his parents and raised by an aunt and uncle, teenager Peter Parker (Andrew Garfield), AKA Spider-Man, is trying to sort out who he is and ... The Amazing Spider-Man (2018 - 2022) | Comic Series www.marvel.com https://www.marvel.com/comics/series/24396/the_amazing_spider-man_2018_-_2022 Browse the Marvel comic series The Amazing Spider-Man (2018 - 2022). Check out individual issues, and find out how to read them! The Amazing Spider-Man 3: Everything that's been said ... bamsmackpow.com https://bamsmackpow.com/2023/08/29/the-amazing-spider-man-3-everything-thats-been-said/ It was in 2014's The Amazing Spider-Man 2 where we last saw Andrew Garfield's Peter Parker in his own movie – No Way Home doesn't count for this ... The Amazing Spider-Man www.disneyplus.com https://www.disneyplus.com/movies/the-amazing-spider-man/1XUNbIGBs7TO Peter Parker grapples with both high school and super-human crises as his alter-ego Spider-Man. The Amazing Spider-Man (Three-Disc Combo: Blu-ray ... www.amazon.com https://www.amazon.com/Amazing-Spider-Man-Three-Disc-Combo-UltraViolet/dp/B008QZ5PY2 The Amazing Spider-Man is the story of Peter Parker, an outcast high schooler who was abandoned by his parents as a boy, leaving him to be raised by his ... The Amazing Spider-Man - Movies on Google Play play.google.com https://play.google.com/store/movies/details/The_Amazing_Spider_Man?id=w4Hwfkfn0N8&hl=en_US&gl=US Teenage social outcast Peter (Andrew Garfield) spends his days trying to unravel the mystery of his own past and win the heart of his high school crush, ... The Amazing Spider-Man by Stan Lee, Steve Ditko www.penguinrandomhouse.com https://www.penguinrandomhouse.com/books/639739/the-amazing-spider-man-by-stan-lee-and-steve-ditko-foreword-by-jason-reynolds-introduction-by-ben-saunders-series-editor-ben-saunders/ About The Amazing Spider-Man ... The Penguin Classics Marvel Collection presents the origin stories, seminal tales, and characters of the Marvel Universe to ... The Amazing Spider-Man (2012) directed by Marc Webb letterboxd.com https://letterboxd.com/film/the-amazing-spider-man/ Peter Parker is an outcast high schooler abandoned by his parents as a boy, leaving him to be raised by his Uncle Ben and Aunt May. \n",
      "Amazing Spider Man:\n",
      " tensor([[0.8287],\n",
      "        [0.8139],\n",
      "        [0.7915],\n",
      "        [0.7992],\n",
      "        [0.8009]])\n",
      "\n",
      "('informational', 0.8286913633346558, tensor([[0.8287],\n",
      "        [0.8139],\n",
      "        [0.7915],\n",
      "        [0.7992],\n",
      "        [0.8009]]))\n",
      "\n",
      "\n",
      " {'amazing spider man': 'commercial'}\n"
     ]
    }
   ],
   "source": [
    "print(generate_intent_v2(\"Amazing Spider Man\"))\n",
    "print(f'\\n\\n', generate_intent_using_dataforseo([\"Amazing Spider Man\"]))"
   ]
  },
  {
   "cell_type": "code",
   "execution_count": 27,
   "metadata": {},
   "outputs": [
    {
     "name": "stdout",
     "output_type": "stream",
     "text": [
      "Vin Diesel en.wikipedia.org https://en.wikipedia.org/wiki/Vin_Diesel Mark Sinclair (born July 18, 1967), known professionally as Vin Diesel, is an American actor and film producer. One of the world's highest-grossing actors, ... Vin Diesel www.facebook.com https://www.facebook.com/VinDiesel/ Vin Diesel. 100025647 likes · 10591 talking about this. Artist. Vin Diesel (@vindiesel) / X twitter.com https://twitter.com/vindiesel?lang=en Actor, Director and Producer... fortunate enough to be able to do what I love... Joined March 2015. Vin Diesel www.rottentomatoes.com https://www.rottentomatoes.com/celebrity/vin_diesel Tomatometer® Audience Score Title Box Office Year\n",
      "No Score Yet No Score Yet Riddick: Furya ‑ 2024\n",
      "56% 84% Fast X $573.9M 2023\n",
      "82% 94% Guardians of the Galaxy Vol. 3 $359.0M 2023 People are blown away by film that shows Vin Diesel with ... www.unilad.com https://www.unilad.com/film-and-tv/news/people-are-blown-away-by-film-that-shows-vin-diesel-with-hair-232854-20230829 The courtroom comedy-drama film that was co-written and directed by Sidney Lumet sees Diesel star as real-life Mafia soldier Jackie DiNorscio. Vin Diesel www.imdb.com https://www.imdb.com/name/nm0004874/ Vin Diesel. Actor: Guardians of the Galaxy. Vin Diesel was born Mark Sinclair in Alameda County, California, along with his fraternal twin brother, ... Vin Diesel (@vindiesel) • Instagram photos and videos www.instagram.com https://www.instagram.com/vindiesel/?hl=en 99M Followers, 83 Following, 1959 Posts - See Instagram photos and videos from Vin Diesel (@vindiesel) Vin Diesel — The Movie Database (TMDB) www.themoviedb.org https://www.themoviedb.org/person/12835-vin-diesel?language=en-US Mark Sinclair (born July 18, 1967), known professionally as Vin Diesel, is an American actor and producer. One of the world's highest-grossing actors, ... Vin Diesel fans shocked to discover his past roles with hair www.nme.com https://www.nme.com/news/film/vin-diesel-fans-shocked-to-discover-his-past-roles-hair-3490880 Vin Diesel's past movie appearances without his signature bald look have circulated on social media, catching some fans off-guard. Vin Diesel | Biography, Movies, & Facts www.britannica.com https://www.britannica.com/biography/Vin-Diesel Vin Diesel, American actor best known for his action film series, most notably the Chronicles of Riddick, the Fast and Furious, and xXx. \n",
      "Vin Diesel:\n",
      " tensor([[0.8231],\n",
      "        [0.8070],\n",
      "        [0.7824],\n",
      "        [0.7975],\n",
      "        [0.8071]])\n",
      "\n",
      "('informational', 0.8230867385864258, tensor([[0.8231],\n",
      "        [0.8070],\n",
      "        [0.7824],\n",
      "        [0.7975],\n",
      "        [0.8071]]))\n",
      "\n",
      "\n",
      " {'vin diesel': 'informational'}\n"
     ]
    }
   ],
   "source": [
    "print(generate_intent_v2(\"Vin Diesel\"))\n",
    "print(f'\\n\\n', generate_intent_using_dataforseo([\"Vin Diesel\"]))"
   ]
  },
  {
   "cell_type": "code",
   "execution_count": 28,
   "metadata": {},
   "outputs": [
    {
     "name": "stdout",
     "output_type": "stream",
     "text": [
      "Sony Pictures Entertainment: Home Page www.sonypictures.com https://www.sonypictures.com/ Become a Fan. Subscribe to our newsletters and get updates from Sony Pictures delivered right to your inbox. SIGN UP NOW ... Sony Pictures (@sonypictures) www.instagram.com https://www.instagram.com/SonyPictures/?hl=en 5M Followers, 540 Following, 7584 Posts - See Instagram photos and videos from Sony Pictures (@SonyPictures) Sony Pictures en.wikipedia.org https://en.wikipedia.org/wiki/Sony_Pictures Sony Pictures Entertainment Inc is an American diversified multinational mass media and entertainment studio conglomerate that produces, acquires, ... Sony Pictures Entertainment www.youtube.com https://www.youtube.com/user/sonypictures Welcome to the official channel for Sony Pictures Entertainment. Subscribe now to get weekly first looks at our films, including the latest movie trailers, ... Sony Pictures www.facebook.com https://www.facebook.com/SonyPictures/ Sony Pictures. 28843958 likes · 10035 talking about this. Visit Sony Pictures: http://www.sonypictures.com Twitter: http://twitter.com/sonypictures... Sony Pictures Connect spt.spe.sony.com https://spt.spe.sony.com/ CLIENT LOGIN. User ID. Password. Login. Sign UpForgot Username?Forgot Password? sony-logo Privacy Policy Terms of Service HelpCookie Consent. About Us | Careers at Sony Pictures Entertainment www.sonypicturesjobs.com https://www.sonypicturesjobs.com/about-us Sony Pictures Entertainment is a division of Sony Corporation, a creative entertainment company built on a solid foundation of technology. Sony Pictures Classics | Homepage www.sonyclassics.com https://www.sonyclassics.com/ Sony Pictures Classics is an autonomous division of Sony Pictures Entertainment founded in January 1992 that distributes, produces and acquires independent ... Sony Pictures (sonypictures) - Profile www.pinterest.com https://www.pinterest.com/sonypictures/ Sony Pictures | Lights! Camera! Pinterest! Explore our boards to discover the latest on Sony Pictures' movies. \n",
      "sonypictures:\n",
      " tensor([[0.8503],\n",
      "        [0.8582],\n",
      "        [0.8305],\n",
      "        [0.8291],\n",
      "        [0.8378]])\n",
      "\n",
      "('navigational', 0.8582035303115845, tensor([[0.8503],\n",
      "        [0.8582],\n",
      "        [0.8305],\n",
      "        [0.8291],\n",
      "        [0.8378]]))\n",
      "\n",
      "\n",
      " {'sonypictures': 'informational'}\n"
     ]
    }
   ],
   "source": [
    "print(generate_intent_v2(\"sonypictures\"))\n",
    "print(f'\\n\\n', generate_intent_using_dataforseo([\"sonypictures\"]))"
   ]
  },
  {
   "cell_type": "code",
   "execution_count": 29,
   "metadata": {},
   "outputs": [
    {
     "name": "stdout",
     "output_type": "stream",
     "text": [
      "US Movie Theaters Near Me www.fandango.com https://www.fandango.com/movie-theaters Find all the movie theaters in the US by state, city or zip code. Fandango can help you find any movie theater in the United States. Find a Theatre www.amctheatres.com https://www.amctheatres.com/movie-theatres Movie theaters near me. See which theatre is nearest to you. Cinemark Theatres | Movie Times, Tickets, Cinemark ... www.cinemark.com https://www.cinemark.com/ Find Cinemark Movie Theatres near you. Check showtimes for new movies, buy tickets online and enjoy the most cinematic movie experience at Cinemark! Theatres www.imax.com https://www.imax.com/theatres Theatres | IMAX. ... Store · The IMAX Difference · Movies · Find a theatre. Search. Language ... Theatres Near You. Go Map. Today Aug 31. Find a Cinema Near You | Theatre List www.regmovies.com https://www.regmovies.com/static/en/us/theatre-list Find all of our Regal locations here. Discover movies and showtimes near you at a local Regal theatre. Find A Movie Theatre Near Me www.bbtheatres.com https://www.bbtheatres.com/theatres/ B&B Theatres is proud to offer over 50 different locations across 14 states, browse our locations and find your local theatre today. Megaplex Movie Theatres | Movie Showtimes & Tickets Near ... www.megaplextheatres.com https://www.megaplextheatres.com/ Find showtimes and movie tickets near you at Megaplex Theatres. Watch movie trailers, order food and drinks online, find luxury seating, and see showtimes ... Top 10 Best Movie Theater near Mashantucket, CT www.yelp.com https://www.yelp.com/search?find_desc=Movie+Theater&find_loc=Mashantucket%2C+CT Best Movie Theater near Mashantucket, CT ; AMC CLASSIC Lisbon 12. 8.0 mi. 3.1 (22 reviews) ; Mystic Luxury Cinemas. 6.5 mi. 3.6 (64 reviews) ; Regal Stonington. Movie Theaters | Find a Location www.marcustheatres.com https://www.marcustheatres.com/theatre-locations Find a Marcus Theatre location near you by region, state or city. Search theatres based on features, showings, restaurants, technology and more. Landmark Theatres: Home www.landmarktheatres.com https://www.landmarktheatres.com/ Rent Our Theatre. Hold a Screening or Event at Landmark Theatres! Event Movies playing at : Please select a location. The Room. A film by Tommy Wiseau ... \n",
      "theatres nearby:\n",
      " tensor([[0.8428],\n",
      "        [0.8583],\n",
      "        [0.8504],\n",
      "        [0.8419],\n",
      "        [0.8849]])\n",
      "\n",
      "('local', 0.88494873046875, tensor([[0.8428],\n",
      "        [0.8583],\n",
      "        [0.8504],\n",
      "        [0.8419],\n",
      "        [0.8849]]))\n",
      "\n",
      "\n",
      " {'theatres nearby': 'navigational'}\n"
     ]
    }
   ],
   "source": [
    "print(generate_intent_v2(\"theatres nearby\"))\n",
    "print(f'\\n\\n', generate_intent_using_dataforseo([\"theatres nearby\"]))"
   ]
  },
  {
   "cell_type": "code",
   "execution_count": 30,
   "metadata": {},
   "outputs": [
    {
     "name": "stdout",
     "output_type": "stream",
     "text": [
      "Hulu - Reddit www.reddit.com https://www.reddit.com/r/Hulu/ r/Hulu: r/Hulu is the unofficial subreddit of Hulu. Hulu is only available in the U.S. and Japan. Hulu Live www.reddit.com https://www.reddit.com/r/HuluLive/ Discussion about Hulu Live TV service. Hulu; ·; Movie; ·; Television. 3.3K members • 19 online. Join. In the Top 10% of largest communities on Reddit. AITA for 'being petty' when my cousin kicked me off her ... www.reddit.com https://www.reddit.com/r/AmItheAsshole/comments/14c4298/aita_for_being_petty_when_my_cousin_kicked_me_off/ A couple of months ago, Jean started a Hulu account that she pays for. She gave me the login and told me I can use it. Best Hulu Posts www.reddit.com https://www.reddit.com/t/hulu/ Find the best posts and communities about Hulu on Reddit. Hulu (u/Hulu_Official) www.reddit.com https://www.reddit.com/user/Hulu_Official/ u/Hulu_Official - Call a friend or famous soap star to watch the latest episode. 3. r/TheBear www.reddit.com https://www.reddit.com/r/TheBear/ r/TheBear: Subreddit for FX series 'The Bear' created by Christopher Storer and starring Jeremy Allen White. All episodes of Season 1 and 2 are now … Dual monitor setup has gray screen when streaming Netflix ... www.reddit.com https://www.reddit.com/r/techsupport/comments/166qgh7/dual_monitor_setup_has_gray_screen_when_streaming/ Hi, I have dual DELL monitors connected to an MSI laptop through an adapter. When I stream Netflix/Hulu, one of my monitor screens (the one ... 10 Most-Recommended Hulu Series On Reddit You ... screenrant.com https://screenrant.com/best-most-recommended-hulu-series-reddit/ There are a few incredible original shows on Hulu, but which one should you invest your time in? Redditors have some good suggestions. Hulu Is Holding a Q&A on Reddit This Week cordcuttersnews.com https://cordcuttersnews.com/hulu-holding-qa-reddit-week/ Looking forward to your questions about Hulu or streaming video, nerding out on your favorite shows, and hearing how Hulu could better serve you ... Hbo go down reddit gdvoa.dildoparty1.de https://gdvoa.dildoparty1.de/ See the link below for a full step-by-step guide on how to get HBO Max via Hulu. Why is Reddit down? Independent outage tracker Down ... \n",
      "hulu reddit:\n",
      " tensor([[0.8759],\n",
      "        [0.8834],\n",
      "        [0.8636],\n",
      "        [0.8648],\n",
      "        [0.8484]])\n",
      "\n",
      "('navigational', 0.8834224939346313, tensor([[0.8759],\n",
      "        [0.8834],\n",
      "        [0.8636],\n",
      "        [0.8648],\n",
      "        [0.8484]]))\n",
      "\n",
      "\n",
      " {'hulu reddit': 'navigational'}\n"
     ]
    }
   ],
   "source": [
    "print(generate_intent_v2(\"hulu reddit\"))\n",
    "print(f'\\n\\n', generate_intent_using_dataforseo([\"hulu reddit\"]))"
   ]
  },
  {
   "cell_type": "code",
   "execution_count": 31,
   "metadata": {},
   "outputs": [
    {
     "name": "stdout",
     "output_type": "stream",
     "text": [
      "My Girlfriend Cheated On Me I need Advice please www.reddit.com https://www.reddit.com/r/relationships/comments/uo8oih/my_girlfriend_cheated_on_me_i_need_advice_please/ Break up, go no contact. Hit the gym, be social, etc. Force yourself out there and find new hobbies that help you realize how much else is out ... My girlfriend cheated on me but regrets it now hugely www.reddit.com https://www.reddit.com/r/relationship_advice/comments/vixl1s/my_girlfriend_cheated_on_me_but_regrets_it_now/ I'm sorry this happened to you. Block her on everything and avoid her at all costs. She has no respect for you and your feelings whatsoever. Update- My gf cheated on me for the dumbest reason. www.reddit.com https://www.reddit.com/r/TrueOffMyChest/comments/151cz0b/update_my_gf_cheated_on_me_for_the_dumbest_reason/ She was worried OP's out of her league, so therefore she cheated on him to prove it? She just decided in her head that because OP is attractive, ... (28M)(29F)My girlfriend cheated on me, I have decided to ... www.reddit.com https://www.reddit.com/r/relationship_advice/comments/101eaew/28m29fmy_girlfriend_cheated_on_me_i_have_decided/ As per the title, my girlfriend of 5 years informed me that she had cheated on me with one of her friends whilst on a trip away. My girlfriend cheated on me and I'm broken : r/offmychest www.reddit.com https://www.reddit.com/r/offmychest/comments/r5trvl/my_girlfriend_cheated_on_me_and_im_broken/ It's best to leave. Leave her and cry it out for as long as you need, block her, etc. Hang out with friends and get yourself distracted with ... My gf fucking cheated on me for the dumbest reason www.reddit.com https://www.reddit.com/r/TrueOffMyChest/comments/14vphwh/my_gf_fucking_cheated_on_me_for_the_dumbest_reason/ Now one day I was at the gym with my friends and one of them invited me to his house because we were very tired, he asked me to stay for the ... My gf[25F] of 4 years, told me[25M] that she cheated on ... www.reddit.com https://www.reddit.com/r/relationships/comments/1vp92n/my_gf25f_of_4_years_told_me25m_that_she_cheated/ I have been cheated on by a girl I was with for years, difference being that she lied until I found evidence a year later. She could clearly not ... My gf cheated on me when I was about to propose to her www.reddit.com https://www.reddit.com/r/TrueOffMyChest/comments/yhzg72/my_gf_cheated_on_me_when_i_was_about_to_propose/ I told her friends and my friends that I am proposing to her today and told them to keep it a secret, and everyone, including me, were excited. My girlfriend cheated on me then called me the manipulator www.reddit.com https://www.reddit.com/r/TrueOffMyChest/comments/13q0stx/my_girlfriend_cheated_on_me_then_called_me_the/ After I snapped she told me she finally told him about me and that she was gonna block him and any other guy that currently flirts with her or ... My girlfriend cheated on me after 7 years.. : r/confessions www.reddit.com https://www.reddit.com/r/confessions/comments/14xcfjm/my_girlfriend_cheated_on_me_after_7_years/ 7 years in and she cheated on me, lied to me, tried to ghost me and rob me, then said the most horrible things about how she really felt ... \n",
      "my girlfriend cheated on me reddit:\n",
      " tensor([[0.8713],\n",
      "        [0.8589],\n",
      "        [0.8461],\n",
      "        [0.8491],\n",
      "        [0.8462]])\n",
      "\n",
      "('informational', 0.8713070154190063, tensor([[0.8713],\n",
      "        [0.8589],\n",
      "        [0.8461],\n",
      "        [0.8491],\n",
      "        [0.8462]]))\n",
      "\n",
      "\n",
      " {'my girlfriend cheated on me reddit': 'informational'}\n"
     ]
    }
   ],
   "source": [
    "print(generate_intent_v2(\"my girlfriend cheated on me reddit\"))\n",
    "print(f'\\n\\n', generate_intent_using_dataforseo([\"my girlfriend cheated on me reddit\"]))"
   ]
  },
  {
   "cell_type": "code",
   "execution_count": 33,
   "metadata": {},
   "outputs": [
    {
     "name": "stdout",
     "output_type": "stream",
     "text": [
      "WallStreetBets www.reddit.com https://www.reddit.com/r/wallstreetbets/top/ wallstreetbets. r/wallstreetbets. Like 4chan found a Bloomberg Terminal. 14.2M members • 16.7K online. Join. #47 in Largest Communities. r/wallstreetbets en.wikipedia.org https://en.wikipedia.org/wiki/R/wallstreetbets r/wallstreetbets, also known as WallStreetBets or WSB, is a subreddit where participants discuss stock and option trading. It has become notable for its ... Reddit beats lawsuit by WallStreetBets founder www.reuters.com https://www.reuters.com/legal/reddit-beats-lawsuit-by-wallstreetbets-founder-2023-07-11/ Jaime Rogozinski, who founded WallStreetBets in 2012, said Reddit ousted him in April 2020 as a pretext to keep him from controlling a \"a ... WallStreetBets Founder Sues Reddit www.wsj.com https://www.wsj.com/articles/wallstreetbets-founder-sues-reddit-10fa1168 Mr. Rogozinski created WallStreetBets in 2012, when he found himself bored by the sober analyses that dominated discussion boards like ... The founder of WallStreetBets is suing Reddit www.theverge.com https://www.theverge.com/2023/2/16/23602551/wallstreetbets-creator-reddit-lawsuit-rogozinski The creator of the WallStreetBets community, Jaime Rogozinski, is suing Reddit over claims he was wrongfully banned as a moderator of the ... Founder Of WallStreetBets—Which Sparked Meme Stock ... www.forbes.com https://www.forbes.com/sites/nicholasreimann/2023/02/15/founder-of-wallstreetbets-which-sparked-meme-stock-craze-sues-reddit-for-ousting-him-report-says/ James Rogozinski—who founded the WallStreetBets subreddit in 2012—accused Reddit of breach of contract and trademark infringement in the suit, ... Reddit triumphs as WallStreetBets founder's lawsuit crumbles www.livemint.com https://www.livemint.com/news/world/reddit-triumphs-as-wallstreetbets-founders-lawsuit-crumbles-11689123129097.html US judge dismisses lawsuit filed by WallStreetBets founder against Reddit. Founder accused Reddit of unjustly banning him and infringing on ... WallStreetBets founder explains how his subreddit ... - YouTube www.youtube.com https://www.youtube.com/watch?v=uKLqEfEDhik wallstreetbets # reddit #yahoofinance WallStreetBets Founder Jaime Rogozinski joins Yahoo Finance Live to talk about meme stocks, his hugely ... WallStreetBets Reddit Group: What Is It? - CoinDesk www.coindesk.com https://www.coindesk.com/markets/2021/01/28/wallstreetbets-reddit-group-what-is-it/ The group \"r/Wallstreetbets\" (aka WSB) is a longstanding subreddit channel where over 3.5 million Reddit users discuss highly speculative ... Reddit's WallStreetBets has its own language - Vox www.vox.com https://www.vox.com/the-goods/22264303/wallstreetbets-reddit-gamestop-stocks-language-community Commenters call themselves “degenerates” or “apes.” Reddit posts hype up how many “tendies” a person will get from their investments, a phrase ... \n",
      "wallstreetbets reddit:\n",
      " tensor([[0.8550],\n",
      "        [0.8691],\n",
      "        [0.8334],\n",
      "        [0.8395],\n",
      "        [0.8402]])\n",
      "\n",
      "('navigational', 0.8690733909606934, tensor([[0.8550],\n",
      "        [0.8691],\n",
      "        [0.8334],\n",
      "        [0.8395],\n",
      "        [0.8402]]))\n"
     ]
    }
   ],
   "source": [
    "print(generate_intent_v2(\"wallstreetbets reddit\"))\n",
    "# print(f'\\n\\n', generate_intent_using_dataforseo([\"wallstreetbets reddit\"]))"
   ]
  },
  {
   "cell_type": "code",
   "execution_count": 34,
   "metadata": {},
   "outputs": [
    {
     "name": "stdout",
     "output_type": "stream",
     "text": [
      "WallStreetBets - Reddit www.reddit.com https://www.reddit.com/r/wallstreetbets/ r/wallstreetbets: Like 4chan found a Bloomberg Terminal. r/wallstreetbets en.wikipedia.org https://en.wikipedia.org/wiki/R/wallstreetbets r/wallstreetbets, also known as WallStreetBets or WSB, is a subreddit where participants discuss stock and option trading. It has become notable for its ... Top WallStreetBets Stocks www.tipranks.com https://www.tipranks.com/compare-stocks/wallstreetbets Find the best WallStreetBets stocks with the highest smart score. Compare r/wallstreetbets stocks today by growth, price, analysts ratings, and more. WallStreetBets Discussion Data www.quiverquant.com https://www.quiverquant.com/wallstreetbets/ WallStreetBets Discussion Dashboard · Share · WallStreetBets is a community on Reddit where participants discuss stock and option trading. By parsing discussion ... WallStreetBets Founder Sues Reddit www.wsj.com https://www.wsj.com/articles/wallstreetbets-founder-sues-reddit-10fa1168 Rogozinski created WallStreetBets in 2012, when he found himself bored by the sober analyses that dominated discussion boards like Bogleheads ... Can WallStreetBets' Spectacular Short-Squeeze be ... www.reuters.com https://www.reuters.com/plus/can-wallstreetbets-spectacular-short-squeeze-be-repeated In early 2021, the Reddit social subplatform, WallStreetBets, took the media by storm and moved markets, rallying traders to put their money behind heavily ... The Worst Losses in WallStreetBets History - YouTube www.youtube.com https://www.youtube.com/watch?v=HSUBNzlMFo8 ... REDDIT ▻ https://reddit.com/r/Atrioc/ Edited by eriksenchee | https://twitter.com/eriksenchee #atrioc #stockmarket # wallstreetbets. WallStreetBets Reddit Group: What Is It? - CoinDesk www.coindesk.com https://www.coindesk.com/markets/2021/01/28/wallstreetbets-reddit-group-what-is-it/ The group \"r/Wallstreetbets\" (aka WSB) is a longstanding subreddit channel where over 3.5 million Reddit users discuss highly speculative ... Founder Of WallStreetBets—Which Sparked Meme Stock ... www.forbes.com https://www.forbes.com/sites/nicholasreimann/2023/02/15/founder-of-wallstreetbets-which-sparked-meme-stock-craze-sues-reddit-for-ousting-him-report-says/ James Rogozinski—who founded the WallStreetBets subreddit in 2012—accused Reddit of breach of contract and trademark infringement in the suit, ... What is Wall Street Bets, the upstart Reddit group that is ... www.yahoo.com https://www.yahoo.com/video/what-is-wall-street-bets-the-upstart-reddit-group-that-is-pummeling-wall-street-162734056.html WallStreetBets is actually “r/wallstreetbets” and it's a forum or “subreddit” on the popular website Reddit, which is a social platform and ... \n",
      "wallstreetbets:\n",
      " tensor([[0.8556],\n",
      "        [0.8689],\n",
      "        [0.8416],\n",
      "        [0.8452],\n",
      "        [0.8429]])\n",
      "\n",
      "('navigational', 0.8688716292381287, tensor([[0.8556],\n",
      "        [0.8689],\n",
      "        [0.8416],\n",
      "        [0.8452],\n",
      "        [0.8429]]))\n"
     ]
    }
   ],
   "source": [
    "print(generate_intent_v2(\"wallstreetbets\"))\n"
   ]
  },
  {
   "cell_type": "code",
   "execution_count": 35,
   "metadata": {},
   "outputs": [
    {
     "name": "stdout",
     "output_type": "stream",
     "text": [
      "CFB Streams | College Football Reddit Streams | NCAAF Live cfbstreams.cc https://cfbstreams.cc/ The best place to find NCAAF College Football streams. Reddit CFB Streams lets you pick the game, choose one of our many streamand enjoy! 20 Best College Football Streams 2023 | Websites To ... kamerpower.com https://kamerpower.com/20-best-college-football-streams-2022-websites-to-watch-college-football-online-free/ List of Free Channels To Watch College Football Online. Cricfree; BuffStreams; Stream-Hd.live; Liveball.tv; r/CFBstreams; Sportsurge; NFLBite; FirstRow Sports. Reddit CFB Streams | Buffstream NCAAF buffstream.io http://buffstream.io/cfbstreams Watch reddit college football streams aka cfb streams in HD for free. Reddit alternative to /r/cfbstreams. Every game of the season, watch cfb live streams HD! r/CFBStreams www.reddit.com https://www.reddit.com/r/CFBStreams/ CFBStreams. r/CFBStreams. Share your CFB streams! 186K members • 13 online. Join. NCAAF Streams | CFB Football Live| CFBStreams Reddit best.crackstreams.me https://best.crackstreams.me/cfbstreams Watch CFB streams and Football Streams links with the best HD videos on the net for free - cfbstreams reddit. Reddit CFB Streams bestsolaris.com https://bestsolaris.com/category/cfbstreams/ NCAAF Live Streaming Online College football is full of great games, big rivalries and new ... And you can watch all the games live here on Reddit NFL Stream. College football Week 1 TV schedule: FREE live streams ... www.nj.com https://www.nj.com/sports/2023/08/college-football-week-1-tv-schedule-free-live-streams-tv-channels-dates-times-for-every-college-football-game-north-carolina-vs-south-carolina-west-virginia-vs-penn-state-more.html College football Week 1 TV schedule: FREE live streams, TV channels, dates, times for every college football game. Updated: Aug. Watch NCAA College Football Games Live Online www.hulu.com https://www.hulu.com/ncaa-college-football Stream NCAA college football games live online with Hulu. Watch top teams from the ACC, Big Ten and more on ESPN, ABC, BTN, FOX, CBS. College Football Live (7/15/21) - Live Stream - Watch ESPN www.espn.com https://www.espn.com/watch/player/_/id/3802812 Watch the College Football Live live stream from ESPNews on Watch ESPN. First streamed on Thursday, July 15, 2021. Reddit NCAA College Football Streams, Watch Games Today ... ncaaf.sportshub.stream https://ncaaf.sportshub.stream/ Watch every college football streams today live for free. Keep an eye on our NCAAF website for streams, scores, schedules and more. \n",
      "college football streams:\n",
      " tensor([[0.8439],\n",
      "        [0.8387],\n",
      "        [0.8162],\n",
      "        [0.8194],\n",
      "        [0.8318]])\n",
      "\n",
      "('informational', 0.8439040184020996, tensor([[0.8439],\n",
      "        [0.8387],\n",
      "        [0.8162],\n",
      "        [0.8194],\n",
      "        [0.8318]]))\n"
     ]
    }
   ],
   "source": [
    "print(generate_intent_v2(\"college football streams\"))\n"
   ]
  },
  {
   "cell_type": "code",
   "execution_count": 36,
   "metadata": {},
   "outputs": [
    {
     "name": "stdout",
     "output_type": "stream",
     "text": [
      "r/CFBStreams www.reddit.com https://www.reddit.com/r/CFBStreams/ CFBStreams. r/CFBStreams. Share your CFB streams! 186K members • 13 online. Join. CFB Streams | College Football Reddit Streams | NCAAF Live cfbstreams.cc https://cfbstreams.cc/ The best place to find NCAAF College Football streams. Reddit CFB Streams lets you pick the game, choose one of our many streamand enjoy! [,OFFICIAL,]!! NCAA Football 2023 live Streams Free@ ... www.reddit.com https://www.reddit.com/r/FIFA22/comments/1665yap/official_ncaa_football_2023_live_streams/ Check all options to listen or watch College Football 2023 live stream for free on Reddit, Crackstreams & ESPN Plus. 2023 NCAA Football NCAA ... Reddit NCAA College Football Streams, Watch Games Today ... ncaaf.sportshub.stream https://ncaaf.sportshub.stream/ Watch every college football streams today live for free. Keep an eye on our NCAAF website for streams, scores, schedules and more. NCAAF Streams | CFB Football Live| CFBStreams Reddit best.crackstreams.me https://best.crackstreams.me/cfbstreams Watch CFB streams and Football Streams links with the best HD videos on the net for free - cfbstreams reddit. Reddit CFB Streams bestsolaris.com https://bestsolaris.com/category/cfbstreams/ CFB Streams. NCAAF Live Streaming Online. College football is full of great games, big rivalries and new and exciting talent. It all started way back ... Original NFL streams | Reddit NFL streams | NFLbite www.nflbite.com https://www.nflbite.com/ By the founders of /r/NFLstreams from Reddit. We publish the best list of NFL streams on the Internet, for free! ... Louisiana College Wildcats. Reddit CFB Streams - College Football Streaming playoffsstream.com http://playoffsstream.com/reddit-ncaaf-streams Watch NCAAF Stream and playoff Season online for free - NCAAF Stream Reddit - Enjoy the best NCAAF and College Football Free Online News and Streaming! Live NCAAF | CFB Streams | College Football Online - NFLBox nflstreams.me https://nflstreams.me/college-football-streams Stream reddit NCAAF games online. Get your CFB Saturday game pass free. HD College Football live streaming with SD options too. Watch free NCAAF streams on ... \n",
      "college football streams reddit:\n",
      " tensor([[0.8446],\n",
      "        [0.8408],\n",
      "        [0.8211],\n",
      "        [0.8221],\n",
      "        [0.8287]])\n",
      "\n",
      "('informational', 0.8446084260940552, tensor([[0.8446],\n",
      "        [0.8408],\n",
      "        [0.8211],\n",
      "        [0.8221],\n",
      "        [0.8287]]))\n"
     ]
    }
   ],
   "source": [
    "print(generate_intent_v2(\"college football streams reddit\"))\n"
   ]
  },
  {
   "cell_type": "code",
   "execution_count": 39,
   "metadata": {},
   "outputs": [
    {
     "name": "stdout",
     "output_type": "stream",
     "text": [
      "Branch Locations Near You www.onemainfinancial.com https://www.onemainfinancial.com/branches Find the closest OneMain Financial branch near you to talk to a real person. Get branch hours, directions, and phone numbers for our over 1500 locations ... Find a Financial Professional Near You www.prudential.com https://www.prudential.com/find-a-financial-professional Variable Annuities and Variable Life Insurance are distributed by Prudential Annuities Distributors, Inc. (“PAD”), Shelton, CT (main office). Each company (PICA ... Find a Financial Advisor Nearby with ... fa.ml.com https://fa.ml.com/find-an-advisor/ Find a nearby Merrill Lynch financial advisor to help with your financial needs and wealth management. Use the financial advisor near me locator to find an ... Bank Of America Locations locators.bankofamerica.com https://locators.bankofamerica.com/ Welcome to Bank of America's financial center location finder. Locate a financial center or ATM near you to open a CD, deposit funds and more. Find a Branch | Financial Services | Brokerage Firm client.schwab.com https://client.schwab.com/public/branchlocator/accessschwab.aspx Find your nearest Charles Schwab location and speak with one of our financial consultants. Get directions, hours, and request an appointment online. Find a Financial Advisor | Edward Jones www.edwardjones.com https://www.edwardjones.com/us-en/search/financial-advisor/results While financial goals aren't achieved overnight, the right process and partner can help. At Edward Jones, becoming a client starts with choosing a financial ... Find a Primerica Representative Nearby | Primerica Office ... reps.primerica.com https://reps.primerica.com/ Find a licensed representative near you using our convenient locator tool. Primerica is here to help you reach your financial goals. Find Local Insurance Agents Near You www.countryfinancial.com https://www.countryfinancial.com/en/representative-locator.html Find an insurance agent near you using our representative locator tool. Ask your local COUNTRY Financial rep about insurance, investing and retirement ... Find a Morgan Stanley Advisor Near You | Financial Advisors ... advisor.morganstanley.com https://advisor.morganstanley.com/search Find the right Morgan Stanley advisor for your wealth management. Search by your occupation, advisor certifications, investment needs, and languages spoken. Find a Financial Advisor www.wellsfargoadvisors.com https://www.wellsfargoadvisors.com/why-wells-fargo/financial-advisor.htm Find a Wells Fargo Financial Advisor near you in Wells Fargo Advisors office locations, Wells Fargo Bank branches and over the phone. Use our locator tool. \n",
      "financial offices near me:\n",
      " tensor([[0.8589],\n",
      "        [0.8894],\n",
      "        [0.8661],\n",
      "        [0.8587],\n",
      "        [0.8727]])\n",
      "\n",
      "('navigational', 0.8894335031509399, tensor([[0.8589],\n",
      "        [0.8894],\n",
      "        [0.8661],\n",
      "        [0.8587],\n",
      "        [0.8727]]))\n"
     ]
    }
   ],
   "source": [
    "print(generate_intent_v2(\"financial offices near me\"))\n"
   ]
  },
  {
   "cell_type": "code",
   "execution_count": 40,
   "metadata": {},
   "outputs": [],
   "source": [
    "mixed_keywords= [\n",
    "    \n",
    "    \n",
    "    \"Where to buy the best DSLR camera near me\" ,\n",
    "\"Symptoms of COVID-19 in children\" ,\n",
    "\"How to set up an Amazon Echo\",\n",
    "\"Best online stores for yoga mats\",\n",
    "]"
   ]
  },
  {
   "cell_type": "code",
   "execution_count": 41,
   "metadata": {},
   "outputs": [
    {
     "name": "stdout",
     "output_type": "stream",
     "text": [
      "DSLR Cameras www.bestbuy.com https://www.bestbuy.com/site/digital-cameras/digital-slr-cameras/abcat0401005.c?id=abcat0401005 Shop Best Buy for DSLR cameras. Let us help you find the right digital SLR camera to capture a lifetime of memories. Digital Cameras www.bestbuy.com https://www.bestbuy.com/site/cameras-camcorders/digital-cameras/abcat0401000.c?id=abcat0401000 Shop for digital camera products at Best Buy. We offer free shipping on a huge selection of digital cameras from Canon, Nikon, Sony & more. DSLR Cameras www.target.com https://www.target.com/c/digital-slr-cameras-electronics/-/N-5xtem Shop Target for the latest DSLR cameras from trusted brands like Nikon, Canon and more. Free shipping on orders $35+ & free returns plus same-day in-store ... Houston Camera Exchange - Buy New & Used ... www.houstoncameraexchange.com https://www.houstoncameraexchange.com/ Houston Camera Exchange offers new and used camera equipment, cameras, lenses, and accessories. We sell and buy cameras and lenses in Houston Texas. Digital SLR Cameras - Walmart.com www.walmart.com https://www.walmart.com/browse/electronics/dslr-cameras/3944_133277_1096663 Shop for Digital SLR Cameras in Cameras & Camcorders. Buy products such as CANON EOS REBEL T100 18-55 KIT at Walmart and save. Digital Cameras www.officedepot.com https://www.officedepot.com/b/digital-cameras/N-509534 Digital Cameras at Office Depot & OfficeMax. Shop today online, in store or buy online and pick up in stores. Accessories at Ritz Camera. Free Shipping! ritzcamera.com https://ritzcamera.com/ Shop at Ritz Camera for Digital Cameras, DSLRs, Lenses, and Camera Accessories. Get great deals and free shipping on Canon, Nikon, Sony products and more. Canon Where to Buy www.usa.canon.com https://www.usa.canon.com/contact-us/where-to-buy WHERE TO BUY. Explore your options, Explore CANON. ... Find a sales location &/or service partner that sells the product you want at a location nearest you. Buy & Sell at KEH Camera www.keh.com https://www.keh.com/ Buy & sell used cameras, lenses, gear, & other photography equipment at KEH Camera's online store. Save up to 40% off retail price & get a 180-day warranty. 13 Best Online Camera Stores in 2023 (Updated) expertphotography.com https://expertphotography.com/best-camera-stores/ Compare the prices of your coveted online camera stores with in-store camera stores. With some of these options, you may want to rent the item ... \n",
      "Where to buy the best DSLR camera near me:\n",
      " tensor([[0.8586],\n",
      "        [0.8749],\n",
      "        [0.9180],\n",
      "        [0.8887],\n",
      "        [0.8591]])\n",
      "\n",
      "('transactional', 0.9179667830467224, tensor([[0.8586],\n",
      "        [0.8749],\n",
      "        [0.9180],\n",
      "        [0.8887],\n",
      "        [0.8591]]))\n",
      "COVID-19 in babies and children - Mayo Clinic www.mayoclinic.org https://www.mayoclinic.org/diseases-conditions/coronavirus/in-depth/coronavirus-in-babies-and-children/art-20484405 Fever.\n",
      "Cough that becomes productive.\n",
      "Chest pain.\n",
      "New loss of taste or smell.\n",
      "Changes in the skin, such as discolored areas on the feet and hands.\n",
      "Sore throat.\n",
      "Nausea, vomiting, belly pain or diarrhea.\n",
      "Chills. COVID in Babies and Kids: Symptoms and Prevention www.hopkinsmedicine.org https://www.hopkinsmedicine.org/health/conditions-and-diseases/coronavirus/coronavirus-in-babies-and-children COVID symptoms in babies, toddlers and children? · Cough · Fever or chills · Shortness of breath or difficulty breathing · Muscle or body aches ... Coronavirus (COVID-19): What to Do if Your Child Is Sick kidshealth.org https://kidshealth.org/en/parents/coronavirus-child-is-sick.html Infection can cause a range of symptoms. Most common are fever, cough, trouble breathing, and gastrointestinal problems like bellyache, nausea, vomiting, and ... COVID-19 Diagnosed or Suspected www.seattlechildrens.org https://www.seattlechildrens.org/conditions/a-z/covid-19-diagnosed-or-suspected/ The most common symptoms are cough, sore throat, headache and fever. · Other common symptoms are chills, shivering (shaking), runny nose, muscle ... COVID vs. RSV, Flu & Other Bugs www.childrenscolorado.org https://www.childrenscolorado.org/conditions-and-advice/parenting/parenting-articles/coronavirus-and-flu-symptoms/ Fever/chills; Cough; Shortness of breath or difficulty breathing; Fatigue; Muscle or body aches; Headache; New loss of taste or smell; Sore ... Information for Pediatric Healthcare Providers www.cdc.gov https://www.cdc.gov/coronavirus/2019-ncov/hcp/pediatric-hcp.html The most common symptoms of COVID-19 in children are fever and cough, but many children can experience sore throat, rhinorrhea, headache, fatigue, ... COVID-19 Q&A: Kids and COVID www.umms.org https://www.umms.org/childrens/coronavirus/kids-covid Most children do seem to get mild or moderate symptoms, such as cough and fever, with COVID-19 that would appear the same as a cold. To be safe, all children ... Kids Health Information : Coronavirus COVID-19 www.rch.org.au https://www.rch.org.au/kidsinfo/fact_sheets/Coronavirus_COVID-19/ Signs and symptoms of COVID-19 · Fever · Runny nose · Cough · Sore throat · Fatigue · Headache · Irritability · Loss of appetite ... Flu, COVID-19, cold, allergies—what's the difference? www.choa.org https://www.choa.org/parent-resources/covid-19/difference-between-flu-covid19-cold-rsv In contrast, children with COVID-19 may not have any symptoms or may have a fever for a short period of time accompanied by congestion, a cough, and loss of ... How to Care for Your Child with COVID-19 at Home www.massgeneral.org https://www.massgeneral.org/children/coronavirus/how-to-care-for-your-child-with-covid-19-at-home Children with mild symptoms (such as fever, mild sore throat, nasal congestion, mild cough, aches, and pains) can usually be taken care of at ... \n",
      "Symptoms of COVID-19 in children:\n",
      " tensor([[0.8476],\n",
      "        [0.8243],\n",
      "        [0.8213],\n",
      "        [0.8190],\n",
      "        [0.8316]])\n",
      "\n",
      "('informational', 0.8476133346557617, tensor([[0.8476],\n",
      "        [0.8243],\n",
      "        [0.8213],\n",
      "        [0.8190],\n",
      "        [0.8316]]))\n",
      "Set Up Your Echo - Amazon Customer Service www.amazon.com https://www.amazon.com/gp/help/customer/display.html?nodeId=GKFJXZCLQ83HGHQZ Plug in your device.\n",
      "Open the Alexa app .\n",
      "Open More and select Add Device.\n",
      "Select Amazon Echo.\n",
      "Select Echo, Echo Dot, Echo Plus and more. Follow the instructions to set up your device. Alexa Setup - Official Guide - How to set up your Echo device www.amazon.com https://www.amazon.com/alexa-setup-guide/b?ie=UTF8&node=17978645011 Set up in the Alexa app ... Open the Alexa app and follow the on-screen instructions to set up your device. If you aren't prompted to set up your device after ... 4 easy steps to set up your new Echo device with Alexa www.aboutamazon.com https://www.aboutamazon.com/news/devices/4-easy-steps-to-set-up-your-new-echo-device-with-alexa 4 easy steps to set up your new Echo device with Alexa ; 1. Download the Alexa app · download the Alexa app ; 2. Connecting your Echo to WiFi · Find ... How to Set Up Alexa on Your Echo Device www.hellotech.com https://www.hellotech.com/guide/for/how-to-set-up-alexa-on-echo Open the Alexa app. · Then sign in to your Amazon account or set up a new account. · Then plug your Echo device into a power source. · In the Alexa app, tap More. How to set up your Amazon Echo www.digitaltrends.com https://www.digitaltrends.com/home/how-to-set-up-your-amazon-echo/ How to set up an Amazon Echo · Download the Amazon Alexa app · Plug in the Echo · Connect the Echo to Wi-Fi via the app · Start talking to Alexa. Alexa, How Do I Set Up My Amazon Echo? www.pcmag.com https://www.pcmag.com/how-to/how-to-set-up-an-amazon-echo Download the Amazon Alexa App · Pick a Device to Set Up · Enter Setup Mode · Connect to Wi-Fi · Say 'Alexa' · Special Note for Amazon Echo Show ... Bought Your First Amazon Alexa? Here's How to Set it Up www.groovypost.com https://www.groovypost.com/howto/setup-alexa-amazon-echo-dot/ Take the Alexa out of the box, put in the cable, then plug it in. The Alexa will immediately start flashing blue. Wait till the blue light ... How to Set up Alexa on Your Amazon Echo www.businessinsider.com https://www.businessinsider.com/guides/tech/alexa-setup 1. Install the Alexa app on your mobile device. · 2. Plug in your Echo device. · 3. Open the Alexa app, and sign in to your Amazon account. · 4. How to set up your Amazon Echo | CNN Underscored www.cnn.com https://www.cnn.com/cnn-underscored/electronics/how-to-set-up-amazon-echo First, ensure you've unpackaged your Echo and have plugged it in. An orange light should appear on the device, indicating that it's in Setup ... How to set up: Amazon Echo Dot, Echo and Echo Show media.rnib.org.uk https://media.rnib.org.uk/documents/Echo_Start_Guide_APDFJuly2021.pdf setup mode. Note: Screen reader users should wait to plug in their device until they have completed Point 4 in this guide. Orientation: Hold the Amazon Echo ... \n",
      "How to set up an Amazon Echo:\n",
      " tensor([[0.8458],\n",
      "        [0.8551],\n",
      "        [0.8306],\n",
      "        [0.8210],\n",
      "        [0.8051]])\n",
      "\n",
      "('navigational', 0.855086088180542, tensor([[0.8458],\n",
      "        [0.8551],\n",
      "        [0.8306],\n",
      "        [0.8210],\n",
      "        [0.8051]]))\n",
      "The 5 Best Yoga Mats of 2023 | Reviews by Wirecutter www.nytimes.com https://www.nytimes.com/wirecutter/reviews/best-yoga-mats/ The Best Yoga Mats ; Our pick. Lululemon The Reversible Mat 5mm · The best yoga mat · $88 from Lululemon · $78 ; Runner-up. JadeYoga Harmony Mat. Yoga Direct: Shop for the Best Yoga Mats, Props & Yoga ... www.yogadirect.com https://www.yogadirect.com/ For over 20 years, YogaDirect has been the #1 source of high quality yoga mats, yoga props, yoga bolsters, yoga straps, Zafus and yoga accessories all at ... 15 Best Yoga Mats, According to Models, Athletes, Yogis ... www.vogue.com https://www.vogue.com/article/best-yoga-mat The Best Yoga Mats ; The Super Model Favorite: Alo Yoga Warrior Mat, $128 ; The Cork Mat: Yoga Zeal Cork Moon Phases Printed Mat, $99 ; The Editor ... The 10 Very Best Yoga Mats - New York Magazine nymag.com https://nymag.com/strategist/article/best-yoga-mats.html Best overall yoga mat ... Three of the yogis we talked to named Manduka's PROlite mat as their go-to for daily practice. “The Manduka mat is ... The 18 Best Yoga Mats of 2023, Tested and Reviewed www.verywellfit.com https://www.verywellfit.com/best-yoga-mats-4158192 Whether you gravitate toward hot yoga or simply tend to sweat while you practice, Jade Yoga's Harmony Yoga Mat is our top choice. We found it ... Where to Buy Yoga Mats: 7 Perfect Places You Can Find bettermindbodysoul.com https://bettermindbodysoul.com/where-to-buy-yoga-mats/ Where to Buy Yoga Mats: 7 Perfect Places · Amazon · Walmart · Dick's Sporting Goods · Target · Hugger Mugger · Best Buy · Costco · Bottom Line. The 5 Best Yoga Stores Online onlineyogaplanet.com https://onlineyogaplanet.com/best-yoga-store-online/ The 5 Best Yoga Stores Online · 1. Alo Yoga · 2. Lululemon · 3. Amazon · 4. Athleta · 5. Girlfriend Collective. Yoga Mats - Largest Selection Online www.everydayyoga.com https://www.everydayyoga.com/collections/yoga-mats-15735 Shop the largest selection of Yoga Mats at EverydayYoga.com. Free shipping on $75+. Low Price Guarantee. The Web's Top Yoga Shop. Best yoga mats of 2023, tested by editors - CNN www.cnn.com https://www.cnn.com/cnn-underscored/reviews/best-yoga-mats We tested yoga mats from brands like Lululemon and Manduka to find the best yoga mats for any sort of practice, whether you're a beginner or ... Yoga Mats | REI Co-op www.rei.com https://www.rei.com/c/yoga-mats Shop for Yoga Mats at REI - FREE SHIPPING With $50 minimum purchase. Curbside Pickup Available NOW! 100% Satisfaction Guarantee. \n",
      "Best online stores for yoga mats:\n",
      " tensor([[0.8493],\n",
      "        [0.8393],\n",
      "        [0.8622],\n",
      "        [0.8652],\n",
      "        [0.8479]])\n",
      "\n",
      "('commercial', 0.8652487993240356, tensor([[0.8493],\n",
      "        [0.8393],\n",
      "        [0.8622],\n",
      "        [0.8652],\n",
      "        [0.8479]]))\n"
     ]
    }
   ],
   "source": [
    "for i in mixed_keywords:\n",
    "    print(generate_intent_v2(i))"
   ]
  },
  {
   "cell_type": "code",
   "execution_count": null,
   "metadata": {},
   "outputs": [],
   "source": []
  }
 ],
 "metadata": {
  "kernelspec": {
   "display_name": "venv",
   "language": "python",
   "name": "python3"
  },
  "language_info": {
   "codemirror_mode": {
    "name": "ipython",
    "version": 3
   },
   "file_extension": ".py",
   "mimetype": "text/x-python",
   "name": "python",
   "nbconvert_exporter": "python",
   "pygments_lexer": "ipython3",
   "version": "3.10.12"
  },
  "orig_nbformat": 4
 },
 "nbformat": 4,
 "nbformat_minor": 2
}
