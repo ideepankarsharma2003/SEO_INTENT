{
 "cells": [
  {
   "cell_type": "code",
   "execution_count": 1,
   "metadata": {},
   "outputs": [],
   "source": [
    "import os; os.chdir('..')"
   ]
  },
  {
   "cell_type": "code",
   "execution_count": 2,
   "metadata": {},
   "outputs": [],
   "source": [
    "# actual query logs present in google along with their frequency of search\n",
    "demo_query_logs= {\n",
    "    'what is translation earbuds?': 3,\n",
    "    'how translation earbuds work?': 10, # most frequent\n",
    "    'what are the best translation earbuds?': 1,\n",
    "    'what is the most expensive translation earbud?':0\n",
    "}"
   ]
  },
  {
   "cell_type": "code",
   "execution_count": 3,
   "metadata": {},
   "outputs": [],
   "source": [
    "query_templates= ['define {}', 'what do you mean by {}', 'what are the best {}', 'how heavy are {}', 'what is color of {}', 'cheapest {}', 'working of {}']"
   ]
  },
  {
   "cell_type": "code",
   "execution_count": 4,
   "metadata": {},
   "outputs": [],
   "source": [
    "query= \"translation earbuds\""
   ]
  },
  {
   "cell_type": "code",
   "execution_count": 5,
   "metadata": {},
   "outputs": [
    {
     "data": {
      "text/plain": [
       "['define translation earbuds',\n",
       " 'what do you mean by translation earbuds',\n",
       " 'what are the best translation earbuds',\n",
       " 'how heavy are translation earbuds',\n",
       " 'what is color of translation earbuds',\n",
       " 'cheapest translation earbuds',\n",
       " 'working of translation earbuds']"
      ]
     },
     "execution_count": 5,
     "metadata": {},
     "output_type": "execute_result"
    }
   ],
   "source": [
    "# template acquisition\n",
    "\n",
    "acquired_templates= []\n",
    "for i in query_templates:\n",
    "    acquired_templates.append(i.format(query))\n",
    "    \n",
    "    \n",
    "acquired_templates"
   ]
  },
  {
   "cell_type": "code",
   "execution_count": 6,
   "metadata": {},
   "outputs": [],
   "source": [
    "from main import generate_cosine_similarity, generate_base_embeddings_v2"
   ]
  },
  {
   "cell_type": "code",
   "execution_count": 7,
   "metadata": {},
   "outputs": [
    {
     "data": {
      "text/plain": [
       "(7, 1024)"
      ]
     },
     "execution_count": 7,
     "metadata": {},
     "output_type": "execute_result"
    }
   ],
   "source": [
    "acquired_templates_embeddings= generate_base_embeddings_v2(acquired_templates)\n",
    "acquired_templates_embeddings.shape"
   ]
  },
  {
   "cell_type": "code",
   "execution_count": 11,
   "metadata": {},
   "outputs": [
    {
     "data": {
      "text/plain": [
       "(4, 1024)"
      ]
     },
     "execution_count": 11,
     "metadata": {},
     "output_type": "execute_result"
    }
   ],
   "source": [
    "query_logs= list(demo_query_logs.keys())\n",
    "query_logs_embeddings= generate_base_embeddings_v2(query_logs)\n",
    "query_logs_embeddings.shape"
   ]
  },
  {
   "cell_type": "code",
   "execution_count": 19,
   "metadata": {},
   "outputs": [
    {
     "data": {
      "text/plain": [
       "[[0.9890637993812561,\n",
       "  0.9642318487167358,\n",
       "  0.9445757865905762,\n",
       "  0.9199326038360596],\n",
       " [0.9841970205307007,\n",
       "  0.9717227816581726,\n",
       "  0.9531764984130859,\n",
       "  0.9242734909057617],\n",
       " [0.9511412978172302,\n",
       "  0.9291219115257263,\n",
       "  0.9983932375907898,\n",
       "  0.944415807723999],\n",
       " [0.9125149250030518,\n",
       "  0.8945550918579102,\n",
       "  0.9029437899589539,\n",
       "  0.8925219774246216],\n",
       " [0.9255924820899963,\n",
       "  0.9049127101898193,\n",
       "  0.9084018468856812,\n",
       "  0.8920938968658447],\n",
       " [0.9308352470397949,\n",
       "  0.9122565388679504,\n",
       "  0.948818564414978,\n",
       "  0.9401549696922302],\n",
       " [0.962012529373169,\n",
       "  0.9773651957511902,\n",
       "  0.9406726360321045,\n",
       "  0.9189484119415283]]"
      ]
     },
     "execution_count": 19,
     "metadata": {},
     "output_type": "execute_result"
    }
   ],
   "source": [
    "similarity_matrix= generate_cosine_similarity(acquired_templates_embeddings, query_logs_embeddings).tolist()\n",
    "similarity_matrix"
   ]
  },
  {
   "cell_type": "code",
   "execution_count": 30,
   "metadata": {},
   "outputs": [],
   "source": [
    "# semantically similar keywords\n",
    "semantically_similar_query= []\n",
    "for i in range(len(similarity_matrix)):\n",
    "    max_sim= max(similarity_matrix[i])\n",
    "    original_query= query_logs[similarity_matrix[i].index(max_sim)]\n",
    "    if max_sim>0.95:\n",
    "        semantically_similar_query.append((acquired_templates[i], original_query, demo_query_logs[original_query]))\n",
    "# semantically_similar_query"
   ]
  },
  {
   "cell_type": "code",
   "execution_count": 31,
   "metadata": {},
   "outputs": [
    {
     "name": "stdout",
     "output_type": "stream",
     "text": [
      "query: \"define translation earbuds\" \t\t\toriginal_query: \"what is translation earbuds?\"\n",
      "query: \"what do you mean by translation earbuds\" \t\t\toriginal_query: \"what is translation earbuds?\"\n",
      "query: \"what are the best translation earbuds\" \t\t\toriginal_query: \"what are the best translation earbuds?\"\n",
      "query: \"working of translation earbuds\" \t\t\toriginal_query: \"how translation earbuds work?\"\n"
     ]
    }
   ],
   "source": [
    "for i in semantically_similar_query:\n",
    "    print(f'query: \"{i[0]}\" \\t\\t\\toriginal_query: \"{i[1]}\"')"
   ]
  },
  {
   "cell_type": "code",
   "execution_count": 35,
   "metadata": {},
   "outputs": [],
   "source": [
    "# Re Ranking based on #number of  searches\n",
    "semantically_similar_query.sort(key=lambda x:x[2], reverse=True)"
   ]
  },
  {
   "cell_type": "code",
   "execution_count": 37,
   "metadata": {},
   "outputs": [
    {
     "name": "stdout",
     "output_type": "stream",
     "text": [
      "generated query: '''working of translation earbuds''', original query: '''how translation earbuds work?''', #times: 10\n",
      "generated query: '''define translation earbuds''', original query: '''what is translation earbuds?''', #times: 3\n",
      "generated query: '''what do you mean by translation earbuds''', original query: '''what is translation earbuds?''', #times: 3\n",
      "generated query: '''what are the best translation earbuds''', original query: '''what are the best translation earbuds?''', #times: 1\n"
     ]
    }
   ],
   "source": [
    "for i in semantically_similar_query:\n",
    "    print(f\"generated query: '''{i[0]}''', original query: '''{i[1]}''', #times: {i[2]}\")"
   ]
  },
  {
   "cell_type": "code",
   "execution_count": null,
   "metadata": {},
   "outputs": [],
   "source": []
  }
 ],
 "metadata": {
  "kernelspec": {
   "display_name": "venv",
   "language": "python",
   "name": "python3"
  },
  "language_info": {
   "codemirror_mode": {
    "name": "ipython",
    "version": 3
   },
   "file_extension": ".py",
   "mimetype": "text/x-python",
   "name": "python",
   "nbconvert_exporter": "python",
   "pygments_lexer": "ipython3",
   "version": "3.10.12"
  },
  "orig_nbformat": 4
 },
 "nbformat": 4,
 "nbformat_minor": 2
}
