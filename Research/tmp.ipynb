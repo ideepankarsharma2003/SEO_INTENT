{
 "cells": [
  {
   "cell_type": "code",
   "execution_count": 1,
   "metadata": {},
   "outputs": [],
   "source": [
    "import os; os.chdir('..')"
   ]
  },
  {
   "cell_type": "code",
   "execution_count": 2,
   "metadata": {},
   "outputs": [],
   "source": [
    "# import tensorflow as tf\n",
    "# tf.__version__"
   ]
  },
  {
   "cell_type": "code",
   "execution_count": 3,
   "metadata": {},
   "outputs": [],
   "source": [
    "# from Utils.get_intent_bert_basedANN import get_intent_one_by_one"
   ]
  },
  {
   "cell_type": "code",
   "execution_count": 4,
   "metadata": {},
   "outputs": [],
   "source": [
    "# get_intent_one_by_one(\"best cat ear headphones\")"
   ]
  },
  {
   "cell_type": "code",
   "execution_count": null,
   "metadata": {},
   "outputs": [],
   "source": []
  },
  {
   "cell_type": "code",
   "execution_count": 5,
   "metadata": {},
   "outputs": [
    {
     "name": "stderr",
     "output_type": "stream",
     "text": [
      "/home/ubuntu/SEO_IntentGeneration/venv/lib/python3.10/site-packages/tqdm/auto.py:21: TqdmWarning: IProgress not found. Please update jupyter and ipywidgets. See https://ipywidgets.readthedocs.io/en/stable/user_install.html\n",
      "  from .autonotebook import tqdm as notebook_tqdm\n"
     ]
    }
   ],
   "source": [
    "from utils.get_keywords_utils import generate_keywords_Ngram"
   ]
  },
  {
   "cell_type": "code",
   "execution_count": 6,
   "metadata": {},
   "outputs": [
    {
     "data": {
      "text/plain": [
       "[['headphones', 0.873, 2], ['cat', 0.829, 1], ['headphones best', 0.8875, 0]]"
      ]
     },
     "execution_count": 6,
     "metadata": {},
     "output_type": "execute_result"
    }
   ],
   "source": [
    "generate_keywords_Ngram([\n",
    "    \"best cat ear headphones\", \n",
    "    \"best headphones\", \n",
    "    \"amazing headphones\"\n",
    "],\n",
    "                        3, 3)"
   ]
  },
  {
   "cell_type": "code",
   "execution_count": 7,
   "metadata": {},
   "outputs": [],
   "source": [
    "import pandas as pd"
   ]
  },
  {
   "cell_type": "code",
   "execution_count": 8,
   "metadata": {},
   "outputs": [
    {
     "data": {
      "text/html": [
       "<div>\n",
       "<style scoped>\n",
       "    .dataframe tbody tr th:only-of-type {\n",
       "        vertical-align: middle;\n",
       "    }\n",
       "\n",
       "    .dataframe tbody tr th {\n",
       "        vertical-align: top;\n",
       "    }\n",
       "\n",
       "    .dataframe thead th {\n",
       "        text-align: right;\n",
       "    }\n",
       "</style>\n",
       "<table border=\"1\" class=\"dataframe\">\n",
       "  <thead>\n",
       "    <tr style=\"text-align: right;\">\n",
       "      <th></th>\n",
       "      <th>Index</th>\n",
       "      <th>Keyword</th>\n",
       "      <th>similarity</th>\n",
       "    </tr>\n",
       "  </thead>\n",
       "  <tbody>\n",
       "    <tr>\n",
       "      <th>0</th>\n",
       "      <td>1</td>\n",
       "      <td>10 discount on great indian festival</td>\n",
       "      <td>-1</td>\n",
       "    </tr>\n",
       "    <tr>\n",
       "      <th>1</th>\n",
       "      <td>2</td>\n",
       "      <td>5 famous festivals of india</td>\n",
       "      <td>-1</td>\n",
       "    </tr>\n",
       "    <tr>\n",
       "      <th>2</th>\n",
       "      <td>3</td>\n",
       "      <td>9 festival</td>\n",
       "      <td>-1</td>\n",
       "    </tr>\n",
       "    <tr>\n",
       "      <th>3</th>\n",
       "      <td>4</td>\n",
       "      <td>about amazon great indian festival</td>\n",
       "      <td>-1</td>\n",
       "    </tr>\n",
       "    <tr>\n",
       "      <th>4</th>\n",
       "      <td>5</td>\n",
       "      <td>airpods price in great indian festival</td>\n",
       "      <td>-1</td>\n",
       "    </tr>\n",
       "  </tbody>\n",
       "</table>\n",
       "</div>"
      ],
      "text/plain": [
       "   Index                                 Keyword  similarity\n",
       "0      1    10 discount on great indian festival          -1\n",
       "1      2             5 famous festivals of india          -1\n",
       "2      3                              9 festival          -1\n",
       "3      4      about amazon great indian festival          -1\n",
       "4      5  airpods price in great indian festival          -1"
      ]
     },
     "execution_count": 8,
     "metadata": {},
     "output_type": "execute_result"
    }
   ],
   "source": [
    "df= pd.read_csv(\"/home/ubuntu/SEO_IntentGeneration/data/new_keyword.csv\")\n",
    "df.head()"
   ]
  },
  {
   "cell_type": "code",
   "execution_count": 9,
   "metadata": {},
   "outputs": [],
   "source": [
    "kl= df.Keyword.values.tolist()"
   ]
  },
  {
   "cell_type": "code",
   "execution_count": 10,
   "metadata": {},
   "outputs": [
    {
     "data": {
      "text/plain": [
       "703"
      ]
     },
     "execution_count": 10,
     "metadata": {},
     "output_type": "execute_result"
    }
   ],
   "source": [
    "len(kl)"
   ]
  },
  {
   "cell_type": "code",
   "execution_count": 16,
   "metadata": {},
   "outputs": [
    {
     "data": {
      "text/plain": [
       "[['great indian festival', 0.9028, 197],\n",
       " ['indian festival amazon', 0.8985, 19],\n",
       " ['indian festival deals', 0.8947, 3],\n",
       " ['indian festival sale', 0.8879, 23],\n",
       " ['amazon great indian', 0.8862, 17],\n",
       " ['indian festival offer', 0.884, 4],\n",
       " ['festival sale amazon', 0.8838, 3],\n",
       " ['indian festival offers', 0.8817, 5],\n",
       " ['indian festival iphone', 0.8793, 11],\n",
       " ['indian festival mobile', 0.8736, 5],\n",
       " ['festival amazon date', 0.873, 4],\n",
       " ['indian festival', 0.8729, 574],\n",
       " ['indian festival price', 0.8727, 6],\n",
       " ['indian festivals', 0.8693, 5],\n",
       " ['indian festival electronics', 0.8682, 3],\n",
       " ['festival amazon', 0.868, 20],\n",
       " ['indian festival credit', 0.8661, 3],\n",
       " ['indian festival date', 0.8654, 7],\n",
       " ['indian festival laptop', 0.8653, 5],\n",
       " ['indian festival phone', 0.865, 5],\n",
       " ['indian festival 2022', 0.8649, 12],\n",
       " ['indian festival schedule', 0.8637, 3],\n",
       " ['indian festival bank', 0.8633, 4],\n",
       " ['great indian', 0.8555, 216],\n",
       " ['festival', 0.8207, 641],\n",
       " ['indian', 0.8009, 632],\n",
       " ['great', 0.8021, 216],\n",
       " ['2023', 0.7585, 111],\n",
       " ['date', 0.7578, 85],\n",
       " ['amazon', 0.8175, 78],\n",
       " ['sale', 0.7489, 40],\n",
       " ['price', 0.7568, 38],\n",
       " ['quiz', 0.7482, 35],\n",
       " ['2022', 0.7657, 34],\n",
       " ['offers', 0.7734, 32],\n",
       " ['prime', 0.7469, 30],\n",
       " ['festival sale', 0.8391, 26],\n",
       " ['start', 0.7463, 26],\n",
       " ['days', 0.7459, 20],\n",
       " ['card', 0.7566, 20],\n",
       " ['festival 2022', 0.8116, 19],\n",
       " ['offer', 0.7596, 19],\n",
       " ['amazon great', 0.8425, 17],\n",
       " ['festival iphone', 0.8307, 11],\n",
       " ['sbi', 0.7545, 11],\n",
       " ['mobile', 0.7346, 10],\n",
       " ['india', 0.8052, 10],\n",
       " ['food', 0.7358, 10],\n",
       " ['deals', 0.7815, 10],\n",
       " ['day', 0.745, 9],\n",
       " ['hai', 0.7365, 9],\n",
       " ['list', 0.7431, 9],\n",
       " ['ends', 0.738, 9],\n",
       " ['october', 0.7358, 8],\n",
       " ['amazon date', 0.8181, 8],\n",
       " ['discount', 0.7908, 8],\n",
       " ['diwali', 0.7917, 8],\n",
       " ['festivals', 0.8357, 8],\n",
       " ['festival sbi', 0.822, 8],\n",
       " ['festival date', 0.8234, 8],\n",
       " ['flipkart', 0.7736, 7],\n",
       " ['credit', 0.7441, 6],\n",
       " ['diwali sale', 0.8192, 6],\n",
       " ['live', 0.7433, 6],\n",
       " ['festival price', 0.8219, 6],\n",
       " ['dates', 0.7638, 6],\n",
       " ['electronics', 0.7561, 5],\n",
       " ['fest', 0.81, 5],\n",
       " ['10', 0.7405, 5],\n",
       " ['shopping festival', 0.8146, 5],\n",
       " ['extended', 0.732, 5],\n",
       " ['2018', 0.7639, 5],\n",
       " ['festival mobile', 0.8209, 5],\n",
       " ['air', 0.7586, 5],\n",
       " ['shopping', 0.7586, 5],\n",
       " ['festival laptop', 0.8217, 5],\n",
       " ['date amazon', 0.823, 5],\n",
       " ['big', 0.7376, 5],\n",
       " ['festival offers', 0.8347, 5],\n",
       " ['indian shopping', 0.8179, 5],\n",
       " ['festival phone', 0.8185, 5],\n",
       " ['festival days', 0.8129, 5],\n",
       " ['duration', 0.7315, 4],\n",
       " ['festival macbook', 0.8163, 4],\n",
       " ['festival offer', 0.8333, 4],\n",
       " ['win', 0.7397, 4],\n",
       " ['upto', 0.7387, 4],\n",
       " ['festival bank', 0.814, 4],\n",
       " ['png', 0.7315, 3],\n",
       " ['festival electronics', 0.8207, 3],\n",
       " ['special', 0.7519, 3],\n",
       " ['iqoo', 0.7401, 3],\n",
       " ['festival deals', 0.8475, 3],\n",
       " ['12', 0.7382, 3],\n",
       " ['apple', 0.7465, 3],\n",
       " ['festival credit', 0.8138, 3],\n",
       " ['year', 0.7368, 3],\n",
       " ['schedule', 0.7524, 3],\n",
       " ['coupon', 0.7731, 3],\n",
       " ['today', 0.7317, 3],\n",
       " ['coming', 0.7624, 3],\n",
       " ['festival dates', 0.8206, 3],\n",
       " ['debit', 0.7351, 3],\n",
       " ['festival flipkart', 0.8249, 3],\n",
       " ['sale amazon', 0.8119, 3],\n",
       " ['festival diwali', 0.8196, 3],\n",
       " ['festival india', 0.8612, 2],\n",
       " ['festival banner', 0.8142, 2],\n",
       " ['logo', 0.7311, 2],\n",
       " ['countdown', 0.7517, 2],\n",
       " ['indian festival promo', 0.8769, 2],\n",
       " ['indian festival kindle', 0.8757, 2],\n",
       " ['banner', 0.7457, 2],\n",
       " ['festival tablet', 0.8294, 2],\n",
       " ['festival promo', 0.8166, 2],\n",
       " ['mobiles', 0.7391, 2],\n",
       " ['items', 0.7613, 2],\n",
       " ['indian festival coupon', 0.8909, 2],\n",
       " ['festival kindle', 0.8321, 2],\n",
       " ['promo', 0.7595, 2],\n",
       " ['aaega', 0.7913, 2],\n",
       " ['festival hdfc', 0.8297, 2],\n",
       " ['festival period', 0.8108, 2],\n",
       " ['festival discount', 0.8514, 2],\n",
       " ['indian festival india', 0.8676, 2],\n",
       " ['lucky', 0.736, 2],\n",
       " ['earbuds', 0.7407, 2],\n",
       " ['tablet', 0.7422, 2],\n",
       " ['15', 0.732, 2],\n",
       " ['november', 0.7308, 2],\n",
       " ['short', 0.7346, 2],\n",
       " ['indian festival earbuds', 0.8678, 2],\n",
       " ['famous', 0.7425, 2],\n",
       " ['festival prime', 0.8265, 2],\n",
       " ['indian festival tablet', 0.8662, 2],\n",
       " ['kindle', 0.7457, 2],\n",
       " ['smartphone', 0.7499, 2],\n",
       " ['hdfc', 0.7581, 2],\n",
       " ['indian festival special', 0.8653, 2],\n",
       " ['smartwatch', 0.7413, 2],\n",
       " ['festival special', 0.8183, 2],\n",
       " ['jackpot', 0.7361, 2],\n",
       " ['festival card', 0.832, 2],\n",
       " ['indian festival items', 0.8657, 2],\n",
       " ['raipur', 0.747, 2],\n",
       " ['indian festival dates', 0.8684, 2],\n",
       " ['best', 0.7379, 2],\n",
       " ['festival coupon', 0.8418, 2],\n",
       " ['festival earbuds', 0.8238, 2],\n",
       " ['indian festival smartphone', 0.8772, 2]]"
      ]
     },
     "execution_count": 16,
     "metadata": {},
     "output_type": "execute_result"
    }
   ],
   "source": [
    "generate_keywords_Ngram(kl, 150, 4)"
   ]
  },
  {
   "cell_type": "code",
   "execution_count": 12,
   "metadata": {},
   "outputs": [],
   "source": [
    "# !pip install nltk"
   ]
  },
  {
   "cell_type": "code",
   "execution_count": 13,
   "metadata": {},
   "outputs": [],
   "source": [
    "# from nltk import ngrams"
   ]
  },
  {
   "cell_type": "code",
   "execution_count": 14,
   "metadata": {},
   "outputs": [],
   "source": [
    "# s= (' '.join(kl)).split()"
   ]
  },
  {
   "cell_type": "code",
   "execution_count": null,
   "metadata": {},
   "outputs": [],
   "source": []
  }
 ],
 "metadata": {
  "kernelspec": {
   "display_name": "venv",
   "language": "python",
   "name": "python3"
  },
  "language_info": {
   "codemirror_mode": {
    "name": "ipython",
    "version": 3
   },
   "file_extension": ".py",
   "mimetype": "text/x-python",
   "name": "python",
   "nbconvert_exporter": "python",
   "pygments_lexer": "ipython3",
   "version": "3.10.12"
  }
 },
 "nbformat": 4,
 "nbformat_minor": 2
}
