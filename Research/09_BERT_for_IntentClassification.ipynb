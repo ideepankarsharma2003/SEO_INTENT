{
 "cells": [
  {
   "cell_type": "code",
   "execution_count": 1,
   "metadata": {},
   "outputs": [],
   "source": [
    "import os; os.chdir('..')"
   ]
  },
  {
   "cell_type": "code",
   "execution_count": 2,
   "metadata": {},
   "outputs": [
    {
     "name": "stderr",
     "output_type": "stream",
     "text": [
      "2023-10-04 10:39:08.876938: I tensorflow/core/platform/cpu_feature_guard.cc:182] This TensorFlow binary is optimized to use available CPU instructions in performance-critical operations.\n",
      "To enable the following instructions: AVX2 FMA, in other operations, rebuild TensorFlow with the appropriate compiler flags.\n",
      "2023-10-04 10:39:10.380131: W tensorflow/compiler/tf2tensorrt/utils/py_utils.cc:38] TF-TRT Warning: Could not find TensorRT\n"
     ]
    }
   ],
   "source": [
    "import os\n",
    "#import shutil\n",
    "import pandas as pd\n",
    "\n",
    "import tensorflow as tf\n",
    "import tensorflow_hub as hub\n",
    "import tensorflow_text as text\n",
    "import seaborn as sns\n",
    "from pylab import rcParams\n",
    "\n",
    "import matplotlib.pyplot as plt\n",
    "tf.get_logger().setLevel('ERROR')\n",
    "\n",
    "sns.set(style='whitegrid', palette='muted', font_scale=1.2)\n",
    "HAPPY_COLORS_PALETTE = [\"#01BEFE\", \"#FFDD00\", \"#FF7D00\", \"#FF006D\", \"#ADFF02\", \"#8F00FF\"]\n",
    "sns.set_palette(sns.color_palette(HAPPY_COLORS_PALETTE))\n",
    "rcParams['figure.figsize'] = 12, 8\n",
    "import warnings\n",
    "warnings.filterwarnings(\"ignore\")"
   ]
  },
  {
   "cell_type": "code",
   "execution_count": 3,
   "metadata": {},
   "outputs": [
    {
     "data": {
      "text/html": [
       "<div>\n",
       "<style scoped>\n",
       "    .dataframe tbody tr th:only-of-type {\n",
       "        vertical-align: middle;\n",
       "    }\n",
       "\n",
       "    .dataframe tbody tr th {\n",
       "        vertical-align: top;\n",
       "    }\n",
       "\n",
       "    .dataframe thead th {\n",
       "        text-align: right;\n",
       "    }\n",
       "</style>\n",
       "<table border=\"1\" class=\"dataframe\">\n",
       "  <thead>\n",
       "    <tr style=\"text-align: right;\">\n",
       "      <th></th>\n",
       "      <th>keyword</th>\n",
       "      <th>intent</th>\n",
       "    </tr>\n",
       "  </thead>\n",
       "  <tbody>\n",
       "    <tr>\n",
       "      <th>236</th>\n",
       "      <td>Spotify login</td>\n",
       "      <td>Navigational</td>\n",
       "    </tr>\n",
       "    <tr>\n",
       "      <th>417</th>\n",
       "      <td>Buy sustainable kitchenware</td>\n",
       "      <td>Commercial</td>\n",
       "    </tr>\n",
       "    <tr>\n",
       "      <th>1060</th>\n",
       "      <td>How to make a potato battery?</td>\n",
       "      <td>Informational</td>\n",
       "    </tr>\n",
       "    <tr>\n",
       "      <th>672</th>\n",
       "      <td>Shop for DJ equipment</td>\n",
       "      <td>Transactional</td>\n",
       "    </tr>\n",
       "    <tr>\n",
       "      <th>845</th>\n",
       "      <td>Shopping outlets in Orlando</td>\n",
       "      <td>Local</td>\n",
       "    </tr>\n",
       "  </tbody>\n",
       "</table>\n",
       "</div>"
      ],
      "text/plain": [
       "                            keyword         intent\n",
       "236                   Spotify login   Navigational\n",
       "417     Buy sustainable kitchenware     Commercial\n",
       "1060  How to make a potato battery?  Informational\n",
       "672           Shop for DJ equipment  Transactional\n",
       "845     Shopping outlets in Orlando          Local"
      ]
     },
     "execution_count": 3,
     "metadata": {},
     "output_type": "execute_result"
    }
   ],
   "source": [
    "import pandas as pd\n",
    "dataset= pd.read_csv(\"data/keyword_intent.csv\")\n",
    "dataset.sample(5)"
   ]
  },
  {
   "cell_type": "code",
   "execution_count": 4,
   "metadata": {},
   "outputs": [],
   "source": [
    "model_name= \"bert-base-cased\""
   ]
  },
  {
   "cell_type": "code",
   "execution_count": 5,
   "metadata": {},
   "outputs": [],
   "source": [
    "from transformers import AutoTokenizer\n",
    "tokenizer= AutoTokenizer.from_pretrained(model_name)\n"
   ]
  },
  {
   "cell_type": "code",
   "execution_count": 6,
   "metadata": {},
   "outputs": [
    {
     "data": {
      "text/plain": [
       "(1071, 2)"
      ]
     },
     "execution_count": 6,
     "metadata": {},
     "output_type": "execute_result"
    }
   ],
   "source": [
    "dataset.shape"
   ]
  },
  {
   "cell_type": "code",
   "execution_count": 7,
   "metadata": {},
   "outputs": [],
   "source": [
    "train_features= dataset.copy()\n",
    "train_labels= train_features.pop(\"intent\")"
   ]
  },
  {
   "cell_type": "code",
   "execution_count": 8,
   "metadata": {},
   "outputs": [
    {
     "data": {
      "text/html": [
       "<div>\n",
       "<style scoped>\n",
       "    .dataframe tbody tr th:only-of-type {\n",
       "        vertical-align: middle;\n",
       "    }\n",
       "\n",
       "    .dataframe tbody tr th {\n",
       "        vertical-align: top;\n",
       "    }\n",
       "\n",
       "    .dataframe thead th {\n",
       "        text-align: right;\n",
       "    }\n",
       "</style>\n",
       "<table border=\"1\" class=\"dataframe\">\n",
       "  <thead>\n",
       "    <tr style=\"text-align: right;\">\n",
       "      <th></th>\n",
       "      <th>keyword</th>\n",
       "    </tr>\n",
       "  </thead>\n",
       "  <tbody>\n",
       "    <tr>\n",
       "      <th>0</th>\n",
       "      <td>citalopram vs prozac</td>\n",
       "    </tr>\n",
       "    <tr>\n",
       "      <th>1</th>\n",
       "      <td>who is the oldest football player</td>\n",
       "    </tr>\n",
       "    <tr>\n",
       "      <th>2</th>\n",
       "      <td>t mobile town east</td>\n",
       "    </tr>\n",
       "    <tr>\n",
       "      <th>3</th>\n",
       "      <td>starbucks</td>\n",
       "    </tr>\n",
       "    <tr>\n",
       "      <th>4</th>\n",
       "      <td>tech crunch</td>\n",
       "    </tr>\n",
       "  </tbody>\n",
       "</table>\n",
       "</div>"
      ],
      "text/plain": [
       "                             keyword\n",
       "0               citalopram vs prozac\n",
       "1  who is the oldest football player\n",
       "2                 t mobile town east\n",
       "3                          starbucks\n",
       "4                        tech crunch"
      ]
     },
     "execution_count": 8,
     "metadata": {},
     "output_type": "execute_result"
    }
   ],
   "source": [
    "train_features[:5]"
   ]
  },
  {
   "cell_type": "code",
   "execution_count": 9,
   "metadata": {},
   "outputs": [
    {
     "data": {
      "text/plain": [
       "0       Commercial\n",
       "1    Informational\n",
       "2     Navigational\n",
       "3     Navigational\n",
       "4     Navigational\n",
       "Name: intent, dtype: object"
      ]
     },
     "execution_count": 9,
     "metadata": {},
     "output_type": "execute_result"
    }
   ],
   "source": [
    "train_labels[:5]"
   ]
  },
  {
   "cell_type": "code",
   "execution_count": 10,
   "metadata": {},
   "outputs": [],
   "source": [
    "train_features=train_features.values"
   ]
  },
  {
   "cell_type": "code",
   "execution_count": 11,
   "metadata": {},
   "outputs": [
    {
     "data": {
      "image/png": "[encoded data removed]",
      "text/plain": [
       "<Figure size 1200x800 with 1 Axes>"
      ]
     },
     "metadata": {},
     "output_type": "display_data"
    }
   ],
   "source": [
    "chart = sns.countplot(train_labels, palette=HAPPY_COLORS_PALETTE)\n",
    "plt.title(\"Number of texts per intent\")\n",
    "chart.set_xticklabels(chart.get_xticklabels(), rotation=30, horizontalalignment='right');"
   ]
  },
  {
   "cell_type": "code",
   "execution_count": 12,
   "metadata": {},
   "outputs": [],
   "source": [
    "from sklearn.preprocessing import LabelBinarizer"
   ]
  },
  {
   "cell_type": "code",
   "execution_count": 13,
   "metadata": {},
   "outputs": [],
   "source": [
    "binarizer=LabelBinarizer()\n",
    "trainlabels=binarizer.fit_transform(train_labels.values)"
   ]
  },
  {
   "cell_type": "code",
   "execution_count": 14,
   "metadata": {},
   "outputs": [
    {
     "data": {
      "text/plain": [
       "array(['Commercial', 'Informational', 'Navigational', ...,\n",
       "       'Informational', 'Informational', 'Informational'], dtype=object)"
      ]
     },
     "execution_count": 14,
     "metadata": {},
     "output_type": "execute_result"
    }
   ],
   "source": [
    "train_labels.values"
   ]
  },
  {
   "cell_type": "code",
   "execution_count": 15,
   "metadata": {},
   "outputs": [
    {
     "data": {
      "text/plain": [
       "array([[1, 0, 0, 0, 0],\n",
       "       [0, 1, 0, 0, 0],\n",
       "       [0, 0, 0, 1, 0],\n",
       "       [0, 0, 0, 1, 0],\n",
       "       [0, 0, 0, 1, 0],\n",
       "       [1, 0, 0, 0, 0],\n",
       "       [0, 0, 1, 0, 0],\n",
       "       [0, 0, 0, 1, 0],\n",
       "       [0, 1, 0, 0, 0],\n",
       "       [0, 0, 0, 0, 1]])"
      ]
     },
     "execution_count": 15,
     "metadata": {},
     "output_type": "execute_result"
    }
   ],
   "source": [
    "trainlabels[:10]"
   ]
  },
  {
   "cell_type": "code",
   "execution_count": 16,
   "metadata": {},
   "outputs": [
    {
     "data": {
      "text/plain": [
       "0       Commercial\n",
       "1    Informational\n",
       "2     Navigational\n",
       "3     Navigational\n",
       "4     Navigational\n",
       "5       Commercial\n",
       "6            Local\n",
       "7     Navigational\n",
       "8    Informational\n",
       "9    Transactional\n",
       "Name: intent, dtype: object"
      ]
     },
     "execution_count": 16,
     "metadata": {},
     "output_type": "execute_result"
    }
   ],
   "source": [
    "train_labels[:10]"
   ]
  },
  {
   "cell_type": "code",
   "execution_count": 17,
   "metadata": {},
   "outputs": [
    {
     "data": {
      "text/plain": [
       "array([['citalopram vs prozac'],\n",
       "       ['who is the oldest football player'],\n",
       "       ['t mobile town east'],\n",
       "       ['starbucks'],\n",
       "       ['tech crunch'],\n",
       "       ['screen protector'],\n",
       "       ['chinese food delivery near me'],\n",
       "       ['elevenlabs'],\n",
       "       ['llama'],\n",
       "       ['tire patch kit']], dtype=object)"
      ]
     },
     "execution_count": 17,
     "metadata": {},
     "output_type": "execute_result"
    }
   ],
   "source": [
    "train_features[:10]"
   ]
  },
  {
   "cell_type": "code",
   "execution_count": 18,
   "metadata": {},
   "outputs": [
    {
     "data": {
      "text/plain": [
       "(1071, 5)"
      ]
     },
     "execution_count": 18,
     "metadata": {},
     "output_type": "execute_result"
    }
   ],
   "source": [
    "trainlabels.shape"
   ]
  },
  {
   "cell_type": "code",
   "execution_count": 19,
   "metadata": {},
   "outputs": [
    {
     "name": "stdout",
     "output_type": "stream",
     "text": [
      "BERT model selected           : https://tfhub.dev/tensorflow/small_bert/bert_en_uncased_L-8_H-512_A-8/1\n",
      "Preprocess model auto-selected: https://tfhub.dev/tensorflow/bert_en_uncased_preprocess/2\n"
     ]
    }
   ],
   "source": [
    "bert_model_name = 'small_bert/bert_en_uncased_L-8_H-512_A-8' \n",
    "# bert_model_name = 'bert_en_cased_L-12_H-768_A-12' \n",
    "\n",
    "map_name_to_handle = {\n",
    "    'bert_en_uncased_L-12_H-768_A-12':\n",
    "        'https://tfhub.dev/tensorflow/bert_en_uncased_L-12_H-768_A-12/3',\n",
    "    'bert_en_cased_L-12_H-768_A-12':\n",
    "        'https://tfhub.dev/tensorflow/bert_en_cased_L-12_H-768_A-12/3',\n",
    "    'bert_multi_cased_L-12_H-768_A-12':\n",
    "        'https://tfhub.dev/tensorflow/bert_multi_cased_L-12_H-768_A-12/3',\n",
    "    'small_bert/bert_en_uncased_L-2_H-128_A-2':\n",
    "        'https://tfhub.dev/tensorflow/small_bert/bert_en_uncased_L-2_H-128_A-2/1',\n",
    "    'small_bert/bert_en_uncased_L-2_H-256_A-4':\n",
    "        'https://tfhub.dev/tensorflow/small_bert/bert_en_uncased_L-2_H-256_A-4/1',\n",
    "    'small_bert/bert_en_uncased_L-2_H-512_A-8':\n",
    "        'https://tfhub.dev/tensorflow/small_bert/bert_en_uncased_L-2_H-512_A-8/1',\n",
    "    'small_bert/bert_en_uncased_L-2_H-768_A-12':\n",
    "        'https://tfhub.dev/tensorflow/small_bert/bert_en_uncased_L-2_H-768_A-12/1',\n",
    "    'small_bert/bert_en_uncased_L-4_H-128_A-2':\n",
    "        'https://tfhub.dev/tensorflow/small_bert/bert_en_uncased_L-4_H-128_A-2/1',\n",
    "    'small_bert/bert_en_uncased_L-4_H-256_A-4':\n",
    "        'https://tfhub.dev/tensorflow/small_bert/bert_en_uncased_L-4_H-256_A-4/1',\n",
    "    'small_bert/bert_en_uncased_L-4_H-512_A-8':\n",
    "        'https://tfhub.dev/tensorflow/small_bert/bert_en_uncased_L-4_H-512_A-8/1',\n",
    "    'small_bert/bert_en_uncased_L-4_H-768_A-12':\n",
    "        'https://tfhub.dev/tensorflow/small_bert/bert_en_uncased_L-4_H-768_A-12/1',\n",
    "    'small_bert/bert_en_uncased_L-6_H-128_A-2':\n",
    "        'https://tfhub.dev/tensorflow/small_bert/bert_en_uncased_L-6_H-128_A-2/1',\n",
    "    'small_bert/bert_en_uncased_L-6_H-256_A-4':\n",
    "        'https://tfhub.dev/tensorflow/small_bert/bert_en_uncased_L-6_H-256_A-4/1',\n",
    "    'small_bert/bert_en_uncased_L-6_H-512_A-8':\n",
    "        'https://tfhub.dev/tensorflow/small_bert/bert_en_uncased_L-6_H-512_A-8/1',\n",
    "    'small_bert/bert_en_uncased_L-6_H-768_A-12':\n",
    "        'https://tfhub.dev/tensorflow/small_bert/bert_en_uncased_L-6_H-768_A-12/1',\n",
    "    'small_bert/bert_en_uncased_L-8_H-128_A-2':\n",
    "        'https://tfhub.dev/tensorflow/small_bert/bert_en_uncased_L-8_H-128_A-2/1',\n",
    "    'small_bert/bert_en_uncased_L-8_H-256_A-4':\n",
    "        'https://tfhub.dev/tensorflow/small_bert/bert_en_uncased_L-8_H-256_A-4/1',\n",
    "    'small_bert/bert_en_uncased_L-8_H-512_A-8':\n",
    "        'https://tfhub.dev/tensorflow/small_bert/bert_en_uncased_L-8_H-512_A-8/1',\n",
    "    'small_bert/bert_en_uncased_L-8_H-768_A-12':\n",
    "        'https://tfhub.dev/tensorflow/small_bert/bert_en_uncased_L-8_H-768_A-12/1',\n",
    "    'small_bert/bert_en_uncased_L-10_H-128_A-2':\n",
    "        'https://tfhub.dev/tensorflow/small_bert/bert_en_uncased_L-10_H-128_A-2/1',\n",
    "    'small_bert/bert_en_uncased_L-10_H-256_A-4':\n",
    "        'https://tfhub.dev/tensorflow/small_bert/bert_en_uncased_L-10_H-256_A-4/1',\n",
    "    'small_bert/bert_en_uncased_L-10_H-512_A-8':\n",
    "        'https://tfhub.dev/tensorflow/small_bert/bert_en_uncased_L-10_H-512_A-8/1',\n",
    "    'small_bert/bert_en_uncased_L-10_H-768_A-12':\n",
    "        'https://tfhub.dev/tensorflow/small_bert/bert_en_uncased_L-10_H-768_A-12/1',\n",
    "    'small_bert/bert_en_uncased_L-12_H-128_A-2':\n",
    "        'https://tfhub.dev/tensorflow/small_bert/bert_en_uncased_L-12_H-128_A-2/1',\n",
    "    'small_bert/bert_en_uncased_L-12_H-256_A-4':\n",
    "        'https://tfhub.dev/tensorflow/small_bert/bert_en_uncased_L-12_H-256_A-4/1',\n",
    "    'small_bert/bert_en_uncased_L-12_H-512_A-8':\n",
    "        'https://tfhub.dev/tensorflow/small_bert/bert_en_uncased_L-12_H-512_A-8/1',\n",
    "    'small_bert/bert_en_uncased_L-12_H-768_A-12':\n",
    "        'https://tfhub.dev/tensorflow/small_bert/bert_en_uncased_L-12_H-768_A-12/1',\n",
    "    'albert_en_base':\n",
    "        'https://tfhub.dev/tensorflow/albert_en_base/2',\n",
    "    'electra_small':\n",
    "        'https://tfhub.dev/google/electra_small/2',\n",
    "    'electra_base':\n",
    "        'https://tfhub.dev/google/electra_base/2',\n",
    "    'experts_pubmed':\n",
    "        'https://tfhub.dev/google/experts/bert/pubmed/2',\n",
    "    'experts_wiki_books':\n",
    "        'https://tfhub.dev/google/experts/bert/wiki_books/2',\n",
    "    'talking-heads_base':\n",
    "        'https://tfhub.dev/tensorflow/talkheads_ggelu_bert_en_base/1',\n",
    "}\n",
    "\n",
    "map_model_to_preprocess = {\n",
    "    'bert_en_uncased_L-12_H-768_A-12':\n",
    "        'https://tfhub.dev/tensorflow/bert_en_uncased_preprocess/2',\n",
    "    'bert_en_cased_L-12_H-768_A-12':\n",
    "        'https://tfhub.dev/tensorflow/bert_en_cased_preprocess/2',\n",
    "    'small_bert/bert_en_uncased_L-2_H-128_A-2':\n",
    "        'https://tfhub.dev/tensorflow/bert_en_uncased_preprocess/2',\n",
    "    'small_bert/bert_en_uncased_L-2_H-256_A-4':\n",
    "        'https://tfhub.dev/tensorflow/bert_en_uncased_preprocess/2',\n",
    "    'small_bert/bert_en_uncased_L-2_H-512_A-8':\n",
    "        'https://tfhub.dev/tensorflow/bert_en_uncased_preprocess/2',\n",
    "    'small_bert/bert_en_uncased_L-2_H-768_A-12':\n",
    "        'https://tfhub.dev/tensorflow/bert_en_uncased_preprocess/2',\n",
    "    'small_bert/bert_en_uncased_L-4_H-128_A-2':\n",
    "        'https://tfhub.dev/tensorflow/bert_en_uncased_preprocess/2',\n",
    "    'small_bert/bert_en_uncased_L-4_H-256_A-4':\n",
    "        'https://tfhub.dev/tensorflow/bert_en_uncased_preprocess/2',\n",
    "    'small_bert/bert_en_uncased_L-4_H-512_A-8':\n",
    "        'https://tfhub.dev/tensorflow/bert_en_uncased_preprocess/2',\n",
    "    'small_bert/bert_en_uncased_L-4_H-768_A-12':\n",
    "        'https://tfhub.dev/tensorflow/bert_en_uncased_preprocess/2',\n",
    "    'small_bert/bert_en_uncased_L-6_H-128_A-2':\n",
    "        'https://tfhub.dev/tensorflow/bert_en_uncased_preprocess/2',\n",
    "    'small_bert/bert_en_uncased_L-6_H-256_A-4':\n",
    "        'https://tfhub.dev/tensorflow/bert_en_uncased_preprocess/2',\n",
    "    'small_bert/bert_en_uncased_L-6_H-512_A-8':\n",
    "        'https://tfhub.dev/tensorflow/bert_en_uncased_preprocess/2',\n",
    "    'small_bert/bert_en_uncased_L-6_H-768_A-12':\n",
    "        'https://tfhub.dev/tensorflow/bert_en_uncased_preprocess/2',\n",
    "    'small_bert/bert_en_uncased_L-8_H-128_A-2':\n",
    "        'https://tfhub.dev/tensorflow/bert_en_uncased_preprocess/2',\n",
    "    'small_bert/bert_en_uncased_L-8_H-256_A-4':\n",
    "        'https://tfhub.dev/tensorflow/bert_en_uncased_preprocess/2',\n",
    "    'small_bert/bert_en_uncased_L-8_H-512_A-8':\n",
    "        'https://tfhub.dev/tensorflow/bert_en_uncased_preprocess/2',\n",
    "    'small_bert/bert_en_uncased_L-8_H-768_A-12':\n",
    "        'https://tfhub.dev/tensorflow/bert_en_uncased_preprocess/2',\n",
    "    'small_bert/bert_en_uncased_L-10_H-128_A-2':\n",
    "        'https://tfhub.dev/tensorflow/bert_en_uncased_preprocess/2',\n",
    "    'small_bert/bert_en_uncased_L-10_H-256_A-4':\n",
    "        'https://tfhub.dev/tensorflow/bert_en_uncased_preprocess/2',\n",
    "    'small_bert/bert_en_uncased_L-10_H-512_A-8':\n",
    "        'https://tfhub.dev/tensorflow/bert_en_uncased_preprocess/2',\n",
    "    'small_bert/bert_en_uncased_L-10_H-768_A-12':\n",
    "        'https://tfhub.dev/tensorflow/bert_en_uncased_preprocess/2',\n",
    "    'small_bert/bert_en_uncased_L-12_H-128_A-2':\n",
    "        'https://tfhub.dev/tensorflow/bert_en_uncased_preprocess/2',\n",
    "    'small_bert/bert_en_uncased_L-12_H-256_A-4':\n",
    "        'https://tfhub.dev/tensorflow/bert_en_uncased_preprocess/2',\n",
    "    'small_bert/bert_en_uncased_L-12_H-512_A-8':\n",
    "        'https://tfhub.dev/tensorflow/bert_en_uncased_preprocess/2',\n",
    "    'small_bert/bert_en_uncased_L-12_H-768_A-12':\n",
    "        'https://tfhub.dev/tensorflow/bert_en_uncased_preprocess/2',\n",
    "    'bert_multi_cased_L-12_H-768_A-12':\n",
    "        'https://tfhub.dev/tensorflow/bert_multi_cased_preprocess/2',\n",
    "    'albert_en_base':\n",
    "        'https://tfhub.dev/tensorflow/albert_en_preprocess/2',\n",
    "    'electra_small':\n",
    "        'https://tfhub.dev/tensorflow/bert_en_uncased_preprocess/2',\n",
    "    'electra_base':\n",
    "        'https://tfhub.dev/tensorflow/bert_en_uncased_preprocess/2',\n",
    "    'experts_pubmed':\n",
    "        'https://tfhub.dev/tensorflow/bert_en_uncased_preprocess/2',\n",
    "    'experts_wiki_books':\n",
    "        'https://tfhub.dev/tensorflow/bert_en_uncased_preprocess/2',\n",
    "    'talking-heads_base':\n",
    "        'https://tfhub.dev/tensorflow/bert_en_uncased_preprocess/2',\n",
    "}\n",
    "\n",
    "tfhub_handle_encoder = map_name_to_handle[bert_model_name]\n",
    "tfhub_handle_preprocess = map_model_to_preprocess[bert_model_name]\n",
    "\n",
    "print(f'BERT model selected           : {tfhub_handle_encoder}')\n",
    "print(f'Preprocess model auto-selected: {tfhub_handle_preprocess}')"
   ]
  },
  {
   "cell_type": "code",
   "execution_count": 20,
   "metadata": {},
   "outputs": [
    {
     "name": "stderr",
     "output_type": "stream",
     "text": [
      "2023-10-04 10:39:15.642755: I tensorflow/compiler/xla/stream_executor/cuda/cuda_gpu_executor.cc:995] successful NUMA node read from SysFS had negative value (-1), but there must be at least one NUMA node, so returning NUMA node zero. See more at https://github.com/torvalds/linux/blob/v6.0/Documentation/ABI/testing/sysfs-bus-pci#L344-L355\n",
      "2023-10-04 10:39:15.886172: I tensorflow/compiler/xla/stream_executor/cuda/cuda_gpu_executor.cc:995] successful NUMA node read from SysFS had negative value (-1), but there must be at least one NUMA node, so returning NUMA node zero. See more at https://github.com/torvalds/linux/blob/v6.0/Documentation/ABI/testing/sysfs-bus-pci#L344-L355\n",
      "2023-10-04 10:39:15.888658: I tensorflow/compiler/xla/stream_executor/cuda/cuda_gpu_executor.cc:995] successful NUMA node read from SysFS had negative value (-1), but there must be at least one NUMA node, so returning NUMA node zero. See more at https://github.com/torvalds/linux/blob/v6.0/Documentation/ABI/testing/sysfs-bus-pci#L344-L355\n",
      "2023-10-04 10:39:15.891544: I tensorflow/compiler/xla/stream_executor/cuda/cuda_gpu_executor.cc:995] successful NUMA node read from SysFS had negative value (-1), but there must be at least one NUMA node, so returning NUMA node zero. See more at https://github.com/torvalds/linux/blob/v6.0/Documentation/ABI/testing/sysfs-bus-pci#L344-L355\n",
      "2023-10-04 10:39:15.893927: I tensorflow/compiler/xla/stream_executor/cuda/cuda_gpu_executor.cc:995] successful NUMA node read from SysFS had negative value (-1), but there must be at least one NUMA node, so returning NUMA node zero. See more at https://github.com/torvalds/linux/blob/v6.0/Documentation/ABI/testing/sysfs-bus-pci#L344-L355\n",
      "2023-10-04 10:39:15.896321: I tensorflow/compiler/xla/stream_executor/cuda/cuda_gpu_executor.cc:995] successful NUMA node read from SysFS had negative value (-1), but there must be at least one NUMA node, so returning NUMA node zero. See more at https://github.com/torvalds/linux/blob/v6.0/Documentation/ABI/testing/sysfs-bus-pci#L344-L355\n",
      "2023-10-04 10:39:16.136746: I tensorflow/compiler/xla/stream_executor/cuda/cuda_gpu_executor.cc:995] successful NUMA node read from SysFS had negative value (-1), but there must be at least one NUMA node, so returning NUMA node zero. See more at https://github.com/torvalds/linux/blob/v6.0/Documentation/ABI/testing/sysfs-bus-pci#L344-L355\n",
      "2023-10-04 10:39:16.138561: I tensorflow/compiler/xla/stream_executor/cuda/cuda_gpu_executor.cc:995] successful NUMA node read from SysFS had negative value (-1), but there must be at least one NUMA node, so returning NUMA node zero. See more at https://github.com/torvalds/linux/blob/v6.0/Documentation/ABI/testing/sysfs-bus-pci#L344-L355\n",
      "2023-10-04 10:39:16.140086: I tensorflow/compiler/xla/stream_executor/cuda/cuda_gpu_executor.cc:995] successful NUMA node read from SysFS had negative value (-1), but there must be at least one NUMA node, so returning NUMA node zero. See more at https://github.com/torvalds/linux/blob/v6.0/Documentation/ABI/testing/sysfs-bus-pci#L344-L355\n",
      "2023-10-04 10:39:16.142139: I tensorflow/core/common_runtime/gpu/gpu_device.cc:1639] Created device /job:localhost/replica:0/task:0/device:GPU:0 with 545 MB memory:  -> device: 0, name: NVIDIA A10G, pci bus id: 0000:00:1e.0, compute capability: 8.6\n"
     ]
    }
   ],
   "source": [
    "bert_preprocess_model = hub.KerasLayer(tfhub_handle_preprocess)"
   ]
  },
  {
   "cell_type": "code",
   "execution_count": 21,
   "metadata": {},
   "outputs": [
    {
     "data": {
      "text/plain": [
       "array(['citalopram vs prozac'], dtype=object)"
      ]
     },
     "execution_count": 21,
     "metadata": {},
     "output_type": "execute_result"
    }
   ],
   "source": [
    "train_features[0]"
   ]
  },
  {
   "cell_type": "code",
   "execution_count": 22,
   "metadata": {},
   "outputs": [
    {
     "name": "stdout",
     "output_type": "stream",
     "text": [
      "Keys       : ['input_type_ids', 'input_mask', 'input_word_ids']\n",
      "Shape      : (1, 128)\n",
      "Word Ids   : [  101 25022  9080  7361  6444  5443  4013  4143  2278   102     0     0]\n",
      "Input Mask : [1 1 1 1 1 1 1 1 1 1 0 0]\n",
      "Type Ids   : [0 0 0 0 0 0 0 0 0 0 0 0]\n"
     ]
    }
   ],
   "source": [
    "text_test = train_features[0]\n",
    "text_preprocessed = bert_preprocess_model(text_test)\n",
    "\n",
    "print(f'Keys       : {list(text_preprocessed.keys())}')\n",
    "print(f'Shape      : {text_preprocessed[\"input_word_ids\"].shape}')\n",
    "print(f'Word Ids   : {text_preprocessed[\"input_word_ids\"][0, :12]}')\n",
    "print(f'Input Mask : {text_preprocessed[\"input_mask\"][0, :12]}')\n",
    "print(f'Type Ids   : {text_preprocessed[\"input_type_ids\"][0, :12]}')"
   ]
  },
  {
   "cell_type": "code",
   "execution_count": 23,
   "metadata": {},
   "outputs": [],
   "source": [
    "bert_model = hub.KerasLayer(tfhub_handle_encoder)"
   ]
  },
  {
   "cell_type": "code",
   "execution_count": 24,
   "metadata": {},
   "outputs": [
    {
     "name": "stdout",
     "output_type": "stream",
     "text": [
      "Loaded BERT: https://tfhub.dev/tensorflow/small_bert/bert_en_uncased_L-8_H-512_A-8/1\n",
      "Pooled Outputs Shape:(1, 512)\n",
      "Pooled Outputs Values:[-8.87311704e-04 -1.90713838e-01 -9.83241320e-01 -8.07798207e-01\n",
      " -1.32409513e-01 -6.22847140e-01 -9.95160103e-01  1.16233945e-01\n",
      "  5.43696642e-01  1.25605971e-01  8.89924169e-01 -3.75945941e-02]\n",
      "Sequence Outputs Shape:(1, 128, 512)\n",
      "Sequence Outputs Values:[[-0.17215851 -0.295226    0.09618238 ...  0.70732445 -1.0958822\n",
      "  -0.91070676]\n",
      " [-0.6341268   0.8061476   0.15810502 ...  0.7409418  -1.2468505\n",
      "  -0.7243981 ]\n",
      " [-0.5904627   0.04643948 -0.02034331 ... -0.89517534 -0.91859233\n",
      "  -1.4024105 ]\n",
      " ...\n",
      " [-0.5173739   0.06478582  0.92585856 ...  0.19954908 -1.0839913\n",
      "  -0.95329857]\n",
      " [ 0.02608552 -0.26929718  0.38127264 ...  0.66417134 -1.0902848\n",
      "  -0.73466766]\n",
      " [-0.00267327 -0.3051305   0.32095045 ...  0.69622594 -0.9158069\n",
      "  -0.652131  ]]\n"
     ]
    },
    {
     "name": "stderr",
     "output_type": "stream",
     "text": [
      "2023-10-04 10:39:22.815614: I tensorflow/compiler/xla/stream_executor/cuda/cuda_blas.cc:606] TensorFloat-32 will be used for the matrix multiplication. This will only be logged once.\n"
     ]
    }
   ],
   "source": [
    "bert_results = bert_model(text_preprocessed)\n",
    "\n",
    "print(f'Loaded BERT: {tfhub_handle_encoder}')\n",
    "print(f'Pooled Outputs Shape:{bert_results[\"pooled_output\"].shape}')\n",
    "print(f'Pooled Outputs Values:{bert_results[\"pooled_output\"][0, :12]}')\n",
    "print(f'Sequence Outputs Shape:{bert_results[\"sequence_output\"].shape}')\n",
    "print(f'Sequence Outputs Values:{bert_results[\"sequence_output\"][0, :12]}')"
   ]
  },
  {
   "cell_type": "code",
   "execution_count": 25,
   "metadata": {},
   "outputs": [],
   "source": [
    "def build_classifier_model():\n",
    "  text_input = tf.keras.layers.Input(shape=(), dtype=tf.string, name='text')\n",
    "  preprocessing_layer = hub.KerasLayer(tfhub_handle_preprocess, name='preprocessing')\n",
    "  encoder_inputs = preprocessing_layer(text_input)\n",
    "  encoder = hub.KerasLayer(tfhub_handle_encoder, trainable=True, name='BERT_encoder')\n",
    "  outputs = encoder(encoder_inputs)\n",
    "  net = outputs['pooled_output']\n",
    "  net = tf.keras.layers.Dropout(0.1)(net)\n",
    "  # net = tf.keras.layers.Dense(7, activation=None, name='classifier')(net)\n",
    "  # net = tf.keras.layers.Dense(5, activation=None, name='classifier')(net)\n",
    "  net = tf.keras.layers.Dense(5, activation=tf.keras.activations.softmax, name='classifier')(net)\n",
    "  \n",
    "  return tf.keras.Model(text_input, net)"
   ]
  },
  {
   "cell_type": "code",
   "execution_count": 26,
   "metadata": {},
   "outputs": [
    {
     "name": "stdout",
     "output_type": "stream",
     "text": [
      "tf.Tensor([[0.17829742 0.20465918 0.20349813 0.17453763 0.23900759]], shape=(1, 5), dtype=float32)\n"
     ]
    }
   ],
   "source": [
    "classifier_model = build_classifier_model()\n",
    "bert_raw_result = classifier_model(tf.constant(train_features[0]))\n",
    "print(tf.keras.activations.softmax(bert_raw_result))"
   ]
  },
  {
   "cell_type": "code",
   "execution_count": 27,
   "metadata": {},
   "outputs": [
    {
     "name": "stdout",
     "output_type": "stream",
     "text": [
      "Model: \"model\"\n",
      "__________________________________________________________________________________________________\n",
      " Layer (type)                Output Shape                 Param #   Connected to                  \n",
      "==================================================================================================\n",
      " text (InputLayer)           [(None,)]                    0         []                            \n",
      "                                                                                                  \n",
      " preprocessing (KerasLayer)  {'input_type_ids': (None,    0         ['text[0][0]']                \n",
      "                             128),                                                                \n",
      "                              'input_mask': (None, 128)                                           \n",
      "                             , 'input_word_ids': (None,                                           \n",
      "                              128)}                                                               \n",
      "                                                                                                  \n",
      " BERT_encoder (KerasLayer)   {'pooled_output': (None, 5   4137318   ['preprocessing[0][0]',       \n",
      "                             12),                         5          'preprocessing[0][1]',       \n",
      "                              'sequence_output': (None,              'preprocessing[0][2]']       \n",
      "                              128, 512),                                                          \n",
      "                              'encoder_outputs': [(None                                           \n",
      "                             , 128, 512),                                                         \n",
      "                              (None, 128, 512),                                                   \n",
      "                              (None, 128, 512),                                                   \n",
      "                              (None, 128, 512),                                                   \n",
      "                              (None, 128, 512),                                                   \n",
      "                              (None, 128, 512),                                                   \n",
      "                              (None, 128, 512),                                                   \n",
      "                              (None, 128, 512)],                                                  \n",
      "                              'default': (None, 512)}                                             \n",
      "                                                                                                  \n",
      " dropout (Dropout)           (None, 512)                  0         ['BERT_encoder[0][9]']        \n",
      "                                                                                                  \n",
      " classifier (Dense)          (None, 5)                    2565      ['dropout[0][0]']             \n",
      "                                                                                                  \n",
      "==================================================================================================\n",
      "Total params: 41375750 (157.84 MB)\n",
      "Trainable params: 41375749 (157.84 MB)\n",
      "Non-trainable params: 1 (1.00 Byte)\n",
      "__________________________________________________________________________________________________\n"
     ]
    }
   ],
   "source": [
    "classifier_model.summary()"
   ]
  },
  {
   "cell_type": "code",
   "execution_count": 28,
   "metadata": {},
   "outputs": [],
   "source": [
    "loss = tf.keras.losses.CategoricalCrossentropy(from_logits=True)\n",
    "metrics = tf.metrics.CategoricalAccuracy()"
   ]
  },
  {
   "cell_type": "code",
   "execution_count": 29,
   "metadata": {},
   "outputs": [],
   "source": [
    "epochs=15\n",
    "optimizer=tf.keras.optimizers.Adam(1e-5)\n",
    "classifier_model.compile(optimizer=optimizer,\n",
    "                         loss=loss,\n",
    "                        \n",
    "                         metrics=metrics)"
   ]
  },
  {
   "cell_type": "code",
   "execution_count": 30,
   "metadata": {},
   "outputs": [
    {
     "name": "stdout",
     "output_type": "stream",
     "text": [
      "Training model with https://tfhub.dev/tensorflow/small_bert/bert_en_uncased_L-8_H-512_A-8/1\n",
      "Epoch 1/15\n"
     ]
    },
    {
     "name": "stderr",
     "output_type": "stream",
     "text": [
      "2023-10-04 10:39:42.700801: W tensorflow/tsl/framework/bfc_allocator.cc:485] Allocator (GPU_0_bfc) ran out of memory trying to allocate 2.0KiB (rounded to 2048)requested by op Fill\n",
      "If the cause is memory fragmentation maybe the environment variable 'TF_GPU_ALLOCATOR=cuda_malloc_async' will improve the situation. \n",
      "Current allocation summary follows.\n",
      "Current allocation summary follows.\n",
      "2023-10-04 10:39:42.700836: I tensorflow/tsl/framework/bfc_allocator.cc:1039] BFCAllocator dump for GPU_0_bfc\n",
      "2023-10-04 10:39:42.700846: I tensorflow/tsl/framework/bfc_allocator.cc:1046] Bin (256): \tTotal Chunks: 56, Chunks in use: 56. 14.0KiB allocated for chunks. 14.0KiB in use in bin. 378B client-requested in use in bin.\n",
      "2023-10-04 10:39:42.700851: I tensorflow/tsl/framework/bfc_allocator.cc:1046] Bin (512): \tTotal Chunks: 0, Chunks in use: 0. 0B allocated for chunks. 0B in use in bin. 0B client-requested in use in bin.\n",
      "2023-10-04 10:39:42.700856: I tensorflow/tsl/framework/bfc_allocator.cc:1046] Bin (1024): \tTotal Chunks: 1, Chunks in use: 1. 1.2KiB allocated for chunks. 1.2KiB in use in bin. 1.0KiB client-requested in use in bin.\n",
      "2023-10-04 10:39:42.700862: I tensorflow/tsl/framework/bfc_allocator.cc:1046] Bin (2048): \tTotal Chunks: 239, Chunks in use: 239. 479.2KiB allocated for chunks. 479.2KiB in use in bin. 478.0KiB client-requested in use in bin.\n",
      "2023-10-04 10:39:42.700867: I tensorflow/tsl/framework/bfc_allocator.cc:1046] Bin (4096): \tTotal Chunks: 4, Chunks in use: 4. 16.0KiB allocated for chunks. 16.0KiB in use in bin. 16.0KiB client-requested in use in bin.\n",
      "2023-10-04 10:39:42.700872: I tensorflow/tsl/framework/bfc_allocator.cc:1046] Bin (8192): \tTotal Chunks: 25, Chunks in use: 25. 205.8KiB allocated for chunks. 205.8KiB in use in bin. 202.0KiB client-requested in use in bin.\n",
      "2023-10-04 10:39:42.700877: I tensorflow/tsl/framework/bfc_allocator.cc:1046] Bin (16384): \tTotal Chunks: 1, Chunks in use: 1. 25.2KiB allocated for chunks. 25.2KiB in use in bin. 25.1KiB client-requested in use in bin.\n",
      "2023-10-04 10:39:42.700881: I tensorflow/tsl/framework/bfc_allocator.cc:1046] Bin (32768): \tTotal Chunks: 0, Chunks in use: 0. 0B allocated for chunks. 0B in use in bin. 0B client-requested in use in bin.\n",
      "2023-10-04 10:39:42.700886: I tensorflow/tsl/framework/bfc_allocator.cc:1046] Bin (65536): \tTotal Chunks: 2, Chunks in use: 2. 238.5KiB allocated for chunks. 238.5KiB in use in bin. 238.5KiB client-requested in use in bin.\n",
      "2023-10-04 10:39:42.700890: I tensorflow/tsl/framework/bfc_allocator.cc:1046] Bin (131072): \tTotal Chunks: 0, Chunks in use: 0. 0B allocated for chunks. 0B in use in bin. 0B client-requested in use in bin.\n",
      "2023-10-04 10:39:42.700895: I tensorflow/tsl/framework/bfc_allocator.cc:1046] Bin (262144): \tTotal Chunks: 8, Chunks in use: 8. 2.19MiB allocated for chunks. 2.19MiB in use in bin. 2.00MiB client-requested in use in bin.\n",
      "2023-10-04 10:39:42.700899: I tensorflow/tsl/framework/bfc_allocator.cc:1046] Bin (524288): \tTotal Chunks: 0, Chunks in use: 0. 0B allocated for chunks. 0B in use in bin. 0B client-requested in use in bin.\n",
      "2023-10-04 10:39:42.700905: I tensorflow/tsl/framework/bfc_allocator.cc:1046] Bin (1048576): \tTotal Chunks: 112, Chunks in use: 112. 112.15MiB allocated for chunks. 112.15MiB in use in bin. 112.00MiB client-requested in use in bin.\n",
      "2023-10-04 10:39:42.700909: I tensorflow/tsl/framework/bfc_allocator.cc:1046] Bin (2097152): \tTotal Chunks: 0, Chunks in use: 0. 0B allocated for chunks. 0B in use in bin. 0B client-requested in use in bin.\n",
      "2023-10-04 10:39:42.700914: I tensorflow/tsl/framework/bfc_allocator.cc:1046] Bin (4194304): \tTotal Chunks: 48, Chunks in use: 48. 192.00MiB allocated for chunks. 192.00MiB in use in bin. 192.00MiB client-requested in use in bin.\n",
      "2023-10-04 10:39:42.700918: I tensorflow/tsl/framework/bfc_allocator.cc:1046] Bin (8388608): \tTotal Chunks: 0, Chunks in use: 0. 0B allocated for chunks. 0B in use in bin. 0B client-requested in use in bin.\n",
      "2023-10-04 10:39:42.700922: I tensorflow/tsl/framework/bfc_allocator.cc:1046] Bin (16777216): \tTotal Chunks: 0, Chunks in use: 0. 0B allocated for chunks. 0B in use in bin. 0B client-requested in use in bin.\n",
      "2023-10-04 10:39:42.700927: I tensorflow/tsl/framework/bfc_allocator.cc:1046] Bin (33554432): \tTotal Chunks: 4, Chunks in use: 4. 238.45MiB allocated for chunks. 238.45MiB in use in bin. 238.45MiB client-requested in use in bin.\n",
      "2023-10-04 10:39:42.700931: I tensorflow/tsl/framework/bfc_allocator.cc:1046] Bin (67108864): \tTotal Chunks: 0, Chunks in use: 0. 0B allocated for chunks. 0B in use in bin. 0B client-requested in use in bin.\n",
      "2023-10-04 10:39:42.700937: I tensorflow/tsl/framework/bfc_allocator.cc:1046] Bin (134217728): \tTotal Chunks: 0, Chunks in use: 0. 0B allocated for chunks. 0B in use in bin. 0B client-requested in use in bin.\n",
      "2023-10-04 10:39:42.700942: I tensorflow/tsl/framework/bfc_allocator.cc:1046] Bin (268435456): \tTotal Chunks: 0, Chunks in use: 0. 0B allocated for chunks. 0B in use in bin. 0B client-requested in use in bin.\n",
      "2023-10-04 10:39:42.700948: I tensorflow/tsl/framework/bfc_allocator.cc:1062] Bin for 2.0KiB was 2.0KiB, Chunk State: \n",
      "2023-10-04 10:39:42.700954: I tensorflow/tsl/framework/bfc_allocator.cc:1075] Next region of size 572260352\n",
      "2023-10-04 10:39:42.700962: I tensorflow/tsl/framework/bfc_allocator.cc:1095] InUse at 7f3b4c000000 of size 256 next 1\n",
      "2023-10-04 10:39:42.700969: I tensorflow/tsl/framework/bfc_allocator.cc:1095] InUse at 7f3b4c000100 of size 1280 next 2\n",
      "2023-10-04 10:39:42.700974: I tensorflow/tsl/framework/bfc_allocator.cc:1095] InUse at 7f3b4c000600 of size 256 next 3\n",
      "2023-10-04 10:39:42.700980: I tensorflow/tsl/framework/bfc_allocator.cc:1095] InUse at 7f3b4c000700 of size 256 next 4\n",
      "2023-10-04 10:39:42.700986: I tensorflow/tsl/framework/bfc_allocator.cc:1095] InUse at 7f3b4c000800 of size 256 next 5\n",
      "2023-10-04 10:39:42.700992: I tensorflow/tsl/framework/bfc_allocator.cc:1095] InUse at 7f3b4c000900 of size 256 next 6\n",
      "2023-10-04 10:39:42.700997: I tensorflow/tsl/framework/bfc_allocator.cc:1095] InUse at 7f3b4c000a00 of size 256 next 7\n",
      "2023-10-04 10:39:42.701002: I tensorflow/tsl/framework/bfc_allocator.cc:1095] InUse at 7f3b4c000b00 of size 256 next 8\n",
      "2023-10-04 10:39:42.701007: I tensorflow/tsl/framework/bfc_allocator.cc:1095] InUse at 7f3b4c000c00 of size 256 next 9\n",
      "2023-10-04 10:39:42.701011: I tensorflow/tsl/framework/bfc_allocator.cc:1095] InUse at 7f3b4c000d00 of size 256 next 10\n",
      "2023-10-04 10:39:42.701016: I tensorflow/tsl/framework/bfc_allocator.cc:1095] InUse at 7f3b4c000e00 of size 256 next 11\n",
      "2023-10-04 10:39:42.701020: I tensorflow/tsl/framework/bfc_allocator.cc:1095] InUse at 7f3b4c000f00 of size 256 next 16\n",
      "2023-10-04 10:39:42.701025: I tensorflow/tsl/framework/bfc_allocator.cc:1095] InUse at 7f3b4c001000 of size 122112 next 24\n",
      "2023-10-04 10:39:42.701031: I tensorflow/tsl/framework/bfc_allocator.cc:1095] InUse at 7f3b4c01ed00 of size 1048576 next 21\n",
      "2023-10-04 10:39:42.701036: I tensorflow/tsl/framework/bfc_allocator.cc:1095] InUse at 7f3b4c11ed00 of size 2048 next 14\n",
      "2023-10-04 10:39:42.701040: I tensorflow/tsl/framework/bfc_allocator.cc:1095] InUse at 7f3b4c11f500 of size 2048 next 18\n",
      "2023-10-04 10:39:42.701045: I tensorflow/tsl/framework/bfc_allocator.cc:1095] InUse at 7f3b4c11fd00 of size 2048 next 13\n",
      "2023-10-04 10:39:42.701050: I tensorflow/tsl/framework/bfc_allocator.cc:1095] InUse at 7f3b4c120500 of size 62509056 next 12\n",
      "2023-10-04 10:39:42.701055: I tensorflow/tsl/framework/bfc_allocator.cc:1095] InUse at 7f3b4fcbd500 of size 1048576 next 22\n",
      "2023-10-04 10:39:42.701060: I tensorflow/tsl/framework/bfc_allocator.cc:1095] InUse at 7f3b4fdbd500 of size 2048 next 15\n",
      "2023-10-04 10:39:42.701064: I tensorflow/tsl/framework/bfc_allocator.cc:1095] InUse at 7f3b4fdbdd00 of size 2048 next 17\n",
      "2023-10-04 10:39:42.701068: I tensorflow/tsl/framework/bfc_allocator.cc:1095] InUse at 7f3b4fdbe500 of size 1048576 next 23\n",
      "2023-10-04 10:39:42.701073: I tensorflow/tsl/framework/bfc_allocator.cc:1095] InUse at 7f3b4febe500 of size 2048 next 19\n",
      "2023-10-04 10:39:42.701077: I tensorflow/tsl/framework/bfc_allocator.cc:1095] InUse at 7f3b4febed00 of size 1048576 next 20\n",
      "2023-10-04 10:39:42.701082: I tensorflow/tsl/framework/bfc_allocator.cc:1095] InUse at 7f3b4ffbed00 of size 2048 next 25\n",
      "2023-10-04 10:39:42.701086: I tensorflow/tsl/framework/bfc_allocator.cc:1095] InUse at 7f3b4ffbf500 of size 1048576 next 26\n",
      "2023-10-04 10:39:42.701090: I tensorflow/tsl/framework/bfc_allocator.cc:1095] InUse at 7f3b500bf500 of size 2048 next 27\n",
      "2023-10-04 10:39:42.701097: I tensorflow/tsl/framework/bfc_allocator.cc:1095] InUse at 7f3b500bfd00 of size 1048576 next 28\n",
      "2023-10-04 10:39:42.701102: I tensorflow/tsl/framework/bfc_allocator.cc:1095] InUse at 7f3b501bfd00 of size 2048 next 29\n",
      "2023-10-04 10:39:42.701106: I tensorflow/tsl/framework/bfc_allocator.cc:1095] InUse at 7f3b501c0500 of size 2048 next 30\n",
      "2023-10-04 10:39:42.701110: I tensorflow/tsl/framework/bfc_allocator.cc:1095] InUse at 7f3b501c0d00 of size 1048576 next 31\n",
      "2023-10-04 10:39:42.701115: I tensorflow/tsl/framework/bfc_allocator.cc:1095] InUse at 7f3b502c0d00 of size 2048 next 32\n",
      "2023-10-04 10:39:42.701120: I tensorflow/tsl/framework/bfc_allocator.cc:1095] InUse at 7f3b502c1500 of size 4194304 next 33\n",
      "2023-10-04 10:39:42.701124: I tensorflow/tsl/framework/bfc_allocator.cc:1095] InUse at 7f3b506c1500 of size 8192 next 34\n",
      "2023-10-04 10:39:42.701129: I tensorflow/tsl/framework/bfc_allocator.cc:1095] InUse at 7f3b506c3500 of size 4194304 next 35\n",
      "2023-10-04 10:39:42.701134: I tensorflow/tsl/framework/bfc_allocator.cc:1095] InUse at 7f3b50ac3500 of size 2048 next 36\n",
      "2023-10-04 10:39:42.701139: I tensorflow/tsl/framework/bfc_allocator.cc:1095] InUse at 7f3b50ac3d00 of size 2048 next 37\n",
      "2023-10-04 10:39:42.701143: I tensorflow/tsl/framework/bfc_allocator.cc:1095] InUse at 7f3b50ac4500 of size 2048 next 38\n",
      "2023-10-04 10:39:42.701148: I tensorflow/tsl/framework/bfc_allocator.cc:1095] InUse at 7f3b50ac4d00 of size 1048576 next 39\n",
      "2023-10-04 10:39:42.701152: I tensorflow/tsl/framework/bfc_allocator.cc:1095] InUse at 7f3b50bc4d00 of size 2048 next 40\n",
      "2023-10-04 10:39:42.701157: I tensorflow/tsl/framework/bfc_allocator.cc:1095] InUse at 7f3b50bc5500 of size 1048576 next 41\n",
      "2023-10-04 10:39:42.701161: I tensorflow/tsl/framework/bfc_allocator.cc:1095] InUse at 7f3b50cc5500 of size 2048 next 42\n",
      "2023-10-04 10:39:42.701165: I tensorflow/tsl/framework/bfc_allocator.cc:1095] InUse at 7f3b50cc5d00 of size 2048 next 43\n",
      "2023-10-04 10:39:42.701170: I tensorflow/tsl/framework/bfc_allocator.cc:1095] InUse at 7f3b50cc6500 of size 1048576 next 44\n",
      "2023-10-04 10:39:42.701174: I tensorflow/tsl/framework/bfc_allocator.cc:1095] InUse at 7f3b50dc6500 of size 2048 next 45\n",
      "2023-10-04 10:39:42.701179: I tensorflow/tsl/framework/bfc_allocator.cc:1095] InUse at 7f3b50dc6d00 of size 1048576 next 46\n",
      "2023-10-04 10:39:42.701184: I tensorflow/tsl/framework/bfc_allocator.cc:1095] InUse at 7f3b50ec6d00 of size 2048 next 47\n",
      "2023-10-04 10:39:42.701189: I tensorflow/tsl/framework/bfc_allocator.cc:1095] InUse at 7f3b50ec7500 of size 2048 next 48\n",
      "2023-10-04 10:39:42.701194: I tensorflow/tsl/framework/bfc_allocator.cc:1095] InUse at 7f3b50ec7d00 of size 2048 next 49\n",
      "2023-10-04 10:39:42.701199: I tensorflow/tsl/framework/bfc_allocator.cc:1095] InUse at 7f3b50ec8500 of size 4194304 next 50\n",
      "2023-10-04 10:39:42.701203: I tensorflow/tsl/framework/bfc_allocator.cc:1095] InUse at 7f3b512c8500 of size 8192 next 51\n",
      "2023-10-04 10:39:42.701207: I tensorflow/tsl/framework/bfc_allocator.cc:1095] InUse at 7f3b512ca500 of size 4194304 next 52\n",
      "2023-10-04 10:39:42.701212: I tensorflow/tsl/framework/bfc_allocator.cc:1095] InUse at 7f3b516ca500 of size 2048 next 53\n",
      "2023-10-04 10:39:42.701218: I tensorflow/tsl/framework/bfc_allocator.cc:1095] InUse at 7f3b516cad00 of size 2048 next 54\n",
      "2023-10-04 10:39:42.701222: I tensorflow/tsl/framework/bfc_allocator.cc:1095] InUse at 7f3b516cb500 of size 2048 next 55\n",
      "2023-10-04 10:39:42.701226: I tensorflow/tsl/framework/bfc_allocator.cc:1095] InUse at 7f3b516cbd00 of size 2048 next 56\n",
      "2023-10-04 10:39:42.701231: I tensorflow/tsl/framework/bfc_allocator.cc:1095] InUse at 7f3b516cc500 of size 1048576 next 57\n",
      "2023-10-04 10:39:42.701235: I tensorflow/tsl/framework/bfc_allocator.cc:1095] InUse at 7f3b517cc500 of size 2048 next 58\n",
      "2023-10-04 10:39:42.701240: I tensorflow/tsl/framework/bfc_allocator.cc:1095] InUse at 7f3b517ccd00 of size 2048 next 59\n",
      "2023-10-04 10:39:42.701245: I tensorflow/tsl/framework/bfc_allocator.cc:1095] InUse at 7f3b517cd500 of size 4194304 next 60\n",
      "2023-10-04 10:39:42.701249: I tensorflow/tsl/framework/bfc_allocator.cc:1095] InUse at 7f3b51bcd500 of size 8192 next 61\n",
      "2023-10-04 10:39:42.701254: I tensorflow/tsl/framework/bfc_allocator.cc:1095] InUse at 7f3b51bcf500 of size 4194304 next 62\n",
      "2023-10-04 10:39:42.701272: I tensorflow/tsl/framework/bfc_allocator.cc:1095] InUse at 7f3b51fcf500 of size 2048 next 63\n",
      "2023-10-04 10:39:42.701278: I tensorflow/tsl/framework/bfc_allocator.cc:1095] InUse at 7f3b51fcfd00 of size 2048 next 64\n",
      "2023-10-04 10:39:42.701283: I tensorflow/tsl/framework/bfc_allocator.cc:1095] InUse at 7f3b51fd0500 of size 4096 next 65\n",
      "2023-10-04 10:39:42.701299: I tensorflow/tsl/framework/bfc_allocator.cc:1095] InUse at 7f3b51fd1500 of size 2048 next 66\n",
      "2023-10-04 10:39:42.701304: I tensorflow/tsl/framework/bfc_allocator.cc:1095] InUse at 7f3b51fd1d00 of size 1048576 next 67\n",
      "2023-10-04 10:39:42.701308: I tensorflow/tsl/framework/bfc_allocator.cc:1095] InUse at 7f3b520d1d00 of size 2048 next 68\n",
      "2023-10-04 10:39:42.701313: I tensorflow/tsl/framework/bfc_allocator.cc:1095] InUse at 7f3b520d2500 of size 1048576 next 69\n",
      "2023-10-04 10:39:42.701318: I tensorflow/tsl/framework/bfc_allocator.cc:1095] InUse at 7f3b521d2500 of size 2048 next 70\n",
      "2023-10-04 10:39:42.701322: I tensorflow/tsl/framework/bfc_allocator.cc:1095] InUse at 7f3b521d2d00 of size 1048576 next 71\n",
      "2023-10-04 10:39:42.701327: I tensorflow/tsl/framework/bfc_allocator.cc:1095] InUse at 7f3b522d2d00 of size 2048 next 72\n",
      "2023-10-04 10:39:42.701332: I tensorflow/tsl/framework/bfc_allocator.cc:1095] InUse at 7f3b522d3500 of size 1048576 next 73\n",
      "2023-10-04 10:39:42.701339: I tensorflow/tsl/framework/bfc_allocator.cc:1095] InUse at 7f3b523d3500 of size 2048 next 74\n",
      "2023-10-04 10:39:42.701344: I tensorflow/tsl/framework/bfc_allocator.cc:1095] InUse at 7f3b523d3d00 of size 2048 next 75\n",
      "2023-10-04 10:39:42.701349: I tensorflow/tsl/framework/bfc_allocator.cc:1095] InUse at 7f3b523d4500 of size 2048 next 76\n",
      "2023-10-04 10:39:42.701353: I tensorflow/tsl/framework/bfc_allocator.cc:1095] InUse at 7f3b523d4d00 of size 2048 next 77\n",
      "2023-10-04 10:39:42.701359: I tensorflow/tsl/framework/bfc_allocator.cc:1095] InUse at 7f3b523d5500 of size 4194304 next 78\n",
      "2023-10-04 10:39:42.701364: I tensorflow/tsl/framework/bfc_allocator.cc:1095] InUse at 7f3b527d5500 of size 8192 next 79\n",
      "2023-10-04 10:39:42.701369: I tensorflow/tsl/framework/bfc_allocator.cc:1095] InUse at 7f3b527d7500 of size 4194304 next 80\n",
      "2023-10-04 10:39:42.701374: I tensorflow/tsl/framework/bfc_allocator.cc:1095] InUse at 7f3b52bd7500 of size 2048 next 81\n",
      "2023-10-04 10:39:42.701379: I tensorflow/tsl/framework/bfc_allocator.cc:1095] InUse at 7f3b52bd7d00 of size 2048 next 82\n",
      "2023-10-04 10:39:42.701383: I tensorflow/tsl/framework/bfc_allocator.cc:1095] InUse at 7f3b52bd8500 of size 2048 next 83\n",
      "2023-10-04 10:39:42.701388: I tensorflow/tsl/framework/bfc_allocator.cc:1095] InUse at 7f3b52bd8d00 of size 1048576 next 84\n",
      "2023-10-04 10:39:42.701393: I tensorflow/tsl/framework/bfc_allocator.cc:1095] InUse at 7f3b52cd8d00 of size 2048 next 85\n",
      "2023-10-04 10:39:42.701397: I tensorflow/tsl/framework/bfc_allocator.cc:1095] InUse at 7f3b52cd9500 of size 1048576 next 86\n",
      "2023-10-04 10:39:42.701402: I tensorflow/tsl/framework/bfc_allocator.cc:1095] InUse at 7f3b52dd9500 of size 2048 next 87\n",
      "2023-10-04 10:39:42.701407: I tensorflow/tsl/framework/bfc_allocator.cc:1095] InUse at 7f3b52dd9d00 of size 2048 next 88\n",
      "2023-10-04 10:39:42.701412: I tensorflow/tsl/framework/bfc_allocator.cc:1095] InUse at 7f3b52dda500 of size 1048576 next 89\n",
      "2023-10-04 10:39:42.701417: I tensorflow/tsl/framework/bfc_allocator.cc:1095] InUse at 7f3b52eda500 of size 2048 next 90\n",
      "2023-10-04 10:39:42.701422: I tensorflow/tsl/framework/bfc_allocator.cc:1095] InUse at 7f3b52edad00 of size 1048576 next 91\n",
      "2023-10-04 10:39:42.701436: I tensorflow/tsl/framework/bfc_allocator.cc:1095] InUse at 7f3b52fdad00 of size 2048 next 92\n",
      "2023-10-04 10:39:42.701441: I tensorflow/tsl/framework/bfc_allocator.cc:1095] InUse at 7f3b52fdb500 of size 2048 next 93\n",
      "2023-10-04 10:39:42.701446: I tensorflow/tsl/framework/bfc_allocator.cc:1095] InUse at 7f3b52fdbd00 of size 2048 next 94\n",
      "2023-10-04 10:39:42.701461: I tensorflow/tsl/framework/bfc_allocator.cc:1095] InUse at 7f3b52fdc500 of size 4194304 next 95\n",
      "2023-10-04 10:39:42.701467: I tensorflow/tsl/framework/bfc_allocator.cc:1095] InUse at 7f3b533dc500 of size 8192 next 96\n",
      "2023-10-04 10:39:42.701471: I tensorflow/tsl/framework/bfc_allocator.cc:1095] InUse at 7f3b533de500 of size 4194304 next 97\n",
      "2023-10-04 10:39:42.701485: I tensorflow/tsl/framework/bfc_allocator.cc:1095] InUse at 7f3b537de500 of size 1048576 next 98\n",
      "2023-10-04 10:39:42.701490: I tensorflow/tsl/framework/bfc_allocator.cc:1095] InUse at 7f3b538de500 of size 2048 next 99\n",
      "2023-10-04 10:39:42.701495: I tensorflow/tsl/framework/bfc_allocator.cc:1095] InUse at 7f3b538ded00 of size 2048 next 100\n",
      "2023-10-04 10:39:42.701500: I tensorflow/tsl/framework/bfc_allocator.cc:1095] InUse at 7f3b538df500 of size 2048 next 101\n",
      "2023-10-04 10:39:42.701505: I tensorflow/tsl/framework/bfc_allocator.cc:1095] InUse at 7f3b538dfd00 of size 1048576 next 102\n",
      "2023-10-04 10:39:42.701510: I tensorflow/tsl/framework/bfc_allocator.cc:1095] InUse at 7f3b539dfd00 of size 2048 next 103\n",
      "2023-10-04 10:39:42.701525: I tensorflow/tsl/framework/bfc_allocator.cc:1095] InUse at 7f3b539e0500 of size 1048576 next 104\n",
      "2023-10-04 10:39:42.701531: I tensorflow/tsl/framework/bfc_allocator.cc:1095] InUse at 7f3b53ae0500 of size 2048 next 105\n",
      "2023-10-04 10:39:42.701536: I tensorflow/tsl/framework/bfc_allocator.cc:1095] InUse at 7f3b53ae0d00 of size 1048576 next 106\n",
      "2023-10-04 10:39:42.701541: I tensorflow/tsl/framework/bfc_allocator.cc:1095] InUse at 7f3b53be0d00 of size 2048 next 107\n",
      "2023-10-04 10:39:42.701545: I tensorflow/tsl/framework/bfc_allocator.cc:1095] InUse at 7f3b53be1500 of size 1048576 next 108\n",
      "2023-10-04 10:39:42.701550: I tensorflow/tsl/framework/bfc_allocator.cc:1095] InUse at 7f3b53ce1500 of size 2048 next 109\n",
      "2023-10-04 10:39:42.701566: I tensorflow/tsl/framework/bfc_allocator.cc:1095] InUse at 7f3b53ce1d00 of size 2048 next 110\n",
      "2023-10-04 10:39:42.701572: I tensorflow/tsl/framework/bfc_allocator.cc:1095] InUse at 7f3b53ce2500 of size 2048 next 111\n",
      "2023-10-04 10:39:42.701576: I tensorflow/tsl/framework/bfc_allocator.cc:1095] InUse at 7f3b53ce2d00 of size 2048 next 112\n",
      "2023-10-04 10:39:42.701581: I tensorflow/tsl/framework/bfc_allocator.cc:1095] InUse at 7f3b53ce3500 of size 4194304 next 113\n",
      "2023-10-04 10:39:42.701595: I tensorflow/tsl/framework/bfc_allocator.cc:1095] InUse at 7f3b540e3500 of size 8192 next 114\n",
      "2023-10-04 10:39:42.701601: I tensorflow/tsl/framework/bfc_allocator.cc:1095] InUse at 7f3b540e5500 of size 4194304 next 115\n",
      "2023-10-04 10:39:42.701605: I tensorflow/tsl/framework/bfc_allocator.cc:1095] InUse at 7f3b544e5500 of size 2048 next 116\n",
      "2023-10-04 10:39:42.701619: I tensorflow/tsl/framework/bfc_allocator.cc:1095] InUse at 7f3b544e5d00 of size 2048 next 117\n",
      "2023-10-04 10:39:42.701624: I tensorflow/tsl/framework/bfc_allocator.cc:1095] InUse at 7f3b544e6500 of size 2048 next 118\n",
      "2023-10-04 10:39:42.701630: I tensorflow/tsl/framework/bfc_allocator.cc:1095] InUse at 7f3b544e6d00 of size 1048576 next 119\n",
      "2023-10-04 10:39:42.701635: I tensorflow/tsl/framework/bfc_allocator.cc:1095] InUse at 7f3b545e6d00 of size 1048576 next 120\n",
      "2023-10-04 10:39:42.701649: I tensorflow/tsl/framework/bfc_allocator.cc:1095] InUse at 7f3b546e6d00 of size 2048 next 121\n",
      "2023-10-04 10:39:42.701654: I tensorflow/tsl/framework/bfc_allocator.cc:1095] InUse at 7f3b546e7500 of size 1048576 next 122\n",
      "2023-10-04 10:39:42.701669: I tensorflow/tsl/framework/bfc_allocator.cc:1095] InUse at 7f3b547e7500 of size 2048 next 123\n",
      "2023-10-04 10:39:42.701675: I tensorflow/tsl/framework/bfc_allocator.cc:1095] InUse at 7f3b547e7d00 of size 1048576 next 124\n",
      "2023-10-04 10:39:42.701689: I tensorflow/tsl/framework/bfc_allocator.cc:1095] InUse at 7f3b548e7d00 of size 2048 next 125\n",
      "2023-10-04 10:39:42.701695: I tensorflow/tsl/framework/bfc_allocator.cc:1095] InUse at 7f3b548e8500 of size 1048576 next 126\n",
      "2023-10-04 10:39:42.701709: I tensorflow/tsl/framework/bfc_allocator.cc:1095] InUse at 7f3b549e8500 of size 2048 next 127\n",
      "2023-10-04 10:39:42.701724: I tensorflow/tsl/framework/bfc_allocator.cc:1095] InUse at 7f3b549e8d00 of size 2048 next 128\n",
      "2023-10-04 10:39:42.701729: I tensorflow/tsl/framework/bfc_allocator.cc:1095] InUse at 7f3b549e9500 of size 2048 next 129\n",
      "2023-10-04 10:39:42.701744: I tensorflow/tsl/framework/bfc_allocator.cc:1095] InUse at 7f3b549e9d00 of size 4194304 next 130\n",
      "2023-10-04 10:39:42.701750: I tensorflow/tsl/framework/bfc_allocator.cc:1095] InUse at 7f3b54de9d00 of size 2048 next 131\n",
      "2023-10-04 10:39:42.701756: I tensorflow/tsl/framework/bfc_allocator.cc:1095] InUse at 7f3b54dea500 of size 8192 next 132\n",
      "2023-10-04 10:39:42.701769: I tensorflow/tsl/framework/bfc_allocator.cc:1095] InUse at 7f3b54dec500 of size 4194304 next 133\n",
      "2023-10-04 10:39:42.701775: I tensorflow/tsl/framework/bfc_allocator.cc:1095] InUse at 7f3b551ec500 of size 2048 next 134\n",
      "2023-10-04 10:39:42.701780: I tensorflow/tsl/framework/bfc_allocator.cc:1095] InUse at 7f3b551ecd00 of size 2048 next 135\n",
      "2023-10-04 10:39:42.701785: I tensorflow/tsl/framework/bfc_allocator.cc:1095] InUse at 7f3b551ed500 of size 2048 next 136\n",
      "2023-10-04 10:39:42.701801: I tensorflow/tsl/framework/bfc_allocator.cc:1095] InUse at 7f3b551edd00 of size 1048576 next 137\n",
      "2023-10-04 10:39:42.701807: I tensorflow/tsl/framework/bfc_allocator.cc:1095] InUse at 7f3b552edd00 of size 2048 next 138\n",
      "2023-10-04 10:39:42.701821: I tensorflow/tsl/framework/bfc_allocator.cc:1095] InUse at 7f3b552ee500 of size 1048576 next 139\n",
      "2023-10-04 10:39:42.701827: I tensorflow/tsl/framework/bfc_allocator.cc:1095] InUse at 7f3b553ee500 of size 2048 next 140\n",
      "2023-10-04 10:39:42.701841: I tensorflow/tsl/framework/bfc_allocator.cc:1095] InUse at 7f3b553eed00 of size 1048576 next 141\n",
      "2023-10-04 10:39:42.701847: I tensorflow/tsl/framework/bfc_allocator.cc:1095] InUse at 7f3b554eed00 of size 1048576 next 142\n",
      "2023-10-04 10:39:42.701862: I tensorflow/tsl/framework/bfc_allocator.cc:1095] InUse at 7f3b555eed00 of size 2048 next 143\n",
      "2023-10-04 10:39:42.701868: I tensorflow/tsl/framework/bfc_allocator.cc:1095] InUse at 7f3b555ef500 of size 1048576 next 144\n",
      "2023-10-04 10:39:42.701883: I tensorflow/tsl/framework/bfc_allocator.cc:1095] InUse at 7f3b556ef500 of size 2048 next 145\n",
      "2023-10-04 10:39:42.701889: I tensorflow/tsl/framework/bfc_allocator.cc:1095] InUse at 7f3b556efd00 of size 2048 next 146\n",
      "2023-10-04 10:39:42.701903: I tensorflow/tsl/framework/bfc_allocator.cc:1095] InUse at 7f3b556f0500 of size 2048 next 147\n",
      "2023-10-04 10:39:42.701909: I tensorflow/tsl/framework/bfc_allocator.cc:1095] InUse at 7f3b556f0d00 of size 4194304 next 148\n",
      "2023-10-04 10:39:42.701924: I tensorflow/tsl/framework/bfc_allocator.cc:1095] InUse at 7f3b55af0d00 of size 8192 next 149\n",
      "2023-10-04 10:39:42.701930: I tensorflow/tsl/framework/bfc_allocator.cc:1095] InUse at 7f3b55af2d00 of size 4194304 next 150\n",
      "2023-10-04 10:39:42.701944: I tensorflow/tsl/framework/bfc_allocator.cc:1095] InUse at 7f3b55ef2d00 of size 2048 next 151\n",
      "2023-10-04 10:39:42.701950: I tensorflow/tsl/framework/bfc_allocator.cc:1095] InUse at 7f3b55ef3500 of size 2048 next 152\n",
      "2023-10-04 10:39:42.701967: I tensorflow/tsl/framework/bfc_allocator.cc:1095] InUse at 7f3b55ef3d00 of size 256 next 153\n",
      "2023-10-04 10:39:42.701983: I tensorflow/tsl/framework/bfc_allocator.cc:1095] InUse at 7f3b55ef3e00 of size 256 next 154\n",
      "2023-10-04 10:39:42.701990: I tensorflow/tsl/framework/bfc_allocator.cc:1095] InUse at 7f3b55ef3f00 of size 256 next 155\n",
      "2023-10-04 10:39:42.702005: I tensorflow/tsl/framework/bfc_allocator.cc:1095] InUse at 7f3b55ef4000 of size 256 next 156\n",
      "2023-10-04 10:39:42.702011: I tensorflow/tsl/framework/bfc_allocator.cc:1095] InUse at 7f3b55ef4100 of size 256 next 157\n",
      "2023-10-04 10:39:42.702016: I tensorflow/tsl/framework/bfc_allocator.cc:1095] InUse at 7f3b55ef4200 of size 256 next 158\n",
      "2023-10-04 10:39:42.702032: I tensorflow/tsl/framework/bfc_allocator.cc:1095] InUse at 7f3b55ef4300 of size 256 next 159\n",
      "2023-10-04 10:39:42.702038: I tensorflow/tsl/framework/bfc_allocator.cc:1095] InUse at 7f3b55ef4400 of size 256 next 160\n",
      "2023-10-04 10:39:42.702053: I tensorflow/tsl/framework/bfc_allocator.cc:1095] InUse at 7f3b55ef4500 of size 256 next 161\n",
      "2023-10-04 10:39:42.702059: I tensorflow/tsl/framework/bfc_allocator.cc:1095] InUse at 7f3b55ef4600 of size 256 next 175\n",
      "2023-10-04 10:39:42.702074: I tensorflow/tsl/framework/bfc_allocator.cc:1095] InUse at 7f3b55ef4700 of size 256 next 177\n",
      "2023-10-04 10:39:42.702080: I tensorflow/tsl/framework/bfc_allocator.cc:1095] InUse at 7f3b55ef4800 of size 256 next 174\n",
      "2023-10-04 10:39:42.702095: I tensorflow/tsl/framework/bfc_allocator.cc:1095] InUse at 7f3b55ef4900 of size 256 next 176\n",
      "2023-10-04 10:39:42.702100: I tensorflow/tsl/framework/bfc_allocator.cc:1095] InUse at 7f3b55ef4a00 of size 256 next 316\n",
      "2023-10-04 10:39:42.702115: I tensorflow/tsl/framework/bfc_allocator.cc:1095] InUse at 7f3b55ef4b00 of size 256 next 317\n",
      "2023-10-04 10:39:42.702130: I tensorflow/tsl/framework/bfc_allocator.cc:1095] InUse at 7f3b55ef4c00 of size 256 next 319\n",
      "2023-10-04 10:39:42.702136: I tensorflow/tsl/framework/bfc_allocator.cc:1095] InUse at 7f3b55ef4d00 of size 256 next 169\n",
      "2023-10-04 10:39:42.702151: I tensorflow/tsl/framework/bfc_allocator.cc:1095] InUse at 7f3b55ef4e00 of size 2048 next 163\n",
      "2023-10-04 10:39:42.702157: I tensorflow/tsl/framework/bfc_allocator.cc:1095] InUse at 7f3b55ef5600 of size 2048 next 180\n",
      "2023-10-04 10:39:42.702172: I tensorflow/tsl/framework/bfc_allocator.cc:1095] InUse at 7f3b55ef5e00 of size 2048 next 181\n",
      "2023-10-04 10:39:42.702178: I tensorflow/tsl/framework/bfc_allocator.cc:1095] InUse at 7f3b55ef6600 of size 2048 next 182\n",
      "2023-10-04 10:39:42.702203: I tensorflow/tsl/framework/bfc_allocator.cc:1095] InUse at 7f3b55ef6e00 of size 2048 next 185\n",
      "2023-10-04 10:39:42.702220: I tensorflow/tsl/framework/bfc_allocator.cc:1095] InUse at 7f3b55ef7600 of size 2048 next 186\n",
      "2023-10-04 10:39:42.702235: I tensorflow/tsl/framework/bfc_allocator.cc:1095] InUse at 7f3b55ef7e00 of size 2048 next 188\n",
      "2023-10-04 10:39:42.702250: I tensorflow/tsl/framework/bfc_allocator.cc:1095] InUse at 7f3b55ef8600 of size 2048 next 190\n",
      "2023-10-04 10:39:42.702266: I tensorflow/tsl/framework/bfc_allocator.cc:1095] InUse at 7f3b55ef8e00 of size 2048 next 192\n",
      "2023-10-04 10:39:42.702282: I tensorflow/tsl/framework/bfc_allocator.cc:1095] InUse at 7f3b55ef9600 of size 2048 next 194\n",
      "2023-10-04 10:39:42.702298: I tensorflow/tsl/framework/bfc_allocator.cc:1095] InUse at 7f3b55ef9e00 of size 2048 next 195\n",
      "2023-10-04 10:39:42.702305: I tensorflow/tsl/framework/bfc_allocator.cc:1095] InUse at 7f3b55efa600 of size 2048 next 197\n",
      "2023-10-04 10:39:42.702310: I tensorflow/tsl/framework/bfc_allocator.cc:1095] InUse at 7f3b55efae00 of size 8192 next 199\n",
      "2023-10-04 10:39:42.702326: I tensorflow/tsl/framework/bfc_allocator.cc:1095] InUse at 7f3b55efce00 of size 2048 next 201\n",
      "2023-10-04 10:39:42.702332: I tensorflow/tsl/framework/bfc_allocator.cc:1095] InUse at 7f3b55efd600 of size 2048 next 202\n",
      "2023-10-04 10:39:42.702347: I tensorflow/tsl/framework/bfc_allocator.cc:1095] InUse at 7f3b55efde00 of size 2048 next 203\n",
      "2023-10-04 10:39:42.702353: I tensorflow/tsl/framework/bfc_allocator.cc:1095] InUse at 7f3b55efe600 of size 2048 next 205\n",
      "2023-10-04 10:39:42.702369: I tensorflow/tsl/framework/bfc_allocator.cc:1095] InUse at 7f3b55efee00 of size 2048 next 207\n",
      "2023-10-04 10:39:42.702375: I tensorflow/tsl/framework/bfc_allocator.cc:1095] InUse at 7f3b55eff600 of size 2048 next 208\n",
      "2023-10-04 10:39:42.702391: I tensorflow/tsl/framework/bfc_allocator.cc:1095] InUse at 7f3b55effe00 of size 2048 next 210\n",
      "2023-10-04 10:39:42.702398: I tensorflow/tsl/framework/bfc_allocator.cc:1095] InUse at 7f3b55f00600 of size 2048 next 212\n",
      "2023-10-04 10:39:42.702435: I tensorflow/tsl/framework/bfc_allocator.cc:1095] InUse at 7f3b55f00e00 of size 2048 next 213\n",
      "2023-10-04 10:39:42.702446: I tensorflow/tsl/framework/bfc_allocator.cc:1095] InUse at 7f3b55f01600 of size 2048 next 214\n",
      "2023-10-04 10:39:42.702452: I tensorflow/tsl/framework/bfc_allocator.cc:1095] InUse at 7f3b55f01e00 of size 11264 next 167\n",
      "2023-10-04 10:39:42.702459: I tensorflow/tsl/framework/bfc_allocator.cc:1095] InUse at 7f3b55f04a00 of size 459776 next 166\n",
      "2023-10-04 10:39:42.702479: I tensorflow/tsl/framework/bfc_allocator.cc:1095] InUse at 7f3b55f74e00 of size 122112 next 178\n",
      "2023-10-04 10:39:42.702485: I tensorflow/tsl/framework/bfc_allocator.cc:1095] InUse at 7f3b55f92b00 of size 2048 next 217\n",
      "2023-10-04 10:39:42.702491: I tensorflow/tsl/framework/bfc_allocator.cc:1095] InUse at 7f3b55f93300 of size 2048 next 218\n",
      "2023-10-04 10:39:42.702506: I tensorflow/tsl/framework/bfc_allocator.cc:1095] InUse at 7f3b55f93b00 of size 2048 next 219\n",
      "2023-10-04 10:39:42.702512: I tensorflow/tsl/framework/bfc_allocator.cc:1095] InUse at 7f3b55f94300 of size 2048 next 220\n",
      "2023-10-04 10:39:42.702527: I tensorflow/tsl/framework/bfc_allocator.cc:1095] InUse at 7f3b55f94b00 of size 2048 next 222\n",
      "2023-10-04 10:39:42.702544: I tensorflow/tsl/framework/bfc_allocator.cc:1095] InUse at 7f3b55f95300 of size 2048 next 223\n",
      "2023-10-04 10:39:42.702559: I tensorflow/tsl/framework/bfc_allocator.cc:1095] InUse at 7f3b55f95b00 of size 8192 next 225\n",
      "2023-10-04 10:39:42.702566: I tensorflow/tsl/framework/bfc_allocator.cc:1095] InUse at 7f3b55f97b00 of size 2048 next 227\n",
      "2023-10-04 10:39:42.702571: I tensorflow/tsl/framework/bfc_allocator.cc:1095] InUse at 7f3b55f98300 of size 2048 next 228\n",
      "2023-10-04 10:39:42.702586: I tensorflow/tsl/framework/bfc_allocator.cc:1095] InUse at 7f3b55f98b00 of size 4096 next 229\n",
      "2023-10-04 10:39:42.702592: I tensorflow/tsl/framework/bfc_allocator.cc:1095] InUse at 7f3b55f99b00 of size 2048 next 230\n",
      "2023-10-04 10:39:42.702607: I tensorflow/tsl/framework/bfc_allocator.cc:1095] InUse at 7f3b55f9a300 of size 2048 next 232\n",
      "2023-10-04 10:39:42.702622: I tensorflow/tsl/framework/bfc_allocator.cc:1095] InUse at 7f3b55f9ab00 of size 2048 next 234\n",
      "2023-10-04 10:39:42.702639: I tensorflow/tsl/framework/bfc_allocator.cc:1095] InUse at 7f3b55f9b300 of size 2048 next 236\n",
      "2023-10-04 10:39:42.702645: I tensorflow/tsl/framework/bfc_allocator.cc:1095] InUse at 7f3b55f9bb00 of size 2048 next 238\n",
      "2023-10-04 10:39:42.702660: I tensorflow/tsl/framework/bfc_allocator.cc:1095] InUse at 7f3b55f9c300 of size 2048 next 239\n",
      "2023-10-04 10:39:42.702666: I tensorflow/tsl/framework/bfc_allocator.cc:1095] InUse at 7f3b55f9cb00 of size 2048 next 240\n",
      "2023-10-04 10:39:42.702682: I tensorflow/tsl/framework/bfc_allocator.cc:1095] InUse at 7f3b55f9d300 of size 2048 next 241\n",
      "2023-10-04 10:39:42.702688: I tensorflow/tsl/framework/bfc_allocator.cc:1095] InUse at 7f3b55f9db00 of size 8192 next 243\n",
      "2023-10-04 10:39:42.702704: I tensorflow/tsl/framework/bfc_allocator.cc:1095] InUse at 7f3b55f9fb00 of size 2048 next 245\n",
      "2023-10-04 10:39:42.702710: I tensorflow/tsl/framework/bfc_allocator.cc:1095] InUse at 7f3b55fa0300 of size 2048 next 246\n",
      "2023-10-04 10:39:42.702726: I tensorflow/tsl/framework/bfc_allocator.cc:1095] InUse at 7f3b55fa0b00 of size 2048 next 247\n",
      "2023-10-04 10:39:42.702733: I tensorflow/tsl/framework/bfc_allocator.cc:1095] InUse at 7f3b55fa1300 of size 2048 next 249\n",
      "2023-10-04 10:39:42.702749: I tensorflow/tsl/framework/bfc_allocator.cc:1095] InUse at 7f3b55fa1b00 of size 2048 next 251\n",
      "2023-10-04 10:39:42.702757: I tensorflow/tsl/framework/bfc_allocator.cc:1095] InUse at 7f3b55fa2300 of size 2048 next 252\n",
      "2023-10-04 10:39:42.702772: I tensorflow/tsl/framework/bfc_allocator.cc:1095] InUse at 7f3b55fa2b00 of size 2048 next 254\n",
      "2023-10-04 10:39:42.702788: I tensorflow/tsl/framework/bfc_allocator.cc:1095] InUse at 7f3b55fa3300 of size 2048 next 256\n",
      "2023-10-04 10:39:42.702803: I tensorflow/tsl/framework/bfc_allocator.cc:1095] InUse at 7f3b55fa3b00 of size 2048 next 257\n",
      "2023-10-04 10:39:42.702820: I tensorflow/tsl/framework/bfc_allocator.cc:1095] InUse at 7f3b55fa4300 of size 2048 next 258\n",
      "2023-10-04 10:39:42.702838: I tensorflow/tsl/framework/bfc_allocator.cc:1095] InUse at 7f3b55fa4b00 of size 8192 next 260\n",
      "2023-10-04 10:39:42.702845: I tensorflow/tsl/framework/bfc_allocator.cc:1095] InUse at 7f3b55fa6b00 of size 2048 next 263\n",
      "2023-10-04 10:39:42.702851: I tensorflow/tsl/framework/bfc_allocator.cc:1095] InUse at 7f3b55fa7300 of size 2048 next 264\n",
      "2023-10-04 10:39:42.702866: I tensorflow/tsl/framework/bfc_allocator.cc:1095] InUse at 7f3b55fa7b00 of size 2048 next 265\n",
      "2023-10-04 10:39:42.702872: I tensorflow/tsl/framework/bfc_allocator.cc:1095] InUse at 7f3b55fa8300 of size 2048 next 267\n",
      "2023-10-04 10:39:42.702888: I tensorflow/tsl/framework/bfc_allocator.cc:1095] InUse at 7f3b55fa8b00 of size 2048 next 269\n",
      "2023-10-04 10:39:42.702905: I tensorflow/tsl/framework/bfc_allocator.cc:1095] InUse at 7f3b55fa9300 of size 2048 next 271\n",
      "2023-10-04 10:39:42.702911: I tensorflow/tsl/framework/bfc_allocator.cc:1095] InUse at 7f3b55fa9b00 of size 2048 next 273\n",
      "2023-10-04 10:39:42.702927: I tensorflow/tsl/framework/bfc_allocator.cc:1095] InUse at 7f3b55faa300 of size 2048 next 274\n",
      "2023-10-04 10:39:42.702942: I tensorflow/tsl/framework/bfc_allocator.cc:1095] InUse at 7f3b55faab00 of size 2048 next 275\n",
      "2023-10-04 10:39:42.702949: I tensorflow/tsl/framework/bfc_allocator.cc:1095] InUse at 7f3b55fab300 of size 2048 next 276\n",
      "2023-10-04 10:39:42.702965: I tensorflow/tsl/framework/bfc_allocator.cc:1095] InUse at 7f3b55fabb00 of size 8192 next 278\n",
      "2023-10-04 10:39:42.702971: I tensorflow/tsl/framework/bfc_allocator.cc:1095] InUse at 7f3b55fadb00 of size 2048 next 280\n",
      "2023-10-04 10:39:42.702986: I tensorflow/tsl/framework/bfc_allocator.cc:1095] InUse at 7f3b55fae300 of size 2048 next 281\n",
      "2023-10-04 10:39:42.702992: I tensorflow/tsl/framework/bfc_allocator.cc:1095] InUse at 7f3b55faeb00 of size 2048 next 282\n",
      "2023-10-04 10:39:42.703008: I tensorflow/tsl/framework/bfc_allocator.cc:1095] InUse at 7f3b55faf300 of size 2048 next 285\n",
      "2023-10-04 10:39:42.703015: I tensorflow/tsl/framework/bfc_allocator.cc:1095] InUse at 7f3b55fafb00 of size 2048 next 287\n",
      "2023-10-04 10:39:42.703031: I tensorflow/tsl/framework/bfc_allocator.cc:1095] InUse at 7f3b55fb0300 of size 2048 next 289\n",
      "2023-10-04 10:39:42.703037: I tensorflow/tsl/framework/bfc_allocator.cc:1095] InUse at 7f3b55fb0b00 of size 2048 next 291\n",
      "2023-10-04 10:39:42.703052: I tensorflow/tsl/framework/bfc_allocator.cc:1095] InUse at 7f3b55fb1300 of size 2048 next 292\n",
      "2023-10-04 10:39:42.703058: I tensorflow/tsl/framework/bfc_allocator.cc:1095] InUse at 7f3b55fb1b00 of size 2048 next 293\n",
      "2023-10-04 10:39:42.703074: I tensorflow/tsl/framework/bfc_allocator.cc:1095] InUse at 7f3b55fb2300 of size 2048 next 295\n",
      "2023-10-04 10:39:42.703089: I tensorflow/tsl/framework/bfc_allocator.cc:1095] InUse at 7f3b55fb2b00 of size 8960 next 165\n",
      "2023-10-04 10:39:42.703106: I tensorflow/tsl/framework/bfc_allocator.cc:1095] InUse at 7f3b55fb4e00 of size 262144 next 162\n",
      "2023-10-04 10:39:42.703123: I tensorflow/tsl/framework/bfc_allocator.cc:1095] InUse at 7f3b55ff4e00 of size 262144 next 164\n",
      "2023-10-04 10:39:42.703129: I tensorflow/tsl/framework/bfc_allocator.cc:1095] InUse at 7f3b56034e00 of size 262144 next 171\n",
      "2023-10-04 10:39:42.703145: I tensorflow/tsl/framework/bfc_allocator.cc:1095] InUse at 7f3b56074e00 of size 262144 next 168\n",
      "2023-10-04 10:39:42.703151: I tensorflow/tsl/framework/bfc_allocator.cc:1095] InUse at 7f3b560b4e00 of size 262144 next 170\n",
      "2023-10-04 10:39:42.703166: I tensorflow/tsl/framework/bfc_allocator.cc:1095] InUse at 7f3b560f4e00 of size 262144 next 172\n",
      "2023-10-04 10:39:42.703182: I tensorflow/tsl/framework/bfc_allocator.cc:1095] InUse at 7f3b56134e00 of size 262144 next 173\n",
      "2023-10-04 10:39:42.703188: I tensorflow/tsl/framework/bfc_allocator.cc:1095] InUse at 7f3b56174e00 of size 1048576 next 179\n",
      "2023-10-04 10:39:42.703202: I tensorflow/tsl/framework/bfc_allocator.cc:1095] InUse at 7f3b56274e00 of size 62509056 next 183\n",
      "2023-10-04 10:39:42.703209: I tensorflow/tsl/framework/bfc_allocator.cc:1095] InUse at 7f3b59e11e00 of size 1048576 next 184\n",
      "2023-10-04 10:39:42.703224: I tensorflow/tsl/framework/bfc_allocator.cc:1095] InUse at 7f3b59f11e00 of size 1048576 next 187\n",
      "2023-10-04 10:39:42.703231: I tensorflow/tsl/framework/bfc_allocator.cc:1095] InUse at 7f3b5a011e00 of size 1048576 next 189\n",
      "2023-10-04 10:39:42.703246: I tensorflow/tsl/framework/bfc_allocator.cc:1095] InUse at 7f3b5a111e00 of size 1048576 next 191\n",
      "2023-10-04 10:39:42.703260: I tensorflow/tsl/framework/bfc_allocator.cc:1095] InUse at 7f3b5a211e00 of size 1048576 next 193\n",
      "2023-10-04 10:39:42.703276: I tensorflow/tsl/framework/bfc_allocator.cc:1095] InUse at 7f3b5a311e00 of size 1048576 next 196\n",
      "2023-10-04 10:39:42.703282: I tensorflow/tsl/framework/bfc_allocator.cc:1095] InUse at 7f3b5a411e00 of size 4194304 next 198\n",
      "2023-10-04 10:39:42.703297: I tensorflow/tsl/framework/bfc_allocator.cc:1095] InUse at 7f3b5a811e00 of size 4194304 next 200\n",
      "2023-10-04 10:39:42.703304: I tensorflow/tsl/framework/bfc_allocator.cc:1095] InUse at 7f3b5ac11e00 of size 1048576 next 204\n",
      "2023-10-04 10:39:42.703310: I tensorflow/tsl/framework/bfc_allocator.cc:1095] InUse at 7f3b5ad11e00 of size 1048576 next 206\n",
      "2023-10-04 10:39:42.703325: I tensorflow/tsl/framework/bfc_allocator.cc:1095] InUse at 7f3b5ae11e00 of size 1048576 next 209\n",
      "2023-10-04 10:39:42.703341: I tensorflow/tsl/framework/bfc_allocator.cc:1095] InUse at 7f3b5af11e00 of size 1048576 next 211\n",
      "2023-10-04 10:39:42.703357: I tensorflow/tsl/framework/bfc_allocator.cc:1095] InUse at 7f3b5b011e00 of size 4194304 next 215\n",
      "2023-10-04 10:39:42.703372: I tensorflow/tsl/framework/bfc_allocator.cc:1095] InUse at 7f3b5b411e00 of size 4194304 next 216\n",
      "2023-10-04 10:39:42.703378: I tensorflow/tsl/framework/bfc_allocator.cc:1095] InUse at 7f3b5b811e00 of size 1048576 next 221\n",
      "2023-10-04 10:39:42.703394: I tensorflow/tsl/framework/bfc_allocator.cc:1095] InUse at 7f3b5b911e00 of size 4194304 next 224\n",
      "2023-10-04 10:39:42.703400: I tensorflow/tsl/framework/bfc_allocator.cc:1095] InUse at 7f3b5bd11e00 of size 4194304 next 226\n",
      "2023-10-04 10:39:42.703416: I tensorflow/tsl/framework/bfc_allocator.cc:1095] InUse at 7f3b5c111e00 of size 1048576 next 231\n",
      "2023-10-04 10:39:42.703422: I tensorflow/tsl/framework/bfc_allocator.cc:1095] InUse at 7f3b5c211e00 of size 1048576 next 233\n",
      "2023-10-04 10:39:42.703437: I tensorflow/tsl/framework/bfc_allocator.cc:1095] InUse at 7f3b5c311e00 of size 1048576 next 235\n",
      "2023-10-04 10:39:42.703452: I tensorflow/tsl/framework/bfc_allocator.cc:1095] InUse at 7f3b5c411e00 of size 1048576 next 237\n",
      "2023-10-04 10:39:42.703458: I tensorflow/tsl/framework/bfc_allocator.cc:1095] InUse at 7f3b5c511e00 of size 4194304 next 242\n",
      "2023-10-04 10:39:42.703474: I tensorflow/tsl/framework/bfc_allocator.cc:1095] InUse at 7f3b5c911e00 of size 4194304 next 244\n",
      "2023-10-04 10:39:42.703490: I tensorflow/tsl/framework/bfc_allocator.cc:1095] InUse at 7f3b5cd11e00 of size 1048576 next 248\n",
      "2023-10-04 10:39:42.703505: I tensorflow/tsl/framework/bfc_allocator.cc:1095] InUse at 7f3b5ce11e00 of size 1048576 next 250\n",
      "2023-10-04 10:39:42.703521: I tensorflow/tsl/framework/bfc_allocator.cc:1095] InUse at 7f3b5cf11e00 of size 1048576 next 253\n",
      "2023-10-04 10:39:42.703537: I tensorflow/tsl/framework/bfc_allocator.cc:1095] InUse at 7f3b5d011e00 of size 1048576 next 255\n",
      "2023-10-04 10:39:42.703552: I tensorflow/tsl/framework/bfc_allocator.cc:1095] InUse at 7f3b5d111e00 of size 4194304 next 259\n",
      "2023-10-04 10:39:42.703568: I tensorflow/tsl/framework/bfc_allocator.cc:1095] InUse at 7f3b5d511e00 of size 4194304 next 261\n",
      "2023-10-04 10:39:42.703585: I tensorflow/tsl/framework/bfc_allocator.cc:1095] InUse at 7f3b5d911e00 of size 1048576 next 262\n",
      "2023-10-04 10:39:42.703591: I tensorflow/tsl/framework/bfc_allocator.cc:1095] InUse at 7f3b5da11e00 of size 1048576 next 266\n",
      "2023-10-04 10:39:42.703606: I tensorflow/tsl/framework/bfc_allocator.cc:1095] InUse at 7f3b5db11e00 of size 1048576 next 268\n",
      "2023-10-04 10:39:42.703613: I tensorflow/tsl/framework/bfc_allocator.cc:1095] InUse at 7f3b5dc11e00 of size 1048576 next 270\n",
      "2023-10-04 10:39:42.703628: I tensorflow/tsl/framework/bfc_allocator.cc:1095] InUse at 7f3b5dd11e00 of size 1048576 next 272\n",
      "2023-10-04 10:39:42.703644: I tensorflow/tsl/framework/bfc_allocator.cc:1095] InUse at 7f3b5de11e00 of size 4194304 next 277\n",
      "2023-10-04 10:39:42.703659: I tensorflow/tsl/framework/bfc_allocator.cc:1095] InUse at 7f3b5e211e00 of size 4194304 next 279\n",
      "2023-10-04 10:39:42.703665: I tensorflow/tsl/framework/bfc_allocator.cc:1095] InUse at 7f3b5e611e00 of size 1048576 next 283\n",
      "2023-10-04 10:39:42.703681: I tensorflow/tsl/framework/bfc_allocator.cc:1095] InUse at 7f3b5e711e00 of size 1048576 next 284\n",
      "2023-10-04 10:39:42.703696: I tensorflow/tsl/framework/bfc_allocator.cc:1095] InUse at 7f3b5e811e00 of size 1048576 next 286\n",
      "2023-10-04 10:39:42.703703: I tensorflow/tsl/framework/bfc_allocator.cc:1095] InUse at 7f3b5e911e00 of size 1048576 next 288\n",
      "2023-10-04 10:39:42.703710: I tensorflow/tsl/framework/bfc_allocator.cc:1095] InUse at 7f3b5ea11e00 of size 1048576 next 290\n",
      "2023-10-04 10:39:42.703725: I tensorflow/tsl/framework/bfc_allocator.cc:1095] InUse at 7f3b5eb11e00 of size 4194304 next 294\n",
      "2023-10-04 10:39:42.703741: I tensorflow/tsl/framework/bfc_allocator.cc:1095] InUse at 7f3b5ef11e00 of size 4194304 next 296\n",
      "2023-10-04 10:39:42.703756: I tensorflow/tsl/framework/bfc_allocator.cc:1095] InUse at 7f3b5f311e00 of size 2048 next 297\n",
      "2023-10-04 10:39:42.703771: I tensorflow/tsl/framework/bfc_allocator.cc:1095] InUse at 7f3b5f312600 of size 2048 next 298\n",
      "2023-10-04 10:39:42.703777: I tensorflow/tsl/framework/bfc_allocator.cc:1095] InUse at 7f3b5f312e00 of size 2048 next 299\n",
      "2023-10-04 10:39:42.703793: I tensorflow/tsl/framework/bfc_allocator.cc:1095] InUse at 7f3b5f313600 of size 1048576 next 300\n",
      "2023-10-04 10:39:42.703800: I tensorflow/tsl/framework/bfc_allocator.cc:1095] InUse at 7f3b5f413600 of size 2048 next 301\n",
      "2023-10-04 10:39:42.703815: I tensorflow/tsl/framework/bfc_allocator.cc:1095] InUse at 7f3b5f413e00 of size 1048576 next 302\n",
      "2023-10-04 10:39:42.703822: I tensorflow/tsl/framework/bfc_allocator.cc:1095] InUse at 7f3b5f513e00 of size 2048 next 303\n",
      "2023-10-04 10:39:42.703837: I tensorflow/tsl/framework/bfc_allocator.cc:1095] InUse at 7f3b5f514600 of size 1048576 next 304\n",
      "2023-10-04 10:39:42.703853: I tensorflow/tsl/framework/bfc_allocator.cc:1095] InUse at 7f3b5f614600 of size 1048576 next 305\n",
      "2023-10-04 10:39:42.703868: I tensorflow/tsl/framework/bfc_allocator.cc:1095] InUse at 7f3b5f714600 of size 2048 next 306\n",
      "2023-10-04 10:39:42.703874: I tensorflow/tsl/framework/bfc_allocator.cc:1095] InUse at 7f3b5f714e00 of size 1048576 next 307\n",
      "2023-10-04 10:39:42.703891: I tensorflow/tsl/framework/bfc_allocator.cc:1095] InUse at 7f3b5f814e00 of size 2048 next 308\n",
      "2023-10-04 10:39:42.703906: I tensorflow/tsl/framework/bfc_allocator.cc:1095] InUse at 7f3b5f815600 of size 2048 next 309\n",
      "2023-10-04 10:39:42.703922: I tensorflow/tsl/framework/bfc_allocator.cc:1095] InUse at 7f3b5f815e00 of size 2048 next 310\n",
      "2023-10-04 10:39:42.703937: I tensorflow/tsl/framework/bfc_allocator.cc:1095] InUse at 7f3b5f816600 of size 4194304 next 311\n",
      "2023-10-04 10:39:42.703953: I tensorflow/tsl/framework/bfc_allocator.cc:1095] InUse at 7f3b5fc16600 of size 8192 next 312\n",
      "2023-10-04 10:39:42.703969: I tensorflow/tsl/framework/bfc_allocator.cc:1095] InUse at 7f3b5fc18600 of size 4194304 next 313\n",
      "2023-10-04 10:39:42.703985: I tensorflow/tsl/framework/bfc_allocator.cc:1095] InUse at 7f3b60018600 of size 2048 next 314\n",
      "2023-10-04 10:39:42.703992: I tensorflow/tsl/framework/bfc_allocator.cc:1095] InUse at 7f3b60018e00 of size 2048 next 315\n",
      "2023-10-04 10:39:42.703997: I tensorflow/tsl/framework/bfc_allocator.cc:1095] InUse at 7f3b60019600 of size 256 next 318\n",
      "2023-10-04 10:39:42.704002: I tensorflow/tsl/framework/bfc_allocator.cc:1095] InUse at 7f3b60019700 of size 256 next 320\n",
      "2023-10-04 10:39:42.704007: I tensorflow/tsl/framework/bfc_allocator.cc:1095] InUse at 7f3b60019800 of size 256 next 323\n",
      "2023-10-04 10:39:42.704024: I tensorflow/tsl/framework/bfc_allocator.cc:1095] InUse at 7f3b60019900 of size 256 next 324\n",
      "2023-10-04 10:39:42.704030: I tensorflow/tsl/framework/bfc_allocator.cc:1095] InUse at 7f3b60019a00 of size 256 next 325\n",
      "2023-10-04 10:39:42.704045: I tensorflow/tsl/framework/bfc_allocator.cc:1095] InUse at 7f3b60019b00 of size 256 next 326\n",
      "2023-10-04 10:39:42.704060: I tensorflow/tsl/framework/bfc_allocator.cc:1095] InUse at 7f3b60019c00 of size 256 next 327\n",
      "2023-10-04 10:39:42.704066: I tensorflow/tsl/framework/bfc_allocator.cc:1095] InUse at 7f3b60019d00 of size 256 next 328\n",
      "2023-10-04 10:39:42.704082: I tensorflow/tsl/framework/bfc_allocator.cc:1095] InUse at 7f3b60019e00 of size 256 next 329\n",
      "2023-10-04 10:39:42.704088: I tensorflow/tsl/framework/bfc_allocator.cc:1095] InUse at 7f3b60019f00 of size 256 next 338\n",
      "2023-10-04 10:39:42.704103: I tensorflow/tsl/framework/bfc_allocator.cc:1095] InUse at 7f3b6001a000 of size 256 next 334\n",
      "2023-10-04 10:39:42.704109: I tensorflow/tsl/framework/bfc_allocator.cc:1095] InUse at 7f3b6001a100 of size 256 next 333\n",
      "2023-10-04 10:39:42.704124: I tensorflow/tsl/framework/bfc_allocator.cc:1095] InUse at 7f3b6001a200 of size 256 next 331\n",
      "2023-10-04 10:39:42.704130: I tensorflow/tsl/framework/bfc_allocator.cc:1095] InUse at 7f3b6001a300 of size 256 next 339\n",
      "2023-10-04 10:39:42.704146: I tensorflow/tsl/framework/bfc_allocator.cc:1095] InUse at 7f3b6001a400 of size 256 next 340\n",
      "2023-10-04 10:39:42.704152: I tensorflow/tsl/framework/bfc_allocator.cc:1095] InUse at 7f3b6001a500 of size 256 next 341\n",
      "2023-10-04 10:39:42.704168: I tensorflow/tsl/framework/bfc_allocator.cc:1095] InUse at 7f3b6001a600 of size 256 next 337\n",
      "2023-10-04 10:39:42.704183: I tensorflow/tsl/framework/bfc_allocator.cc:1095] InUse at 7f3b6001a700 of size 256 next 347\n",
      "2023-10-04 10:39:42.704198: I tensorflow/tsl/framework/bfc_allocator.cc:1095] InUse at 7f3b6001a800 of size 256 next 348\n",
      "2023-10-04 10:39:42.704203: I tensorflow/tsl/framework/bfc_allocator.cc:1095] InUse at 7f3b6001a900 of size 256 next 345\n",
      "2023-10-04 10:39:42.704208: I tensorflow/tsl/framework/bfc_allocator.cc:1095] InUse at 7f3b6001aa00 of size 256 next 349\n",
      "2023-10-04 10:39:42.704213: I tensorflow/tsl/framework/bfc_allocator.cc:1095] InUse at 7f3b6001ab00 of size 256 next 346\n",
      "2023-10-04 10:39:42.704226: I tensorflow/tsl/framework/bfc_allocator.cc:1095] InUse at 7f3b6001ac00 of size 256 next 335\n",
      "2023-10-04 10:39:42.704232: I tensorflow/tsl/framework/bfc_allocator.cc:1095] InUse at 7f3b6001ad00 of size 256 next 332\n",
      "2023-10-04 10:39:42.704244: I tensorflow/tsl/framework/bfc_allocator.cc:1095] InUse at 7f3b6001ae00 of size 256 next 330\n",
      "2023-10-04 10:39:42.704250: I tensorflow/tsl/framework/bfc_allocator.cc:1095] InUse at 7f3b6001af00 of size 256 next 343\n",
      "2023-10-04 10:39:42.704254: I tensorflow/tsl/framework/bfc_allocator.cc:1095] InUse at 7f3b6001b000 of size 256 next 344\n",
      "2023-10-04 10:39:42.704259: I tensorflow/tsl/framework/bfc_allocator.cc:1095] InUse at 7f3b6001b100 of size 256 next 342\n",
      "2023-10-04 10:39:42.704273: I tensorflow/tsl/framework/bfc_allocator.cc:1095] InUse at 7f3b6001b200 of size 4096 next 354\n",
      "2023-10-04 10:39:42.704279: I tensorflow/tsl/framework/bfc_allocator.cc:1095] InUse at 7f3b6001c200 of size 4096 next 355\n",
      "2023-10-04 10:39:42.704285: I tensorflow/tsl/framework/bfc_allocator.cc:1095] InUse at 7f3b6001d200 of size 2048 next 356\n",
      "2023-10-04 10:39:42.704290: I tensorflow/tsl/framework/bfc_allocator.cc:1095] InUse at 7f3b6001da00 of size 3328 next 321\n",
      "2023-10-04 10:39:42.704304: I tensorflow/tsl/framework/bfc_allocator.cc:1095] InUse at 7f3b6001e700 of size 10240 next 322\n",
      "2023-10-04 10:39:42.704309: I tensorflow/tsl/framework/bfc_allocator.cc:1095] InUse at 7f3b60020f00 of size 25856 next 336\n",
      "2023-10-04 10:39:42.704314: I tensorflow/tsl/framework/bfc_allocator.cc:1095] InUse at 7f3b60027400 of size 62509056 next 350\n",
      "2023-10-04 10:39:42.704326: I tensorflow/tsl/framework/bfc_allocator.cc:1095] InUse at 7f3b63bc4400 of size 62509056 next 352\n",
      "2023-10-04 10:39:42.704330: I tensorflow/tsl/framework/bfc_allocator.cc:1095] InUse at 7f3b67761400 of size 1048576 next 351\n",
      "2023-10-04 10:39:42.704334: I tensorflow/tsl/framework/bfc_allocator.cc:1095] InUse at 7f3b67861400 of size 1048576 next 353\n",
      "2023-10-04 10:39:42.704338: I tensorflow/tsl/framework/bfc_allocator.cc:1095] InUse at 7f3b67961400 of size 2048 next 357\n",
      "2023-10-04 10:39:42.704350: I tensorflow/tsl/framework/bfc_allocator.cc:1095] InUse at 7f3b67961c00 of size 2048 next 358\n",
      "2023-10-04 10:39:42.704354: I tensorflow/tsl/framework/bfc_allocator.cc:1095] InUse at 7f3b67962400 of size 1048576 next 359\n",
      "2023-10-04 10:39:42.704358: I tensorflow/tsl/framework/bfc_allocator.cc:1095] InUse at 7f3b67a62400 of size 1048576 next 360\n",
      "2023-10-04 10:39:42.704362: I tensorflow/tsl/framework/bfc_allocator.cc:1095] InUse at 7f3b67b62400 of size 2048 next 361\n",
      "2023-10-04 10:39:42.704368: I tensorflow/tsl/framework/bfc_allocator.cc:1095] InUse at 7f3b67b62c00 of size 2048 next 362\n",
      "2023-10-04 10:39:42.704372: I tensorflow/tsl/framework/bfc_allocator.cc:1095] InUse at 7f3b67b63400 of size 1048576 next 363\n",
      "2023-10-04 10:39:42.704376: I tensorflow/tsl/framework/bfc_allocator.cc:1095] InUse at 7f3b67c63400 of size 1048576 next 364\n",
      "2023-10-04 10:39:42.704380: I tensorflow/tsl/framework/bfc_allocator.cc:1095] InUse at 7f3b67d63400 of size 2048 next 365\n",
      "2023-10-04 10:39:42.704384: I tensorflow/tsl/framework/bfc_allocator.cc:1095] InUse at 7f3b67d63c00 of size 2048 next 366\n",
      "2023-10-04 10:39:42.704388: I tensorflow/tsl/framework/bfc_allocator.cc:1095] InUse at 7f3b67d64400 of size 1048576 next 367\n",
      "2023-10-04 10:39:42.704392: I tensorflow/tsl/framework/bfc_allocator.cc:1095] InUse at 7f3b67e64400 of size 1048576 next 368\n",
      "2023-10-04 10:39:42.704396: I tensorflow/tsl/framework/bfc_allocator.cc:1095] InUse at 7f3b67f64400 of size 2048 next 369\n",
      "2023-10-04 10:39:42.704400: I tensorflow/tsl/framework/bfc_allocator.cc:1095] InUse at 7f3b67f64c00 of size 2048 next 370\n",
      "2023-10-04 10:39:42.704404: I tensorflow/tsl/framework/bfc_allocator.cc:1095] InUse at 7f3b67f65400 of size 1048576 next 371\n",
      "2023-10-04 10:39:42.704409: I tensorflow/tsl/framework/bfc_allocator.cc:1095] InUse at 7f3b68065400 of size 1048576 next 372\n",
      "2023-10-04 10:39:42.704413: I tensorflow/tsl/framework/bfc_allocator.cc:1095] InUse at 7f3b68165400 of size 2048 next 373\n",
      "2023-10-04 10:39:42.704417: I tensorflow/tsl/framework/bfc_allocator.cc:1095] InUse at 7f3b68165c00 of size 2048 next 374\n",
      "2023-10-04 10:39:42.704421: I tensorflow/tsl/framework/bfc_allocator.cc:1095] InUse at 7f3b68166400 of size 2048 next 375\n",
      "2023-10-04 10:39:42.704425: I tensorflow/tsl/framework/bfc_allocator.cc:1095] InUse at 7f3b68166c00 of size 2048 next 376\n",
      "2023-10-04 10:39:42.704429: I tensorflow/tsl/framework/bfc_allocator.cc:1095] InUse at 7f3b68167400 of size 2048 next 377\n",
      "2023-10-04 10:39:42.704433: I tensorflow/tsl/framework/bfc_allocator.cc:1095] InUse at 7f3b68167c00 of size 2048 next 378\n",
      "2023-10-04 10:39:42.704445: I tensorflow/tsl/framework/bfc_allocator.cc:1095] InUse at 7f3b68168400 of size 4194304 next 379\n",
      "2023-10-04 10:39:42.704450: I tensorflow/tsl/framework/bfc_allocator.cc:1095] InUse at 7f3b68568400 of size 4194304 next 380\n",
      "2023-10-04 10:39:42.704454: I tensorflow/tsl/framework/bfc_allocator.cc:1095] InUse at 7f3b68968400 of size 8192 next 381\n",
      "2023-10-04 10:39:42.704458: I tensorflow/tsl/framework/bfc_allocator.cc:1095] InUse at 7f3b6896a400 of size 8192 next 382\n",
      "2023-10-04 10:39:42.704462: I tensorflow/tsl/framework/bfc_allocator.cc:1095] InUse at 7f3b6896c400 of size 4194304 next 383\n",
      "2023-10-04 10:39:42.704466: I tensorflow/tsl/framework/bfc_allocator.cc:1095] InUse at 7f3b68d6c400 of size 4194304 next 384\n",
      "2023-10-04 10:39:42.704478: I tensorflow/tsl/framework/bfc_allocator.cc:1095] InUse at 7f3b6916c400 of size 2048 next 385\n",
      "2023-10-04 10:39:42.704483: I tensorflow/tsl/framework/bfc_allocator.cc:1095] InUse at 7f3b6916cc00 of size 2048 next 386\n",
      "2023-10-04 10:39:42.704488: I tensorflow/tsl/framework/bfc_allocator.cc:1095] InUse at 7f3b6916d400 of size 2048 next 387\n",
      "2023-10-04 10:39:42.704493: I tensorflow/tsl/framework/bfc_allocator.cc:1095] InUse at 7f3b6916dc00 of size 2048 next 388\n",
      "2023-10-04 10:39:42.704498: I tensorflow/tsl/framework/bfc_allocator.cc:1095] InUse at 7f3b6916e400 of size 2048 next 389\n",
      "2023-10-04 10:39:42.704502: I tensorflow/tsl/framework/bfc_allocator.cc:1095] InUse at 7f3b6916ec00 of size 2048 next 390\n",
      "2023-10-04 10:39:42.704507: I tensorflow/tsl/framework/bfc_allocator.cc:1095] InUse at 7f3b6916f400 of size 1048576 next 391\n",
      "2023-10-04 10:39:42.704521: I tensorflow/tsl/framework/bfc_allocator.cc:1095] InUse at 7f3b6926f400 of size 1048576 next 392\n",
      "2023-10-04 10:39:42.704527: I tensorflow/tsl/framework/bfc_allocator.cc:1095] InUse at 7f3b6936f400 of size 2048 next 393\n",
      "2023-10-04 10:39:42.704531: I tensorflow/tsl/framework/bfc_allocator.cc:1095] InUse at 7f3b6936fc00 of size 2048 next 394\n",
      "2023-10-04 10:39:42.704544: I tensorflow/tsl/framework/bfc_allocator.cc:1095] InUse at 7f3b69370400 of size 1048576 next 395\n",
      "2023-10-04 10:39:42.704549: I tensorflow/tsl/framework/bfc_allocator.cc:1095] InUse at 7f3b69470400 of size 1048576 next 396\n",
      "2023-10-04 10:39:42.704553: I tensorflow/tsl/framework/bfc_allocator.cc:1095] InUse at 7f3b69570400 of size 2048 next 397\n",
      "2023-10-04 10:39:42.704558: I tensorflow/tsl/framework/bfc_allocator.cc:1095] InUse at 7f3b69570c00 of size 2048 next 398\n",
      "2023-10-04 10:39:42.704562: I tensorflow/tsl/framework/bfc_allocator.cc:1095] InUse at 7f3b69571400 of size 1048576 next 399\n",
      "2023-10-04 10:39:42.704567: I tensorflow/tsl/framework/bfc_allocator.cc:1095] InUse at 7f3b69671400 of size 1048576 next 400\n",
      "2023-10-04 10:39:42.704579: I tensorflow/tsl/framework/bfc_allocator.cc:1095] InUse at 7f3b69771400 of size 2048 next 401\n",
      "2023-10-04 10:39:42.704583: I tensorflow/tsl/framework/bfc_allocator.cc:1095] InUse at 7f3b69771c00 of size 2048 next 402\n",
      "2023-10-04 10:39:42.704588: I tensorflow/tsl/framework/bfc_allocator.cc:1095] InUse at 7f3b69772400 of size 1048576 next 403\n",
      "2023-10-04 10:39:42.704594: I tensorflow/tsl/framework/bfc_allocator.cc:1095] InUse at 7f3b69872400 of size 1048576 next 404\n",
      "2023-10-04 10:39:42.704598: I tensorflow/tsl/framework/bfc_allocator.cc:1095] InUse at 7f3b69972400 of size 2048 next 405\n",
      "2023-10-04 10:39:42.704610: I tensorflow/tsl/framework/bfc_allocator.cc:1095] InUse at 7f3b69972c00 of size 2048 next 406\n",
      "2023-10-04 10:39:42.704615: I tensorflow/tsl/framework/bfc_allocator.cc:1095] InUse at 7f3b69973400 of size 2048 next 407\n",
      "2023-10-04 10:39:42.704620: I tensorflow/tsl/framework/bfc_allocator.cc:1095] InUse at 7f3b69973c00 of size 2048 next 408\n",
      "2023-10-04 10:39:42.704633: I tensorflow/tsl/framework/bfc_allocator.cc:1095] InUse at 7f3b69974400 of size 2048 next 409\n",
      "2023-10-04 10:39:42.704638: I tensorflow/tsl/framework/bfc_allocator.cc:1095] InUse at 7f3b69974c00 of size 2048 next 410\n",
      "2023-10-04 10:39:42.704643: I tensorflow/tsl/framework/bfc_allocator.cc:1095] InUse at 7f3b69975400 of size 4194304 next 411\n",
      "2023-10-04 10:39:42.704648: I tensorflow/tsl/framework/bfc_allocator.cc:1095] InUse at 7f3b69d75400 of size 4194304 next 412\n",
      "2023-10-04 10:39:42.704653: I tensorflow/tsl/framework/bfc_allocator.cc:1095] InUse at 7f3b6a175400 of size 8192 next 413\n",
      "2023-10-04 10:39:42.704657: I tensorflow/tsl/framework/bfc_allocator.cc:1095] InUse at 7f3b6a177400 of size 8192 next 414\n",
      "2023-10-04 10:39:42.704662: I tensorflow/tsl/framework/bfc_allocator.cc:1095] InUse at 7f3b6a179400 of size 4194304 next 415\n",
      "2023-10-04 10:39:42.704667: I tensorflow/tsl/framework/bfc_allocator.cc:1095] InUse at 7f3b6a579400 of size 4194304 next 416\n",
      "2023-10-04 10:39:42.704672: I tensorflow/tsl/framework/bfc_allocator.cc:1095] InUse at 7f3b6a979400 of size 2048 next 417\n",
      "2023-10-04 10:39:42.704676: I tensorflow/tsl/framework/bfc_allocator.cc:1095] InUse at 7f3b6a979c00 of size 2048 next 418\n",
      "2023-10-04 10:39:42.704681: I tensorflow/tsl/framework/bfc_allocator.cc:1095] InUse at 7f3b6a97a400 of size 2048 next 419\n",
      "2023-10-04 10:39:42.704686: I tensorflow/tsl/framework/bfc_allocator.cc:1095] InUse at 7f3b6a97ac00 of size 2048 next 420\n",
      "2023-10-04 10:39:42.704690: I tensorflow/tsl/framework/bfc_allocator.cc:1095] InUse at 7f3b6a97b400 of size 2048 next 421\n",
      "2023-10-04 10:39:42.704695: I tensorflow/tsl/framework/bfc_allocator.cc:1095] InUse at 7f3b6a97bc00 of size 2048 next 422\n",
      "2023-10-04 10:39:42.704712: I tensorflow/tsl/framework/bfc_allocator.cc:1095] InUse at 7f3b6a97c400 of size 1048576 next 423\n",
      "2023-10-04 10:39:42.704717: I tensorflow/tsl/framework/bfc_allocator.cc:1095] InUse at 7f3b6aa7c400 of size 1048576 next 424\n",
      "2023-10-04 10:39:42.704722: I tensorflow/tsl/framework/bfc_allocator.cc:1095] InUse at 7f3b6ab7c400 of size 2048 next 425\n",
      "2023-10-04 10:39:42.704726: I tensorflow/tsl/framework/bfc_allocator.cc:1095] InUse at 7f3b6ab7cc00 of size 2048 next 426\n",
      "2023-10-04 10:39:42.704731: I tensorflow/tsl/framework/bfc_allocator.cc:1095] InUse at 7f3b6ab7d400 of size 1048576 next 427\n",
      "2023-10-04 10:39:42.704735: I tensorflow/tsl/framework/bfc_allocator.cc:1095] InUse at 7f3b6ac7d400 of size 1048576 next 428\n",
      "2023-10-04 10:39:42.704740: I tensorflow/tsl/framework/bfc_allocator.cc:1095] InUse at 7f3b6ad7d400 of size 2048 next 429\n",
      "2023-10-04 10:39:42.704745: I tensorflow/tsl/framework/bfc_allocator.cc:1095] InUse at 7f3b6ad7dc00 of size 2048 next 430\n",
      "2023-10-04 10:39:42.704749: I tensorflow/tsl/framework/bfc_allocator.cc:1095] InUse at 7f3b6ad7e400 of size 1048576 next 431\n",
      "2023-10-04 10:39:42.704754: I tensorflow/tsl/framework/bfc_allocator.cc:1095] InUse at 7f3b6ae7e400 of size 1048576 next 432\n",
      "2023-10-04 10:39:42.704759: I tensorflow/tsl/framework/bfc_allocator.cc:1095] InUse at 7f3b6af7e400 of size 2048 next 433\n",
      "2023-10-04 10:39:42.704764: I tensorflow/tsl/framework/bfc_allocator.cc:1095] InUse at 7f3b6af7ec00 of size 2048 next 434\n",
      "2023-10-04 10:39:42.704768: I tensorflow/tsl/framework/bfc_allocator.cc:1095] InUse at 7f3b6af7f400 of size 1048576 next 435\n",
      "2023-10-04 10:39:42.704773: I tensorflow/tsl/framework/bfc_allocator.cc:1095] InUse at 7f3b6b07f400 of size 1048576 next 436\n",
      "2023-10-04 10:39:42.704778: I tensorflow/tsl/framework/bfc_allocator.cc:1095] InUse at 7f3b6b17f400 of size 2048 next 437\n",
      "2023-10-04 10:39:42.704782: I tensorflow/tsl/framework/bfc_allocator.cc:1095] InUse at 7f3b6b17fc00 of size 2048 next 438\n",
      "2023-10-04 10:39:42.704787: I tensorflow/tsl/framework/bfc_allocator.cc:1095] InUse at 7f3b6b180400 of size 2048 next 439\n",
      "2023-10-04 10:39:42.704792: I tensorflow/tsl/framework/bfc_allocator.cc:1095] InUse at 7f3b6b180c00 of size 2048 next 440\n",
      "2023-10-04 10:39:42.704796: I tensorflow/tsl/framework/bfc_allocator.cc:1095] InUse at 7f3b6b181400 of size 2048 next 441\n",
      "2023-10-04 10:39:42.704800: I tensorflow/tsl/framework/bfc_allocator.cc:1095] InUse at 7f3b6b181c00 of size 2048 next 442\n",
      "2023-10-04 10:39:42.704805: I tensorflow/tsl/framework/bfc_allocator.cc:1095] InUse at 7f3b6b182400 of size 4194304 next 443\n",
      "2023-10-04 10:39:42.704810: I tensorflow/tsl/framework/bfc_allocator.cc:1095] InUse at 7f3b6b582400 of size 4194304 next 444\n",
      "2023-10-04 10:39:42.704815: I tensorflow/tsl/framework/bfc_allocator.cc:1095] InUse at 7f3b6b982400 of size 8192 next 445\n",
      "2023-10-04 10:39:42.704819: I tensorflow/tsl/framework/bfc_allocator.cc:1095] InUse at 7f3b6b984400 of size 8192 next 446\n",
      "2023-10-04 10:39:42.704824: I tensorflow/tsl/framework/bfc_allocator.cc:1095] InUse at 7f3b6b986400 of size 4194304 next 447\n",
      "2023-10-04 10:39:42.704829: I tensorflow/tsl/framework/bfc_allocator.cc:1095] InUse at 7f3b6bd86400 of size 4194304 next 448\n",
      "2023-10-04 10:39:42.704833: I tensorflow/tsl/framework/bfc_allocator.cc:1095] InUse at 7f3b6c186400 of size 2048 next 449\n",
      "2023-10-04 10:39:42.704838: I tensorflow/tsl/framework/bfc_allocator.cc:1095] InUse at 7f3b6c186c00 of size 2048 next 450\n",
      "2023-10-04 10:39:42.704843: I tensorflow/tsl/framework/bfc_allocator.cc:1095] InUse at 7f3b6c187400 of size 2048 next 451\n",
      "2023-10-04 10:39:42.704847: I tensorflow/tsl/framework/bfc_allocator.cc:1095] InUse at 7f3b6c187c00 of size 2048 next 452\n",
      "2023-10-04 10:39:42.704852: I tensorflow/tsl/framework/bfc_allocator.cc:1095] InUse at 7f3b6c188400 of size 2048 next 453\n",
      "2023-10-04 10:39:42.704857: I tensorflow/tsl/framework/bfc_allocator.cc:1095] InUse at 7f3b6c188c00 of size 2048 next 454\n",
      "2023-10-04 10:39:42.704861: I tensorflow/tsl/framework/bfc_allocator.cc:1095] InUse at 7f3b6c189400 of size 1048576 next 455\n",
      "2023-10-04 10:39:42.704868: I tensorflow/tsl/framework/bfc_allocator.cc:1095] InUse at 7f3b6c289400 of size 1048576 next 456\n",
      "2023-10-04 10:39:42.704873: I tensorflow/tsl/framework/bfc_allocator.cc:1095] InUse at 7f3b6c389400 of size 2048 next 457\n",
      "2023-10-04 10:39:42.704877: I tensorflow/tsl/framework/bfc_allocator.cc:1095] InUse at 7f3b6c389c00 of size 2048 next 458\n",
      "2023-10-04 10:39:42.704882: I tensorflow/tsl/framework/bfc_allocator.cc:1095] InUse at 7f3b6c38a400 of size 1048576 next 459\n",
      "2023-10-04 10:39:42.704887: I tensorflow/tsl/framework/bfc_allocator.cc:1095] InUse at 7f3b6c48a400 of size 1048576 next 460\n",
      "2023-10-04 10:39:42.704891: I tensorflow/tsl/framework/bfc_allocator.cc:1095] InUse at 7f3b6c58a400 of size 2048 next 461\n",
      "2023-10-04 10:39:42.704896: I tensorflow/tsl/framework/bfc_allocator.cc:1095] InUse at 7f3b6c58ac00 of size 2048 next 462\n",
      "2023-10-04 10:39:42.704900: I tensorflow/tsl/framework/bfc_allocator.cc:1095] InUse at 7f3b6c58b400 of size 1048576 next 463\n",
      "2023-10-04 10:39:42.704905: I tensorflow/tsl/framework/bfc_allocator.cc:1095] InUse at 7f3b6c68b400 of size 1048576 next 464\n",
      "2023-10-04 10:39:42.704909: I tensorflow/tsl/framework/bfc_allocator.cc:1095] InUse at 7f3b6c78b400 of size 2048 next 465\n",
      "2023-10-04 10:39:42.704914: I tensorflow/tsl/framework/bfc_allocator.cc:1095] InUse at 7f3b6c78bc00 of size 2048 next 466\n",
      "2023-10-04 10:39:42.704919: I tensorflow/tsl/framework/bfc_allocator.cc:1095] InUse at 7f3b6c78c400 of size 1048576 next 467\n",
      "2023-10-04 10:39:42.704923: I tensorflow/tsl/framework/bfc_allocator.cc:1095] InUse at 7f3b6c88c400 of size 1048576 next 468\n",
      "2023-10-04 10:39:42.704928: I tensorflow/tsl/framework/bfc_allocator.cc:1095] InUse at 7f3b6c98c400 of size 2048 next 469\n",
      "2023-10-04 10:39:42.704932: I tensorflow/tsl/framework/bfc_allocator.cc:1095] InUse at 7f3b6c98cc00 of size 2048 next 470\n",
      "2023-10-04 10:39:42.704937: I tensorflow/tsl/framework/bfc_allocator.cc:1095] InUse at 7f3b6c98d400 of size 2048 next 471\n",
      "2023-10-04 10:39:42.704942: I tensorflow/tsl/framework/bfc_allocator.cc:1095] InUse at 7f3b6c98dc00 of size 2048 next 472\n",
      "2023-10-04 10:39:42.704946: I tensorflow/tsl/framework/bfc_allocator.cc:1095] InUse at 7f3b6c98e400 of size 2048 next 473\n",
      "2023-10-04 10:39:42.704951: I tensorflow/tsl/framework/bfc_allocator.cc:1095] InUse at 7f3b6c98ec00 of size 2048 next 474\n",
      "2023-10-04 10:39:42.704955: I tensorflow/tsl/framework/bfc_allocator.cc:1095] InUse at 7f3b6c98f400 of size 4194304 next 475\n",
      "2023-10-04 10:39:42.704960: I tensorflow/tsl/framework/bfc_allocator.cc:1095] InUse at 7f3b6cd8f400 of size 4194304 next 476\n",
      "2023-10-04 10:39:42.704965: I tensorflow/tsl/framework/bfc_allocator.cc:1095] InUse at 7f3b6d18f400 of size 8192 next 477\n",
      "2023-10-04 10:39:42.704969: I tensorflow/tsl/framework/bfc_allocator.cc:1095] InUse at 7f3b6d191400 of size 8192 next 478\n",
      "2023-10-04 10:39:42.704974: I tensorflow/tsl/framework/bfc_allocator.cc:1095] InUse at 7f3b6d193400 of size 4194304 next 479\n",
      "2023-10-04 10:39:42.704978: I tensorflow/tsl/framework/bfc_allocator.cc:1095] InUse at 7f3b6d593400 of size 4194304 next 480\n",
      "2023-10-04 10:39:42.704983: I tensorflow/tsl/framework/bfc_allocator.cc:1095] InUse at 7f3b6d993400 of size 2048 next 481\n",
      "2023-10-04 10:39:42.704988: I tensorflow/tsl/framework/bfc_allocator.cc:1095] InUse at 7f3b6d993c00 of size 2048 next 482\n",
      "2023-10-04 10:39:42.704992: I tensorflow/tsl/framework/bfc_allocator.cc:1095] InUse at 7f3b6d994400 of size 2048 next 483\n",
      "2023-10-04 10:39:42.704997: I tensorflow/tsl/framework/bfc_allocator.cc:1095] InUse at 7f3b6d994c00 of size 2048 next 484\n",
      "2023-10-04 10:39:42.705002: I tensorflow/tsl/framework/bfc_allocator.cc:1095] InUse at 7f3b6d995400 of size 2048 next 485\n",
      "2023-10-04 10:39:42.705006: I tensorflow/tsl/framework/bfc_allocator.cc:1095] InUse at 7f3b6d995c00 of size 2048 next 486\n",
      "2023-10-04 10:39:42.705011: I tensorflow/tsl/framework/bfc_allocator.cc:1095] InUse at 7f3b6d996400 of size 1048576 next 487\n",
      "2023-10-04 10:39:42.705016: I tensorflow/tsl/framework/bfc_allocator.cc:1095] InUse at 7f3b6da96400 of size 1048576 next 488\n",
      "2023-10-04 10:39:42.705021: I tensorflow/tsl/framework/bfc_allocator.cc:1095] InUse at 7f3b6db96400 of size 2048 next 489\n",
      "2023-10-04 10:39:42.705026: I tensorflow/tsl/framework/bfc_allocator.cc:1095] InUse at 7f3b6db96c00 of size 2048 next 490\n",
      "2023-10-04 10:39:42.705031: I tensorflow/tsl/framework/bfc_allocator.cc:1095] InUse at 7f3b6db97400 of size 1048576 next 491\n",
      "2023-10-04 10:39:42.705035: I tensorflow/tsl/framework/bfc_allocator.cc:1095] InUse at 7f3b6dc97400 of size 1048576 next 492\n",
      "2023-10-04 10:39:42.705040: I tensorflow/tsl/framework/bfc_allocator.cc:1095] InUse at 7f3b6dd97400 of size 2048 next 493\n",
      "2023-10-04 10:39:42.705044: I tensorflow/tsl/framework/bfc_allocator.cc:1095] InUse at 7f3b6dd97c00 of size 2048 next 494\n",
      "2023-10-04 10:39:42.705049: I tensorflow/tsl/framework/bfc_allocator.cc:1095] InUse at 7f3b6dd98400 of size 1048576 next 495\n",
      "2023-10-04 10:39:42.705054: I tensorflow/tsl/framework/bfc_allocator.cc:1095] InUse at 7f3b6de98400 of size 1048576 next 496\n",
      "2023-10-04 10:39:42.705058: I tensorflow/tsl/framework/bfc_allocator.cc:1095] InUse at 7f3b6df98400 of size 2048 next 497\n",
      "2023-10-04 10:39:42.705063: I tensorflow/tsl/framework/bfc_allocator.cc:1095] InUse at 7f3b6df98c00 of size 2048 next 498\n",
      "2023-10-04 10:39:42.705068: I tensorflow/tsl/framework/bfc_allocator.cc:1095] InUse at 7f3b6df99400 of size 1048576 next 499\n",
      "2023-10-04 10:39:42.705073: I tensorflow/tsl/framework/bfc_allocator.cc:1095] InUse at 7f3b6e099400 of size 1207296 next 18446744073709551615\n",
      "2023-10-04 10:39:42.705077: I tensorflow/tsl/framework/bfc_allocator.cc:1100]      Summary of in-use Chunks by size: \n",
      "2023-10-04 10:39:42.705086: I tensorflow/tsl/framework/bfc_allocator.cc:1103] 56 Chunks of size 256 totalling 14.0KiB\n",
      "2023-10-04 10:39:42.705092: I tensorflow/tsl/framework/bfc_allocator.cc:1103] 1 Chunks of size 1280 totalling 1.2KiB\n",
      "2023-10-04 10:39:42.705098: I tensorflow/tsl/framework/bfc_allocator.cc:1103] 238 Chunks of size 2048 totalling 476.0KiB\n",
      "2023-10-04 10:39:42.705104: I tensorflow/tsl/framework/bfc_allocator.cc:1103] 1 Chunks of size 3328 totalling 3.2KiB\n",
      "2023-10-04 10:39:42.705109: I tensorflow/tsl/framework/bfc_allocator.cc:1103] 4 Chunks of size 4096 totalling 16.0KiB\n",
      "2023-10-04 10:39:42.705115: I tensorflow/tsl/framework/bfc_allocator.cc:1103] 22 Chunks of size 8192 totalling 176.0KiB\n",
      "2023-10-04 10:39:42.705120: I tensorflow/tsl/framework/bfc_allocator.cc:1103] 1 Chunks of size 8960 totalling 8.8KiB\n",
      "2023-10-04 10:39:42.705126: I tensorflow/tsl/framework/bfc_allocator.cc:1103] 1 Chunks of size 10240 totalling 10.0KiB\n",
      "2023-10-04 10:39:42.705131: I tensorflow/tsl/framework/bfc_allocator.cc:1103] 1 Chunks of size 11264 totalling 11.0KiB\n",
      "2023-10-04 10:39:42.705136: I tensorflow/tsl/framework/bfc_allocator.cc:1103] 1 Chunks of size 25856 totalling 25.2KiB\n",
      "2023-10-04 10:39:42.705141: I tensorflow/tsl/framework/bfc_allocator.cc:1103] 2 Chunks of size 122112 totalling 238.5KiB\n",
      "2023-10-04 10:39:42.705147: I tensorflow/tsl/framework/bfc_allocator.cc:1103] 7 Chunks of size 262144 totalling 1.75MiB\n",
      "2023-10-04 10:39:42.705152: I tensorflow/tsl/framework/bfc_allocator.cc:1103] 1 Chunks of size 459776 totalling 449.0KiB\n",
      "2023-10-04 10:39:42.705158: I tensorflow/tsl/framework/bfc_allocator.cc:1103] 111 Chunks of size 1048576 totalling 111.00MiB\n",
      "2023-10-04 10:39:42.705163: I tensorflow/tsl/framework/bfc_allocator.cc:1103] 1 Chunks of size 1207296 totalling 1.15MiB\n",
      "2023-10-04 10:39:42.705168: I tensorflow/tsl/framework/bfc_allocator.cc:1103] 48 Chunks of size 4194304 totalling 192.00MiB\n",
      "2023-10-04 10:39:42.705174: I tensorflow/tsl/framework/bfc_allocator.cc:1103] 4 Chunks of size 62509056 totalling 238.45MiB\n",
      "2023-10-04 10:39:42.705180: I tensorflow/tsl/framework/bfc_allocator.cc:1107] Sum Total of in-use chunks: 545.75MiB\n",
      "2023-10-04 10:39:42.705185: I tensorflow/tsl/framework/bfc_allocator.cc:1109] Total bytes in pool: 572260352 memory_limit_: 572260352 available bytes: 0 curr_region_allocation_bytes_: 1144520704\n",
      "2023-10-04 10:39:42.705195: I tensorflow/tsl/framework/bfc_allocator.cc:1114] Stats: \n",
      "Limit:                       572260352\n",
      "InUse:                       572260352\n",
      "MaxInUse:                    572260352\n",
      "NumAllocs:                        1068\n",
      "MaxAllocSize:                 62509056\n",
      "Reserved:                            0\n",
      "PeakReserved:                        0\n",
      "LargestFreeBlock:                    0\n",
      "\n",
      "2023-10-04 10:39:42.705212: W tensorflow/tsl/framework/bfc_allocator.cc:497] ****************************************************************************************************\n",
      "2023-10-04 10:39:42.705239: W tensorflow/core/framework/op_kernel.cc:1828] OP_REQUIRES failed at constant_op.cc:175 : RESOURCE_EXHAUSTED: OOM when allocating tensor with shape[512] and type float on /job:localhost/replica:0/task:0/device:GPU:0 by allocator GPU_0_bfc\n"
     ]
    },
    {
     "ename": "ResourceExhaustedError",
     "evalue": "in user code:\n\n    File \"/home/ubuntu/intent_generation/venv/lib/python3.10/site-packages/keras/src/engine/training.py\", line 1338, in train_function  *\n        return step_function(self, iterator)\n    File \"/home/ubuntu/intent_generation/venv/lib/python3.10/site-packages/keras/src/engine/training.py\", line 1322, in step_function  **\n        outputs = model.distribute_strategy.run(run_step, args=(data,))\n    File \"/home/ubuntu/intent_generation/venv/lib/python3.10/site-packages/keras/src/engine/training.py\", line 1303, in run_step  **\n        outputs = model.train_step(data)\n    File \"/home/ubuntu/intent_generation/venv/lib/python3.10/site-packages/keras/src/engine/training.py\", line 1084, in train_step\n        self.optimizer.minimize(loss, self.trainable_variables, tape=tape)\n    File \"/home/ubuntu/intent_generation/venv/lib/python3.10/site-packages/keras/src/optimizers/optimizer.py\", line 544, in minimize\n        self.apply_gradients(grads_and_vars)\n    File \"/home/ubuntu/intent_generation/venv/lib/python3.10/site-packages/keras/src/optimizers/optimizer.py\", line 1230, in apply_gradients\n        return super().apply_gradients(grads_and_vars, name=name)\n    File \"/home/ubuntu/intent_generation/venv/lib/python3.10/site-packages/keras/src/optimizers/optimizer.py\", line 638, in apply_gradients\n        self.build(trainable_variables)\n    File \"/home/ubuntu/intent_generation/venv/lib/python3.10/site-packages/keras/src/optimizers/adam.py\", line 143, in build\n        self.add_variable_from_reference(\n    File \"/home/ubuntu/intent_generation/venv/lib/python3.10/site-packages/keras/src/optimizers/optimizer.py\", line 1135, in add_variable_from_reference\n        return super().add_variable_from_reference(\n    File \"/home/ubuntu/intent_generation/venv/lib/python3.10/site-packages/keras/src/optimizers/optimizer.py\", line 508, in add_variable_from_reference\n        initial_value = tf.zeros(\n\n    ResourceExhaustedError: {{function_node __wrapped__Fill_device_/job:localhost/replica:0/task:0/device:GPU:0}} OOM when allocating tensor with shape[512] and type float on /job:localhost/replica:0/task:0/device:GPU:0 by allocator GPU_0_bfc [Op:Fill] name: \n",
     "output_type": "error",
     "traceback": [
      "\u001b[0;31m---------------------------------------------------------------------------\u001b[0m",
      "\u001b[0;31mResourceExhaustedError\u001b[0m                    Traceback (most recent call last)",
      "\u001b[1;32m/home/ubuntu/intent_generation/Research/09_BERT_for_IntentClassification.ipynb Cell 30\u001b[0m line \u001b[0;36m2\n\u001b[1;32m      <a href='vscode-notebook-cell://ssh-remote%2B7b22686f73744e616d65223a22456d62656464696e6773227d/home/ubuntu/intent_generation/Research/09_BERT_for_IntentClassification.ipynb#X41sdnNjb2RlLXJlbW90ZQ%3D%3D?line=0'>1</a>\u001b[0m \u001b[39mprint\u001b[39m(\u001b[39mf\u001b[39m\u001b[39m'\u001b[39m\u001b[39mTraining model with \u001b[39m\u001b[39m{\u001b[39;00mtfhub_handle_encoder\u001b[39m}\u001b[39;00m\u001b[39m'\u001b[39m)\n\u001b[0;32m----> <a href='vscode-notebook-cell://ssh-remote%2B7b22686f73744e616d65223a22456d62656464696e6773227d/home/ubuntu/intent_generation/Research/09_BERT_for_IntentClassification.ipynb#X41sdnNjb2RlLXJlbW90ZQ%3D%3D?line=1'>2</a>\u001b[0m history \u001b[39m=\u001b[39m classifier_model\u001b[39m.\u001b[39;49mfit(x\u001b[39m=\u001b[39;49mtrain_features,y\u001b[39m=\u001b[39;49mtrainlabels,\n\u001b[1;32m      <a href='vscode-notebook-cell://ssh-remote%2B7b22686f73744e616d65223a22456d62656464696e6773227d/home/ubuntu/intent_generation/Research/09_BERT_for_IntentClassification.ipynb#X41sdnNjb2RlLXJlbW90ZQ%3D%3D?line=2'>3</a>\u001b[0m                             \u001b[39m#    validation_data=(validfeatures,validlabels),\u001b[39;49;00m\n\u001b[1;32m      <a href='vscode-notebook-cell://ssh-remote%2B7b22686f73744e616d65223a22456d62656464696e6773227d/home/ubuntu/intent_generation/Research/09_BERT_for_IntentClassification.ipynb#X41sdnNjb2RlLXJlbW90ZQ%3D%3D?line=3'>4</a>\u001b[0m                             validation_split\u001b[39m=\u001b[39;49m\u001b[39m0.4\u001b[39;49m,\n\u001b[1;32m      <a href='vscode-notebook-cell://ssh-remote%2B7b22686f73744e616d65223a22456d62656464696e6773227d/home/ubuntu/intent_generation/Research/09_BERT_for_IntentClassification.ipynb#X41sdnNjb2RlLXJlbW90ZQ%3D%3D?line=4'>5</a>\u001b[0m                             shuffle\u001b[39m=\u001b[39;49m\u001b[39mTrue\u001b[39;49;00m,\n\u001b[1;32m      <a href='vscode-notebook-cell://ssh-remote%2B7b22686f73744e616d65223a22456d62656464696e6773227d/home/ubuntu/intent_generation/Research/09_BERT_for_IntentClassification.ipynb#X41sdnNjb2RlLXJlbW90ZQ%3D%3D?line=5'>6</a>\u001b[0m                                batch_size\u001b[39m=\u001b[39;49m\u001b[39m32\u001b[39;49m,\n\u001b[1;32m      <a href='vscode-notebook-cell://ssh-remote%2B7b22686f73744e616d65223a22456d62656464696e6773227d/home/ubuntu/intent_generation/Research/09_BERT_for_IntentClassification.ipynb#X41sdnNjb2RlLXJlbW90ZQ%3D%3D?line=6'>7</a>\u001b[0m                                epochs\u001b[39m=\u001b[39;49mepochs)\n",
      "File \u001b[0;32m~/intent_generation/venv/lib/python3.10/site-packages/keras/src/utils/traceback_utils.py:70\u001b[0m, in \u001b[0;36mfilter_traceback.<locals>.error_handler\u001b[0;34m(*args, **kwargs)\u001b[0m\n\u001b[1;32m     67\u001b[0m     filtered_tb \u001b[39m=\u001b[39m _process_traceback_frames(e\u001b[39m.\u001b[39m__traceback__)\n\u001b[1;32m     68\u001b[0m     \u001b[39m# To get the full stack trace, call:\u001b[39;00m\n\u001b[1;32m     69\u001b[0m     \u001b[39m# `tf.debugging.disable_traceback_filtering()`\u001b[39;00m\n\u001b[0;32m---> 70\u001b[0m     \u001b[39mraise\u001b[39;00m e\u001b[39m.\u001b[39mwith_traceback(filtered_tb) \u001b[39mfrom\u001b[39;00m \u001b[39mNone\u001b[39;00m\n\u001b[1;32m     71\u001b[0m \u001b[39mfinally\u001b[39;00m:\n\u001b[1;32m     72\u001b[0m     \u001b[39mdel\u001b[39;00m filtered_tb\n",
      "File \u001b[0;32m~/intent_generation/venv/lib/python3.10/site-packages/tensorflow/python/eager/polymorphic_function/autograph_util.py:52\u001b[0m, in \u001b[0;36mpy_func_from_autograph.<locals>.autograph_handler\u001b[0;34m(*args, **kwargs)\u001b[0m\n\u001b[1;32m     50\u001b[0m \u001b[39mexcept\u001b[39;00m \u001b[39mException\u001b[39;00m \u001b[39mas\u001b[39;00m e:  \u001b[39m# pylint:disable=broad-except\u001b[39;00m\n\u001b[1;32m     51\u001b[0m   \u001b[39mif\u001b[39;00m \u001b[39mhasattr\u001b[39m(e, \u001b[39m\"\u001b[39m\u001b[39mag_error_metadata\u001b[39m\u001b[39m\"\u001b[39m):\n\u001b[0;32m---> 52\u001b[0m     \u001b[39mraise\u001b[39;00m e\u001b[39m.\u001b[39mag_error_metadata\u001b[39m.\u001b[39mto_exception(e)\n\u001b[1;32m     53\u001b[0m   \u001b[39melse\u001b[39;00m:\n\u001b[1;32m     54\u001b[0m     \u001b[39mraise\u001b[39;00m\n",
      "\u001b[0;31mResourceExhaustedError\u001b[0m: in user code:\n\n    File \"/home/ubuntu/intent_generation/venv/lib/python3.10/site-packages/keras/src/engine/training.py\", line 1338, in train_function  *\n        return step_function(self, iterator)\n    File \"/home/ubuntu/intent_generation/venv/lib/python3.10/site-packages/keras/src/engine/training.py\", line 1322, in step_function  **\n        outputs = model.distribute_strategy.run(run_step, args=(data,))\n    File \"/home/ubuntu/intent_generation/venv/lib/python3.10/site-packages/keras/src/engine/training.py\", line 1303, in run_step  **\n        outputs = model.train_step(data)\n    File \"/home/ubuntu/intent_generation/venv/lib/python3.10/site-packages/keras/src/engine/training.py\", line 1084, in train_step\n        self.optimizer.minimize(loss, self.trainable_variables, tape=tape)\n    File \"/home/ubuntu/intent_generation/venv/lib/python3.10/site-packages/keras/src/optimizers/optimizer.py\", line 544, in minimize\n        self.apply_gradients(grads_and_vars)\n    File \"/home/ubuntu/intent_generation/venv/lib/python3.10/site-packages/keras/src/optimizers/optimizer.py\", line 1230, in apply_gradients\n        return super().apply_gradients(grads_and_vars, name=name)\n    File \"/home/ubuntu/intent_generation/venv/lib/python3.10/site-packages/keras/src/optimizers/optimizer.py\", line 638, in apply_gradients\n        self.build(trainable_variables)\n    File \"/home/ubuntu/intent_generation/venv/lib/python3.10/site-packages/keras/src/optimizers/adam.py\", line 143, in build\n        self.add_variable_from_reference(\n    File \"/home/ubuntu/intent_generation/venv/lib/python3.10/site-packages/keras/src/optimizers/optimizer.py\", line 1135, in add_variable_from_reference\n        return super().add_variable_from_reference(\n    File \"/home/ubuntu/intent_generation/venv/lib/python3.10/site-packages/keras/src/optimizers/optimizer.py\", line 508, in add_variable_from_reference\n        initial_value = tf.zeros(\n\n    ResourceExhaustedError: {{function_node __wrapped__Fill_device_/job:localhost/replica:0/task:0/device:GPU:0}} OOM when allocating tensor with shape[512] and type float on /job:localhost/replica:0/task:0/device:GPU:0 by allocator GPU_0_bfc [Op:Fill] name: \n"
     ]
    }
   ],
   "source": [
    "print(f'Training model with {tfhub_handle_encoder}')\n",
    "history = classifier_model.fit(x=train_features,y=trainlabels,\n",
    "                            #    validation_data=(validfeatures,validlabels),\n",
    "                            validation_split=0.4,\n",
    "                            shuffle=True,\n",
    "                               batch_size=32,\n",
    "                               epochs=epochs)"
   ]
  },
  {
   "cell_type": "code",
   "execution_count": null,
   "metadata": {},
   "outputs": [
    {
     "name": "stdout",
     "output_type": "stream",
     "text": [
      " 3/34 [=>............................] - ETA: 2s - loss: 0.4299 - categorical_accuracy: 0.8333"
     ]
    },
    {
     "name": "stdout",
     "output_type": "stream",
     "text": [
      "34/34 [==============================] - 3s 81ms/step - loss: 0.4479 - categorical_accuracy: 0.7937\n",
      "Loss: 0.44789910316467285\n",
      "Accuracy: 0.7936508059501648\n"
     ]
    }
   ],
   "source": [
    "loss, accuracy = classifier_model.evaluate(train_features,trainlabels)\n",
    "\n",
    "print(f'Loss: {loss}')\n",
    "print(f'Accuracy: {accuracy}')"
   ]
  },
  {
   "cell_type": "code",
   "execution_count": null,
   "metadata": {},
   "outputs": [
    {
     "name": "stdout",
     "output_type": "stream",
     "text": [
      "dict_keys(['loss', 'categorical_accuracy', 'val_loss', 'val_categorical_accuracy'])\n"
     ]
    },
    {
     "data": {
      "text/plain": [
       "<matplotlib.legend.Legend at 0x7f9b42fea740>"
      ]
     },
     "execution_count": 32,
     "metadata": {},
     "output_type": "execute_result"
    },
    {
     "data": {
      "image/png": "[encoded data removed]",
      "text/plain": [
       "<Figure size 1000x800 with 2 Axes>"
      ]
     },
     "metadata": {},
     "output_type": "display_data"
    }
   ],
   "source": [
    "history_dict = history.history\n",
    "print(history_dict.keys())\n",
    "\n",
    "acc = history_dict['categorical_accuracy']\n",
    "val_acc = history_dict['val_categorical_accuracy']\n",
    "loss = history_dict['loss']\n",
    "val_loss = history_dict['val_loss']\n",
    "\n",
    "epochs = range(1, len(acc) + 1)\n",
    "fig = plt.figure(figsize=(10, 8))\n",
    "fig.tight_layout()\n",
    "\n",
    "plt.subplot(2, 1, 1)\n",
    "# \"bo\" is for \"blue dot\"\n",
    "plt.plot(epochs, loss, 'r', label='Training loss')\n",
    "# b is for \"solid blue line\"\n",
    "plt.plot(epochs, val_loss, 'b', label='Validation loss')\n",
    "plt.title('Training and validation loss')\n",
    "plt.grid(True)\n",
    "# plt.xlabel('Epochs')\n",
    "plt.ylabel('Loss')\n",
    "plt.legend()\n",
    "\n",
    "plt.subplot(2, 1, 2)\n",
    "plt.plot(epochs, acc, 'r', label='Training acc')\n",
    "plt.plot(epochs, val_acc, 'b', label='Validation acc')\n",
    "plt.title('Training and validation accuracy')\n",
    "plt.grid(True)\n",
    "plt.xlabel('Epochs')\n",
    "plt.ylabel('Accuracy')\n",
    "plt.legend(loc='lower right')"
   ]
  },
  {
   "cell_type": "code",
   "execution_count": null,
   "metadata": {},
   "outputs": [],
   "source": [
    "import keras\n",
    "new_model = keras.models.clone_model(classifier_model)"
   ]
  },
  {
   "cell_type": "code",
   "execution_count": null,
   "metadata": {},
   "outputs": [],
   "source": [
    "new_model.save(\"models/intent_classifier.h5\", save_format='h5')"
   ]
  },
  {
   "cell_type": "code",
   "execution_count": null,
   "metadata": {},
   "outputs": [
    {
     "data": {
      "text/plain": [
       "keras.src.engine.functional.Functional"
      ]
     },
     "execution_count": 35,
     "metadata": {},
     "output_type": "execute_result"
    }
   ],
   "source": [
    "type(new_model)"
   ]
  },
  {
   "cell_type": "markdown",
   "metadata": {},
   "source": [
    "# Inference "
   ]
  },
  {
   "cell_type": "code",
   "execution_count": null,
   "metadata": {},
   "outputs": [],
   "source": [
    "# import os; os.chdir('..')\n"
   ]
  },
  {
   "cell_type": "code",
   "execution_count": null,
   "metadata": {},
   "outputs": [],
   "source": [
    "# # import tensorflow as tf\n",
    "# from keras.models import load_model\n",
    "\n",
    "# model= load_model(\"models/intent_classifier.h5\") # ValueError: Unknown layer: 'KerasLayer'"
   ]
  },
  {
   "cell_type": "code",
   "execution_count": null,
   "metadata": {},
   "outputs": [],
   "source": [
    "# my_reloaded_model = tf.keras.models.load_model(\n",
    "#        (\"models/intent_classifier.h5\"),\n",
    "#        custom_objects={'KerasLayer':hub.KerasLayer}\n",
    "# )"
   ]
  },
  {
   "cell_type": "code",
   "execution_count": null,
   "metadata": {},
   "outputs": [],
   "source": [
    "# train_features[0]"
   ]
  },
  {
   "cell_type": "code",
   "execution_count": null,
   "metadata": {},
   "outputs": [],
   "source": [
    "# import numpy"
   ]
  },
  {
   "cell_type": "code",
   "execution_count": null,
   "metadata": {},
   "outputs": [],
   "source": [
    "# bert_preprocess_model(numpy.array([\"Chinese Food Shops near me\"]))"
   ]
  },
  {
   "cell_type": "code",
   "execution_count": null,
   "metadata": {},
   "outputs": [],
   "source": [
    "# my_reloaded_model.predict()"
   ]
  }
 ],
 "metadata": {
  "kernelspec": {
   "display_name": "venv",
   "language": "python",
   "name": "python3"
  },
  "language_info": {
   "codemirror_mode": {
    "name": "ipython",
    "version": 3
   },
   "file_extension": ".py",
   "mimetype": "text/x-python",
   "name": "python",
   "nbconvert_exporter": "python",
   "pygments_lexer": "ipython3",
   "version": "3.10.12"
  },
  "orig_nbformat": 4
 },
 "nbformat": 4,
 "nbformat_minor": 2
}
